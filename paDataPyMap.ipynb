{
  "nbformat": 4,
  "nbformat_minor": 0,
  "metadata": {
    "colab": {
      "name": "paDataPyMap.ipynb",
      "provenance": [],
      "collapsed_sections": [],
      "authorship_tag": "ABX9TyMuvk9c7aQPfuqLkTmUJ59v",
      "include_colab_link": true
    },
    "kernelspec": {
      "name": "python3",
      "display_name": "Python 3"
    },
    "accelerator": "GPU"
  },
  "cells": [
    {
      "cell_type": "markdown",
      "metadata": {
        "id": "view-in-github",
        "colab_type": "text"
      },
      "source": [
        "<a href=\"https://colab.research.google.com/github/Location-Artistry/ColabNotebooks/blob/master/paDataPyMap.ipynb\" target=\"_parent\"><img src=\"https://colab.research.google.com/assets/colab-badge.svg\" alt=\"Open In Colab\"/></a>"
      ]
    },
    {
      "cell_type": "markdown",
      "metadata": {
        "id": "gvjf0FlDSMWZ",
        "colab_type": "text"
      },
      "source": [
        "#Working Notebook for visualizing in GeoPandas\n",
        "Edited Sep 7th - GeoPandas can directly load GeoJSON from url, does not work with regular JSON   \n",
        "Working to flatten/normalize nested json with Pandas/GeoPandas   \n",
        "Additionally bring in ArcGIS Feature Service as DataFrame/GeoDataFrame"
      ]
    },
    {
      "cell_type": "code",
      "metadata": {
        "id": "CYmYf8nqAuFg",
        "colab_type": "code",
        "colab": {}
      },
      "source": [
        "%%time \n",
        "!apt update\n",
        "!apt upgrade\n",
        "# Important library for many geopython libraries\n",
        "!apt install gdal-bin python-gdal python3-gdal \n",
        "# Install rtree - Geopandas requirment\n",
        "!apt install python3-rtree \n",
        "# Install Geopandas\n",
        "!pip install git+git://github.com/geopandas/geopandas.git\n",
        "# Install descartes - Geopandas requirment\n",
        "!pip install descartes \n",
        "# Install Folium for Geographic data visualization\n",
        "!pip install folium\n",
        "!pip install pygeos\n",
        "!pip install flatten_json "
      ],
      "execution_count": null,
      "outputs": []
    },
    {
      "cell_type": "code",
      "metadata": {
        "id": "tIsTrIjPBFbn",
        "colab_type": "code",
        "colab": {
          "base_uri": "https://localhost:8080/",
          "height": 71
        },
        "outputId": "5d25fe75-8d6d-44cb-ee31-09d4de4c463c"
      },
      "source": [
        "import pandas as pd\n",
        "import numpy as np\n",
        "import geopandas as gpd\n",
        "from shapely.geometry import Point\n",
        "import matplotlib\n",
        "import matplotlib.pyplot as plt \n",
        "import folium\n",
        "import os\n",
        "from IPython.display import display\n",
        "from pandas.io.json import json_normalize\n",
        "from flatten_json import flatten \n",
        "import requests"
      ],
      "execution_count": null,
      "outputs": [
        {
          "output_type": "stream",
          "text": [
            "/usr/local/lib/python3.6/dist-packages/geopandas/_compat.py:87: UserWarning: The Shapely GEOS version (3.8.0-CAPI-1.13.1 ) is incompatible with the GEOS version PyGEOS was compiled with (3.8.1-CAPI-1.13.3). Conversions between both will be slow.\n",
            "  shapely_geos_version, geos_capi_version_string\n"
          ],
          "name": "stderr"
        }
      ]
    },
    {
      "cell_type": "markdown",
      "metadata": {
        "id": "1E_QyUAXTQ9T",
        "colab_type": "text"
      },
      "source": [
        "#Start Working Section"
      ]
    },
    {
      "cell_type": "code",
      "metadata": {
        "id": "MeuL7tR3B_vW",
        "colab_type": "code",
        "colab": {}
      },
      "source": [
        "def GeoJSONtoGDF(jsonURL):\n",
        "  geoDF = gpd.read_file(jsonURL)\n",
        "  display(geoDF.head())\n",
        "  return geoDF"
      ],
      "execution_count": null,
      "outputs": []
    },
    {
      "cell_type": "code",
      "metadata": {
        "id": "QasbZY4zOY-K",
        "colab_type": "code",
        "colab": {}
      },
      "source": [
        "NHBPpa = 'https://purpleairwidget.firebaseapp.com/purpleAirData/44439,2822,5712,43297,7772,37659'\n",
        "PAallSta = 'https://www.purpleair.com/json'\n",
        "miCounties = 'https://opendata.arcgis.com/datasets/67a8ff23b5f54f15b7133b8c30981441_0.geojson'\n",
        "\n",
        "gdf = GeoJSONtoGDF(NHBPpa)\n",
        "gdf2 = GeoJSONtoGDF(miCounties)\n",
        "#gdf3 = GeoJSONtoGDF(PAallSta)"
      ],
      "execution_count": null,
      "outputs": []
    },
    {
      "cell_type": "code",
      "metadata": {
        "id": "ikHnmOBEUgVh",
        "colab_type": "code",
        "colab": {}
      },
      "source": [
        ""
      ],
      "execution_count": null,
      "outputs": []
    },
    {
      "cell_type": "code",
      "metadata": {
        "id": "Z3alRo8n09oC",
        "colab_type": "code",
        "colab": {}
      },
      "source": [
        "# Overlay points and Polygons\n",
        "fig, ax = plt.subplots(figsize=(10,10))\n",
        "gdf2.plot(ax=ax, column='NAME');\n",
        "#ax.margins(-.2, -.2)\n",
        "ax.set_xticklabels([])\n",
        "ax.set_yticklabels([])\n",
        "gdf.plot(ax=ax, markersize=100, color='black');"
      ],
      "execution_count": null,
      "outputs": []
    },
    {
      "cell_type": "code",
      "metadata": {
        "id": "pq6MNyIaUdFE",
        "colab_type": "code",
        "colab": {}
      },
      "source": [
        ""
      ],
      "execution_count": null,
      "outputs": []
    },
    {
      "cell_type": "code",
      "metadata": {
        "id": "MVetlYzG7gTT",
        "colab_type": "code",
        "colab": {}
      },
      "source": [
        "import json \n",
        "\n",
        "response = requests.get(NHBPpa)\n",
        "rText = response.text\n",
        "rText\n",
        "res = json.loads(rText) \n",
        "res2 = pd.json_normalize(res, max_level=2)\n",
        "data = json.loads(rText)\n",
        "df = pd.json_normalize(data['features'])\n",
        "df['geometry'] = df['geometry.coordinates']\n",
        "#df['lat'] = df.apply(lambda row: row['geometry.coordinates'])\n",
        "#df\n",
        "gdf = gpd.read_file(df)\n",
        "#dfEX['SITE #'] = dfEX.apply(lambda row: siteList[row.SITE_ID], axis=1)"
      ],
      "execution_count": null,
      "outputs": []
    },
    {
      "cell_type": "code",
      "metadata": {
        "id": "cIJdZLokhxUz",
        "colab_type": "code",
        "colab": {
          "base_uri": "https://localhost:8080/",
          "height": 51
        },
        "outputId": "29161cde-f5dd-4421-9915-0e3bdd6d1e35"
      },
      "source": [
        "for lat, lon in zip((df['geometry.coordinates'][0])[:5], df['geometry.coordinates'][:5]):\n",
        "    geometry = lat, lon\n",
        "    geomPts = []\n",
        "    geomPts.append(geometry)\n",
        "    print(geometry)"
      ],
      "execution_count": null,
      "outputs": [
        {
          "output_type": "stream",
          "text": [
            "(-85.269179, [-85.269179, 42.102401])\n",
            "(42.102401, [-86.17218, 41.76787])\n"
          ],
          "name": "stdout"
        }
      ]
    },
    {
      "cell_type": "code",
      "metadata": {
        "colab_type": "code",
        "id": "5zJNln99iKCa",
        "colab": {
          "base_uri": "https://localhost:8080/",
          "height": 34
        },
        "outputId": "452616f1-f3d4-465c-94ec-08b53682b9d2"
      },
      "source": [
        "import json \n",
        "\n",
        "response = requests.get(NHBPpa)\n",
        "rText = response.text\n",
        "rText\n",
        "res = json.loads(rText) \n",
        "res2 = pd.json_normalize(res, max_level=2)\n",
        "data = json.loads(rText)\n",
        "df = pd.json_normalize(data['features'])\n",
        "df['geometry.coordinates'][0][1]\n",
        "#gdf = gpd.read_file(df)\n"
      ],
      "execution_count": null,
      "outputs": [
        {
          "output_type": "execute_result",
          "data": {
            "text/plain": [
              "42.102401"
            ]
          },
          "metadata": {
            "tags": []
          },
          "execution_count": 76
        }
      ]
    },
    {
      "cell_type": "code",
      "metadata": {
        "id": "JVhj9I1Hc5g8",
        "colab_type": "code",
        "colab": {}
      },
      "source": [
        "\n",
        "request = request(NHBPpa)\n",
        "response = urlopen(request)\n",
        "stations = response.read()\n",
        "data = json.loads(stations)\n",
        "df = pd.json_normalize(data['features'])"
      ],
      "execution_count": null,
      "outputs": []
    }
  ]
}