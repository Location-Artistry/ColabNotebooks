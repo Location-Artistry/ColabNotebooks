{
  "nbformat": 4,
  "nbformat_minor": 0,
  "metadata": {
    "colab": {
      "name": "paDataPyMap.ipynb",
      "provenance": [],
      "collapsed_sections": [],
      "authorship_tag": "ABX9TyNVR2eJ3wmJD7aPPz8fwJyQ",
      "include_colab_link": true
    },
    "kernelspec": {
      "name": "python3",
      "display_name": "Python 3"
    },
    "accelerator": "GPU"
  },
  "cells": [
    {
      "cell_type": "markdown",
      "metadata": {
        "id": "view-in-github",
        "colab_type": "text"
      },
      "source": [
        "<a href=\"https://colab.research.google.com/github/Location-Artistry/ColabNotebooks/blob/master/paDataPyMap.ipynb\" target=\"_parent\"><img src=\"https://colab.research.google.com/assets/colab-badge.svg\" alt=\"Open In Colab\"/></a>"
      ]
    },
    {
      "cell_type": "markdown",
      "metadata": {
        "id": "gvjf0FlDSMWZ",
        "colab_type": "text"
      },
      "source": [
        "#Working Notebook for visualizing in GeoPandas\n",
        "Edited Sep 7th - GeoPandas can directly load GeoJSON from url, does not work with regular JSON   \n",
        "Working to flatten/normalize nested json with Pandas/GeoPandas   \n",
        "Additionally bring in ArcGIS Feature Service as DataFrame/GeoDataFrame"
      ]
    },
    {
      "cell_type": "code",
      "metadata": {
        "id": "CYmYf8nqAuFg",
        "colab_type": "code",
        "colab": {}
      },
      "source": [
        "%%time \n",
        "!apt update\n",
        "!apt upgrade\n",
        "# Important library for many geopython libraries\n",
        "!apt install gdal-bin python-gdal python3-gdal \n",
        "# Install rtree - Geopandas requirment\n",
        "!apt install python3-rtree \n",
        "# Install Geopandas\n",
        "!pip install git+git://github.com/geopandas/geopandas.git\n",
        "# Install descartes - Geopandas requirment\n",
        "!pip install descartes \n",
        "# Install Folium for Geographic data visualization\n",
        "!pip install folium\n",
        "!pip install pygeos\n",
        "!pip install flatten_json "
      ],
      "execution_count": null,
      "outputs": []
    },
    {
      "cell_type": "code",
      "metadata": {
        "id": "tIsTrIjPBFbn",
        "colab_type": "code",
        "colab": {
          "base_uri": "https://localhost:8080/",
          "height": 73
        },
        "outputId": "01fd0e70-93f5-48d9-e9ee-2b9b80a72928"
      },
      "source": [
        "import pandas as pd\n",
        "import numpy as np\n",
        "import geopandas as gpd\n",
        "from shapely.geometry import Point\n",
        "import matplotlib\n",
        "import matplotlib.pyplot as plt \n",
        "import folium\n",
        "import os\n",
        "from IPython.display import display\n",
        "from pandas.io.json import json_normalize\n",
        "from flatten_json import flatten \n",
        "import requests"
      ],
      "execution_count": 2,
      "outputs": [
        {
          "output_type": "stream",
          "text": [
            "/usr/local/lib/python3.6/dist-packages/geopandas/_compat.py:87: UserWarning: The Shapely GEOS version (3.8.0-CAPI-1.13.1 ) is incompatible with the GEOS version PyGEOS was compiled with (3.8.1-CAPI-1.13.3). Conversions between both will be slow.\n",
            "  shapely_geos_version, geos_capi_version_string\n"
          ],
          "name": "stderr"
        }
      ]
    },
    {
      "cell_type": "markdown",
      "metadata": {
        "id": "1E_QyUAXTQ9T",
        "colab_type": "text"
      },
      "source": [
        "#Start Working Section"
      ]
    },
    {
      "cell_type": "markdown",
      "metadata": {
        "id": "o-I18nKGALHx",
        "colab_type": "text"
      },
      "source": [
        "##9-8-2020\n",
        "Working successfully to bring in miCounties GeoJSON as gdf and parse NHBPpa   \n",
        "data from json - > dataFrame -> add geomtery from lat.long->create gdf\n"
      ]
    },
    {
      "cell_type": "code",
      "metadata": {
        "id": "MeuL7tR3B_vW",
        "colab_type": "code",
        "colab": {}
      },
      "source": [
        "def GeoJSONtoGDF(jsonURL):\n",
        "  geoDF = gpd.read_file(jsonURL)\n",
        "  display(geoDF.head())\n",
        "  return geoDF"
      ],
      "execution_count": 3,
      "outputs": []
    },
    {
      "cell_type": "code",
      "metadata": {
        "id": "QasbZY4zOY-K",
        "colab_type": "code",
        "colab": {}
      },
      "source": [
        "NHBPpa = 'https://purpleairwidget.firebaseapp.com/purpleAirData/44439,2822,5712,43297,7772,37659'\n",
        "PAallSta = 'https://www.purpleair.com/json'\n",
        "miCounties = 'https://opendata.arcgis.com/datasets/67a8ff23b5f54f15b7133b8c30981441_0.geojson'\n",
        "\n",
        "gdf = GeoJSONtoGDF(NHBPpa)\n",
        "gdf2 = GeoJSONtoGDF(miCounties)\n",
        "#gdf3 = GeoJSONtoGDF(PAallSta)"
      ],
      "execution_count": null,
      "outputs": []
    },
    {
      "cell_type": "code",
      "metadata": {
        "id": "Z3alRo8n09oC",
        "colab_type": "code",
        "colab": {}
      },
      "source": [
        "# Overlay points and Polygons\n",
        "fig, ax = plt.subplots(figsize=(10,10))\n",
        "gdf2.plot(ax=ax, column='NAME');\n",
        "#ax.margins(-.2, -.2)\n",
        "ax.set_xticklabels([])\n",
        "ax.set_yticklabels([])\n",
        "gdf.plot(ax=ax, markersize=100, color='black');"
      ],
      "execution_count": null,
      "outputs": []
    },
    {
      "cell_type": "code",
      "metadata": {
        "id": "MVetlYzG7gTT",
        "colab_type": "code",
        "colab": {}
      },
      "source": [
        "import json \n",
        "response = requests.get(NHBPpa)\n",
        "rText = response.text\n",
        "data = json.loads(rText)\n",
        "df = pd.json_normalize(data['features'])\n",
        "df['geometry'] = df['geometry.coordinates']\n",
        "df\n",
        "df['latitude'] = df.apply(lambda row: row.geometry[1], axis=1)\n",
        "df['longitude'] = df.apply(lambda row: row.geometry[0], axis=1)\n",
        "df.head().T\n",
        "#gdf = gpd.read_file(df)\n",
        "#dfEX['SITE #'] = dfEX.apply(lambda row: siteList[row.SITE_ID], axis=1)"
      ],
      "execution_count": null,
      "outputs": []
    },
    {
      "cell_type": "code",
      "metadata": {
        "id": "cIJdZLokhxUz",
        "colab_type": "code",
        "colab": {}
      },
      "source": [
        "for lat, lon in zip((df['latitude'])[:5], df['longitude'][:5]):\n",
        "    geometry = lat, lon\n",
        "    geomPts = []\n",
        "    geomPts.append(geometry)\n",
        "    print(geometry)"
      ],
      "execution_count": null,
      "outputs": []
    },
    {
      "cell_type": "code",
      "metadata": {
        "id": "Xv_D_P9275FX",
        "colab_type": "code",
        "colab": {}
      },
      "source": [
        "# Save the geometry as a new feature\n",
        "geometry = [Point(xy) for xy in zip(df['longitude'], df['latitude'])]\n",
        "geometry[:5]\n",
        "# Create crs dictionary\n",
        "crs = 'epsg:4326'\n",
        "gdf3 = gpd.GeoDataFrame(df, crs=crs, geometry=geometry)\n",
        "gdf3.head()"
      ],
      "execution_count": null,
      "outputs": []
    },
    {
      "cell_type": "code",
      "metadata": {
        "id": "3YsEqGtx9J7j",
        "colab_type": "code",
        "colab": {}
      },
      "source": [
        "# Overlay points and Polygons\n",
        "fig, ax = plt.subplots(figsize=(10,10))\n",
        "gdf2.plot(ax=ax, column='NAME');\n",
        "#ax.margins(-.2, -.2)\n",
        "ax.set_xticklabels([])\n",
        "ax.set_yticklabels([])\n",
        "gdf3.plot(ax=ax, markersize=100, color='black');"
      ],
      "execution_count": null,
      "outputs": []
    },
    {
      "cell_type": "markdown",
      "metadata": {
        "id": "NtC05y6bAyOD",
        "colab_type": "text"
      },
      "source": [
        "Next step working to process entire Purple Air json as df->gdf!"
      ]
    },
    {
      "cell_type": "code",
      "metadata": {
        "id": "vLB8rhT3A-SK",
        "colab_type": "code",
        "colab": {}
      },
      "source": [
        "NHBPpa = 'https://purpleairwidget.firebaseapp.com/purpleAirData/44439,2822,5712,43297,7772,37659'\n",
        "PAallSta = 'https://www.purpleair.com/json'\n",
        "miCounties = 'https://opendata.arcgis.com/datasets/67a8ff23b5f54f15b7133b8c30981441_0.geojson'"
      ],
      "execution_count": null,
      "outputs": []
    },
    {
      "cell_type": "code",
      "metadata": {
        "id": "26OdS1FyCnfw",
        "colab_type": "code",
        "colab": {}
      },
      "source": [
        "# this is bringing in the Purple Air Data as a DataFrame! \n",
        "df1 = pd.read_json(PAallSta)\n",
        "#df1.head()\n",
        "df3 = pd.json_normalize(df1['results'])\n"
      ],
      "execution_count": 56,
      "outputs": []
    },
    {
      "cell_type": "code",
      "metadata": {
        "id": "iId83Fo1FGKM",
        "colab_type": "code",
        "colab": {}
      },
      "source": [
        "df3.head().T"
      ],
      "execution_count": null,
      "outputs": []
    },
    {
      "cell_type": "code",
      "metadata": {
        "id": "sD2HLD44FFVj",
        "colab_type": "code",
        "colab": {}
      },
      "source": [
        "pd.value_counts(df3['DEVICE_LOCATIONTYPE']).plot.bar()"
      ],
      "execution_count": null,
      "outputs": []
    },
    {
      "cell_type": "code",
      "metadata": {
        "id": "dfrZKD0cDNcf",
        "colab_type": "code",
        "colab": {}
      },
      "source": [
        "#df3.head()\n",
        "df3['Label'].describe()\n",
        "#pd.value_counts(df3['DEVICE_LOCATIONTYPE']).plot.bar()\n",
        "#df3.groupby(['Hidden']).mean()\n",
        "#df3['DEVICE_LOCATIONTYPE'].mean()"
      ],
      "execution_count": null,
      "outputs": []
    },
    {
      "cell_type": "code",
      "metadata": {
        "id": "zMbLZ12ABEF8",
        "colab_type": "code",
        "colab": {}
      },
      "source": [
        "for lat, lon in zip((df3['Lat'])[:5], df3['Lon'][:5]):\n",
        "    geometry = lat, lon\n",
        "    geomPts = []\n",
        "    geomPts.append(geometry)\n",
        "    print(geometry)"
      ],
      "execution_count": null,
      "outputs": []
    },
    {
      "cell_type": "code",
      "metadata": {
        "id": "gJ7jDJijIlSs",
        "colab_type": "code",
        "colab": {}
      },
      "source": [
        "# Save the geometry as a new feature\n",
        "geometry = [Point(xy) for xy in zip(df3['Lon'], df3['Lat'])]\n",
        "geometry[:5]\n",
        "# Create crs dictionary\n",
        "crs = 'epsg:4326'\n",
        "gdf4 = gpd.GeoDataFrame(df3, crs=crs, geometry=geometry)\n",
        "gdf4.head()"
      ],
      "execution_count": null,
      "outputs": []
    },
    {
      "cell_type": "code",
      "metadata": {
        "id": "eyG2BOjUNivJ",
        "colab_type": "code",
        "colab": {}
      },
      "source": [
        "#working to drop null lat/lon records, preventing gdf from being plotted\n",
        "#Yes it worked!  Ran after geomtry was constructed, but could be done before\n",
        "gdf4.isnull().sum()"
      ],
      "execution_count": null,
      "outputs": []
    },
    {
      "cell_type": "code",
      "metadata": {
        "id": "VPjvevgKPapP",
        "colab_type": "code",
        "colab": {}
      },
      "source": [
        "gdf5 = gdf4.dropna(subset=['Lat','Lon'])\n",
        "gdf5.isnull().sum()"
      ],
      "execution_count": null,
      "outputs": []
    },
    {
      "cell_type": "code",
      "metadata": {
        "id": "WtKf4NMsQBYC",
        "colab_type": "code",
        "colab": {}
      },
      "source": [
        ""
      ],
      "execution_count": null,
      "outputs": []
    },
    {
      "cell_type": "code",
      "metadata": {
        "id": "ATJOKG4_I4pJ",
        "colab_type": "code",
        "colab": {
          "base_uri": "https://localhost:8080/",
          "height": 228
        },
        "outputId": "9d7fb599-f751-4c4e-b943-866aceebc71d"
      },
      "source": [
        "# Overlay points and Polygons\n",
        "fig, ax = plt.subplots(figsize=(10,10))\n",
        "gdf2.plot(ax=ax, column='NAME');\n",
        "#ax.margins(-.2, -.2)\n",
        "ax.set_xticklabels([])\n",
        "ax.set_yticklabels([])\n",
        "gdf5.plot(ax=ax, markersize=1, color='black');"
      ],
      "execution_count": 113,
      "outputs": [
        {
          "output_type": "display_data",
          "data": {
            "image/png": "[encoded data removed]",
            "text/plain": [
              "<Figure size 720x720 with 1 Axes>"
            ]
          },
          "metadata": {
            "tags": [],
            "needs_background": "light"
          }
        }
      ]
    }
  ]
}