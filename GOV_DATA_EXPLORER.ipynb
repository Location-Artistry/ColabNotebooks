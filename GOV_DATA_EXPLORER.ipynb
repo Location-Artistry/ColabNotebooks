{
  "nbformat": 4,
  "nbformat_minor": 0,
  "metadata": {
    "colab": {
      "name": "GOV-DATA-EXPLORER.ipynb",
      "provenance": [],
      "collapsed_sections": [
        "M55TkG3XWUAs",
        "WMQU31zwnwnT",
        "a9Uh8-bhpq7r",
        "PJt1exdmSOuu"
      ],
      "toc_visible": true,
      "authorship_tag": "ABX9TyMDBWtbtfr63BxJczk+qq+w",
      "include_colab_link": true
    },
    "kernelspec": {
      "name": "python3",
      "display_name": "Python 3"
    },
    "accelerator": "GPU"
  },
  "cells": [
    {
      "cell_type": "markdown",
      "metadata": {
        "id": "view-in-github",
        "colab_type": "text"
      },
      "source": [
        "<a href=\"https://colab.research.google.com/github/Location-Artistry/ColabNotebooks/blob/master/GOV_DATA_EXPLORER.ipynb\" target=\"_parent\"><img src=\"https://colab.research.google.com/assets/colab-badge.svg\" alt=\"Open In Colab\"/></a>"
      ]
    },
    {
      "cell_type": "markdown",
      "metadata": {
        "id": "Ik4VOc4bSnfL"
      },
      "source": [
        "# EPA/EGLE Geo Data Explorer\r\n",
        "## Working with ArcREST Endpoints from EPA ATTAINS and EGLE for Geo and Enviro Data   \r\n",
        "### Read AGOL Data into GeoPandas, analyze and visualize with mapping libraries"
      ]
    },
    {
      "cell_type": "markdown",
      "metadata": {
        "id": "M55TkG3XWUAs"
      },
      "source": [
        "## Create New MapServer Class\r\n",
        "Supplemental library for exploring ArcGIS Online and Server hosted layers.  ArcGIS Python API has challenges accessing this data.  arcgis-restapi gives us the ability to get information about the MapServer Services and will use arcPy if possible, then use open source libraries:   \r\n",
        " 'Python API for working with ArcGIS REST API, ArcGIS Online, and Portal/ArcGIS Enterprise.'    \r\n",
        " https://github.com/Bolton-and-Menk-GIS/restapi"
      ]
    },
    {
      "cell_type": "code",
      "metadata": {
        "id": "KraQcHhof8dp"
      },
      "source": [
        "class mapServer:\r\n",
        "  # Class creates a MapServer object from the bmi-arcgis-restapi library\r\n",
        "  # self.ags = instance of ArcServer object\r\n",
        "  def __init__(self, url): \r\n",
        "    self.ags = restapi.ArcServer(url)\r\n",
        "    self.url = url\r\n",
        "    display('MAPSERVER OBJECT CREATED', self.ags)\r\n",
        "  # getServices displays and returns list of all services\r\n",
        "  def getServices(self):\r\n",
        "    for i, service in enumerate(self.ags.services):\r\n",
        "      display(f'{i} - Service Name: {service.name} -  Service Type: {service.type}')\r\n",
        "    return self.ags.services \r\n",
        "  # getFolders displays and returns list of all folders\r\n",
        "  def getFolders(self):\r\n",
        "    for i, folder in enumerate(self.ags.folders):\r\n",
        "      display(f'{i} - Folder: {folder}') \r\n",
        "    return self.ags.folders\r\n",
        "  # services may be nested under folders, return all services in folders\r\n",
        "  def getNestedServices(self):\r\n",
        "    for i, folder in enumerate(self.ags.folders):\r\n",
        "      display(f'{i} - Folder: {folder}')\r\n",
        "      ags = restapi.ArcServer(f'{self.ags.url}/{folder}')\r\n",
        "      for z, service in enumerate(ags.services):\r\n",
        "        display(f'   {z} - Service Name: {service.name} -  Service Type: {service.type}')\r\n",
        "  # list all atrributes for MapServer Object\r\n",
        "  def getAttr(self):\r\n",
        "    for attribute in dir(self.ags):\r\n",
        "      display(f'Attribute Names: {attribute} - {self.ags[attribute]}')\r\n",
        "  def listAttr(self):\r\n",
        "    return dir(self.ags)\r\n",
        "  # get subservice folder\r\n",
        "  # working to create mapService from this function\r\n",
        "  def getSubService(self, rootServer=0):\r\n",
        "    # monitoring_thread = start_monitoring()\r\n",
        "    folders = self.getFolders()\r\n",
        "    services = self.getServices()\r\n",
        "    if not folders:\r\n",
        "      fID = int(input(f'Select index of subservice: '))\r\n",
        "      serviceURL = services[fID].name\r\n",
        "      subService = self.getService(serviceURL)\r\n",
        "      return subService\r\n",
        "    else:\r\n",
        "      fID = int(input(f'Select index of subservice folder: '))\r\n",
        "      serviceURL = (f'{self.url}/{folders[fID]}')\r\n",
        "      subFolder = mapServer(serviceURL)\r\n",
        "      subServices = subFolder.getServices()\r\n",
        "      fID = int(input(f'Select index of subservice: '))\r\n",
        "      serviceName = subServices[fID].name\r\n",
        "      subService = mapService(self, serviceName)\r\n",
        "      return subService\r\n",
        "\r\n",
        "class mapService:\r\n",
        "  # Class creates a <-MapService object-> from the bmi-arcgis-restapi library\r\n",
        "  def __init__(self, server, servName): \r\n",
        "    self.ags = server.ags.getService(servName)\r\n",
        "    #self.url = url\r\n",
        "    display(f'MAPSERVICE OBJECT CREATED - {self.ags.url}')\r\n",
        "  def getAttr(self):\r\n",
        "    for attribute in dir(self.ags):\r\n",
        "      display(f'Attribute Names: {attribute} - {self.ags[attribute]}')\r\n",
        "  def listAttr(self):\r\n",
        "    return dir(self.ags)\r\n",
        "  def desc(self):\r\n",
        "    return self.ags.description\r\n",
        "  def spatialRef(self):\r\n",
        "    return self.ags.spatialReference\r\n",
        "  def units(self):\r\n",
        "    return self.ags.units\r\n",
        "  def layers(self):\r\n",
        "    return self.ags.list_layers()\r\n",
        "  def tables(self):\r\n",
        "    return self.ags.list_tables()\r\n",
        "  def getLayer(self):\r\n",
        "    for i, lay in enumerate(self.ags.layers):\r\n",
        "      display(f'{i} - {lay.name}')\r\n",
        "    layers = self.layers()\r\n",
        "    fID = int(input(f'Select index of Layer: '))\r\n",
        "    layerObj = newLayer(self, layers[fID])\r\n",
        "    return layerObj\r\n",
        "\r\n",
        "class newLayer:\r\n",
        "    # Class creates a <-Layer object-> from the bmi-arcgis-restapi library\r\n",
        "  def __init__(self, service, lyrName): \r\n",
        "    self.lyr = service.ags.layer(lyrName)\r\n",
        "    display(f'LAYER CREATED - {self.lyr.name} - id: {self.lyr.id} - url: {self.lyr.url}')\r\n",
        "  def getInfo(self):\r\n",
        "    display(f'{self.lyr.name} - subLayers: {self.lyr.subLayers} - capabilities: {self.lyr.capabilities} - query formats: {self.lyr.supportedQueryFormats} - count: {self.lyr.getCount()}')\r\n",
        "  def getFields(self):\r\n",
        "    return self.lyr.list_fields()\r\n",
        "  def layerQuery (self):\r\n",
        "    baseURL = self.lyr.url\r\n",
        "    SQL = input(f'SQL query(ENTER for ALL): ') or '1=1'\r\n",
        "    fields = input(f'Fields(ENTER for ALL)? ') or '*'\r\n",
        "    RESTurl = (f'{baseURL}/query?f=geojson&where={SQL}&outFields={fields}')\r\n",
        "    gdf = gpd.read_file(RESTurl)\r\n",
        "    return gdf"
      ],
      "execution_count": 24,
      "outputs": []
    },
    {
      "cell_type": "markdown",
      "metadata": {
        "id": "WMQU31zwnwnT"
      },
      "source": [
        "## Entire Workflow for newly created Arc Server Workflow using bmi-arcgis-restapi\r\n",
        "\r\n",
        "\r\n",
        "1.   Create MapServer with Server root url\r\n",
        "2.   Derive specified MapService from root MapServer Object\r\n",
        "3.   Generate layer from specific specified MapService Endpoint\r\n",
        "\r\n"
      ]
    },
    {
      "cell_type": "code",
      "metadata": {
        "id": "sar2hWjEcrsa"
      },
      "source": [
        "# 1 - Create MapServer with Server root url\r\n",
        "rest_url = 'https://gispub.epa.gov/arcgis/rest/services'\r\n",
        "SERVER = mapServer(rest_url)"
      ],
      "execution_count": null,
      "outputs": []
    },
    {
      "cell_type": "code",
      "metadata": {
        "colab": {
          "base_uri": "https://localhost:8080/",
          "height": 629
        },
        "id": "YBMIT-dSoR2H",
        "outputId": "b2a5dd94-d2e5-4488-eb63-6b1d26ae226a"
      },
      "source": [
        "# 2 - Derive specified MapService from root MapServer Object\r\n",
        "subServer = SERVER.getSubService()"
      ],
      "execution_count": 26,
      "outputs": [
        {
          "output_type": "display_data",
          "data": {
            "application/vnd.google.colaboratory.intrinsic+json": {
              "type": "string"
            },
            "text/plain": [
              "'0 - Folder: AgSTAR'"
            ]
          },
          "metadata": {
            "tags": []
          }
        },
        {
          "output_type": "display_data",
          "data": {
            "application/vnd.google.colaboratory.intrinsic+json": {
              "type": "string"
            },
            "text/plain": [
              "'1 - Folder: ER_Harvey'"
            ]
          },
          "metadata": {
            "tags": []
          }
        },
        {
          "output_type": "display_data",
          "data": {
            "application/vnd.google.colaboratory.intrinsic+json": {
              "type": "string"
            },
            "text/plain": [
              "'2 - Folder: monitor'"
            ]
          },
          "metadata": {
            "tags": []
          }
        },
        {
          "output_type": "display_data",
          "data": {
            "application/vnd.google.colaboratory.intrinsic+json": {
              "type": "string"
            },
            "text/plain": [
              "'3 - Folder: NELP'"
            ]
          },
          "metadata": {
            "tags": []
          }
        },
        {
          "output_type": "display_data",
          "data": {
            "application/vnd.google.colaboratory.intrinsic+json": {
              "type": "string"
            },
            "text/plain": [
              "'4 - Folder: NPDAT'"
            ]
          },
          "metadata": {
            "tags": []
          }
        },
        {
          "output_type": "display_data",
          "data": {
            "application/vnd.google.colaboratory.intrinsic+json": {
              "type": "string"
            },
            "text/plain": [
              "'5 - Folder: OA'"
            ]
          },
          "metadata": {
            "tags": []
          }
        },
        {
          "output_type": "display_data",
          "data": {
            "application/vnd.google.colaboratory.intrinsic+json": {
              "type": "string"
            },
            "text/plain": [
              "'6 - Folder: OAR'"
            ]
          },
          "metadata": {
            "tags": []
          }
        },
        {
          "output_type": "display_data",
          "data": {
            "application/vnd.google.colaboratory.intrinsic+json": {
              "type": "string"
            },
            "text/plain": [
              "'7 - Folder: OAR_OAP'"
            ]
          },
          "metadata": {
            "tags": []
          }
        },
        {
          "output_type": "display_data",
          "data": {
            "application/vnd.google.colaboratory.intrinsic+json": {
              "type": "string"
            },
            "text/plain": [
              "'8 - Folder: OAR_OAQPS'"
            ]
          },
          "metadata": {
            "tags": []
          }
        },
        {
          "output_type": "display_data",
          "data": {
            "application/vnd.google.colaboratory.intrinsic+json": {
              "type": "string"
            },
            "text/plain": [
              "'9 - Folder: OECA'"
            ]
          },
          "metadata": {
            "tags": []
          }
        },
        {
          "output_type": "display_data",
          "data": {
            "application/vnd.google.colaboratory.intrinsic+json": {
              "type": "string"
            },
            "text/plain": [
              "'10 - Folder: OEI'"
            ]
          },
          "metadata": {
            "tags": []
          }
        },
        {
          "output_type": "display_data",
          "data": {
            "application/vnd.google.colaboratory.intrinsic+json": {
              "type": "string"
            },
            "text/plain": [
              "'11 - Folder: ORD'"
            ]
          },
          "metadata": {
            "tags": []
          }
        },
        {
          "output_type": "display_data",
          "data": {
            "application/vnd.google.colaboratory.intrinsic+json": {
              "type": "string"
            },
            "text/plain": [
              "'12 - Folder: OSWER'"
            ]
          },
          "metadata": {
            "tags": []
          }
        },
        {
          "output_type": "display_data",
          "data": {
            "application/vnd.google.colaboratory.intrinsic+json": {
              "type": "string"
            },
            "text/plain": [
              "'13 - Folder: OW'"
            ]
          },
          "metadata": {
            "tags": []
          }
        },
        {
          "output_type": "display_data",
          "data": {
            "application/vnd.google.colaboratory.intrinsic+json": {
              "type": "string"
            },
            "text/plain": [
              "'14 - Folder: PrintTools'"
            ]
          },
          "metadata": {
            "tags": []
          }
        },
        {
          "output_type": "display_data",
          "data": {
            "application/vnd.google.colaboratory.intrinsic+json": {
              "type": "string"
            },
            "text/plain": [
              "'15 - Folder: R1'"
            ]
          },
          "metadata": {
            "tags": []
          }
        },
        {
          "output_type": "display_data",
          "data": {
            "application/vnd.google.colaboratory.intrinsic+json": {
              "type": "string"
            },
            "text/plain": [
              "'16 - Folder: R10'"
            ]
          },
          "metadata": {
            "tags": []
          }
        },
        {
          "output_type": "display_data",
          "data": {
            "application/vnd.google.colaboratory.intrinsic+json": {
              "type": "string"
            },
            "text/plain": [
              "'17 - Folder: R1AUL'"
            ]
          },
          "metadata": {
            "tags": []
          }
        },
        {
          "output_type": "display_data",
          "data": {
            "application/vnd.google.colaboratory.intrinsic+json": {
              "type": "string"
            },
            "text/plain": [
              "'18 - Folder: r4'"
            ]
          },
          "metadata": {
            "tags": []
          }
        },
        {
          "output_type": "display_data",
          "data": {
            "application/vnd.google.colaboratory.intrinsic+json": {
              "type": "string"
            },
            "text/plain": [
              "'19 - Folder: r6'"
            ]
          },
          "metadata": {
            "tags": []
          }
        },
        {
          "output_type": "display_data",
          "data": {
            "application/vnd.google.colaboratory.intrinsic+json": {
              "type": "string"
            },
            "text/plain": [
              "'20 - Folder: r7'"
            ]
          },
          "metadata": {
            "tags": []
          }
        },
        {
          "output_type": "display_data",
          "data": {
            "application/vnd.google.colaboratory.intrinsic+json": {
              "type": "string"
            },
            "text/plain": [
              "'21 - Folder: R9MarineDebris'"
            ]
          },
          "metadata": {
            "tags": []
          }
        },
        {
          "output_type": "display_data",
          "data": {
            "application/vnd.google.colaboratory.intrinsic+json": {
              "type": "string"
            },
            "text/plain": [
              "'22 - Folder: R9Watersheds'"
            ]
          },
          "metadata": {
            "tags": []
          }
        },
        {
          "output_type": "display_data",
          "data": {
            "application/vnd.google.colaboratory.intrinsic+json": {
              "type": "string"
            },
            "text/plain": [
              "'23 - Folder: Region9'"
            ]
          },
          "metadata": {
            "tags": []
          }
        },
        {
          "output_type": "display_data",
          "data": {
            "application/vnd.google.colaboratory.intrinsic+json": {
              "type": "string"
            },
            "text/plain": [
              "'24 - Folder: SFBayWQIF'"
            ]
          },
          "metadata": {
            "tags": []
          }
        },
        {
          "output_type": "display_data",
          "data": {
            "application/vnd.google.colaboratory.intrinsic+json": {
              "type": "string"
            },
            "text/plain": [
              "'25 - Folder: Utilities'"
            ]
          },
          "metadata": {
            "tags": []
          }
        },
        {
          "output_type": "display_data",
          "data": {
            "application/vnd.google.colaboratory.intrinsic+json": {
              "type": "string"
            },
            "text/plain": [
              "'0 - Service Name: SampleWorldCities -  Service Type: MapServer'"
            ]
          },
          "metadata": {
            "tags": []
          }
        },
        {
          "output_type": "stream",
          "text": [
            "Select index of subservice folder: 13\n"
          ],
          "name": "stdout"
        },
        {
          "output_type": "display_data",
          "data": {
            "application/vnd.google.colaboratory.intrinsic+json": {
              "type": "string"
            },
            "text/plain": [
              "'MAPSERVER OBJECT CREATED'"
            ]
          },
          "metadata": {
            "tags": []
          }
        },
        {
          "output_type": "display_data",
          "data": {
            "text/plain": [
              "<ArcServer: \"gispub.epa.gov\" (\"arcgis\")>"
            ]
          },
          "metadata": {
            "tags": []
          }
        },
        {
          "output_type": "display_data",
          "data": {
            "application/vnd.google.colaboratory.intrinsic+json": {
              "type": "string"
            },
            "text/plain": [
              "'0 - Service Name: OW/AquaticNuisanceSpeciesLocator -  Service Type: MapServer'"
            ]
          },
          "metadata": {
            "tags": []
          }
        },
        {
          "output_type": "display_data",
          "data": {
            "application/vnd.google.colaboratory.intrinsic+json": {
              "type": "string"
            },
            "text/plain": [
              "'1 - Service Name: OW/ATTAINS_Assessment -  Service Type: MapServer'"
            ]
          },
          "metadata": {
            "tags": []
          }
        },
        {
          "output_type": "stream",
          "text": [
            "Select index of subservice: 1\n"
          ],
          "name": "stdout"
        },
        {
          "output_type": "display_data",
          "data": {
            "application/vnd.google.colaboratory.intrinsic+json": {
              "type": "string"
            },
            "text/plain": [
              "'MAPSERVICE OBJECT CREATED - https://gispub.epa.gov/arcgis/rest/services/OW/ATTAINS_Assessment/MapServer'"
            ]
          },
          "metadata": {
            "tags": []
          }
        }
      ]
    },
    {
      "cell_type": "code",
      "metadata": {
        "colab": {
          "base_uri": "https://localhost:8080/",
          "height": 125
        },
        "id": "3y7AQ9KJoi3R",
        "outputId": "14717ac9-062e-4876-892a-b64873d088d7"
      },
      "source": [
        "# 3 - Generate layer from specific specified MapService Endpoint\r\n",
        "layerSer = subServer.getLayer()"
      ],
      "execution_count": 27,
      "outputs": [
        {
          "output_type": "display_data",
          "data": {
            "application/vnd.google.colaboratory.intrinsic+json": {
              "type": "string"
            },
            "text/plain": [
              "'0 - ATTAINS Assessment Points'"
            ]
          },
          "metadata": {
            "tags": []
          }
        },
        {
          "output_type": "display_data",
          "data": {
            "application/vnd.google.colaboratory.intrinsic+json": {
              "type": "string"
            },
            "text/plain": [
              "'1 - ATTAINS Assessment Lines'"
            ]
          },
          "metadata": {
            "tags": []
          }
        },
        {
          "output_type": "display_data",
          "data": {
            "application/vnd.google.colaboratory.intrinsic+json": {
              "type": "string"
            },
            "text/plain": [
              "'2 - ATTAINS Assessment Areas'"
            ]
          },
          "metadata": {
            "tags": []
          }
        },
        {
          "output_type": "display_data",
          "data": {
            "application/vnd.google.colaboratory.intrinsic+json": {
              "type": "string"
            },
            "text/plain": [
              "'3 - ATTAINS Assessment Unit Catchment Associations'"
            ]
          },
          "metadata": {
            "tags": []
          }
        },
        {
          "output_type": "stream",
          "text": [
            "Select index of Layer: 0\n"
          ],
          "name": "stdout"
        },
        {
          "output_type": "display_data",
          "data": {
            "application/vnd.google.colaboratory.intrinsic+json": {
              "type": "string"
            },
            "text/plain": [
              "'LAYER CREATED - ATTAINS Assessment Points - id: 0 - url: https://gispub.epa.gov/arcgis/rest/services/OW/ATTAINS_Assessment/MapServer/0'"
            ]
          },
          "metadata": {
            "tags": []
          }
        }
      ]
    },
    {
      "cell_type": "code",
      "metadata": {
        "colab": {
          "base_uri": "https://localhost:8080/",
          "height": 35
        },
        "id": "bxodky_lmqcI",
        "outputId": "79bda434-07c1-404b-9be6-03c40dbb344f"
      },
      "source": [
        "layerSer.getInfo()"
      ],
      "execution_count": 28,
      "outputs": [
        {
          "output_type": "display_data",
          "data": {
            "application/vnd.google.colaboratory.intrinsic+json": {
              "type": "string"
            },
            "text/plain": [
              "'ATTAINS Assessment Points - subLayers: [] - capabilities: Map,Query,Data - query formats: JSON, geoJSON, PBF - count: 4022'"
            ]
          },
          "metadata": {
            "tags": []
          }
        }
      ]
    },
    {
      "cell_type": "markdown",
      "metadata": {
        "id": "a9Uh8-bhpq7r"
      },
      "source": [
        "### Separate section using GeoPandas to read in the data directly from the ArcREST Endpoint"
      ]
    },
    {
      "cell_type": "code",
      "metadata": {
        "colab": {
          "base_uri": "https://localhost:8080/",
          "height": 479
        },
        "id": "mU3_xsprWL0v",
        "outputId": "9d34fef8-83f5-49b0-8c30-38327595f080"
      },
      "source": [
        "epaURL = 'https://gispub.epa.gov/arcgis/rest/services/OW/ATTAINS_Assessment/MapServer/0/query?f=geojson&where=1=1&outFields=*'\r\n",
        "gdfEPA = gpd.read_file(epaURL)\r\n",
        "gdfEPA.head()"
      ],
      "execution_count": 12,
      "outputs": [
        {
          "output_type": "execute_result",
          "data": {
            "text/html": [
              "<div>\n",
              "<style scoped>\n",
              "    .dataframe tbody tr th:only-of-type {\n",
              "        vertical-align: middle;\n",
              "    }\n",
              "\n",
              "    .dataframe tbody tr th {\n",
              "        vertical-align: top;\n",
              "    }\n",
              "\n",
              "    .dataframe thead th {\n",
              "        text-align: right;\n",
              "    }\n",
              "</style>\n",
              "<table border=\"1\" class=\"dataframe\">\n",
              "  <thead>\n",
              "    <tr style=\"text-align: right;\">\n",
              "      <th></th>\n",
              "      <th>OBJECTID</th>\n",
              "      <th>submissionid</th>\n",
              "      <th>permid_joinkey</th>\n",
              "      <th>state</th>\n",
              "      <th>region</th>\n",
              "      <th>organizationid</th>\n",
              "      <th>orgtype</th>\n",
              "      <th>tas303d</th>\n",
              "      <th>organizationname</th>\n",
              "      <th>reportingcycle</th>\n",
              "      <th>assessmentunitidentifier</th>\n",
              "      <th>assessmentunitname</th>\n",
              "      <th>waterbodyreportlink</th>\n",
              "      <th>assmnt_joinkey</th>\n",
              "      <th>ircategory</th>\n",
              "      <th>overallstatus</th>\n",
              "      <th>isassessed</th>\n",
              "      <th>isimpaired</th>\n",
              "      <th>isthreatened</th>\n",
              "      <th>on303dlist</th>\n",
              "      <th>hastmdl</th>\n",
              "      <th>hasotherplan</th>\n",
              "      <th>visionpriority303d</th>\n",
              "      <th>drinkingwater_use</th>\n",
              "      <th>ecological_use</th>\n",
              "      <th>fishconsumption_use</th>\n",
              "      <th>recreation_use</th>\n",
              "      <th>other_use</th>\n",
              "      <th>algal_growth</th>\n",
              "      <th>ammonia</th>\n",
              "      <th>biotoxins</th>\n",
              "      <th>cause_unknown</th>\n",
              "      <th>cause_unknown_fish_kills</th>\n",
              "      <th>cause_unknown_impaired_biota</th>\n",
              "      <th>chlorine</th>\n",
              "      <th>dioxins</th>\n",
              "      <th>fish_consumption_advisory</th>\n",
              "      <th>flow_alterations</th>\n",
              "      <th>habitat_alterations</th>\n",
              "      <th>hydrologic_alteration</th>\n",
              "      <th>mercury</th>\n",
              "      <th>metals_other_than_mercury</th>\n",
              "      <th>noxious_aquatic_plants</th>\n",
              "      <th>nuisance_exotic_species</th>\n",
              "      <th>nuisance_native_species</th>\n",
              "      <th>nutrients</th>\n",
              "      <th>oil_and_grease</th>\n",
              "      <th>oxygen_depletion</th>\n",
              "      <th>other_cause</th>\n",
              "      <th>pathogens</th>\n",
              "      <th>pesticides</th>\n",
              "      <th>ph_acidity_caustic_conditions</th>\n",
              "      <th>polychlorinated_biphenyls_pcbs</th>\n",
              "      <th>radiation</th>\n",
              "      <th>solids_chlorides_sulfates</th>\n",
              "      <th>sediment</th>\n",
              "      <th>taste_color_and_odor</th>\n",
              "      <th>temperature</th>\n",
              "      <th>total_toxics</th>\n",
              "      <th>toxic_inorganics</th>\n",
              "      <th>toxic_organics</th>\n",
              "      <th>trash</th>\n",
              "      <th>turbidity</th>\n",
              "      <th>GLOBALID</th>\n",
              "      <th>geometry</th>\n",
              "    </tr>\n",
              "  </thead>\n",
              "  <tbody>\n",
              "    <tr>\n",
              "      <th>0</th>\n",
              "      <td>1</td>\n",
              "      <td>{ea5304a8-04ea-089a-11f9-2c4dc0766643}</td>\n",
              "      <td>{B5FB99AA-D105-802E-E053-FEDD43862C34}</td>\n",
              "      <td>HI</td>\n",
              "      <td>09</td>\n",
              "      <td>21HI</td>\n",
              "      <td>State</td>\n",
              "      <td>Y</td>\n",
              "      <td>Hawaii</td>\n",
              "      <td>2020</td>\n",
              "      <td>HI138086</td>\n",
              "      <td>Hakalau Co. Pk.</td>\n",
              "      <td>https://mywaterway.epa.gov/waterbody-report/21...</td>\n",
              "      <td>{B5FB99A5-16BB-802E-E053-FEDD43862C34}</td>\n",
              "      <td>2</td>\n",
              "      <td>Fully Supporting</td>\n",
              "      <td>Y</td>\n",
              "      <td>N</td>\n",
              "      <td>N</td>\n",
              "      <td>N</td>\n",
              "      <td>N</td>\n",
              "      <td>N</td>\n",
              "      <td>N</td>\n",
              "      <td>None</td>\n",
              "      <td>Not Assessed</td>\n",
              "      <td>None</td>\n",
              "      <td>Fully Supporting</td>\n",
              "      <td>None</td>\n",
              "      <td>None</td>\n",
              "      <td>None</td>\n",
              "      <td>None</td>\n",
              "      <td>None</td>\n",
              "      <td>None</td>\n",
              "      <td>None</td>\n",
              "      <td>None</td>\n",
              "      <td>None</td>\n",
              "      <td>None</td>\n",
              "      <td>None</td>\n",
              "      <td>None</td>\n",
              "      <td>None</td>\n",
              "      <td>None</td>\n",
              "      <td>None</td>\n",
              "      <td>None</td>\n",
              "      <td>None</td>\n",
              "      <td>None</td>\n",
              "      <td>None</td>\n",
              "      <td>None</td>\n",
              "      <td>None</td>\n",
              "      <td>None</td>\n",
              "      <td>Meeting Criteria</td>\n",
              "      <td>None</td>\n",
              "      <td>None</td>\n",
              "      <td>None</td>\n",
              "      <td>None</td>\n",
              "      <td>None</td>\n",
              "      <td>None</td>\n",
              "      <td>None</td>\n",
              "      <td>None</td>\n",
              "      <td>None</td>\n",
              "      <td>None</td>\n",
              "      <td>None</td>\n",
              "      <td>None</td>\n",
              "      <td>None</td>\n",
              "      <td>{DCF54C6E-E635-429A-A235-65CA73174ABD}</td>\n",
              "      <td>MULTIPOINT (-155.11961 19.88190)</td>\n",
              "    </tr>\n",
              "    <tr>\n",
              "      <th>1</th>\n",
              "      <td>2</td>\n",
              "      <td>{1b6f8338-ce5b-b915-b4eb-9a7c84157ddc}</td>\n",
              "      <td>{B5FB99AA-DBB4-802E-E053-FEDD43862C34}</td>\n",
              "      <td>SC</td>\n",
              "      <td>04</td>\n",
              "      <td>21SC60WQ</td>\n",
              "      <td>State</td>\n",
              "      <td>Y</td>\n",
              "      <td>South Carolina</td>\n",
              "      <td>2016</td>\n",
              "      <td>SCRS-06007</td>\n",
              "      <td>RS-06007</td>\n",
              "      <td>https://mywaterway.epa.gov/waterbody-report/21...</td>\n",
              "      <td>{B5FB99A7-82FD-802E-E053-FEDD43862C34}</td>\n",
              "      <td>1</td>\n",
              "      <td>Fully Supporting</td>\n",
              "      <td>Y</td>\n",
              "      <td>N</td>\n",
              "      <td>N</td>\n",
              "      <td>N</td>\n",
              "      <td>N</td>\n",
              "      <td>N</td>\n",
              "      <td>N</td>\n",
              "      <td>None</td>\n",
              "      <td>None</td>\n",
              "      <td>None</td>\n",
              "      <td>Fully Supporting</td>\n",
              "      <td>None</td>\n",
              "      <td>None</td>\n",
              "      <td>None</td>\n",
              "      <td>None</td>\n",
              "      <td>None</td>\n",
              "      <td>None</td>\n",
              "      <td>None</td>\n",
              "      <td>None</td>\n",
              "      <td>None</td>\n",
              "      <td>None</td>\n",
              "      <td>None</td>\n",
              "      <td>None</td>\n",
              "      <td>None</td>\n",
              "      <td>None</td>\n",
              "      <td>None</td>\n",
              "      <td>None</td>\n",
              "      <td>None</td>\n",
              "      <td>None</td>\n",
              "      <td>None</td>\n",
              "      <td>None</td>\n",
              "      <td>None</td>\n",
              "      <td>None</td>\n",
              "      <td>None</td>\n",
              "      <td>None</td>\n",
              "      <td>None</td>\n",
              "      <td>None</td>\n",
              "      <td>None</td>\n",
              "      <td>None</td>\n",
              "      <td>None</td>\n",
              "      <td>None</td>\n",
              "      <td>None</td>\n",
              "      <td>None</td>\n",
              "      <td>None</td>\n",
              "      <td>None</td>\n",
              "      <td>None</td>\n",
              "      <td>None</td>\n",
              "      <td>{E05E1267-5661-405D-94EE-613D8239198D}</td>\n",
              "      <td>MULTIPOINT (-81.67477 34.49325)</td>\n",
              "    </tr>\n",
              "    <tr>\n",
              "      <th>2</th>\n",
              "      <td>3</td>\n",
              "      <td>{ea5304a8-04ea-089a-11f9-2c4dc0766643}</td>\n",
              "      <td>{B5FB99AA-DBB5-802E-E053-FEDD43862C34}</td>\n",
              "      <td>HI</td>\n",
              "      <td>09</td>\n",
              "      <td>21HI</td>\n",
              "      <td>State</td>\n",
              "      <td>Y</td>\n",
              "      <td>Hawaii</td>\n",
              "      <td>2020</td>\n",
              "      <td>HI167153</td>\n",
              "      <td>Puamana Beach Co. Park</td>\n",
              "      <td>https://mywaterway.epa.gov/waterbody-report/21...</td>\n",
              "      <td>{B5FB99A7-834D-802E-E053-FEDD43862C34}</td>\n",
              "      <td>2</td>\n",
              "      <td>Fully Supporting</td>\n",
              "      <td>Y</td>\n",
              "      <td>N</td>\n",
              "      <td>N</td>\n",
              "      <td>N</td>\n",
              "      <td>N</td>\n",
              "      <td>N</td>\n",
              "      <td>N</td>\n",
              "      <td>None</td>\n",
              "      <td>Not Assessed</td>\n",
              "      <td>None</td>\n",
              "      <td>Fully Supporting</td>\n",
              "      <td>None</td>\n",
              "      <td>None</td>\n",
              "      <td>None</td>\n",
              "      <td>None</td>\n",
              "      <td>None</td>\n",
              "      <td>None</td>\n",
              "      <td>None</td>\n",
              "      <td>None</td>\n",
              "      <td>None</td>\n",
              "      <td>None</td>\n",
              "      <td>None</td>\n",
              "      <td>None</td>\n",
              "      <td>None</td>\n",
              "      <td>None</td>\n",
              "      <td>None</td>\n",
              "      <td>None</td>\n",
              "      <td>None</td>\n",
              "      <td>None</td>\n",
              "      <td>None</td>\n",
              "      <td>None</td>\n",
              "      <td>None</td>\n",
              "      <td>None</td>\n",
              "      <td>None</td>\n",
              "      <td>None</td>\n",
              "      <td>None</td>\n",
              "      <td>None</td>\n",
              "      <td>None</td>\n",
              "      <td>None</td>\n",
              "      <td>None</td>\n",
              "      <td>None</td>\n",
              "      <td>None</td>\n",
              "      <td>None</td>\n",
              "      <td>None</td>\n",
              "      <td>None</td>\n",
              "      <td>None</td>\n",
              "      <td>None</td>\n",
              "      <td>{21FF59F9-AABC-49B8-A5D6-9A0455150934}</td>\n",
              "      <td>MULTIPOINT (-156.67573 20.97868)</td>\n",
              "    </tr>\n",
              "    <tr>\n",
              "      <th>3</th>\n",
              "      <td>4</td>\n",
              "      <td>{1b6f8338-ce5b-b915-b4eb-9a7c84157ddc}</td>\n",
              "      <td>{B5FB99AA-DBB7-802E-E053-FEDD43862C34}</td>\n",
              "      <td>SC</td>\n",
              "      <td>04</td>\n",
              "      <td>21SC60WQ</td>\n",
              "      <td>State</td>\n",
              "      <td>Y</td>\n",
              "      <td>South Carolina</td>\n",
              "      <td>2016</td>\n",
              "      <td>SCMD-273</td>\n",
              "      <td>MD-273</td>\n",
              "      <td>https://mywaterway.epa.gov/waterbody-report/21...</td>\n",
              "      <td>{B5FB99A7-83E5-802E-E053-FEDD43862C34}</td>\n",
              "      <td>1</td>\n",
              "      <td>Fully Supporting</td>\n",
              "      <td>Y</td>\n",
              "      <td>N</td>\n",
              "      <td>N</td>\n",
              "      <td>N</td>\n",
              "      <td>N</td>\n",
              "      <td>N</td>\n",
              "      <td>N</td>\n",
              "      <td>None</td>\n",
              "      <td>Fully Supporting</td>\n",
              "      <td>None</td>\n",
              "      <td>Fully Supporting</td>\n",
              "      <td>None</td>\n",
              "      <td>None</td>\n",
              "      <td>None</td>\n",
              "      <td>None</td>\n",
              "      <td>None</td>\n",
              "      <td>None</td>\n",
              "      <td>None</td>\n",
              "      <td>None</td>\n",
              "      <td>None</td>\n",
              "      <td>None</td>\n",
              "      <td>None</td>\n",
              "      <td>None</td>\n",
              "      <td>None</td>\n",
              "      <td>None</td>\n",
              "      <td>None</td>\n",
              "      <td>None</td>\n",
              "      <td>None</td>\n",
              "      <td>None</td>\n",
              "      <td>None</td>\n",
              "      <td>None</td>\n",
              "      <td>None</td>\n",
              "      <td>None</td>\n",
              "      <td>None</td>\n",
              "      <td>None</td>\n",
              "      <td>None</td>\n",
              "      <td>None</td>\n",
              "      <td>None</td>\n",
              "      <td>None</td>\n",
              "      <td>None</td>\n",
              "      <td>None</td>\n",
              "      <td>None</td>\n",
              "      <td>None</td>\n",
              "      <td>None</td>\n",
              "      <td>None</td>\n",
              "      <td>None</td>\n",
              "      <td>None</td>\n",
              "      <td>{9CA030FC-AF17-48A9-9D07-1D5F8230FDD7}</td>\n",
              "      <td>MULTIPOINT (-80.12743 32.60801)</td>\n",
              "    </tr>\n",
              "    <tr>\n",
              "      <th>4</th>\n",
              "      <td>5</td>\n",
              "      <td>{1b6f8338-ce5b-b915-b4eb-9a7c84157ddc}</td>\n",
              "      <td>{B5FB99AA-DBB8-802E-E053-FEDD43862C34}</td>\n",
              "      <td>SC</td>\n",
              "      <td>04</td>\n",
              "      <td>21SC60WQ</td>\n",
              "      <td>State</td>\n",
              "      <td>Y</td>\n",
              "      <td>South Carolina</td>\n",
              "      <td>2016</td>\n",
              "      <td>SC05-02</td>\n",
              "      <td>05-02</td>\n",
              "      <td>https://mywaterway.epa.gov/waterbody-report/21...</td>\n",
              "      <td>{B5FB99A7-83E6-802E-E053-FEDD43862C34}</td>\n",
              "      <td>1</td>\n",
              "      <td>Fully Supporting</td>\n",
              "      <td>Y</td>\n",
              "      <td>N</td>\n",
              "      <td>N</td>\n",
              "      <td>N</td>\n",
              "      <td>N</td>\n",
              "      <td>N</td>\n",
              "      <td>N</td>\n",
              "      <td>None</td>\n",
              "      <td>None</td>\n",
              "      <td>Fully Supporting</td>\n",
              "      <td>None</td>\n",
              "      <td>None</td>\n",
              "      <td>None</td>\n",
              "      <td>None</td>\n",
              "      <td>None</td>\n",
              "      <td>None</td>\n",
              "      <td>None</td>\n",
              "      <td>None</td>\n",
              "      <td>None</td>\n",
              "      <td>None</td>\n",
              "      <td>None</td>\n",
              "      <td>None</td>\n",
              "      <td>None</td>\n",
              "      <td>None</td>\n",
              "      <td>None</td>\n",
              "      <td>None</td>\n",
              "      <td>None</td>\n",
              "      <td>None</td>\n",
              "      <td>None</td>\n",
              "      <td>None</td>\n",
              "      <td>None</td>\n",
              "      <td>None</td>\n",
              "      <td>None</td>\n",
              "      <td>None</td>\n",
              "      <td>None</td>\n",
              "      <td>None</td>\n",
              "      <td>None</td>\n",
              "      <td>None</td>\n",
              "      <td>None</td>\n",
              "      <td>None</td>\n",
              "      <td>None</td>\n",
              "      <td>None</td>\n",
              "      <td>None</td>\n",
              "      <td>None</td>\n",
              "      <td>None</td>\n",
              "      <td>None</td>\n",
              "      <td>None</td>\n",
              "      <td>{2214E7E0-953F-4175-9116-311079BA1622}</td>\n",
              "      <td>MULTIPOINT (-79.18339 33.30089)</td>\n",
              "    </tr>\n",
              "  </tbody>\n",
              "</table>\n",
              "</div>"
            ],
            "text/plain": [
              "   OBJECTID  ...                          geometry\n",
              "0         1  ...  MULTIPOINT (-155.11961 19.88190)\n",
              "1         2  ...   MULTIPOINT (-81.67477 34.49325)\n",
              "2         3  ...  MULTIPOINT (-156.67573 20.97868)\n",
              "3         4  ...   MULTIPOINT (-80.12743 32.60801)\n",
              "4         5  ...   MULTIPOINT (-79.18339 33.30089)\n",
              "\n",
              "[5 rows x 65 columns]"
            ]
          },
          "metadata": {
            "tags": []
          },
          "execution_count": 12
        }
      ]
    },
    {
      "cell_type": "markdown",
      "metadata": {
        "id": "pb4o8LYeTr71"
      },
      "source": [
        "## APPENDICIES"
      ]
    },
    {
      "cell_type": "markdown",
      "metadata": {
        "id": "PJt1exdmSOuu"
      },
      "source": [
        "## Geopandas Libraries Install"
      ]
    },
    {
      "cell_type": "code",
      "metadata": {
        "id": "ksPdAXkySC2p"
      },
      "source": [
        "# Install and load libraries, may be able to remove some uneeded libraries\r\n",
        "%%time \r\n",
        "!pip install bmi-arcgis-restapi\r\n",
        "\r\n",
        "!apt install gdal-bin python-gdal python3-gdal \r\n",
        "!apt install python3-rtree \r\n",
        "!pip install git+git://github.com/geopandas/geopandas.git\r\n",
        "!pip install descartes \r\n",
        "!pip install folium\r\n",
        "!pip install pygeos\r\n",
        "!pip install arcgis\r\n",
        "!pip install contextily\r\n",
        "!pip install xlsxwriter\r\n",
        "import restapi\r\n",
        "from pathlib import Path\r\n",
        "import sys\r\n",
        "import os\r\n",
        "from zipfile import ZipFile\r\n",
        "import datetime as dt\r\n",
        "import requests\r\n",
        "import pandas as pd\r\n",
        "import numpy as np\r\n",
        "import geopandas as gpd\r\n",
        "from shapely.geometry import Point\r\n",
        "import matplotlib\r\n",
        "import matplotlib.pyplot as plt \r\n",
        "import folium\r\n",
        "from IPython.display import display\r\n",
        "import contextily as ctx\r\n",
        "from IPython.display import Image\r\n",
        "from IPython.display import Markdown as md"
      ],
      "execution_count": null,
      "outputs": []
    }
  ]
}