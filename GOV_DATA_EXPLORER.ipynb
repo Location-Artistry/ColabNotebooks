{
  "nbformat": 4,
  "nbformat_minor": 0,
  "metadata": {
    "colab": {
      "name": "GOV-DATA-EXPLORER.ipynb",
      "provenance": [],
      "collapsed_sections": [
        "PJt1exdmSOuu"
      ],
      "toc_visible": true,
      "authorship_tag": "ABX9TyOnUbvfW7KqEoKiqEymOHoo",
      "include_colab_link": true
    },
    "kernelspec": {
      "name": "python3",
      "display_name": "Python 3"
    },
    "accelerator": "GPU"
  },
  "cells": [
    {
      "cell_type": "markdown",
      "metadata": {
        "id": "view-in-github",
        "colab_type": "text"
      },
      "source": [
        "<a href=\"https://colab.research.google.com/github/Location-Artistry/ColabNotebooks/blob/master/GOV_DATA_EXPLORER.ipynb\" target=\"_parent\"><img src=\"https://colab.research.google.com/assets/colab-badge.svg\" alt=\"Open In Colab\"/></a>"
      ]
    },
    {
      "cell_type": "markdown",
      "metadata": {
        "id": "Ik4VOc4bSnfL"
      },
      "source": [
        "# EPA/EGLE Geo Data Explorer\r\n",
        "## Working with ArcREST Endpoints from EPA ATTAINS and EGLE for Geo and Enviro Data   \r\n",
        "### Read AGOL Data into GeoPandas, analyze and visualize with mapping libraries"
      ]
    },
    {
      "cell_type": "markdown",
      "metadata": {
        "id": "M55TkG3XWUAs"
      },
      "source": [
        "## Create New MapServer Class\r\n",
        "Supplemental library for exploring ArcGIS Online and Server hosted layers.  ArcGIS Python API has challenges accessing this data.  arcgis-restapi gives us the ability to get information about the MapServer Services and will use arcPy if possible, then use open source libraries:   \r\n",
        " 'Python API for working with ArcGIS REST API, ArcGIS Online, and Portal/ArcGIS Enterprise.'    \r\n",
        " https://github.com/Bolton-and-Menk-GIS/restapi"
      ]
    },
    {
      "cell_type": "code",
      "metadata": {
        "id": "NFmWXjF0XaQg"
      },
      "source": [
        "!pip install bmi-arcgis-restapi\r\n",
        "import restapi"
      ],
      "execution_count": null,
      "outputs": []
    },
    {
      "cell_type": "code",
      "metadata": {
        "id": "Ubrx6Q9WETnv",
        "colab": {
          "base_uri": "https://localhost:8080/"
        },
        "outputId": "42bddfd0-4d20-4ad4-cd77-2825a3f270bb"
      },
      "source": [
        "#!pip install hanging_threads\n",
        "#from hanging_threads import start_monitoring\n",
        "#monitoring_thread = start_monitoring()\n",
        "#monitoring_thread.is_stopped()"
      ],
      "execution_count": null,
      "outputs": [
        {
          "output_type": "execute_result",
          "data": {
            "text/plain": [
              "True"
            ]
          },
          "metadata": {
            "tags": []
          },
          "execution_count": 79
        }
      ]
    },
    {
      "cell_type": "code",
      "metadata": {
        "id": "r_I0qw3ztYtU"
      },
      "source": [
        "from IPython.display import clear_output"
      ],
      "execution_count": 268,
      "outputs": []
    },
    {
      "cell_type": "code",
      "metadata": {
        "id": "KraQcHhof8dp"
      },
      "source": [
        "class mapServer:\r\n",
        "  # Class creates a MapServer object from the bmi-arcgis-restapi library\r\n",
        "  # self.ags = instance of ArcServer object\r\n",
        "  def __init__(self, url): \r\n",
        "    self.ags = restapi.ArcServer(url)\r\n",
        "    self.url = url\r\n",
        "    display('MAPSERVER OBJECT CREATED', self.ags)\r\n",
        "  # getServices displays and returns list of all services\r\n",
        "  def getServices(self):\r\n",
        "    for i, service in enumerate(self.ags.services):\r\n",
        "      display(f'{i} - Service Name: {service.name} -  Service Type: {service.type}')\r\n",
        "    return self.ags.services \r\n",
        "  # getFolders displays and returns list of all folders\r\n",
        "  def getFolders(self):\r\n",
        "    for i, folder in enumerate(self.ags.folders):\r\n",
        "      display(f'{i} - Folder: {folder}') \r\n",
        "    return self.ags.folders\r\n",
        "  # services may be nested under folders, return all services in folders\r\n",
        "  def getNestedServices(self):\r\n",
        "    for i, folder in enumerate(self.ags.folders):\r\n",
        "      display(f'{i} - Folder: {folder}')\r\n",
        "      ags = restapi.ArcServer(f'{self.ags.url}/{folder}')\r\n",
        "      for z, service in enumerate(ags.services):\r\n",
        "        display(f'   {z} - Service Name: {service.name} -  Service Type: {service.type}')\r\n",
        "  # list all atrributes for MapServer Object\r\n",
        "  def getAttr(self):\r\n",
        "    for attribute in dir(self.ags):\r\n",
        "      display(f'Attribute Names: {attribute} - {self.ags[attribute]}')\r\n",
        "  def listAttr(self):\r\n",
        "    return dir(self.ags)\r\n",
        "  # get subservice folder\r\n",
        "  # working to create mapService from this function\r\n",
        "  def getSubService(self, rootServer=0):\r\n",
        "    # monitoring_thread = start_monitoring()\r\n",
        "    folders = self.getFolders()\r\n",
        "    services = self.getServices()\r\n",
        "    if not folders:\r\n",
        "      fID = int(input(f'Select index of subservice: '))\r\n",
        "      serviceURL = services[fID].name\r\n",
        "      subService = self.getService(serviceURL)\r\n",
        "      return subService\r\n",
        "    else:\r\n",
        "      fID = int(input(f'Select index of subservice folder: '))\r\n",
        "      serviceURL = (f'{self.url}/{folders[fID]}')\r\n",
        "      subFolder = mapServer(serviceURL)\r\n",
        "      subServices = subFolder.getServices()\r\n",
        "      fID = int(input(f'Select index of subservice: '))\r\n",
        "      serviceName = subServices[fID].name\r\n",
        "      subService = mapService(self, serviceName)\r\n",
        "      return subService\r\n",
        "\r\n",
        "class mapService:\r\n",
        "  # Class creates a <-MapService object-> from the bmi-arcgis-restapi library\r\n",
        "  def __init__(self, server, servName): \r\n",
        "    self.ags = server.ags.getService(servName)\r\n",
        "    #self.url = url\r\n",
        "    display(f'MAPSERVICE OBJECT CREATED - {self.ags.url}')\r\n",
        "  def getAttr(self):\r\n",
        "    for attribute in dir(self.ags):\r\n",
        "      display(f'Attribute Names: {attribute} - {self.ags[attribute]}')\r\n",
        "  def listAttr(self):\r\n",
        "    return dir(self.ags)\r\n",
        "  def desc(self):\r\n",
        "    return self.ags.description\r\n",
        "  def spatialRef(self):\r\n",
        "    return self.ags.spatialReference\r\n",
        "  def units(self):\r\n",
        "    return self.ags.units\r\n",
        "  def layers(self):\r\n",
        "    return self.ags.list_layers()\r\n",
        "  def tables(self):\r\n",
        "    return self.ags.list_tables()\r\n",
        "  def getLayer(self):\r\n",
        "    for i, lay in enumerate(self.ags.layers):\r\n",
        "      display(f'{i} - {lay.name}')\r\n",
        "    layers = self.layers()\r\n",
        "    fID = int(input(f'Select index of Layer: '))\r\n",
        "    layerObj = newLayer(self, layers[fID])\r\n",
        "    return layerObj\r\n",
        "\r\n",
        "class newLayer:\r\n",
        "    # Class creates a <-Layer object-> from the bmi-arcgis-restapi library\r\n",
        "  def __init__(self, service, lyrName): \r\n",
        "    self.lyr = service.ags.layer(lyrName)\r\n",
        "    display(f'LAYER CREATED - {self.lyr.name} - id: {self.lyr.id} - url: {self.lyr.url}')\r\n",
        "  def getInfo(self):\r\n",
        "    display(f'{self.lyr.name} - subLayers: {self.lyr.subLayers} - capabilities: {self.lyr.capabilities} - query formats: {self.lyr.supportedQueryFormats} - count: {self.lyr.getCount()}')\r\n"
      ],
      "execution_count": 269,
      "outputs": []
    },
    {
      "cell_type": "markdown",
      "metadata": {
        "id": "WMQU31zwnwnT"
      },
      "source": [
        "## Entire Workflow for newly created Arc Server Workflow using bmi-arcgis-restapi\r\n",
        "\r\n",
        "\r\n",
        "1.   Create MapServer with Server root url\r\n",
        "2.   Derive specified MapService from root MapServer Object\r\n",
        "3.   Generate layer from specific specified MapService Endpoint\r\n",
        "\r\n"
      ]
    },
    {
      "cell_type": "code",
      "metadata": {
        "colab": {
          "base_uri": "https://localhost:8080/",
          "height": 53
        },
        "id": "sar2hWjEcrsa",
        "outputId": "e35a0cae-ce51-49ba-a8e2-33f77c6ef523"
      },
      "source": [
        "# 1 - Create MapServer with Server root url\r\n",
        "rest_url = 'https://gispub.epa.gov/arcgis/rest/services'\r\n",
        "SERVER = mapServer(rest_url)"
      ],
      "execution_count": 270,
      "outputs": [
        {
          "output_type": "display_data",
          "data": {
            "application/vnd.google.colaboratory.intrinsic+json": {
              "type": "string"
            },
            "text/plain": [
              "'MAPSERVER OBJECT CREATED'"
            ]
          },
          "metadata": {
            "tags": []
          }
        },
        {
          "output_type": "display_data",
          "data": {
            "text/plain": [
              "<ArcServer: \"gispub.epa.gov\" (\"arcgis\")>"
            ]
          },
          "metadata": {
            "tags": []
          }
        }
      ]
    },
    {
      "cell_type": "code",
      "metadata": {
        "colab": {
          "base_uri": "https://localhost:8080/",
          "height": 629
        },
        "id": "YBMIT-dSoR2H",
        "outputId": "e7678124-e7b2-4a44-d80c-2444fecb8064"
      },
      "source": [
        "# 2 - Derive specified MapService from root MapServer Object\r\n",
        "subServer = SERVER.getSubService()"
      ],
      "execution_count": 271,
      "outputs": [
        {
          "output_type": "display_data",
          "data": {
            "application/vnd.google.colaboratory.intrinsic+json": {
              "type": "string"
            },
            "text/plain": [
              "'0 - Folder: AgSTAR'"
            ]
          },
          "metadata": {
            "tags": []
          }
        },
        {
          "output_type": "display_data",
          "data": {
            "application/vnd.google.colaboratory.intrinsic+json": {
              "type": "string"
            },
            "text/plain": [
              "'1 - Folder: ER_Harvey'"
            ]
          },
          "metadata": {
            "tags": []
          }
        },
        {
          "output_type": "display_data",
          "data": {
            "application/vnd.google.colaboratory.intrinsic+json": {
              "type": "string"
            },
            "text/plain": [
              "'2 - Folder: monitor'"
            ]
          },
          "metadata": {
            "tags": []
          }
        },
        {
          "output_type": "display_data",
          "data": {
            "application/vnd.google.colaboratory.intrinsic+json": {
              "type": "string"
            },
            "text/plain": [
              "'3 - Folder: NELP'"
            ]
          },
          "metadata": {
            "tags": []
          }
        },
        {
          "output_type": "display_data",
          "data": {
            "application/vnd.google.colaboratory.intrinsic+json": {
              "type": "string"
            },
            "text/plain": [
              "'4 - Folder: NPDAT'"
            ]
          },
          "metadata": {
            "tags": []
          }
        },
        {
          "output_type": "display_data",
          "data": {
            "application/vnd.google.colaboratory.intrinsic+json": {
              "type": "string"
            },
            "text/plain": [
              "'5 - Folder: OA'"
            ]
          },
          "metadata": {
            "tags": []
          }
        },
        {
          "output_type": "display_data",
          "data": {
            "application/vnd.google.colaboratory.intrinsic+json": {
              "type": "string"
            },
            "text/plain": [
              "'6 - Folder: OAR'"
            ]
          },
          "metadata": {
            "tags": []
          }
        },
        {
          "output_type": "display_data",
          "data": {
            "application/vnd.google.colaboratory.intrinsic+json": {
              "type": "string"
            },
            "text/plain": [
              "'7 - Folder: OAR_OAP'"
            ]
          },
          "metadata": {
            "tags": []
          }
        },
        {
          "output_type": "display_data",
          "data": {
            "application/vnd.google.colaboratory.intrinsic+json": {
              "type": "string"
            },
            "text/plain": [
              "'8 - Folder: OAR_OAQPS'"
            ]
          },
          "metadata": {
            "tags": []
          }
        },
        {
          "output_type": "display_data",
          "data": {
            "application/vnd.google.colaboratory.intrinsic+json": {
              "type": "string"
            },
            "text/plain": [
              "'9 - Folder: OECA'"
            ]
          },
          "metadata": {
            "tags": []
          }
        },
        {
          "output_type": "display_data",
          "data": {
            "application/vnd.google.colaboratory.intrinsic+json": {
              "type": "string"
            },
            "text/plain": [
              "'10 - Folder: OEI'"
            ]
          },
          "metadata": {
            "tags": []
          }
        },
        {
          "output_type": "display_data",
          "data": {
            "application/vnd.google.colaboratory.intrinsic+json": {
              "type": "string"
            },
            "text/plain": [
              "'11 - Folder: ORD'"
            ]
          },
          "metadata": {
            "tags": []
          }
        },
        {
          "output_type": "display_data",
          "data": {
            "application/vnd.google.colaboratory.intrinsic+json": {
              "type": "string"
            },
            "text/plain": [
              "'12 - Folder: OSWER'"
            ]
          },
          "metadata": {
            "tags": []
          }
        },
        {
          "output_type": "display_data",
          "data": {
            "application/vnd.google.colaboratory.intrinsic+json": {
              "type": "string"
            },
            "text/plain": [
              "'13 - Folder: OW'"
            ]
          },
          "metadata": {
            "tags": []
          }
        },
        {
          "output_type": "display_data",
          "data": {
            "application/vnd.google.colaboratory.intrinsic+json": {
              "type": "string"
            },
            "text/plain": [
              "'14 - Folder: PrintTools'"
            ]
          },
          "metadata": {
            "tags": []
          }
        },
        {
          "output_type": "display_data",
          "data": {
            "application/vnd.google.colaboratory.intrinsic+json": {
              "type": "string"
            },
            "text/plain": [
              "'15 - Folder: R1'"
            ]
          },
          "metadata": {
            "tags": []
          }
        },
        {
          "output_type": "display_data",
          "data": {
            "application/vnd.google.colaboratory.intrinsic+json": {
              "type": "string"
            },
            "text/plain": [
              "'16 - Folder: R10'"
            ]
          },
          "metadata": {
            "tags": []
          }
        },
        {
          "output_type": "display_data",
          "data": {
            "application/vnd.google.colaboratory.intrinsic+json": {
              "type": "string"
            },
            "text/plain": [
              "'17 - Folder: R1AUL'"
            ]
          },
          "metadata": {
            "tags": []
          }
        },
        {
          "output_type": "display_data",
          "data": {
            "application/vnd.google.colaboratory.intrinsic+json": {
              "type": "string"
            },
            "text/plain": [
              "'18 - Folder: r4'"
            ]
          },
          "metadata": {
            "tags": []
          }
        },
        {
          "output_type": "display_data",
          "data": {
            "application/vnd.google.colaboratory.intrinsic+json": {
              "type": "string"
            },
            "text/plain": [
              "'19 - Folder: r6'"
            ]
          },
          "metadata": {
            "tags": []
          }
        },
        {
          "output_type": "display_data",
          "data": {
            "application/vnd.google.colaboratory.intrinsic+json": {
              "type": "string"
            },
            "text/plain": [
              "'20 - Folder: r7'"
            ]
          },
          "metadata": {
            "tags": []
          }
        },
        {
          "output_type": "display_data",
          "data": {
            "application/vnd.google.colaboratory.intrinsic+json": {
              "type": "string"
            },
            "text/plain": [
              "'21 - Folder: R9MarineDebris'"
            ]
          },
          "metadata": {
            "tags": []
          }
        },
        {
          "output_type": "display_data",
          "data": {
            "application/vnd.google.colaboratory.intrinsic+json": {
              "type": "string"
            },
            "text/plain": [
              "'22 - Folder: R9Watersheds'"
            ]
          },
          "metadata": {
            "tags": []
          }
        },
        {
          "output_type": "display_data",
          "data": {
            "application/vnd.google.colaboratory.intrinsic+json": {
              "type": "string"
            },
            "text/plain": [
              "'23 - Folder: Region9'"
            ]
          },
          "metadata": {
            "tags": []
          }
        },
        {
          "output_type": "display_data",
          "data": {
            "application/vnd.google.colaboratory.intrinsic+json": {
              "type": "string"
            },
            "text/plain": [
              "'24 - Folder: SFBayWQIF'"
            ]
          },
          "metadata": {
            "tags": []
          }
        },
        {
          "output_type": "display_data",
          "data": {
            "application/vnd.google.colaboratory.intrinsic+json": {
              "type": "string"
            },
            "text/plain": [
              "'25 - Folder: Utilities'"
            ]
          },
          "metadata": {
            "tags": []
          }
        },
        {
          "output_type": "display_data",
          "data": {
            "application/vnd.google.colaboratory.intrinsic+json": {
              "type": "string"
            },
            "text/plain": [
              "'0 - Service Name: SampleWorldCities -  Service Type: MapServer'"
            ]
          },
          "metadata": {
            "tags": []
          }
        },
        {
          "output_type": "stream",
          "text": [
            "Select index of subservice folder: 13\n"
          ],
          "name": "stdout"
        },
        {
          "output_type": "display_data",
          "data": {
            "application/vnd.google.colaboratory.intrinsic+json": {
              "type": "string"
            },
            "text/plain": [
              "'MAPSERVER OBJECT CREATED'"
            ]
          },
          "metadata": {
            "tags": []
          }
        },
        {
          "output_type": "display_data",
          "data": {
            "text/plain": [
              "<ArcServer: \"gispub.epa.gov\" (\"arcgis\")>"
            ]
          },
          "metadata": {
            "tags": []
          }
        },
        {
          "output_type": "display_data",
          "data": {
            "application/vnd.google.colaboratory.intrinsic+json": {
              "type": "string"
            },
            "text/plain": [
              "'0 - Service Name: OW/AquaticNuisanceSpeciesLocator -  Service Type: MapServer'"
            ]
          },
          "metadata": {
            "tags": []
          }
        },
        {
          "output_type": "display_data",
          "data": {
            "application/vnd.google.colaboratory.intrinsic+json": {
              "type": "string"
            },
            "text/plain": [
              "'1 - Service Name: OW/ATTAINS_Assessment -  Service Type: MapServer'"
            ]
          },
          "metadata": {
            "tags": []
          }
        },
        {
          "output_type": "stream",
          "text": [
            "Select index of subservice: 1\n"
          ],
          "name": "stdout"
        },
        {
          "output_type": "display_data",
          "data": {
            "application/vnd.google.colaboratory.intrinsic+json": {
              "type": "string"
            },
            "text/plain": [
              "'MAPSERVICE OBJECT CREATED - https://gispub.epa.gov/arcgis/rest/services/OW/ATTAINS_Assessment/MapServer'"
            ]
          },
          "metadata": {
            "tags": []
          }
        }
      ]
    },
    {
      "cell_type": "code",
      "metadata": {
        "colab": {
          "base_uri": "https://localhost:8080/",
          "height": 125
        },
        "id": "3y7AQ9KJoi3R",
        "outputId": "ee20b2c4-48ad-44f8-dd02-bc3f453af695"
      },
      "source": [
        "# 3 - Generate layer from specific specified MapService Endpoint\r\n",
        "layerSer = subServer.getLayer()"
      ],
      "execution_count": 272,
      "outputs": [
        {
          "output_type": "display_data",
          "data": {
            "application/vnd.google.colaboratory.intrinsic+json": {
              "type": "string"
            },
            "text/plain": [
              "'0 - ATTAINS Assessment Points'"
            ]
          },
          "metadata": {
            "tags": []
          }
        },
        {
          "output_type": "display_data",
          "data": {
            "application/vnd.google.colaboratory.intrinsic+json": {
              "type": "string"
            },
            "text/plain": [
              "'1 - ATTAINS Assessment Lines'"
            ]
          },
          "metadata": {
            "tags": []
          }
        },
        {
          "output_type": "display_data",
          "data": {
            "application/vnd.google.colaboratory.intrinsic+json": {
              "type": "string"
            },
            "text/plain": [
              "'2 - ATTAINS Assessment Areas'"
            ]
          },
          "metadata": {
            "tags": []
          }
        },
        {
          "output_type": "display_data",
          "data": {
            "application/vnd.google.colaboratory.intrinsic+json": {
              "type": "string"
            },
            "text/plain": [
              "'3 - ATTAINS Assessment Unit Catchment Associations'"
            ]
          },
          "metadata": {
            "tags": []
          }
        },
        {
          "output_type": "stream",
          "text": [
            "Select index of Layer: 0\n"
          ],
          "name": "stdout"
        },
        {
          "output_type": "display_data",
          "data": {
            "application/vnd.google.colaboratory.intrinsic+json": {
              "type": "string"
            },
            "text/plain": [
              "'LAYER CREATED - ATTAINS Assessment Points - id: 0 - url: https://gispub.epa.gov/arcgis/rest/services/OW/ATTAINS_Assessment/MapServer/0'"
            ]
          },
          "metadata": {
            "tags": []
          }
        }
      ]
    },
    {
      "cell_type": "code",
      "metadata": {
        "colab": {
          "base_uri": "https://localhost:8080/",
          "height": 35
        },
        "id": "bxodky_lmqcI",
        "outputId": "190107ae-5c17-4134-b728-e4d5ccd52691"
      },
      "source": [
        "layerSer.getInfo()"
      ],
      "execution_count": 273,
      "outputs": [
        {
          "output_type": "display_data",
          "data": {
            "application/vnd.google.colaboratory.intrinsic+json": {
              "type": "string"
            },
            "text/plain": [
              "'ATTAINS Assessment Points - subLayers: [] - capabilities: Map,Query,Data - query formats: JSON, geoJSON, PBF - count: 4022'"
            ]
          },
          "metadata": {
            "tags": []
          }
        }
      ]
    },
    {
      "cell_type": "markdown",
      "metadata": {
        "id": "a9Uh8-bhpq7r"
      },
      "source": [
        "### Separate section using GeoPandas to read in the data directly from the ArcREST Endpoint"
      ]
    },
    {
      "cell_type": "code",
      "metadata": {
        "id": "mU3_xsprWL0v"
      },
      "source": [
        "epaURL = 'https://gispub.epa.gov/arcgis/rest/services/OW/ATTAINS_Assessment/MapServer/0/query?f=geojson&where=1=1&outFields=*'\r\n",
        "gdfEPA = gpd.read_file(epaURL)\r\n",
        "gdfEPA.describe"
      ],
      "execution_count": null,
      "outputs": []
    },
    {
      "cell_type": "markdown",
      "metadata": {
        "id": "yuAoTM9ZXCTU"
      },
      "source": [
        "## Older working section"
      ]
    },
    {
      "cell_type": "code",
      "metadata": {
        "colab": {
          "base_uri": "https://localhost:8080/",
          "height": 52
        },
        "id": "Or6YHjj7_Wg6",
        "outputId": "843d12c1-8314-4976-c01b-5b3a171ed368"
      },
      "source": [
        "# base url for USEPA Office of Water MapServer: OW \r\n",
        "EPAurl = 'https://gispub.epa.gov/arcgis/rest/services'\r\n",
        "OWurl = (f'{EPAurl}/{folders[14]}')\r\n",
        "OW = mapServer(OWurl)"
      ],
      "execution_count": null,
      "outputs": [
        {
          "output_type": "display_data",
          "data": {
            "application/vnd.google.colaboratory.intrinsic+json": {
              "type": "string"
            },
            "text/plain": [
              "'MAPSERVER OBJECT CREATED'"
            ]
          },
          "metadata": {
            "tags": []
          }
        },
        {
          "output_type": "display_data",
          "data": {
            "text/plain": [
              "<ArcServer: \"gispub.epa.gov\" (\"arcgis\")>"
            ]
          },
          "metadata": {
            "tags": []
          }
        }
      ]
    },
    {
      "cell_type": "code",
      "metadata": {
        "colab": {
          "base_uri": "https://localhost:8080/",
          "height": 53
        },
        "id": "xeuFDsHxyaCd",
        "outputId": "94fbd9c0-ce1f-4817-8ba1-2dae66a5e465"
      },
      "source": [
        "services = OW.getServices()"
      ],
      "execution_count": null,
      "outputs": [
        {
          "output_type": "display_data",
          "data": {
            "application/vnd.google.colaboratory.intrinsic+json": {
              "type": "string"
            },
            "text/plain": [
              "'0 - Service Name: OW/AquaticNuisanceSpeciesLocator -  Service Type: MapServer'"
            ]
          },
          "metadata": {
            "tags": []
          }
        },
        {
          "output_type": "display_data",
          "data": {
            "application/vnd.google.colaboratory.intrinsic+json": {
              "type": "string"
            },
            "text/plain": [
              "'1 - Service Name: OW/ATTAINS_Assessment -  Service Type: MapServer'"
            ]
          },
          "metadata": {
            "tags": []
          }
        }
      ]
    },
    {
      "cell_type": "code",
      "metadata": {
        "id": "TYgSe7Uv5WM7"
      },
      "source": [
        "# OW/ATTAINS_Assessment\r\n",
        "ATTAINS = EPA.ags.getService('OW/ATTAINS_Assessment')\r\n",
        "#print(serviceInfo.url)"
      ],
      "execution_count": null,
      "outputs": []
    },
    {
      "cell_type": "code",
      "metadata": {
        "colab": {
          "base_uri": "https://localhost:8080/"
        },
        "id": "TYrdGVs0DFsS",
        "outputId": "b6fdcd99-f719-4fa9-870e-de040695b048"
      },
      "source": [
        "ATTAINS.list_layers()"
      ],
      "execution_count": null,
      "outputs": [
        {
          "output_type": "execute_result",
          "data": {
            "text/plain": [
              "['ATTAINS Assessment Points',\n",
              " 'ATTAINS Assessment Lines',\n",
              " 'ATTAINS Assessment Areas',\n",
              " 'ATTAINS Assessment Unit Catchment Associations']"
            ]
          },
          "metadata": {
            "tags": []
          },
          "execution_count": 335
        }
      ]
    },
    {
      "cell_type": "code",
      "metadata": {
        "id": "DeUp527mDz1l"
      },
      "source": [
        "lyr = ATTAINS.layer('ATTAINS Assessment Points')"
      ],
      "execution_count": null,
      "outputs": []
    },
    {
      "cell_type": "code",
      "metadata": {
        "colab": {
          "base_uri": "https://localhost:8080/"
        },
        "id": "_SfatN35D9UQ",
        "outputId": "14e81f46-340c-4958-a2c9-62f34547efa6"
      },
      "source": [
        "print(lyr.list_fields())"
      ],
      "execution_count": null,
      "outputs": [
        {
          "output_type": "stream",
          "text": [
            "['OBJECTID', 'Shape', 'submissionid', 'permid_joinkey', 'state', 'region', 'organizationid', 'orgtype', 'tas303d', 'organizationname', 'reportingcycle', 'assessmentunitidentifier', 'assessmentunitname', 'waterbodyreportlink', 'assmnt_joinkey', 'ircategory', 'overallstatus', 'isassessed', 'isimpaired', 'isthreatened', 'on303dlist', 'hastmdl', 'hasotherplan', 'visionpriority303d', 'drinkingwater_use', 'ecological_use', 'fishconsumption_use', 'recreation_use', 'other_use', 'algal_growth', 'ammonia', 'biotoxins', 'cause_unknown', 'cause_unknown_fish_kills', 'cause_unknown_impaired_biota', 'chlorine', 'dioxins', 'fish_consumption_advisory', 'flow_alterations', 'habitat_alterations', 'hydrologic_alteration', 'mercury', 'metals_other_than_mercury', 'noxious_aquatic_plants', 'nuisance_exotic_species', 'nuisance_native_species', 'nutrients', 'oil_and_grease', 'oxygen_depletion', 'other_cause', 'pathogens', 'pesticides', 'ph_acidity_caustic_conditions', 'polychlorinated_biphenyls_pcbs', 'radiation', 'solids_chlorides_sulfates', 'sediment', 'taste_color_and_odor', 'temperature', 'total_toxics', 'toxic_inorganics', 'toxic_organics', 'trash', 'turbidity', 'GLOBALID']\n"
          ],
          "name": "stdout"
        }
      ]
    },
    {
      "cell_type": "code",
      "metadata": {
        "id": "2hpIhssTFt3x"
      },
      "source": [
        "query = lyr.query()"
      ],
      "execution_count": null,
      "outputs": []
    },
    {
      "cell_type": "code",
      "metadata": {
        "colab": {
          "base_uri": "https://localhost:8080/"
        },
        "id": "pNdXBkcYG5Ht",
        "outputId": "9ae2852e-085d-48f1-e2bb-2dea51daca68"
      },
      "source": [
        "query.count"
      ],
      "execution_count": null,
      "outputs": [
        {
          "output_type": "execute_result",
          "data": {
            "text/plain": [
              "4022"
            ]
          },
          "metadata": {
            "tags": []
          },
          "execution_count": 339
        }
      ]
    },
    {
      "cell_type": "code",
      "metadata": {
        "id": "qAhoccYiEvJ-"
      },
      "source": [
        "# create FeatureLayer\r\n",
        "url = 'https://gispub.epa.gov/arcgis/rest/services/OW/ATTAINS_Assessment/MapServer/1'\r\n",
        "hazards = restapi.FeatureLayer(url)\r\n",
        "\r\n",
        "# QUERY EXAMPLES\r\n",
        "\r\n",
        "# query all features, to fetch all regardless of `maxRecordCount` \r\n",
        "# use `exceed_limit=true` keyword arg\r\n",
        "fs = hazards.query()\r\n",
        "#fs.fields\r\n",
        "print('All Hazards Count: {}'.format(fs.count))\r\n",
        "\r\n",
        "# query features that are \"High\" Priority\r\n",
        "#high_priority = hazards.query(where=\"Priority = 'High'\")\r\n",
        "#print('High Priority Hazards count: {}'.format(high_priority.count))"
      ],
      "execution_count": null,
      "outputs": []
    },
    {
      "cell_type": "markdown",
      "metadata": {
        "id": "mzJXuZQRTTLa"
      },
      "source": [
        "## Generate Queries\r\n",
        "Using PostMan Desktop to generate working url queries to ArcREST: https://www.postman.com/   \r\n",
        "Both Agencies provide data in MapServer format.  MapServer Layers are typically accessed via: https://(servername)/(arcgis)/(rest)/(services)/(folder)/(serviceName)/MapServer/(ID NUMBER ie 0,1...)/   \r\n",
        "First generate a basic working query, then explore additional MapServer Layers"
      ]
    },
    {
      "cell_type": "code",
      "metadata": {
        "id": "omWNjW6lV9Fa"
      },
      "source": [
        ""
      ],
      "execution_count": null,
      "outputs": []
    },
    {
      "cell_type": "code",
      "metadata": {
        "id": "h2J1V1LGSmsA"
      },
      "source": [
        "# baseURL for EPA ATTAINS MapServer\r\n",
        "# 'https://gispub.epa.gov/arcgis/rest/services/OW/ATTAINS_Assessment/MapServer/'\r\n",
        "# \r\n",
        "url = 'https://gispub.epa.gov/arcgis/rest/services/OW/ATTAINS_Assessment/MapServer/0'\r\n",
        "\r\n",
        "gdf = gpd.read_file(url)\r\n",
        "#gdf.describe"
      ],
      "execution_count": null,
      "outputs": []
    },
    {
      "cell_type": "markdown",
      "metadata": {
        "id": "pb4o8LYeTr71"
      },
      "source": [
        "## APPENDICIES"
      ]
    },
    {
      "cell_type": "markdown",
      "metadata": {
        "id": "PJt1exdmSOuu"
      },
      "source": [
        "## Geopandas Libraries Install"
      ]
    },
    {
      "cell_type": "code",
      "metadata": {
        "colab": {
          "base_uri": "https://localhost:8080/",
          "height": 1000
        },
        "id": "ksPdAXkySC2p",
        "outputId": "f67f0d82-f55c-40ea-eaff-f9891cb65da1"
      },
      "source": [
        "# Install and load libraries, may be able to remove some uneeded libraries\r\n",
        "%%time \r\n",
        "!apt install gdal-bin python-gdal python3-gdal \r\n",
        "!apt install python3-rtree \r\n",
        "!pip install git+git://github.com/geopandas/geopandas.git\r\n",
        "!pip install descartes \r\n",
        "!pip install folium\r\n",
        "!pip install pygeos\r\n",
        "!pip install arcgis\r\n",
        "!pip install contextily\r\n",
        "!pip install xlsxwriter\r\n",
        "from pathlib import Path\r\n",
        "import sys\r\n",
        "import os\r\n",
        "from zipfile import ZipFile\r\n",
        "import datetime as dt\r\n",
        "import requests\r\n",
        "import pandas as pd\r\n",
        "import numpy as np\r\n",
        "import geopandas as gpd\r\n",
        "from shapely.geometry import Point\r\n",
        "import matplotlib\r\n",
        "import matplotlib.pyplot as plt \r\n",
        "import folium\r\n",
        "from IPython.display import display\r\n",
        "import contextily as ctx\r\n",
        "from IPython.display import Image\r\n",
        "from IPython.display import Markdown as md"
      ],
      "execution_count": 1,
      "outputs": [
        {
          "output_type": "stream",
          "text": [
            "Reading package lists... Done\n",
            "Building dependency tree       \n",
            "Reading state information... Done\n",
            "gdal-bin is already the newest version (2.2.3+dfsg-2).\n",
            "python-gdal is already the newest version (2.2.3+dfsg-2).\n",
            "python3-gdal is already the newest version (2.2.3+dfsg-2).\n",
            "0 upgraded, 0 newly installed, 0 to remove and 16 not upgraded.\n",
            "Reading package lists... Done\n",
            "Building dependency tree       \n",
            "Reading state information... Done\n",
            "The following additional packages will be installed:\n",
            "  libspatialindex-c4v5 libspatialindex-dev libspatialindex4v5\n",
            "  python3-pkg-resources\n",
            "Suggested packages:\n",
            "  python3-setuptools\n",
            "The following NEW packages will be installed:\n",
            "  libspatialindex-c4v5 libspatialindex-dev libspatialindex4v5\n",
            "  python3-pkg-resources python3-rtree\n",
            "0 upgraded, 5 newly installed, 0 to remove and 16 not upgraded.\n",
            "Need to get 671 kB of archives.\n",
            "After this operation, 3,948 kB of additional disk space will be used.\n",
            "Get:1 http://archive.ubuntu.com/ubuntu bionic/universe amd64 libspatialindex4v5 amd64 1.8.5-5 [219 kB]\n",
            "Get:2 http://archive.ubuntu.com/ubuntu bionic/universe amd64 libspatialindex-c4v5 amd64 1.8.5-5 [51.7 kB]\n",
            "Get:3 http://archive.ubuntu.com/ubuntu bionic/main amd64 python3-pkg-resources all 39.0.1-2 [98.8 kB]\n",
            "Get:4 http://archive.ubuntu.com/ubuntu bionic/universe amd64 libspatialindex-dev amd64 1.8.5-5 [285 kB]\n",
            "Get:5 http://archive.ubuntu.com/ubuntu bionic/universe amd64 python3-rtree all 0.8.3+ds-1 [16.9 kB]\n",
            "Fetched 671 kB in 1s (950 kB/s)\n",
            "Selecting previously unselected package libspatialindex4v5:amd64.\n",
            "(Reading database ... 145483 files and directories currently installed.)\n",
            "Preparing to unpack .../libspatialindex4v5_1.8.5-5_amd64.deb ...\n",
            "Unpacking libspatialindex4v5:amd64 (1.8.5-5) ...\n",
            "Selecting previously unselected package libspatialindex-c4v5:amd64.\n",
            "Preparing to unpack .../libspatialindex-c4v5_1.8.5-5_amd64.deb ...\n",
            "Unpacking libspatialindex-c4v5:amd64 (1.8.5-5) ...\n",
            "Selecting previously unselected package python3-pkg-resources.\n",
            "Preparing to unpack .../python3-pkg-resources_39.0.1-2_all.deb ...\n",
            "Unpacking python3-pkg-resources (39.0.1-2) ...\n",
            "Selecting previously unselected package libspatialindex-dev:amd64.\n",
            "Preparing to unpack .../libspatialindex-dev_1.8.5-5_amd64.deb ...\n",
            "Unpacking libspatialindex-dev:amd64 (1.8.5-5) ...\n",
            "Selecting previously unselected package python3-rtree.\n",
            "Preparing to unpack .../python3-rtree_0.8.3+ds-1_all.deb ...\n",
            "Unpacking python3-rtree (0.8.3+ds-1) ...\n",
            "Setting up libspatialindex4v5:amd64 (1.8.5-5) ...\n",
            "Setting up python3-pkg-resources (39.0.1-2) ...\n",
            "Setting up libspatialindex-c4v5:amd64 (1.8.5-5) ...\n",
            "Setting up libspatialindex-dev:amd64 (1.8.5-5) ...\n",
            "Setting up python3-rtree (0.8.3+ds-1) ...\n",
            "Processing triggers for libc-bin (2.27-3ubuntu1.2) ...\n",
            "/sbin/ldconfig.real: /usr/local/lib/python3.6/dist-packages/ideep4py/lib/libmkldnn.so.0 is not a symbolic link\n",
            "\n",
            "Collecting git+git://github.com/geopandas/geopandas.git\n",
            "  Cloning git://github.com/geopandas/geopandas.git to /tmp/pip-req-build-22fhpxtv\n",
            "  Running command git clone -q git://github.com/geopandas/geopandas.git /tmp/pip-req-build-22fhpxtv\n",
            "Requirement already satisfied: pandas>=0.24.0 in /usr/local/lib/python3.6/dist-packages (from geopandas==0.8.0+83.g1a6bb42) (1.1.5)\n",
            "Requirement already satisfied: shapely>=1.6 in /usr/local/lib/python3.6/dist-packages (from geopandas==0.8.0+83.g1a6bb42) (1.7.1)\n",
            "Collecting fiona>=1.8\n",
            "\u001b[?25l  Downloading https://files.pythonhosted.org/packages/37/94/4910fd55246c1d963727b03885ead6ef1cd3748a465f7b0239ab25dfc9a3/Fiona-1.8.18-cp36-cp36m-manylinux1_x86_64.whl (14.8MB)\n",
            "\u001b[K     |████████████████████████████████| 14.8MB 178kB/s \n",
            "\u001b[?25hCollecting pyproj>=2.2.0\n",
            "\u001b[?25l  Downloading https://files.pythonhosted.org/packages/e4/ab/280e80a67cfc109d15428c0ec56391fc03a65857b7727cf4e6e6f99a4204/pyproj-3.0.0.post1-cp36-cp36m-manylinux2010_x86_64.whl (6.4MB)\n",
            "\u001b[K     |████████████████████████████████| 6.5MB 50.1MB/s \n",
            "\u001b[?25hRequirement already satisfied: pytz>=2017.2 in /usr/local/lib/python3.6/dist-packages (from pandas>=0.24.0->geopandas==0.8.0+83.g1a6bb42) (2018.9)\n",
            "Requirement already satisfied: numpy>=1.15.4 in /usr/local/lib/python3.6/dist-packages (from pandas>=0.24.0->geopandas==0.8.0+83.g1a6bb42) (1.19.4)\n",
            "Requirement already satisfied: python-dateutil>=2.7.3 in /usr/local/lib/python3.6/dist-packages (from pandas>=0.24.0->geopandas==0.8.0+83.g1a6bb42) (2.8.1)\n",
            "Requirement already satisfied: certifi in /usr/local/lib/python3.6/dist-packages (from fiona>=1.8->geopandas==0.8.0+83.g1a6bb42) (2020.12.5)\n",
            "Requirement already satisfied: six>=1.7 in /usr/local/lib/python3.6/dist-packages (from fiona>=1.8->geopandas==0.8.0+83.g1a6bb42) (1.15.0)\n",
            "Requirement already satisfied: attrs>=17 in /usr/local/lib/python3.6/dist-packages (from fiona>=1.8->geopandas==0.8.0+83.g1a6bb42) (20.3.0)\n",
            "Collecting cligj>=0.5\n",
            "  Downloading https://files.pythonhosted.org/packages/42/1e/947eadf10d6804bf276eb8a038bd5307996dceaaa41cfd21b7a15ec62f5d/cligj-0.7.1-py3-none-any.whl\n",
            "Requirement already satisfied: click<8,>=4.0 in /usr/local/lib/python3.6/dist-packages (from fiona>=1.8->geopandas==0.8.0+83.g1a6bb42) (7.1.2)\n",
            "Collecting click-plugins>=1.0\n",
            "  Downloading https://files.pythonhosted.org/packages/e9/da/824b92d9942f4e472702488857914bdd50f73021efea15b4cad9aca8ecef/click_plugins-1.1.1-py2.py3-none-any.whl\n",
            "Collecting munch\n",
            "  Downloading https://files.pythonhosted.org/packages/cc/ab/85d8da5c9a45e072301beb37ad7f833cd344e04c817d97e0cc75681d248f/munch-2.5.0-py2.py3-none-any.whl\n",
            "Building wheels for collected packages: geopandas\n",
            "  Building wheel for geopandas (setup.py) ... \u001b[?25l\u001b[?25hdone\n",
            "  Created wheel for geopandas: filename=geopandas-0.8.0+83.g1a6bb42-py2.py3-none-any.whl size=975846 sha256=5f6565d78f2d7ee45ceec89d268d82d0aeb21526028b1f46676ce162f78238e6\n",
            "  Stored in directory: /tmp/pip-ephem-wheel-cache-dhovedl5/wheels/91/24/71/376c9c67192694168352afcccc2d264248f7e2cc6192997186\n",
            "Successfully built geopandas\n",
            "Installing collected packages: cligj, click-plugins, munch, fiona, pyproj, geopandas\n",
            "Successfully installed click-plugins-1.1.1 cligj-0.7.1 fiona-1.8.18 geopandas-0.8.0+83.g1a6bb42 munch-2.5.0 pyproj-3.0.0.post1\n",
            "Requirement already satisfied: descartes in /usr/local/lib/python3.6/dist-packages (1.1.0)\n",
            "Requirement already satisfied: matplotlib in /usr/local/lib/python3.6/dist-packages (from descartes) (3.2.2)\n",
            "Requirement already satisfied: python-dateutil>=2.1 in /usr/local/lib/python3.6/dist-packages (from matplotlib->descartes) (2.8.1)\n",
            "Requirement already satisfied: numpy>=1.11 in /usr/local/lib/python3.6/dist-packages (from matplotlib->descartes) (1.19.4)\n",
            "Requirement already satisfied: kiwisolver>=1.0.1 in /usr/local/lib/python3.6/dist-packages (from matplotlib->descartes) (1.3.1)\n",
            "Requirement already satisfied: cycler>=0.10 in /usr/local/lib/python3.6/dist-packages (from matplotlib->descartes) (0.10.0)\n",
            "Requirement already satisfied: pyparsing!=2.0.4,!=2.1.2,!=2.1.6,>=2.0.1 in /usr/local/lib/python3.6/dist-packages (from matplotlib->descartes) (2.4.7)\n",
            "Requirement already satisfied: six>=1.5 in /usr/local/lib/python3.6/dist-packages (from python-dateutil>=2.1->matplotlib->descartes) (1.15.0)\n",
            "Requirement already satisfied: folium in /usr/local/lib/python3.6/dist-packages (0.8.3)\n",
            "Requirement already satisfied: six in /usr/local/lib/python3.6/dist-packages (from folium) (1.15.0)\n",
            "Requirement already satisfied: branca>=0.3.0 in /usr/local/lib/python3.6/dist-packages (from folium) (0.4.1)\n",
            "Requirement already satisfied: requests in /usr/local/lib/python3.6/dist-packages (from folium) (2.23.0)\n",
            "Requirement already satisfied: jinja2 in /usr/local/lib/python3.6/dist-packages (from folium) (2.11.2)\n",
            "Requirement already satisfied: numpy in /usr/local/lib/python3.6/dist-packages (from folium) (1.19.4)\n",
            "Requirement already satisfied: urllib3!=1.25.0,!=1.25.1,<1.26,>=1.21.1 in /usr/local/lib/python3.6/dist-packages (from requests->folium) (1.24.3)\n",
            "Requirement already satisfied: idna<3,>=2.5 in /usr/local/lib/python3.6/dist-packages (from requests->folium) (2.10)\n",
            "Requirement already satisfied: certifi>=2017.4.17 in /usr/local/lib/python3.6/dist-packages (from requests->folium) (2020.12.5)\n",
            "Requirement already satisfied: chardet<4,>=3.0.2 in /usr/local/lib/python3.6/dist-packages (from requests->folium) (3.0.4)\n",
            "Requirement already satisfied: MarkupSafe>=0.23 in /usr/local/lib/python3.6/dist-packages (from jinja2->folium) (1.1.1)\n",
            "Collecting pygeos\n",
            "\u001b[?25l  Downloading https://files.pythonhosted.org/packages/66/06/2cfcf6e90814da1fdb4585534f03a36531f00cbad65f11b417337d69fe60/pygeos-0.8-cp36-cp36m-manylinux1_x86_64.whl (1.6MB)\n",
            "\u001b[K     |████████████████████████████████| 1.6MB 13.3MB/s \n",
            "\u001b[?25hRequirement already satisfied: numpy>=1.10 in /usr/local/lib/python3.6/dist-packages (from pygeos) (1.19.4)\n",
            "Installing collected packages: pygeos\n",
            "Successfully installed pygeos-0.8\n",
            "Collecting arcgis\n",
            "\u001b[?25l  Downloading https://files.pythonhosted.org/packages/3d/49/477b49829ef649ae5ff78085ef466fa30f0711a21e72c6dfe74c55c530cd/arcgis-1.8.3.post2.tar.gz (2.6MB)\n",
            "\u001b[K     |████████████████████████████████| 2.6MB 22.4MB/s \n",
            "\u001b[?25hRequirement already satisfied: six in /usr/local/lib/python3.6/dist-packages (from arcgis) (1.15.0)\n",
            "Requirement already satisfied: ipywidgets>=7 in /usr/local/lib/python3.6/dist-packages (from arcgis) (7.5.1)\n",
            "Requirement already satisfied: widgetsnbextension>=3 in /usr/local/lib/python3.6/dist-packages (from arcgis) (3.5.1)\n",
            "Requirement already satisfied: pandas>=1 in /usr/local/lib/python3.6/dist-packages (from arcgis) (1.1.5)\n",
            "Requirement already satisfied: numpy>=1.16.2 in /usr/local/lib/python3.6/dist-packages (from arcgis) (1.19.4)\n",
            "Requirement already satisfied: matplotlib in /usr/local/lib/python3.6/dist-packages (from arcgis) (3.2.2)\n",
            "Collecting keyring>=19\n",
            "  Using cached https://files.pythonhosted.org/packages/d0/a0/20e656cd1e2313af619e382782bd47b5f77a3f33d81992554f3aac56e90d/keyring-21.8.0-py3-none-any.whl\n",
            "Collecting lerc\n",
            "  Using cached https://files.pythonhosted.org/packages/f2/20/73c8fa29a4ba8f8cbdb037369e6b61ac9253664a8aa0912b52169192447f/lerc-0.1.0.tar.gz\n",
            "Collecting ujson>=3\n",
            "  Using cached https://files.pythonhosted.org/packages/f1/84/e039c6ffc6603f2dfe966972d345d4f650a4ffd74b18c852ece645de12ac/ujson-4.0.1-cp36-cp36m-manylinux1_x86_64.whl\n",
            "Collecting jupyterlab\n",
            "  Using cached https://files.pythonhosted.org/packages/d1/b8/7e3efdbae40107b59c2c16c47bad0128938048e1469882d8975020ab2a81/jupyterlab-3.0.3-py3-none-any.whl\n",
            "Collecting python-certifi-win32\n",
            "  Using cached https://files.pythonhosted.org/packages/c1/43/916ef701ae481e04ed87af26fd54fa3906d44239f32d7f43be2fcbf54896/python_certifi_win32-1.6-py2.py3-none-any.whl\n",
            "Collecting pyshp>=2\n",
            "  Using cached https://files.pythonhosted.org/packages/ca/1f/e9cc2c3fce32e2926581f8b6905831165235464c858ba550b6e9b8ef78c3/pyshp-2.1.2.tar.gz\n",
            "Requirement already satisfied: requests in /usr/local/lib/python3.6/dist-packages (from arcgis) (2.23.0)\n",
            "Requirement already satisfied: requests-oauthlib in /usr/local/lib/python3.6/dist-packages (from arcgis) (1.3.0)\n",
            "Collecting requests_toolbelt\n",
            "  Using cached https://files.pythonhosted.org/packages/60/ef/7681134338fc097acef8d9b2f8abe0458e4d87559c689a8c306d0957ece5/requests_toolbelt-0.9.1-py2.py3-none-any.whl\n",
            "Collecting requests_ntlm\n",
            "  Using cached https://files.pythonhosted.org/packages/03/4b/8b9a1afde8072c4d5710d9fa91433d504325821b038e00237dc8d6d833dc/requests_ntlm-1.1.0-py2.py3-none-any.whl\n",
            "Requirement already satisfied: nbformat>=4.2.0 in /usr/local/lib/python3.6/dist-packages (from ipywidgets>=7->arcgis) (5.0.8)\n",
            "Requirement already satisfied: ipython>=4.0.0; python_version >= \"3.3\" in /usr/local/lib/python3.6/dist-packages (from ipywidgets>=7->arcgis) (5.5.0)\n",
            "Requirement already satisfied: traitlets>=4.3.1 in /usr/local/lib/python3.6/dist-packages (from ipywidgets>=7->arcgis) (4.3.3)\n",
            "Requirement already satisfied: ipykernel>=4.5.1 in /usr/local/lib/python3.6/dist-packages (from ipywidgets>=7->arcgis) (4.10.1)\n",
            "Requirement already satisfied: notebook>=4.4.1 in /usr/local/lib/python3.6/dist-packages (from widgetsnbextension>=3->arcgis) (5.3.1)\n",
            "Requirement already satisfied: python-dateutil>=2.7.3 in /usr/local/lib/python3.6/dist-packages (from pandas>=1->arcgis) (2.8.1)\n",
            "Requirement already satisfied: pytz>=2017.2 in /usr/local/lib/python3.6/dist-packages (from pandas>=1->arcgis) (2018.9)\n",
            "Requirement already satisfied: pyparsing!=2.0.4,!=2.1.2,!=2.1.6,>=2.0.1 in /usr/local/lib/python3.6/dist-packages (from matplotlib->arcgis) (2.4.7)\n",
            "Requirement already satisfied: kiwisolver>=1.0.1 in /usr/local/lib/python3.6/dist-packages (from matplotlib->arcgis) (1.3.1)\n",
            "Requirement already satisfied: cycler>=0.10 in /usr/local/lib/python3.6/dist-packages (from matplotlib->arcgis) (0.10.0)\n",
            "Requirement already satisfied: importlib-metadata>=1; python_version < \"3.8\" in /usr/local/lib/python3.6/dist-packages (from keyring>=19->arcgis) (3.3.0)\n",
            "Collecting SecretStorage>=3.2; sys_platform == \"linux\"\n",
            "  Using cached https://files.pythonhosted.org/packages/63/a2/a6d9099b14eb5dbbb04fb722d2b5322688f8f99b471bdf2097e33efa8091/SecretStorage-3.3.0-py3-none-any.whl\n",
            "Collecting jeepney>=0.4.2; sys_platform == \"linux\"\n",
            "  Using cached https://files.pythonhosted.org/packages/51/b0/a6ea72741aaac3f37fb96d195e4ee576a103c4c04e279bc6b446a70960e1/jeepney-0.6.0-py3-none-any.whl\n",
            "Collecting jupyterlab-server~=2.0\n",
            "  Using cached https://files.pythonhosted.org/packages/b5/23/558c1970f4a1bb130e271b71b93de6d4f3b851d4760e38a517d9fe790a56/jupyterlab_server-2.1.1-py3-none-any.whl\n",
            "Collecting nbclassic~=0.2\n",
            "  Using cached https://files.pythonhosted.org/packages/e6/f0/113b9a6975e53285c56091a250be4828dd20d80172620a4ff74ed26c9fe7/nbclassic-0.2.6-py3-none-any.whl\n",
            "Requirement already satisfied: jupyter-core in /usr/local/lib/python3.6/dist-packages (from jupyterlab->arcgis) (4.7.0)\n",
            "Requirement already satisfied: packaging in /usr/local/lib/python3.6/dist-packages (from jupyterlab->arcgis) (20.8)\n",
            "Collecting tornado>=6.1.0\n",
            "  Using cached https://files.pythonhosted.org/packages/85/26/e710295dcb4aac62b08f22d07efc899574476db37532159a7f71713cdaf2/tornado-6.1-cp36-cp36m-manylinux2010_x86_64.whl\n",
            "Requirement already satisfied: jinja2>=2.10 in /usr/local/lib/python3.6/dist-packages (from jupyterlab->arcgis) (2.11.2)\n",
            "Collecting jupyter-server~=1.2\n",
            "  Using cached https://files.pythonhosted.org/packages/9b/41/adf4b3f55ed580fd7cd8c84bd4758df4666ae3f5a486491c68290121d9f2/jupyter_server-1.2.1-py3-none-any.whl\n",
            "Collecting setuptools-scm\n",
            "  Using cached https://files.pythonhosted.org/packages/db/6e/2815f7c8561b088ccedc128681e64daac3d6b2e81a9918b007e244dad8b1/setuptools_scm-5.0.1-py2.py3-none-any.whl\n",
            "Requirement already satisfied: wrapt>=1.10.4 in /usr/local/lib/python3.6/dist-packages (from python-certifi-win32->arcgis) (1.12.1)\n",
            "Requirement already satisfied: certifi in /usr/local/lib/python3.6/dist-packages (from python-certifi-win32->arcgis) (2020.12.5)\n",
            "Requirement already satisfied: urllib3!=1.25.0,!=1.25.1,<1.26,>=1.21.1 in /usr/local/lib/python3.6/dist-packages (from requests->arcgis) (1.24.3)\n",
            "Requirement already satisfied: chardet<4,>=3.0.2 in /usr/local/lib/python3.6/dist-packages (from requests->arcgis) (3.0.4)\n",
            "Requirement already satisfied: idna<3,>=2.5 in /usr/local/lib/python3.6/dist-packages (from requests->arcgis) (2.10)\n",
            "Requirement already satisfied: oauthlib>=3.0.0 in /usr/local/lib/python3.6/dist-packages (from requests-oauthlib->arcgis) (3.1.0)\n",
            "Collecting cryptography>=1.3\n",
            "  Using cached https://files.pythonhosted.org/packages/c9/de/7054df0620b5411ba45480f0261e1fb66a53f3db31b28e3aa52c026e72d9/cryptography-3.3.1-cp36-abi3-manylinux2010_x86_64.whl\n",
            "Collecting ntlm-auth>=1.0.2\n",
            "  Using cached https://files.pythonhosted.org/packages/ff/84/97c550164b54942b0e908c31ef09d9469f3ba4cd7332a671e2125732f63b/ntlm_auth-1.5.0-py2.py3-none-any.whl\n",
            "Requirement already satisfied: jsonschema!=2.5.0,>=2.4 in /usr/local/lib/python3.6/dist-packages (from nbformat>=4.2.0->ipywidgets>=7->arcgis) (2.6.0)\n",
            "Requirement already satisfied: ipython-genutils in /usr/local/lib/python3.6/dist-packages (from nbformat>=4.2.0->ipywidgets>=7->arcgis) (0.2.0)\n",
            "Requirement already satisfied: setuptools>=18.5 in /usr/local/lib/python3.6/dist-packages (from ipython>=4.0.0; python_version >= \"3.3\"->ipywidgets>=7->arcgis) (51.1.1)\n",
            "Requirement already satisfied: pygments in /usr/local/lib/python3.6/dist-packages (from ipython>=4.0.0; python_version >= \"3.3\"->ipywidgets>=7->arcgis) (2.6.1)\n",
            "Requirement already satisfied: pexpect; sys_platform != \"win32\" in /usr/local/lib/python3.6/dist-packages (from ipython>=4.0.0; python_version >= \"3.3\"->ipywidgets>=7->arcgis) (4.8.0)\n",
            "Requirement already satisfied: pickleshare in /usr/local/lib/python3.6/dist-packages (from ipython>=4.0.0; python_version >= \"3.3\"->ipywidgets>=7->arcgis) (0.7.5)\n",
            "Requirement already satisfied: simplegeneric>0.8 in /usr/local/lib/python3.6/dist-packages (from ipython>=4.0.0; python_version >= \"3.3\"->ipywidgets>=7->arcgis) (0.8.1)\n",
            "Requirement already satisfied: decorator in /usr/local/lib/python3.6/dist-packages (from ipython>=4.0.0; python_version >= \"3.3\"->ipywidgets>=7->arcgis) (4.4.2)\n",
            "Requirement already satisfied: prompt-toolkit<2.0.0,>=1.0.4 in /usr/local/lib/python3.6/dist-packages (from ipython>=4.0.0; python_version >= \"3.3\"->ipywidgets>=7->arcgis) (1.0.18)\n",
            "Requirement already satisfied: jupyter-client in /usr/local/lib/python3.6/dist-packages (from ipykernel>=4.5.1->ipywidgets>=7->arcgis) (5.3.5)\n",
            "Requirement already satisfied: nbconvert in /usr/local/lib/python3.6/dist-packages (from notebook>=4.4.1->widgetsnbextension>=3->arcgis) (5.6.1)\n",
            "Requirement already satisfied: Send2Trash in /usr/local/lib/python3.6/dist-packages (from notebook>=4.4.1->widgetsnbextension>=3->arcgis) (1.5.0)\n",
            "Requirement already satisfied: terminado>=0.8.1 in /usr/local/lib/python3.6/dist-packages (from notebook>=4.4.1->widgetsnbextension>=3->arcgis) (0.9.1)\n",
            "Requirement already satisfied: zipp>=0.5 in /usr/local/lib/python3.6/dist-packages (from importlib-metadata>=1; python_version < \"3.8\"->keyring>=19->arcgis) (3.4.0)\n",
            "Requirement already satisfied: typing-extensions>=3.6.4; python_version < \"3.8\" in /usr/local/lib/python3.6/dist-packages (from importlib-metadata>=1; python_version < \"3.8\"->keyring>=19->arcgis) (3.7.4.3)\n",
            "Requirement already satisfied: babel in /usr/local/lib/python3.6/dist-packages (from jupyterlab-server~=2.0->jupyterlab->arcgis) (2.9.0)\n",
            "Collecting json5\n",
            "  Using cached https://files.pythonhosted.org/packages/2b/81/22bf51a5bc60dde18bb6164fd597f18ee683de8670e141364d9c432dd3cf/json5-0.9.5-py2.py3-none-any.whl\n",
            "Requirement already satisfied: MarkupSafe>=0.23 in /usr/local/lib/python3.6/dist-packages (from jinja2>=2.10->jupyterlab->arcgis) (1.1.1)\n",
            "Requirement already satisfied: pyzmq>=17 in /usr/local/lib/python3.6/dist-packages (from jupyter-server~=1.2->jupyterlab->arcgis) (20.0.0)\n",
            "Requirement already satisfied: prometheus-client in /usr/local/lib/python3.6/dist-packages (from jupyter-server~=1.2->jupyterlab->arcgis) (0.9.0)\n",
            "Collecting anyio>=2.0.2\n",
            "  Using cached https://files.pythonhosted.org/packages/d7/83/0585a2bafc0898a07f491a001520db9a7b1aaca2369f99590ff2bfe9067a/anyio-2.0.2-py3-none-any.whl\n",
            "Requirement already satisfied: cffi>=1.12 in /usr/local/lib/python3.6/dist-packages (from cryptography>=1.3->requests_ntlm->arcgis) (1.14.4)\n",
            "Requirement already satisfied: ptyprocess>=0.5 in /usr/local/lib/python3.6/dist-packages (from pexpect; sys_platform != \"win32\"->ipython>=4.0.0; python_version >= \"3.3\"->ipywidgets>=7->arcgis) (0.6.0)\n",
            "Requirement already satisfied: wcwidth in /usr/local/lib/python3.6/dist-packages (from prompt-toolkit<2.0.0,>=1.0.4->ipython>=4.0.0; python_version >= \"3.3\"->ipywidgets>=7->arcgis) (0.2.5)\n",
            "Requirement already satisfied: entrypoints>=0.2.2 in /usr/local/lib/python3.6/dist-packages (from nbconvert->notebook>=4.4.1->widgetsnbextension>=3->arcgis) (0.3)\n",
            "Requirement already satisfied: mistune<2,>=0.8.1 in /usr/local/lib/python3.6/dist-packages (from nbconvert->notebook>=4.4.1->widgetsnbextension>=3->arcgis) (0.8.4)\n",
            "Requirement already satisfied: bleach in /usr/local/lib/python3.6/dist-packages (from nbconvert->notebook>=4.4.1->widgetsnbextension>=3->arcgis) (3.2.1)\n",
            "Requirement already satisfied: pandocfilters>=1.4.1 in /usr/local/lib/python3.6/dist-packages (from nbconvert->notebook>=4.4.1->widgetsnbextension>=3->arcgis) (1.4.3)\n",
            "Requirement already satisfied: defusedxml in /usr/local/lib/python3.6/dist-packages (from nbconvert->notebook>=4.4.1->widgetsnbextension>=3->arcgis) (0.6.0)\n",
            "Requirement already satisfied: testpath in /usr/local/lib/python3.6/dist-packages (from nbconvert->notebook>=4.4.1->widgetsnbextension>=3->arcgis) (0.4.4)\n",
            "Requirement already satisfied: async-generator; python_version < \"3.7\" in /usr/local/lib/python3.6/dist-packages (from anyio>=2.0.2->jupyter-server~=1.2->jupyterlab->arcgis) (1.10)\n",
            "Collecting sniffio>=1.1\n",
            "  Using cached https://files.pythonhosted.org/packages/52/b0/7b2e028b63d092804b6794595871f936aafa5e9322dcaaad50ebf67445b3/sniffio-1.2.0-py3-none-any.whl\n",
            "Requirement already satisfied: dataclasses; python_version < \"3.7\" in /usr/local/lib/python3.6/dist-packages (from anyio>=2.0.2->jupyter-server~=1.2->jupyterlab->arcgis) (0.8)\n",
            "Requirement already satisfied: pycparser in /usr/local/lib/python3.6/dist-packages (from cffi>=1.12->cryptography>=1.3->requests_ntlm->arcgis) (2.20)\n",
            "Requirement already satisfied: webencodings in /usr/local/lib/python3.6/dist-packages (from bleach->nbconvert->notebook>=4.4.1->widgetsnbextension>=3->arcgis) (0.5.1)\n",
            "Collecting contextvars>=2.1; python_version < \"3.7\"\n",
            "  Using cached https://files.pythonhosted.org/packages/83/96/55b82d9f13763be9d672622e1b8106c85acb83edd7cc2fa5bc67cd9877e9/contextvars-2.4.tar.gz\n",
            "Collecting immutables>=0.9\n",
            "  Using cached https://files.pythonhosted.org/packages/99/e0/ea6fd4697120327d26773b5a84853f897a68e33d3f9376b00a8ff96e4f63/immutables-0.14-cp36-cp36m-manylinux1_x86_64.whl\n",
            "Building wheels for collected packages: arcgis, lerc, pyshp, contextvars\n",
            "  Building wheel for arcgis (setup.py) ... \u001b[?25l\u001b[?25hdone\n",
            "  Created wheel for arcgis: filename=arcgis-1.8.3.post2-py2.py3-none-any.whl size=3484071 sha256=58d7e6195e02be0e183d618e55994adf6f9aed6e4c94854bed9e847d4d6cf885\n",
            "  Stored in directory: /root/.cache/pip/wheels/ed/c1/99/6e39c78e41cd0f5f8bd279ddaf5673717a5c424c42dcfe9883\n",
            "  Building wheel for lerc (setup.py) ... \u001b[?25l\u001b[?25hdone\n",
            "  Created wheel for lerc: filename=lerc-0.1.0-cp36-none-any.whl size=571698 sha256=1c6c98f31149d183c6e0ef7710e2d04aec7a84b0798be727585a379daa96a0ae\n",
            "  Stored in directory: /root/.cache/pip/wheels/91/25/fc/0975ce9d050d66a246aa3cd51b04af4ef94a8ad96ccda87f86\n",
            "  Building wheel for pyshp (setup.py) ... \u001b[?25l\u001b[?25hdone\n",
            "  Created wheel for pyshp: filename=pyshp-2.1.2-cp36-none-any.whl size=36217 sha256=c2519fd24df75395b13eace2f509317499cba3c4036a6dd75bc6f6a710d430fb\n",
            "  Stored in directory: /root/.cache/pip/wheels/96/6c/53/4112475adf3b831da97f083163d0f38ee6daac9c1b13f7afea\n",
            "  Building wheel for contextvars (setup.py) ... \u001b[?25l\u001b[?25hdone\n",
            "  Created wheel for contextvars: filename=contextvars-2.4-cp36-none-any.whl size=7667 sha256=849880e594ee3e92edb47a629a899107ba9ee679a44856c670b1ba6cb15572c2\n",
            "  Stored in directory: /root/.cache/pip/wheels/a5/7d/68/1ebae2668bda2228686e3c1cf16f2c2384cea6e9334ad5f6de\n",
            "Successfully built arcgis lerc pyshp contextvars\n",
            "\u001b[31mERROR: google-colab 1.0.0 has requirement tornado~=5.1.0; python_version >= \"3.0\", but you'll have tornado 6.1 which is incompatible.\u001b[0m\n",
            "\u001b[31mERROR: jupyter-server 1.2.1 has requirement jupyter-client>=6.1.1, but you'll have jupyter-client 5.3.5 which is incompatible.\u001b[0m\n",
            "\u001b[31mERROR: jupyterlab-server 2.1.1 has requirement jsonschema>=3.0.1, but you'll have jsonschema 2.6.0 which is incompatible.\u001b[0m\n",
            "Installing collected packages: cryptography, jeepney, SecretStorage, keyring, lerc, ujson, tornado, immutables, contextvars, sniffio, anyio, jupyter-server, json5, jupyterlab-server, nbclassic, jupyterlab, setuptools-scm, python-certifi-win32, pyshp, requests-toolbelt, ntlm-auth, requests-ntlm, arcgis\n",
            "  Found existing installation: tornado 5.1.1\n",
            "    Uninstalling tornado-5.1.1:\n",
            "      Successfully uninstalled tornado-5.1.1\n",
            "Successfully installed SecretStorage-3.3.0 anyio-2.0.2 arcgis-1.8.3.post2 contextvars-2.4 cryptography-3.3.1 immutables-0.14 jeepney-0.6.0 json5-0.9.5 jupyter-server-1.2.1 jupyterlab-3.0.3 jupyterlab-server-2.1.1 keyring-21.8.0 lerc-0.1.0 nbclassic-0.2.6 ntlm-auth-1.5.0 pyshp-2.1.2 python-certifi-win32-1.6 requests-ntlm-1.1.0 requests-toolbelt-0.9.1 setuptools-scm-5.0.1 sniffio-1.2.0 tornado-6.1 ujson-4.0.1\n"
          ],
          "name": "stdout"
        },
        {
          "output_type": "display_data",
          "data": {
            "application/vnd.colab-display-data+json": {
              "pip_warning": {
                "packages": [
                  "tornado"
                ]
              }
            }
          },
          "metadata": {
            "tags": []
          }
        },
        {
          "output_type": "stream",
          "text": [
            "Collecting contextily\n",
            "  Downloading https://files.pythonhosted.org/packages/93/2a/22b34b6129303c594c21cb80ded800ebd6d13037f00d162d9b3a3785d5ea/contextily-1.0.1-py3-none-any.whl\n",
            "Requirement already satisfied: pillow in /usr/local/lib/python3.6/dist-packages (from contextily) (7.0.0)\n",
            "Collecting mercantile\n",
            "  Downloading https://files.pythonhosted.org/packages/b9/cd/ee6dbee0abca93edda53703fe408d2a6abdc8c1b248a3c9a4539089eafa2/mercantile-1.1.6-py3-none-any.whl\n",
            "Requirement already satisfied: requests in /usr/local/lib/python3.6/dist-packages (from contextily) (2.23.0)\n",
            "Requirement already satisfied: joblib in /usr/local/lib/python3.6/dist-packages (from contextily) (1.0.0)\n",
            "Requirement already satisfied: geopy in /usr/local/lib/python3.6/dist-packages (from contextily) (1.17.0)\n",
            "Collecting rasterio\n",
            "\u001b[?25l  Downloading https://files.pythonhosted.org/packages/33/1a/51baddc8581ead98fcef591624b4b2521b581943a9178912a2ac576e0235/rasterio-1.1.8-1-cp36-cp36m-manylinux1_x86_64.whl (18.3MB)\n",
            "\u001b[K     |████████████████████████████████| 18.3MB 156kB/s \n",
            "\u001b[?25hRequirement already satisfied: matplotlib in /usr/local/lib/python3.6/dist-packages (from contextily) (3.2.2)\n",
            "Requirement already satisfied: click>=3.0 in /usr/local/lib/python3.6/dist-packages (from mercantile->contextily) (7.1.2)\n",
            "Requirement already satisfied: urllib3!=1.25.0,!=1.25.1,<1.26,>=1.21.1 in /usr/local/lib/python3.6/dist-packages (from requests->contextily) (1.24.3)\n",
            "Requirement already satisfied: idna<3,>=2.5 in /usr/local/lib/python3.6/dist-packages (from requests->contextily) (2.10)\n",
            "Requirement already satisfied: chardet<4,>=3.0.2 in /usr/local/lib/python3.6/dist-packages (from requests->contextily) (3.0.4)\n",
            "Requirement already satisfied: certifi>=2017.4.17 in /usr/local/lib/python3.6/dist-packages (from requests->contextily) (2020.12.5)\n",
            "Requirement already satisfied: geographiclib<2,>=1.49 in /usr/local/lib/python3.6/dist-packages (from geopy->contextily) (1.50)\n",
            "Collecting affine\n",
            "  Downloading https://files.pythonhosted.org/packages/ac/a6/1a39a1ede71210e3ddaf623982b06ecfc5c5c03741ae659073159184cd3e/affine-2.3.0-py2.py3-none-any.whl\n",
            "Requirement already satisfied: numpy in /usr/local/lib/python3.6/dist-packages (from rasterio->contextily) (1.19.4)\n",
            "Requirement already satisfied: cligj>=0.5 in /usr/local/lib/python3.6/dist-packages (from rasterio->contextily) (0.7.1)\n",
            "Requirement already satisfied: attrs in /usr/local/lib/python3.6/dist-packages (from rasterio->contextily) (20.3.0)\n",
            "Requirement already satisfied: click-plugins in /usr/local/lib/python3.6/dist-packages (from rasterio->contextily) (1.1.1)\n",
            "Collecting snuggs>=1.4.1\n",
            "  Downloading https://files.pythonhosted.org/packages/cc/0e/d27d6e806d6c0d1a2cfdc5d1f088e42339a0a54a09c3343f7f81ec8947ea/snuggs-1.4.7-py3-none-any.whl\n",
            "Requirement already satisfied: kiwisolver>=1.0.1 in /usr/local/lib/python3.6/dist-packages (from matplotlib->contextily) (1.3.1)\n",
            "Requirement already satisfied: python-dateutil>=2.1 in /usr/local/lib/python3.6/dist-packages (from matplotlib->contextily) (2.8.1)\n",
            "Requirement already satisfied: pyparsing!=2.0.4,!=2.1.2,!=2.1.6,>=2.0.1 in /usr/local/lib/python3.6/dist-packages (from matplotlib->contextily) (2.4.7)\n",
            "Requirement already satisfied: cycler>=0.10 in /usr/local/lib/python3.6/dist-packages (from matplotlib->contextily) (0.10.0)\n",
            "Requirement already satisfied: six>=1.5 in /usr/local/lib/python3.6/dist-packages (from python-dateutil>=2.1->matplotlib->contextily) (1.15.0)\n",
            "Installing collected packages: mercantile, affine, snuggs, rasterio, contextily\n",
            "Successfully installed affine-2.3.0 contextily-1.0.1 mercantile-1.1.6 rasterio-1.1.8 snuggs-1.4.7\n",
            "Collecting xlsxwriter\n",
            "\u001b[?25l  Downloading https://files.pythonhosted.org/packages/6b/41/bf1aae04932d1eaffee1fc5f8b38ca47bbbf07d765129539bc4bcce1ce0c/XlsxWriter-1.3.7-py2.py3-none-any.whl (144kB)\n",
            "\u001b[K     |████████████████████████████████| 153kB 11.8MB/s \n",
            "\u001b[?25hInstalling collected packages: xlsxwriter\n",
            "Successfully installed xlsxwriter-1.3.7\n"
          ],
          "name": "stdout"
        },
        {
          "output_type": "stream",
          "text": [
            "/usr/local/lib/python3.6/dist-packages/geopandas/_compat.py:91: UserWarning: The Shapely GEOS version (3.8.0-CAPI-1.13.1 ) is incompatible with the GEOS version PyGEOS was compiled with (3.8.1-CAPI-1.13.3). Conversions between both will be slow.\n",
            "  shapely_geos_version, geos_capi_version_string\n"
          ],
          "name": "stderr"
        },
        {
          "output_type": "stream",
          "text": [
            "CPU times: user 733 ms, sys: 160 ms, total: 893 ms\n",
            "Wall time: 1min 38s\n"
          ],
          "name": "stdout"
        }
      ]
    },
    {
      "cell_type": "code",
      "metadata": {
        "id": "xbbFXheFi5Sz"
      },
      "source": [
        ""
      ],
      "execution_count": null,
      "outputs": []
    }
  ]
}