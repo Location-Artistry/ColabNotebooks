{
  "nbformat": 4,
  "nbformat_minor": 0,
  "metadata": {
    "colab": {
      "name": "GOV-DATA-EXPLORER.ipynb",
      "provenance": [],
      "collapsed_sections": [],
      "toc_visible": true,
      "authorship_tag": "ABX9TyM5BR4sMViNAvDmtol8Qrwu",
      "include_colab_link": true
    },
    "kernelspec": {
      "name": "python3",
      "display_name": "Python 3"
    },
    "accelerator": "GPU"
  },
  "cells": [
    {
      "cell_type": "markdown",
      "metadata": {
        "id": "view-in-github",
        "colab_type": "text"
      },
      "source": [
        "<a href=\"https://colab.research.google.com/github/Location-Artistry/ColabNotebooks/blob/master/GOV_DATA_EXPLORER.ipynb\" target=\"_parent\"><img src=\"https://colab.research.google.com/assets/colab-badge.svg\" alt=\"Open In Colab\"/></a>"
      ]
    },
    {
      "cell_type": "markdown",
      "metadata": {
        "id": "Ik4VOc4bSnfL"
      },
      "source": [
        "# EPA/EGLE Geo Data Explorer\r\n",
        "## Working with ArcREST Endpoints from EPA ATTAINS and EGLE for Geo and Enviro Data   \r\n",
        "### Read AGOL Data into GeoPandas, analyze and visualize with mapping libraries"
      ]
    },
    {
      "cell_type": "markdown",
      "metadata": {
        "id": "M55TkG3XWUAs"
      },
      "source": [
        "## Create New MapServer Class\r\n",
        "Supplemental library for exploring ArcGIS Online and Server hosted layers.  ArcGIS Python API has challenges accessing this data.  arcgis-restapi gives us the ability to get information about the MapServer Services and will use arcPy if possible, then use open source libraries:   \r\n",
        " 'Python API for working with ArcGIS REST API, ArcGIS Online, and Portal/ArcGIS Enterprise.'    \r\n",
        " https://github.com/Bolton-and-Menk-GIS/restapi"
      ]
    },
    {
      "cell_type": "code",
      "metadata": {
        "id": "NFmWXjF0XaQg"
      },
      "source": [
        "!pip install bmi-arcgis-restapi\r\n",
        "import restapi"
      ],
      "execution_count": null,
      "outputs": []
    },
    {
      "cell_type": "code",
      "metadata": {
        "id": "Ubrx6Q9WETnv",
        "colab": {
          "base_uri": "https://localhost:8080/"
        },
        "outputId": "42bddfd0-4d20-4ad4-cd77-2825a3f270bb"
      },
      "source": [
        "#!pip install hanging_threads\n",
        "#from hanging_threads import start_monitoring\n",
        "#monitoring_thread = start_monitoring()\n",
        "#monitoring_thread.is_stopped()"
      ],
      "execution_count": null,
      "outputs": [
        {
          "output_type": "execute_result",
          "data": {
            "text/plain": [
              "True"
            ]
          },
          "metadata": {
            "tags": []
          },
          "execution_count": 79
        }
      ]
    },
    {
      "cell_type": "code",
      "metadata": {
        "id": "r_I0qw3ztYtU"
      },
      "source": [
        "from IPython.display import clear_output"
      ],
      "execution_count": 268,
      "outputs": []
    },
    {
      "cell_type": "code",
      "metadata": {
        "id": "KraQcHhof8dp"
      },
      "source": [
        "class mapServer:\r\n",
        "  # Class creates a MapServer object from the bmi-arcgis-restapi library\r\n",
        "  # self.ags = instance of ArcServer object\r\n",
        "  def __init__(self, url): \r\n",
        "    self.ags = restapi.ArcServer(url)\r\n",
        "    self.url = url\r\n",
        "    display('MAPSERVER OBJECT CREATED', self.ags)\r\n",
        "  # getServices displays and returns list of all services\r\n",
        "  def getServices(self):\r\n",
        "    for i, service in enumerate(self.ags.services):\r\n",
        "      display(f'{i} - Service Name: {service.name} -  Service Type: {service.type}')\r\n",
        "    return self.ags.services \r\n",
        "  # getFolders displays and returns list of all folders\r\n",
        "  def getFolders(self):\r\n",
        "    for i, folder in enumerate(self.ags.folders):\r\n",
        "      display(f'{i} - Folder: {folder}') \r\n",
        "    return self.ags.folders\r\n",
        "  # services may be nested under folders, return all services in folders\r\n",
        "  def getNestedServices(self):\r\n",
        "    for i, folder in enumerate(self.ags.folders):\r\n",
        "      display(f'{i} - Folder: {folder}')\r\n",
        "      ags = restapi.ArcServer(f'{self.ags.url}/{folder}')\r\n",
        "      for z, service in enumerate(ags.services):\r\n",
        "        display(f'   {z} - Service Name: {service.name} -  Service Type: {service.type}')\r\n",
        "  # list all atrributes for MapServer Object\r\n",
        "  def getAttr(self):\r\n",
        "    for attribute in dir(self.ags):\r\n",
        "      display(f'Attribute Names: {attribute} - {self.ags[attribute]}')\r\n",
        "  def listAttr(self):\r\n",
        "    return dir(self.ags)\r\n",
        "  # get subservice folder\r\n",
        "  # working to create mapService from this function\r\n",
        "  def getSubService(self, rootServer=0):\r\n",
        "    # monitoring_thread = start_monitoring()\r\n",
        "    folders = self.getFolders()\r\n",
        "    services = self.getServices()\r\n",
        "    if not folders:\r\n",
        "      fID = int(input(f'Select index of subservice: '))\r\n",
        "      serviceURL = services[fID].name\r\n",
        "      subService = self.getService(serviceURL)\r\n",
        "      return subService\r\n",
        "    else:\r\n",
        "      fID = int(input(f'Select index of subservice folder: '))\r\n",
        "      serviceURL = (f'{self.url}/{folders[fID]}')\r\n",
        "      subFolder = mapServer(serviceURL)\r\n",
        "      subServices = subFolder.getServices()\r\n",
        "      fID = int(input(f'Select index of subservice: '))\r\n",
        "      serviceName = subServices[fID].name\r\n",
        "      subService = mapService(self, serviceName)\r\n",
        "      return subService\r\n",
        "\r\n",
        "class mapService:\r\n",
        "  # Class creates a <-MapService object-> from the bmi-arcgis-restapi library\r\n",
        "  def __init__(self, server, servName): \r\n",
        "    self.ags = server.ags.getService(servName)\r\n",
        "    #self.url = url\r\n",
        "    display(f'MAPSERVICE OBJECT CREATED - {self.ags.url}')\r\n",
        "  def getAttr(self):\r\n",
        "    for attribute in dir(self.ags):\r\n",
        "      display(f'Attribute Names: {attribute} - {self.ags[attribute]}')\r\n",
        "  def listAttr(self):\r\n",
        "    return dir(self.ags)\r\n",
        "  def desc(self):\r\n",
        "    return self.ags.description\r\n",
        "  def spatialRef(self):\r\n",
        "    return self.ags.spatialReference\r\n",
        "  def units(self):\r\n",
        "    return self.ags.units\r\n",
        "  def layers(self):\r\n",
        "    return self.ags.list_layers()\r\n",
        "  def tables(self):\r\n",
        "    return self.ags.list_tables()\r\n",
        "  def getLayer(self):\r\n",
        "    for i, lay in enumerate(self.ags.layers):\r\n",
        "      display(f'{i} - {lay.name}')\r\n",
        "    layers = self.layers()\r\n",
        "    fID = int(input(f'Select index of Layer: '))\r\n",
        "    layerObj = newLayer(self, layers[fID])\r\n",
        "    return layerObj\r\n",
        "\r\n",
        "class newLayer:\r\n",
        "    # Class creates a <-Layer object-> from the bmi-arcgis-restapi library\r\n",
        "  def __init__(self, service, lyrName): \r\n",
        "    self.lyr = service.ags.layer(lyrName)\r\n",
        "    display(f'LAYER CREATED - {self.lyr.name} - id: {self.lyr.id} - url: {self.lyr.url}')\r\n",
        "  def getInfo(self):\r\n",
        "    display(f'{self.lyr.name} - subLayers: {self.lyr.subLayers} - capabilities: {self.lyr.capabilities} - query formats: {self.lyr.supportedQueryFormats} - count: {self.lyr.getCount()}')\r\n"
      ],
      "execution_count": 269,
      "outputs": []
    },
    {
      "cell_type": "markdown",
      "metadata": {
        "id": "WMQU31zwnwnT"
      },
      "source": [
        "## Entire Workflow for newly created Arc Server Workflow using bmi-arcgis-restapi\r\n",
        "\r\n",
        "\r\n",
        "1.   Create MapServer with Server root url\r\n",
        "2.   Derive specified MapService from root MapServer Object\r\n",
        "3.   Generate layer from specific specified MapService Endpoint\r\n",
        "\r\n"
      ]
    },
    {
      "cell_type": "code",
      "metadata": {
        "colab": {
          "base_uri": "https://localhost:8080/",
          "height": 53
        },
        "id": "sar2hWjEcrsa",
        "outputId": "e35a0cae-ce51-49ba-a8e2-33f77c6ef523"
      },
      "source": [
        "# 1 - Create MapServer with Server root url\r\n",
        "rest_url = 'https://gispub.epa.gov/arcgis/rest/services'\r\n",
        "SERVER = mapServer(rest_url)"
      ],
      "execution_count": 270,
      "outputs": [
        {
          "output_type": "display_data",
          "data": {
            "application/vnd.google.colaboratory.intrinsic+json": {
              "type": "string"
            },
            "text/plain": [
              "'MAPSERVER OBJECT CREATED'"
            ]
          },
          "metadata": {
            "tags": []
          }
        },
        {
          "output_type": "display_data",
          "data": {
            "text/plain": [
              "<ArcServer: \"gispub.epa.gov\" (\"arcgis\")>"
            ]
          },
          "metadata": {
            "tags": []
          }
        }
      ]
    },
    {
      "cell_type": "code",
      "metadata": {
        "colab": {
          "base_uri": "https://localhost:8080/",
          "height": 629
        },
        "id": "YBMIT-dSoR2H",
        "outputId": "e7678124-e7b2-4a44-d80c-2444fecb8064"
      },
      "source": [
        "# 2 - Derive specified MapService from root MapServer Object\r\n",
        "subServer = SERVER.getSubService()"
      ],
      "execution_count": 271,
      "outputs": [
        {
          "output_type": "display_data",
          "data": {
            "application/vnd.google.colaboratory.intrinsic+json": {
              "type": "string"
            },
            "text/plain": [
              "'0 - Folder: AgSTAR'"
            ]
          },
          "metadata": {
            "tags": []
          }
        },
        {
          "output_type": "display_data",
          "data": {
            "application/vnd.google.colaboratory.intrinsic+json": {
              "type": "string"
            },
            "text/plain": [
              "'1 - Folder: ER_Harvey'"
            ]
          },
          "metadata": {
            "tags": []
          }
        },
        {
          "output_type": "display_data",
          "data": {
            "application/vnd.google.colaboratory.intrinsic+json": {
              "type": "string"
            },
            "text/plain": [
              "'2 - Folder: monitor'"
            ]
          },
          "metadata": {
            "tags": []
          }
        },
        {
          "output_type": "display_data",
          "data": {
            "application/vnd.google.colaboratory.intrinsic+json": {
              "type": "string"
            },
            "text/plain": [
              "'3 - Folder: NELP'"
            ]
          },
          "metadata": {
            "tags": []
          }
        },
        {
          "output_type": "display_data",
          "data": {
            "application/vnd.google.colaboratory.intrinsic+json": {
              "type": "string"
            },
            "text/plain": [
              "'4 - Folder: NPDAT'"
            ]
          },
          "metadata": {
            "tags": []
          }
        },
        {
          "output_type": "display_data",
          "data": {
            "application/vnd.google.colaboratory.intrinsic+json": {
              "type": "string"
            },
            "text/plain": [
              "'5 - Folder: OA'"
            ]
          },
          "metadata": {
            "tags": []
          }
        },
        {
          "output_type": "display_data",
          "data": {
            "application/vnd.google.colaboratory.intrinsic+json": {
              "type": "string"
            },
            "text/plain": [
              "'6 - Folder: OAR'"
            ]
          },
          "metadata": {
            "tags": []
          }
        },
        {
          "output_type": "display_data",
          "data": {
            "application/vnd.google.colaboratory.intrinsic+json": {
              "type": "string"
            },
            "text/plain": [
              "'7 - Folder: OAR_OAP'"
            ]
          },
          "metadata": {
            "tags": []
          }
        },
        {
          "output_type": "display_data",
          "data": {
            "application/vnd.google.colaboratory.intrinsic+json": {
              "type": "string"
            },
            "text/plain": [
              "'8 - Folder: OAR_OAQPS'"
            ]
          },
          "metadata": {
            "tags": []
          }
        },
        {
          "output_type": "display_data",
          "data": {
            "application/vnd.google.colaboratory.intrinsic+json": {
              "type": "string"
            },
            "text/plain": [
              "'9 - Folder: OECA'"
            ]
          },
          "metadata": {
            "tags": []
          }
        },
        {
          "output_type": "display_data",
          "data": {
            "application/vnd.google.colaboratory.intrinsic+json": {
              "type": "string"
            },
            "text/plain": [
              "'10 - Folder: OEI'"
            ]
          },
          "metadata": {
            "tags": []
          }
        },
        {
          "output_type": "display_data",
          "data": {
            "application/vnd.google.colaboratory.intrinsic+json": {
              "type": "string"
            },
            "text/plain": [
              "'11 - Folder: ORD'"
            ]
          },
          "metadata": {
            "tags": []
          }
        },
        {
          "output_type": "display_data",
          "data": {
            "application/vnd.google.colaboratory.intrinsic+json": {
              "type": "string"
            },
            "text/plain": [
              "'12 - Folder: OSWER'"
            ]
          },
          "metadata": {
            "tags": []
          }
        },
        {
          "output_type": "display_data",
          "data": {
            "application/vnd.google.colaboratory.intrinsic+json": {
              "type": "string"
            },
            "text/plain": [
              "'13 - Folder: OW'"
            ]
          },
          "metadata": {
            "tags": []
          }
        },
        {
          "output_type": "display_data",
          "data": {
            "application/vnd.google.colaboratory.intrinsic+json": {
              "type": "string"
            },
            "text/plain": [
              "'14 - Folder: PrintTools'"
            ]
          },
          "metadata": {
            "tags": []
          }
        },
        {
          "output_type": "display_data",
          "data": {
            "application/vnd.google.colaboratory.intrinsic+json": {
              "type": "string"
            },
            "text/plain": [
              "'15 - Folder: R1'"
            ]
          },
          "metadata": {
            "tags": []
          }
        },
        {
          "output_type": "display_data",
          "data": {
            "application/vnd.google.colaboratory.intrinsic+json": {
              "type": "string"
            },
            "text/plain": [
              "'16 - Folder: R10'"
            ]
          },
          "metadata": {
            "tags": []
          }
        },
        {
          "output_type": "display_data",
          "data": {
            "application/vnd.google.colaboratory.intrinsic+json": {
              "type": "string"
            },
            "text/plain": [
              "'17 - Folder: R1AUL'"
            ]
          },
          "metadata": {
            "tags": []
          }
        },
        {
          "output_type": "display_data",
          "data": {
            "application/vnd.google.colaboratory.intrinsic+json": {
              "type": "string"
            },
            "text/plain": [
              "'18 - Folder: r4'"
            ]
          },
          "metadata": {
            "tags": []
          }
        },
        {
          "output_type": "display_data",
          "data": {
            "application/vnd.google.colaboratory.intrinsic+json": {
              "type": "string"
            },
            "text/plain": [
              "'19 - Folder: r6'"
            ]
          },
          "metadata": {
            "tags": []
          }
        },
        {
          "output_type": "display_data",
          "data": {
            "application/vnd.google.colaboratory.intrinsic+json": {
              "type": "string"
            },
            "text/plain": [
              "'20 - Folder: r7'"
            ]
          },
          "metadata": {
            "tags": []
          }
        },
        {
          "output_type": "display_data",
          "data": {
            "application/vnd.google.colaboratory.intrinsic+json": {
              "type": "string"
            },
            "text/plain": [
              "'21 - Folder: R9MarineDebris'"
            ]
          },
          "metadata": {
            "tags": []
          }
        },
        {
          "output_type": "display_data",
          "data": {
            "application/vnd.google.colaboratory.intrinsic+json": {
              "type": "string"
            },
            "text/plain": [
              "'22 - Folder: R9Watersheds'"
            ]
          },
          "metadata": {
            "tags": []
          }
        },
        {
          "output_type": "display_data",
          "data": {
            "application/vnd.google.colaboratory.intrinsic+json": {
              "type": "string"
            },
            "text/plain": [
              "'23 - Folder: Region9'"
            ]
          },
          "metadata": {
            "tags": []
          }
        },
        {
          "output_type": "display_data",
          "data": {
            "application/vnd.google.colaboratory.intrinsic+json": {
              "type": "string"
            },
            "text/plain": [
              "'24 - Folder: SFBayWQIF'"
            ]
          },
          "metadata": {
            "tags": []
          }
        },
        {
          "output_type": "display_data",
          "data": {
            "application/vnd.google.colaboratory.intrinsic+json": {
              "type": "string"
            },
            "text/plain": [
              "'25 - Folder: Utilities'"
            ]
          },
          "metadata": {
            "tags": []
          }
        },
        {
          "output_type": "display_data",
          "data": {
            "application/vnd.google.colaboratory.intrinsic+json": {
              "type": "string"
            },
            "text/plain": [
              "'0 - Service Name: SampleWorldCities -  Service Type: MapServer'"
            ]
          },
          "metadata": {
            "tags": []
          }
        },
        {
          "output_type": "stream",
          "text": [
            "Select index of subservice folder: 13\n"
          ],
          "name": "stdout"
        },
        {
          "output_type": "display_data",
          "data": {
            "application/vnd.google.colaboratory.intrinsic+json": {
              "type": "string"
            },
            "text/plain": [
              "'MAPSERVER OBJECT CREATED'"
            ]
          },
          "metadata": {
            "tags": []
          }
        },
        {
          "output_type": "display_data",
          "data": {
            "text/plain": [
              "<ArcServer: \"gispub.epa.gov\" (\"arcgis\")>"
            ]
          },
          "metadata": {
            "tags": []
          }
        },
        {
          "output_type": "display_data",
          "data": {
            "application/vnd.google.colaboratory.intrinsic+json": {
              "type": "string"
            },
            "text/plain": [
              "'0 - Service Name: OW/AquaticNuisanceSpeciesLocator -  Service Type: MapServer'"
            ]
          },
          "metadata": {
            "tags": []
          }
        },
        {
          "output_type": "display_data",
          "data": {
            "application/vnd.google.colaboratory.intrinsic+json": {
              "type": "string"
            },
            "text/plain": [
              "'1 - Service Name: OW/ATTAINS_Assessment -  Service Type: MapServer'"
            ]
          },
          "metadata": {
            "tags": []
          }
        },
        {
          "output_type": "stream",
          "text": [
            "Select index of subservice: 1\n"
          ],
          "name": "stdout"
        },
        {
          "output_type": "display_data",
          "data": {
            "application/vnd.google.colaboratory.intrinsic+json": {
              "type": "string"
            },
            "text/plain": [
              "'MAPSERVICE OBJECT CREATED - https://gispub.epa.gov/arcgis/rest/services/OW/ATTAINS_Assessment/MapServer'"
            ]
          },
          "metadata": {
            "tags": []
          }
        }
      ]
    },
    {
      "cell_type": "code",
      "metadata": {
        "colab": {
          "base_uri": "https://localhost:8080/",
          "height": 125
        },
        "id": "3y7AQ9KJoi3R",
        "outputId": "ee20b2c4-48ad-44f8-dd02-bc3f453af695"
      },
      "source": [
        "# 3 - Generate layer from specific specified MapService Endpoint\r\n",
        "layerSer = subServer.getLayer()"
      ],
      "execution_count": 272,
      "outputs": [
        {
          "output_type": "display_data",
          "data": {
            "application/vnd.google.colaboratory.intrinsic+json": {
              "type": "string"
            },
            "text/plain": [
              "'0 - ATTAINS Assessment Points'"
            ]
          },
          "metadata": {
            "tags": []
          }
        },
        {
          "output_type": "display_data",
          "data": {
            "application/vnd.google.colaboratory.intrinsic+json": {
              "type": "string"
            },
            "text/plain": [
              "'1 - ATTAINS Assessment Lines'"
            ]
          },
          "metadata": {
            "tags": []
          }
        },
        {
          "output_type": "display_data",
          "data": {
            "application/vnd.google.colaboratory.intrinsic+json": {
              "type": "string"
            },
            "text/plain": [
              "'2 - ATTAINS Assessment Areas'"
            ]
          },
          "metadata": {
            "tags": []
          }
        },
        {
          "output_type": "display_data",
          "data": {
            "application/vnd.google.colaboratory.intrinsic+json": {
              "type": "string"
            },
            "text/plain": [
              "'3 - ATTAINS Assessment Unit Catchment Associations'"
            ]
          },
          "metadata": {
            "tags": []
          }
        },
        {
          "output_type": "stream",
          "text": [
            "Select index of Layer: 0\n"
          ],
          "name": "stdout"
        },
        {
          "output_type": "display_data",
          "data": {
            "application/vnd.google.colaboratory.intrinsic+json": {
              "type": "string"
            },
            "text/plain": [
              "'LAYER CREATED - ATTAINS Assessment Points - id: 0 - url: https://gispub.epa.gov/arcgis/rest/services/OW/ATTAINS_Assessment/MapServer/0'"
            ]
          },
          "metadata": {
            "tags": []
          }
        }
      ]
    },
    {
      "cell_type": "code",
      "metadata": {
        "colab": {
          "base_uri": "https://localhost:8080/",
          "height": 35
        },
        "id": "bxodky_lmqcI",
        "outputId": "190107ae-5c17-4134-b728-e4d5ccd52691"
      },
      "source": [
        "layerSer.getInfo()"
      ],
      "execution_count": 273,
      "outputs": [
        {
          "output_type": "display_data",
          "data": {
            "application/vnd.google.colaboratory.intrinsic+json": {
              "type": "string"
            },
            "text/plain": [
              "'ATTAINS Assessment Points - subLayers: [] - capabilities: Map,Query,Data - query formats: JSON, geoJSON, PBF - count: 4022'"
            ]
          },
          "metadata": {
            "tags": []
          }
        }
      ]
    },
    {
      "cell_type": "markdown",
      "metadata": {
        "id": "a9Uh8-bhpq7r"
      },
      "source": [
        "### Separate section using GeoPandas to read in the data directly from the ArcREST Endpoint"
      ]
    },
    {
      "cell_type": "code",
      "metadata": {
        "id": "mU3_xsprWL0v"
      },
      "source": [
        "epaURL = 'https://gispub.epa.gov/arcgis/rest/services/OW/ATTAINS_Assessment/MapServer/0/query?f=geojson&where=1=1&outFields=*'\r\n",
        "gdfEPA = gpd.read_file(epaURL)\r\n",
        "gdfEPA.describe"
      ],
      "execution_count": null,
      "outputs": []
    },
    {
      "cell_type": "markdown",
      "metadata": {
        "id": "yuAoTM9ZXCTU"
      },
      "source": [
        "## Older working section"
      ]
    },
    {
      "cell_type": "code",
      "metadata": {
        "colab": {
          "base_uri": "https://localhost:8080/",
          "height": 52
        },
        "id": "Or6YHjj7_Wg6",
        "outputId": "843d12c1-8314-4976-c01b-5b3a171ed368"
      },
      "source": [
        "# base url for USEPA Office of Water MapServer: OW \r\n",
        "EPAurl = 'https://gispub.epa.gov/arcgis/rest/services'\r\n",
        "OWurl = (f'{EPAurl}/{folders[14]}')\r\n",
        "OW = mapServer(OWurl)"
      ],
      "execution_count": null,
      "outputs": [
        {
          "output_type": "display_data",
          "data": {
            "application/vnd.google.colaboratory.intrinsic+json": {
              "type": "string"
            },
            "text/plain": [
              "'MAPSERVER OBJECT CREATED'"
            ]
          },
          "metadata": {
            "tags": []
          }
        },
        {
          "output_type": "display_data",
          "data": {
            "text/plain": [
              "<ArcServer: \"gispub.epa.gov\" (\"arcgis\")>"
            ]
          },
          "metadata": {
            "tags": []
          }
        }
      ]
    },
    {
      "cell_type": "code",
      "metadata": {
        "colab": {
          "base_uri": "https://localhost:8080/",
          "height": 53
        },
        "id": "xeuFDsHxyaCd",
        "outputId": "94fbd9c0-ce1f-4817-8ba1-2dae66a5e465"
      },
      "source": [
        "services = OW.getServices()"
      ],
      "execution_count": null,
      "outputs": [
        {
          "output_type": "display_data",
          "data": {
            "application/vnd.google.colaboratory.intrinsic+json": {
              "type": "string"
            },
            "text/plain": [
              "'0 - Service Name: OW/AquaticNuisanceSpeciesLocator -  Service Type: MapServer'"
            ]
          },
          "metadata": {
            "tags": []
          }
        },
        {
          "output_type": "display_data",
          "data": {
            "application/vnd.google.colaboratory.intrinsic+json": {
              "type": "string"
            },
            "text/plain": [
              "'1 - Service Name: OW/ATTAINS_Assessment -  Service Type: MapServer'"
            ]
          },
          "metadata": {
            "tags": []
          }
        }
      ]
    },
    {
      "cell_type": "code",
      "metadata": {
        "id": "TYgSe7Uv5WM7"
      },
      "source": [
        "# OW/ATTAINS_Assessment\r\n",
        "ATTAINS = EPA.ags.getService('OW/ATTAINS_Assessment')\r\n",
        "#print(serviceInfo.url)"
      ],
      "execution_count": null,
      "outputs": []
    },
    {
      "cell_type": "code",
      "metadata": {
        "colab": {
          "base_uri": "https://localhost:8080/"
        },
        "id": "TYrdGVs0DFsS",
        "outputId": "b6fdcd99-f719-4fa9-870e-de040695b048"
      },
      "source": [
        "ATTAINS.list_layers()"
      ],
      "execution_count": null,
      "outputs": [
        {
          "output_type": "execute_result",
          "data": {
            "text/plain": [
              "['ATTAINS Assessment Points',\n",
              " 'ATTAINS Assessment Lines',\n",
              " 'ATTAINS Assessment Areas',\n",
              " 'ATTAINS Assessment Unit Catchment Associations']"
            ]
          },
          "metadata": {
            "tags": []
          },
          "execution_count": 335
        }
      ]
    },
    {
      "cell_type": "code",
      "metadata": {
        "id": "DeUp527mDz1l"
      },
      "source": [
        "lyr = ATTAINS.layer('ATTAINS Assessment Points')"
      ],
      "execution_count": null,
      "outputs": []
    },
    {
      "cell_type": "code",
      "metadata": {
        "colab": {
          "base_uri": "https://localhost:8080/"
        },
        "id": "_SfatN35D9UQ",
        "outputId": "14e81f46-340c-4958-a2c9-62f34547efa6"
      },
      "source": [
        "print(lyr.list_fields())"
      ],
      "execution_count": null,
      "outputs": [
        {
          "output_type": "stream",
          "text": [
            "['OBJECTID', 'Shape', 'submissionid', 'permid_joinkey', 'state', 'region', 'organizationid', 'orgtype', 'tas303d', 'organizationname', 'reportingcycle', 'assessmentunitidentifier', 'assessmentunitname', 'waterbodyreportlink', 'assmnt_joinkey', 'ircategory', 'overallstatus', 'isassessed', 'isimpaired', 'isthreatened', 'on303dlist', 'hastmdl', 'hasotherplan', 'visionpriority303d', 'drinkingwater_use', 'ecological_use', 'fishconsumption_use', 'recreation_use', 'other_use', 'algal_growth', 'ammonia', 'biotoxins', 'cause_unknown', 'cause_unknown_fish_kills', 'cause_unknown_impaired_biota', 'chlorine', 'dioxins', 'fish_consumption_advisory', 'flow_alterations', 'habitat_alterations', 'hydrologic_alteration', 'mercury', 'metals_other_than_mercury', 'noxious_aquatic_plants', 'nuisance_exotic_species', 'nuisance_native_species', 'nutrients', 'oil_and_grease', 'oxygen_depletion', 'other_cause', 'pathogens', 'pesticides', 'ph_acidity_caustic_conditions', 'polychlorinated_biphenyls_pcbs', 'radiation', 'solids_chlorides_sulfates', 'sediment', 'taste_color_and_odor', 'temperature', 'total_toxics', 'toxic_inorganics', 'toxic_organics', 'trash', 'turbidity', 'GLOBALID']\n"
          ],
          "name": "stdout"
        }
      ]
    },
    {
      "cell_type": "code",
      "metadata": {
        "id": "2hpIhssTFt3x"
      },
      "source": [
        "query = lyr.query()"
      ],
      "execution_count": null,
      "outputs": []
    },
    {
      "cell_type": "code",
      "metadata": {
        "colab": {
          "base_uri": "https://localhost:8080/"
        },
        "id": "pNdXBkcYG5Ht",
        "outputId": "9ae2852e-085d-48f1-e2bb-2dea51daca68"
      },
      "source": [
        "query.count"
      ],
      "execution_count": null,
      "outputs": [
        {
          "output_type": "execute_result",
          "data": {
            "text/plain": [
              "4022"
            ]
          },
          "metadata": {
            "tags": []
          },
          "execution_count": 339
        }
      ]
    },
    {
      "cell_type": "code",
      "metadata": {
        "id": "qAhoccYiEvJ-"
      },
      "source": [
        "# create FeatureLayer\r\n",
        "url = 'https://gispub.epa.gov/arcgis/rest/services/OW/ATTAINS_Assessment/MapServer/1'\r\n",
        "hazards = restapi.FeatureLayer(url)\r\n",
        "\r\n",
        "# QUERY EXAMPLES\r\n",
        "\r\n",
        "# query all features, to fetch all regardless of `maxRecordCount` \r\n",
        "# use `exceed_limit=true` keyword arg\r\n",
        "fs = hazards.query()\r\n",
        "#fs.fields\r\n",
        "print('All Hazards Count: {}'.format(fs.count))\r\n",
        "\r\n",
        "# query features that are \"High\" Priority\r\n",
        "#high_priority = hazards.query(where=\"Priority = 'High'\")\r\n",
        "#print('High Priority Hazards count: {}'.format(high_priority.count))"
      ],
      "execution_count": null,
      "outputs": []
    },
    {
      "cell_type": "markdown",
      "metadata": {
        "id": "pb4o8LYeTr71"
      },
      "source": [
        "## APPENDICIES"
      ]
    },
    {
      "cell_type": "markdown",
      "metadata": {
        "id": "PJt1exdmSOuu"
      },
      "source": [
        "## Geopandas Libraries Install"
      ]
    },
    {
      "cell_type": "code",
      "metadata": {
        "id": "ksPdAXkySC2p"
      },
      "source": [
        "# Install and load libraries, may be able to remove some uneeded libraries\r\n",
        "%%time \r\n",
        "!apt install gdal-bin python-gdal python3-gdal \r\n",
        "!apt install python3-rtree \r\n",
        "!pip install git+git://github.com/geopandas/geopandas.git\r\n",
        "!pip install descartes \r\n",
        "!pip install folium\r\n",
        "!pip install pygeos\r\n",
        "!pip install arcgis\r\n",
        "!pip install contextily\r\n",
        "!pip install xlsxwriter\r\n",
        "from pathlib import Path\r\n",
        "import sys\r\n",
        "import os\r\n",
        "from zipfile import ZipFile\r\n",
        "import datetime as dt\r\n",
        "import requests\r\n",
        "import pandas as pd\r\n",
        "import numpy as np\r\n",
        "import geopandas as gpd\r\n",
        "from shapely.geometry import Point\r\n",
        "import matplotlib\r\n",
        "import matplotlib.pyplot as plt \r\n",
        "import folium\r\n",
        "from IPython.display import display\r\n",
        "import contextily as ctx\r\n",
        "from IPython.display import Image\r\n",
        "from IPython.display import Markdown as md"
      ],
      "execution_count": null,
      "outputs": []
    },
    {
      "cell_type": "code",
      "metadata": {
        "id": "xbbFXheFi5Sz"
      },
      "source": [
        ""
      ],
      "execution_count": null,
      "outputs": []
    }
  ]
}