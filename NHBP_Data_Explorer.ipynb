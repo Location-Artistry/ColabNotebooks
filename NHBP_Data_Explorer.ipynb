{
  "nbformat": 4,
  "nbformat_minor": 0,
  "metadata": {
    "colab": {
      "name": "NHBP-Data-Explorer.ipynb",
      "provenance": [],
      "collapsed_sections": [
        "pb4o8LYeTr71"
      ],
      "toc_visible": true,
      "authorship_tag": "ABX9TyPv6qKxGiLFuM6THKyUNx8i",
      "include_colab_link": true
    },
    "kernelspec": {
      "name": "python3",
      "display_name": "Python 3"
    }
  },
  "cells": [
    {
      "cell_type": "markdown",
      "metadata": {
        "id": "view-in-github",
        "colab_type": "text"
      },
      "source": [
        "<a href=\"https://colab.research.google.com/github/Location-Artistry/ColabNotebooks/blob/master/NHBP_Data_Explorer.ipynb\" target=\"_parent\"><img src=\"https://colab.research.google.com/assets/colab-badge.svg\" alt=\"Open In Colab\"/></a>"
      ]
    },
    {
      "cell_type": "markdown",
      "metadata": {
        "id": "Ik4VOc4bSnfL"
      },
      "source": [
        "# **ArcREST Data Explorer**   \r\n",
        "# Efficient ArcGIS Server Browsing Library\r\n",
        "## Quickly view all services and layers available from an ArcGIS Server URL\r\n"
      ]
    },
    {
      "cell_type": "markdown",
      "metadata": {
        "id": "F1IMXbKt7zIt"
      },
      "source": [
        "### Built on top of bmi-arcgis-restapi library\r\n",
        "bmi-arcgis-restapi provides additional functionality beyond the arcgis Python API.  It will use ArcPy if available, or open source libraries if not.\r\n",
        "https://github.com/Bolton-and-Menk-GIS/restapi   \r\n",
        "Also deploys GeoPandas to read in Layer Query as a GeoDataframe\r\n"
      ]
    },
    {
      "cell_type": "markdown",
      "metadata": {
        "id": "M55TkG3XWUAs"
      },
      "source": [
        "## Class and Function Definitions\r\n",
        "Creates 3 new classes:\r\n",
        "\r\n",
        "\r\n",
        "1.   mapServer - the root ArcServer Object\r\n",
        "2.   arcService - Services contained with the mapServer\r\n",
        "3.   mapLayer - Layers available through a arcService\r\n",
        "\r\n",
        "\r\n"
      ]
    },
    {
      "cell_type": "markdown",
      "metadata": {
        "id": "dXFZdCFeMaNs"
      },
      "source": [
        "## Working to debug ArcREST Data Explorer Library to be compatible with NHBP ArcGIS Online Server Types\r\n",
        "Working 1-15-2020\r\n"
      ]
    },
    {
      "cell_type": "code",
      "metadata": {
        "id": "FU8AhX7vDdfP"
      },
      "source": [
        "!pip install bmi-arcgis-restapi\r\n",
        "import restapi"
      ],
      "execution_count": null,
      "outputs": []
    },
    {
      "cell_type": "code",
      "metadata": {
        "id": "KraQcHhof8dp"
      },
      "source": [
        "# Class creates a <-mapServer object-> based on restapi.ArcServer from bmi-arcgis-restapi library\r\n",
        "class mapServer:\r\n",
        "# -init- function, ArcServer object as self.ags, server endpoint as self.url\r\n",
        "  def __init__(self, url):\r\n",
        "    try:\r\n",
        "      creds = input(f'Credentials Needed (YES/NO)? ')\r\n",
        "      if creds.upper() == 'YES':          \r\n",
        "        id = input(f'ArcGIS Online USER ID: ')\r\n",
        "        pwd = getpass.getpass('PASSWORD: ')\r\n",
        "        self.ags = restapi.ArcServer(url, id, pwd)\r\n",
        "      else:\r\n",
        "        self.ags = restapi.ArcServer(url)\r\n",
        "      self.url = url\r\n",
        "      display('MAPSERVER OBJECT CREATED', self.ags)\r\n",
        "    except:\r\n",
        "      display(f'FAILED TO CREATE MAPSERVER')\r\n",
        "# -getServices- displays and returns a list of all ArcGIS services\r\n",
        "  def getServices(self):\r\n",
        "    for i, service in enumerate(self.ags.services):\r\n",
        "      display(f'{i} - Service Name: {service.name} -  Service Type: {service.type}')\r\n",
        "    return self.ags.services \r\n",
        "# -getFolders- displays and returns list of all folders\r\n",
        "  def getFolders(self):\r\n",
        "    try:\r\n",
        "      for i, folder in enumerate(self.ags.folders):\r\n",
        "        display(f'{i} - Folder: {folder}') \r\n",
        "      return self.ags.folders\r\n",
        "    except:\r\n",
        "      return 0\r\n",
        "# -getNestedServ- gets a mapServer's nested services\r\n",
        "  def getNestedServices(self):\r\n",
        "    for i, folder in enumerate(self.ags.folders):\r\n",
        "      display(f'{i} - Folder: {folder}')\r\n",
        "      ags = restapi.ArcServer(f'{self.ags.url}/{folder}')\r\n",
        "      for z, service in enumerate(ags.services):\r\n",
        "        display(f'   {z} - Service Name: {service.name} -  Service Type: {service.type}')\r\n",
        "# -getAttr- get atrributes and show values for non-function methods of for MapServer Object\r\n",
        "  def getAttr(self):\r\n",
        "    for attribute in dir(self.ags):\r\n",
        "      display(f'Attribute Names: {attribute} - {self.ags[attribute]}')\r\n",
        "# -listAttr- list all attrbutes of MapServer Object\r\n",
        "  def listAttr(self):\r\n",
        "    return dir(self.ags)\r\n",
        "# -getSubService- returns a arcService object within specified mapServer\r\n",
        "  def getSubService(self, rootServer=0):\r\n",
        "    folders = self.getFolders()\r\n",
        "    services = self.getServices()\r\n",
        "    display(f'{self.url} -  ')\r\n",
        "    if not folders:\r\n",
        "      fID = int(input(f'Select index of subservice: '))\r\n",
        "      url = services[fID].name\r\n",
        "      try:\r\n",
        "        subService = self.getService(url)\r\n",
        "        return subService\r\n",
        "      except:\r\n",
        "        url = (f'{self.url}/{url}/FeatureServer')\r\n",
        "        # working here\r\n",
        "        subService = arcService(self, url)\r\n",
        "        return subService\r\n",
        "    else:\r\n",
        "      fID = int(input(f'Select index of subservice folder: '))\r\n",
        "      serviceURL = (f'{self.url}/{folders[fID]}')\r\n",
        "      subFolder = mapServer(serviceURL)\r\n",
        "      subServices = subFolder.getServices()\r\n",
        "      fID = int(input(f'Select index of subservice: '))\r\n",
        "      serviceName = subServices[fID].name\r\n",
        "      display(self.url, serviceName)\r\n",
        "      subService = arcService(self, serviceName)\r\n",
        "      return subService\r\n",
        "\r\n",
        "# Class creates a <-arcService object-> based on ags.getService from bmi-arcgis-restapi library\r\n",
        "class arcService:\r\n",
        "# -init- create arcService from mapServer Class  \r\n",
        "  def __init__(self, server, servName): \r\n",
        "    try:\r\n",
        "      self.ags = server.ags.getService(servName)\r\n",
        "      self.url = self.ags.url\r\n",
        "      display(f'ARCSERVICE OBJECT CREATED - {self.ags.url}')  \r\n",
        "    except:\r\n",
        "      self.ags = restapi.MapService(servName)\r\n",
        "      self.url = self.ags.url\r\n",
        "      display(f'ARCSERVICE OBJECT CREATED - {self.ags.url}') \r\n",
        "  def getAttr(self):\r\n",
        "    try:\r\n",
        "      for attribute in dir(self.ags):\r\n",
        "        display(f'Attribute Names: {attribute} - {self.ags[attribute]}')\r\n",
        "    except:\r\n",
        "      display(f'Could not get Attributes for: {self.ags.url}')\r\n",
        "  def listAttr(self):\r\n",
        "    try:\r\n",
        "      return dir(self.ags)\r\n",
        "    except:\r\n",
        "      display(f'Could not get List Attributes for: {self.ags.url}')\r\n",
        "  def desc(self):\r\n",
        "    try:\r\n",
        "      return self.ags.description\r\n",
        "    except:\r\n",
        "      display(f'Could not get Description for: {self.ags.url}')\r\n",
        "  def spatialRef(self):\r\n",
        "    try:\r\n",
        "      return self.ags.spatialReference\r\n",
        "    except:\r\n",
        "      display(f'Could not get spatialReference for: {self.ags.url}')\r\n",
        "  def units(self):\r\n",
        "    try:\r\n",
        "      return self.ags.units\r\n",
        "    except:\r\n",
        "      display(f'Could not get Units for: {self.ags.url}')\r\n",
        "  def layers(self):\r\n",
        "    try:\r\n",
        "      return self.ags.list_layers()\r\n",
        "    except:\r\n",
        "      display(f'Could not list Layers for: {self.ags.url}')\r\n",
        "  def tables(self):\r\n",
        "    try:\r\n",
        "      return self.ags.list_tables()\r\n",
        "    except:\r\n",
        "      display(f'Could not get Tables for: {self.ags.url}')\r\n",
        "# -getLayer- returns a mapLayer from arcService Class\r\n",
        "  def getLayer(self):\r\n",
        "    try: \r\n",
        "      for i, lay in enumerate(self.ags.layers):\r\n",
        "        display(f'{i} - {lay.name}')\r\n",
        "      layers = self.layers()\r\n",
        "      # small change here separate two lines of code for input ***\r\n",
        "      time.sleep(1)\r\n",
        "      fID = int(input('Select index of Layer: '))\r\n",
        "      layerObj = mapLayer(self, layers[fID])\r\n",
        "      return layerObj\r\n",
        "    except:\r\n",
        "      display(f'Could not Get Layers for: {self.ags.url}')\r\n",
        "# -getTable- returns table object from arcService Class  \r\n",
        "  def getTable(self):\r\n",
        "    try:\r\n",
        "      tableList = self.tables()\r\n",
        "      for i, lay in enumerate(tableList):\r\n",
        "        display(f'{i} - {tableList[i]}')\r\n",
        "      time.sleep(1)\r\n",
        "      fID = int(input(f'Select index of Table: '))      \r\n",
        "      #table = self.ags.table(tableList[fID])\r\n",
        "      tableID = tableList[fID]\r\n",
        "      table = mapTable(self, tableID)\r\n",
        "      return table\r\n",
        "    except:\r\n",
        "      display(f'Not able to return table for: {self.ags.url}')\r\n",
        "\r\n",
        "# Class creates a <-Layer object-> based on ags.layer from bmi-arcgis-restapi library\r\n",
        "class mapLayer:\r\n",
        "  def __init__(self, service, lyrName): \r\n",
        "    try:\r\n",
        "      self.lyr = service.ags.layer(lyrName)\r\n",
        "      display(f'LAYER CREATED - {self.lyr.name} - id: {self.lyr.id} - url: {self.lyr.url}')\r\n",
        "    except:\r\n",
        "      display(f'COULD NOT CREATE mapLayer')\r\n",
        "  def getInfo(self):\r\n",
        "    try:\r\n",
        "      display(f'{self.lyr.name} - capabilities: {self.lyr.capabilities} - query formats: {self.lyr.supportedQueryFormats} - count: {self.lyr.getCount()}')\r\n",
        "    except:\r\n",
        "      display(f'Could not get Info for: {self.lyr.name}')\r\n",
        "  def getFields(self):\r\n",
        "    try:\r\n",
        "      return self.lyr.list_fields()\r\n",
        "    except:\r\n",
        "      display(f'Could not get Fields for: {self.lyr.name}')\r\n",
        "  def getSubLayers(self):\r\n",
        "    try:\r\n",
        "      return self.lyr.subLayers\r\n",
        "    except:\r\n",
        "      display(f'{self.lyr.name} does not have any SubLayers')\r\n",
        "# -layerQuery- prompts user for SQL query and fields, returns geoDataframe object which has access to all pandas/geoPandas methods\r\n",
        "  def layerQuery (self):\r\n",
        "    try:\r\n",
        "      baseURL = self.lyr.url\r\n",
        "      SQL = input(f'SQL query(ENTER for ALL): ') or '1=1'\r\n",
        "      fields = input(f'Fields(ENTER for ALL)? ') or '*'\r\n",
        "      RESTurl = (f'{baseURL}/query?f=geojson&where={SQL}&outFields={fields}')\r\n",
        "      gdf = gpd.read_file(RESTurl)\r\n",
        "      return gdf\r\n",
        "    except:\r\n",
        "      display(f'Query unsuccessful for: {self.lyr.name}')\r\n",
        "\r\n",
        "# NEW CLASS NEED TO EDIT FIRST TO USE - MODELLED AFTER gisLayer\r\n",
        "# Class creates a <-mapTable object-> based on ags.layer from bmi-arcgis-restapi library\r\n",
        "class mapTable:\r\n",
        "  def __init__(self, service, id): \r\n",
        "    try:\r\n",
        "      self.table = service.ags.table(id)\r\n",
        "      #self.lyr = service.ags.layer(lyrName)\r\n",
        "      display(f'TABLE CREATED - {self.table.name} - id: {self.table.id} - url: {self.table.url}')\r\n",
        "    except:\r\n",
        "      display(f'COULD NOT CREATE mapTable')\r\n",
        "  def getInfo(self):\r\n",
        "    try:\r\n",
        "      display(f'{self.table.name} - capabilities: {self.table.capabilities} - query formats: {self.table.supportedQueryFormats} - count: {self.table.getCount()}')\r\n",
        "    except:\r\n",
        "      display(f'Could not get Info for: {self.table.name}')\r\n",
        "  def getFields(self):\r\n",
        "    try:\r\n",
        "      return self.table.list_fields()\r\n",
        "    except:\r\n",
        "      display(f'Could not get Fields for: {self.table.name}')\r\n",
        "  def getSubLayers(self):\r\n",
        "    try:\r\n",
        "      return self.table.subLayers\r\n",
        "    except:\r\n",
        "      display(f'{self.table.name} does not have any SubTables')\r\n",
        "# -layerQuery- prompts user for SQL query and fields, returns geoDataframe object which has access to all pandas/geoPandas methods\r\n",
        "  def layerQuery (self):\r\n",
        "    try:\r\n",
        "      baseURL = self.table.url\r\n",
        "      SQL = input(f'SQL query(ENTER for ALL): ') or '1=1'\r\n",
        "      fields = input(f'Fields(ENTER for ALL)? ') or '*'\r\n",
        "      RESTurl = (f'{baseURL}/query?f=geojson&where={SQL}&outFields={fields}')\r\n",
        "      gdf = gpd.read_file(RESTurl)\r\n",
        "      return gdf\r\n",
        "    except:\r\n",
        "      display(f'Query unsuccessful for: {self.table.name}')"
      ],
      "execution_count": 16,
      "outputs": []
    },
    {
      "cell_type": "markdown",
      "metadata": {
        "id": "WMQU31zwnwnT"
      },
      "source": [
        "## Sample Workflow from ArcGIS REST Server Endpoint\r\n",
        "Entire Workflow for newly created Arc Server Workflow using bmi-arcgis-restapi\r\n",
        "\r\n",
        "\r\n",
        "1.   Create mapServer with Server root url\r\n",
        "2.   Derive specified arcService from root MapServer Object\r\n",
        "3.   Generate layer from specified arcService Endpoint\r\n",
        "4.   Return geoDataframe from layer query\r\n",
        "5.   Perform data analysis and visualization with gdf\r\n",
        "\r\n"
      ]
    },
    {
      "cell_type": "markdown",
      "metadata": {
        "id": "guWDp-IACXPr"
      },
      "source": [
        "### Sample EPA Server Workflow"
      ]
    },
    {
      "cell_type": "code",
      "metadata": {
        "colab": {
          "base_uri": "https://localhost:8080/",
          "height": 71
        },
        "id": "su_W3nVE4xzI",
        "outputId": "c5725eab-4ca6-4a9a-b019-6d74d84354ac"
      },
      "source": [
        "# 1 - Create MapServer with Server root url\r\n",
        "rest_url = 'https://gispub.epa.gov/arcgis/rest/services'\r\n",
        "gisServer = mapServer(rest_url)"
      ],
      "execution_count": 8,
      "outputs": [
        {
          "output_type": "stream",
          "text": [
            "Credentials Needed (YES/NO)? no\n"
          ],
          "name": "stdout"
        },
        {
          "output_type": "display_data",
          "data": {
            "application/vnd.google.colaboratory.intrinsic+json": {
              "type": "string"
            },
            "text/plain": [
              "'MAPSERVER OBJECT CREATED'"
            ]
          },
          "metadata": {
            "tags": []
          }
        },
        {
          "output_type": "display_data",
          "data": {
            "text/plain": [
              "<ArcServer: \"gispub.epa.gov\" (\"arcgis\")>"
            ]
          },
          "metadata": {
            "tags": []
          }
        }
      ]
    },
    {
      "cell_type": "code",
      "metadata": {
        "id": "bOQidO4DStQk"
      },
      "source": [
        "# 2 - Derive specified arcService from root MapServer Object\r\n",
        "gisService = gisServer.getSubService()"
      ],
      "execution_count": null,
      "outputs": []
    },
    {
      "cell_type": "code",
      "metadata": {
        "colab": {
          "base_uri": "https://localhost:8080/",
          "height": 143
        },
        "id": "ezg1XCjp9vQx",
        "outputId": "9bb41084-c49f-4cf9-cb6b-96e433da77fd"
      },
      "source": [
        "# 3 - Generate layer from specific specified arcService Endpoint\r\n",
        "gisLayer = gisService.getLayer()\r\n",
        "gisLayer.getInfo()"
      ],
      "execution_count": null,
      "outputs": [
        {
          "output_type": "display_data",
          "data": {
            "application/vnd.google.colaboratory.intrinsic+json": {
              "type": "string"
            },
            "text/plain": [
              "'0 - ATTAINS Assessment Points'"
            ]
          },
          "metadata": {
            "tags": []
          }
        },
        {
          "output_type": "display_data",
          "data": {
            "application/vnd.google.colaboratory.intrinsic+json": {
              "type": "string"
            },
            "text/plain": [
              "'1 - ATTAINS Assessment Lines'"
            ]
          },
          "metadata": {
            "tags": []
          }
        },
        {
          "output_type": "display_data",
          "data": {
            "application/vnd.google.colaboratory.intrinsic+json": {
              "type": "string"
            },
            "text/plain": [
              "'2 - ATTAINS Assessment Areas'"
            ]
          },
          "metadata": {
            "tags": []
          }
        },
        {
          "output_type": "display_data",
          "data": {
            "application/vnd.google.colaboratory.intrinsic+json": {
              "type": "string"
            },
            "text/plain": [
              "'3 - ATTAINS Assessment Unit Catchment Associations'"
            ]
          },
          "metadata": {
            "tags": []
          }
        },
        {
          "output_type": "stream",
          "text": [
            "Select index of Layer: 0\n"
          ],
          "name": "stdout"
        },
        {
          "output_type": "display_data",
          "data": {
            "application/vnd.google.colaboratory.intrinsic+json": {
              "type": "string"
            },
            "text/plain": [
              "'LAYER CREATED - ATTAINS Assessment Points - id: 0 - url: https://gispub.epa.gov/arcgis/rest/services/OW/ATTAINS_Assessment/MapServer/0'"
            ]
          },
          "metadata": {
            "tags": []
          }
        },
        {
          "output_type": "display_data",
          "data": {
            "application/vnd.google.colaboratory.intrinsic+json": {
              "type": "string"
            },
            "text/plain": [
              "'ATTAINS Assessment Points - capabilities: Map,Query,Data - query formats: JSON, geoJSON, PBF - count: 4022'"
            ]
          },
          "metadata": {
            "tags": []
          }
        }
      ]
    },
    {
      "cell_type": "code",
      "metadata": {
        "id": "UnVIXMsZCVkV"
      },
      "source": [
        "# 4 - Return geoDataframe from layer query\r\n",
        "gdf = gisLayer.layerQuery()\r\n",
        "gdf.head()"
      ],
      "execution_count": null,
      "outputs": []
    },
    {
      "cell_type": "markdown",
      "metadata": {
        "id": "RzjPkburCaw8"
      },
      "source": [
        "## Working NHBP Workflow\r\n",
        "Functions to get layers and tables still randomly hanging"
      ]
    },
    {
      "cell_type": "code",
      "metadata": {
        "colab": {
          "base_uri": "https://localhost:8080/",
          "height": 71
        },
        "id": "YfcxmCKLSBs_",
        "outputId": "dd8b2570-281e-416d-bb32-4bb4aa57923f"
      },
      "source": [
        "# 1 - Create MapServer with Server root url\r\n",
        "rest_url = 'https://services5.arcgis.com/RsKCQCx9eUKixVOM/arcgis/rest/services'\r\n",
        "gisServer = mapServer(rest_url)"
      ],
      "execution_count": 17,
      "outputs": [
        {
          "output_type": "stream",
          "text": [
            "Credentials Needed (YES/NO)? no\n"
          ],
          "name": "stdout"
        },
        {
          "output_type": "display_data",
          "data": {
            "application/vnd.google.colaboratory.intrinsic+json": {
              "type": "string"
            },
            "text/plain": [
              "'MAPSERVER OBJECT CREATED'"
            ]
          },
          "metadata": {
            "tags": []
          }
        },
        {
          "output_type": "display_data",
          "data": {
            "text/plain": [
              "<ArcServer: \"services5.arcgis.com\" (\"RsKCQCx9eUKixVOM\")>"
            ]
          },
          "metadata": {
            "tags": []
          }
        }
      ]
    },
    {
      "cell_type": "code",
      "metadata": {
        "id": "PCMtqJIFSFfH"
      },
      "source": [
        "# 2 - Derive specified arcService from root MapServer Object\r\n",
        "gisService = gisServer.getSubService()"
      ],
      "execution_count": null,
      "outputs": []
    },
    {
      "cell_type": "code",
      "metadata": {
        "colab": {
          "base_uri": "https://localhost:8080/"
        },
        "id": "Ydqheg2HDEYa",
        "outputId": "69f5687a-ceaf-4288-8827-643ef25f2a3f"
      },
      "source": [
        "gisService.layers()"
      ],
      "execution_count": 19,
      "outputs": [
        {
          "output_type": "execute_result",
          "data": {
            "text/plain": [
              "['WATER_STATIONS_2020']"
            ]
          },
          "metadata": {
            "tags": []
          },
          "execution_count": 19
        }
      ]
    },
    {
      "cell_type": "code",
      "metadata": {
        "colab": {
          "base_uri": "https://localhost:8080/",
          "height": 71
        },
        "id": "jLEawJX08nq8",
        "outputId": "bd940b7f-008e-475e-a284-b88b4f738181"
      },
      "source": [
        "# 3 - Generate layer from specific specified arcService Endpoint\n",
        "gisLayer = gisService.getLayer()\n",
        "#gisLayer.getInfo()"
      ],
      "execution_count": 20,
      "outputs": [
        {
          "output_type": "display_data",
          "data": {
            "application/vnd.google.colaboratory.intrinsic+json": {
              "type": "string"
            },
            "text/plain": [
              "'0 - WATER_STATIONS_2020'"
            ]
          },
          "metadata": {
            "tags": []
          }
        },
        {
          "output_type": "stream",
          "text": [
            "Select index of Layer: 0\n"
          ],
          "name": "stdout"
        },
        {
          "output_type": "display_data",
          "data": {
            "application/vnd.google.colaboratory.intrinsic+json": {
              "type": "string"
            },
            "text/plain": [
              "'LAYER CREATED - WATER_STATIONS_2020 - id: 0 - url: https://services5.arcgis.com/RsKCQCx9eUKixVOM/arcgis/rest/services/WATER_SAMPLING_2020/FeatureServer/0'"
            ]
          },
          "metadata": {
            "tags": []
          }
        }
      ]
    },
    {
      "cell_type": "code",
      "metadata": {
        "colab": {
          "base_uri": "https://localhost:8080/",
          "height": 71
        },
        "id": "3nI_BIFJvBff",
        "outputId": "4e9a1d8b-b3ad-44dc-b9de-d8e77f9f6f2c"
      },
      "source": [
        "# 3(t) - new function to get table from Service\r\n",
        "gisTable = gisService.getTable()\r\n",
        "#gisTable.capabilities()"
      ],
      "execution_count": 21,
      "outputs": [
        {
          "output_type": "display_data",
          "data": {
            "application/vnd.google.colaboratory.intrinsic+json": {
              "type": "string"
            },
            "text/plain": [
              "'0 - WATER_DATA_2020'"
            ]
          },
          "metadata": {
            "tags": []
          }
        },
        {
          "output_type": "stream",
          "text": [
            "Select index of Table: 0\n"
          ],
          "name": "stdout"
        },
        {
          "output_type": "display_data",
          "data": {
            "application/vnd.google.colaboratory.intrinsic+json": {
              "type": "string"
            },
            "text/plain": [
              "'TABLE CREATED - WATER_DATA_2020 - id: 1 - url: https://services5.arcgis.com/RsKCQCx9eUKixVOM/arcgis/rest/services/WATER_SAMPLING_2020/FeatureServer/1'"
            ]
          },
          "metadata": {
            "tags": []
          }
        }
      ]
    },
    {
      "cell_type": "code",
      "metadata": {
        "id": "mn2AMciNPxf8"
      },
      "source": [
        "# 4(t) - new function to get table from Service\r\n",
        "gdf = gisTable.layerQuery()\r\n",
        "gdf.head().T"
      ],
      "execution_count": null,
      "outputs": []
    },
    {
      "cell_type": "code",
      "metadata": {
        "colab": {
          "base_uri": "https://localhost:8080/"
        },
        "id": "Pb5Lcjd5RPTd",
        "outputId": "2a1ea3e1-dec8-4b6c-f998-1decfde459ec"
      },
      "source": [
        "gisTable.getCount()"
      ],
      "execution_count": null,
      "outputs": [
        {
          "output_type": "execute_result",
          "data": {
            "text/plain": [
              "40"
            ]
          },
          "metadata": {
            "tags": []
          },
          "execution_count": 55
        }
      ]
    },
    {
      "cell_type": "code",
      "metadata": {
        "id": "bxodky_lmqcI"
      },
      "source": [
        "# 4 - Return geoDataframe from layer query\r\n",
        "gdf = gisLayer.layerQuery()\r\n",
        "gdf.head()"
      ],
      "execution_count": null,
      "outputs": []
    },
    {
      "cell_type": "code",
      "metadata": {
        "id": "1PvMeIooj9Bf"
      },
      "source": [
        " gdf.info()"
      ],
      "execution_count": null,
      "outputs": []
    },
    {
      "cell_type": "code",
      "metadata": {
        "id": "Z3AC0oLoNo05"
      },
      "source": [
        "columns = gdf.columns\r\n",
        "columnName = columns[1]"
      ],
      "execution_count": null,
      "outputs": []
    },
    {
      "cell_type": "code",
      "metadata": {
        "colab": {
          "base_uri": "https://localhost:8080/",
          "height": 53
        },
        "id": "VTYWN9Epiy7Y",
        "outputId": "ae2f0684-fd04-4937-986d-57fab055770e"
      },
      "source": [
        "# List of unique organization IDs\r\n",
        "uniqueVal = gdf[columnName].unique()\r\n",
        "display(f'Number of {columnName}(s): {len(uniqueVal)}')\r\n",
        "display(uniqueVal)"
      ],
      "execution_count": null,
      "outputs": [
        {
          "output_type": "display_data",
          "data": {
            "application/vnd.google.colaboratory.intrinsic+json": {
              "type": "string"
            },
            "text/plain": [
              "'Number of NAME(s): 2'"
            ]
          },
          "metadata": {
            "tags": []
          }
        },
        {
          "output_type": "display_data",
          "data": {
            "text/plain": [
              "array(['1821 Reservation', '1827 Reservation'], dtype=object)"
            ]
          },
          "metadata": {
            "tags": []
          }
        }
      ]
    },
    {
      "cell_type": "code",
      "metadata": {
        "colab": {
          "base_uri": "https://localhost:8080/"
        },
        "id": "tPh07xFtjV7s",
        "outputId": "bba5c337-8e57-4f30-d393-32cee2f30572"
      },
      "source": [
        "valColumn = columns[1]\r\n",
        "gdf[valColumn].value_counts()"
      ],
      "execution_count": null,
      "outputs": [
        {
          "output_type": "execute_result",
          "data": {
            "text/plain": [
              "1827 Reservation    1\n",
              "1821 Reservation    1\n",
              "Name: NAME, dtype: int64"
            ]
          },
          "metadata": {
            "tags": []
          },
          "execution_count": 17
        }
      ]
    },
    {
      "cell_type": "code",
      "metadata": {
        "colab": {
          "base_uri": "https://localhost:8080/"
        },
        "id": "r3phzETTPfKy",
        "outputId": "9838cde1-d817-4691-ac6b-1417c483c2d2"
      },
      "source": [
        "gdf.columns"
      ],
      "execution_count": null,
      "outputs": [
        {
          "output_type": "execute_result",
          "data": {
            "text/plain": [
              "Index(['OBJECTID', 'NAME', 'YEAR', 'COMMENT', 'Shape__Area', 'Shape__Length',\n",
              "       'geometry'],\n",
              "      dtype='object')"
            ]
          },
          "metadata": {
            "tags": []
          },
          "execution_count": 18
        }
      ]
    },
    {
      "cell_type": "code",
      "metadata": {
        "colab": {
          "base_uri": "https://localhost:8080/",
          "height": 162
        },
        "id": "NoYPndmNm-Sr",
        "outputId": "8b8f0e8c-c3ef-4edb-ddab-4716a266d0f9"
      },
      "source": [
        "gdf.groupby('Metals').count()"
      ],
      "execution_count": null,
      "outputs": [
        {
          "output_type": "execute_result",
          "data": {
            "text/html": [
              "<div>\n",
              "<style scoped>\n",
              "    .dataframe tbody tr th:only-of-type {\n",
              "        vertical-align: middle;\n",
              "    }\n",
              "\n",
              "    .dataframe tbody tr th {\n",
              "        vertical-align: top;\n",
              "    }\n",
              "\n",
              "    .dataframe thead th {\n",
              "        text-align: right;\n",
              "    }\n",
              "</style>\n",
              "<table border=\"1\" class=\"dataframe\">\n",
              "  <thead>\n",
              "    <tr style=\"text-align: right;\">\n",
              "      <th></th>\n",
              "      <th>OBJECTID</th>\n",
              "      <th>SiteName</th>\n",
              "      <th>MonitorType</th>\n",
              "      <th>AqsId</th>\n",
              "      <th>StationAddress</th>\n",
              "      <th>MonitoringDataWebpage</th>\n",
              "      <th>GeneralInfoWebsite</th>\n",
              "      <th>MonitorPhoto</th>\n",
              "      <th>CarbonMonoxide</th>\n",
              "      <th>TraceCarbon</th>\n",
              "      <th>NitrogenDixoide</th>\n",
              "      <th>NitrogenOxide</th>\n",
              "      <th>Ozone</th>\n",
              "      <th>SpeciationPartMat25micorn</th>\n",
              "      <th>ParticulateMatter25micron</th>\n",
              "      <th>ParticulateMatter10micron</th>\n",
              "      <th>BlackCarbon</th>\n",
              "      <th>SulfurDioxide</th>\n",
              "      <th>TraceSulfur</th>\n",
              "      <th>VolatileOrganicChemicals</th>\n",
              "      <th>Polycyclic</th>\n",
              "      <th>Carbonyls</th>\n",
              "      <th>Meteorilogic</th>\n",
              "      <th>geometry</th>\n",
              "    </tr>\n",
              "    <tr>\n",
              "      <th>Metals</th>\n",
              "      <th></th>\n",
              "      <th></th>\n",
              "      <th></th>\n",
              "      <th></th>\n",
              "      <th></th>\n",
              "      <th></th>\n",
              "      <th></th>\n",
              "      <th></th>\n",
              "      <th></th>\n",
              "      <th></th>\n",
              "      <th></th>\n",
              "      <th></th>\n",
              "      <th></th>\n",
              "      <th></th>\n",
              "      <th></th>\n",
              "      <th></th>\n",
              "      <th></th>\n",
              "      <th></th>\n",
              "      <th></th>\n",
              "      <th></th>\n",
              "      <th></th>\n",
              "      <th></th>\n",
              "      <th></th>\n",
              "      <th></th>\n",
              "    </tr>\n",
              "  </thead>\n",
              "  <tbody>\n",
              "    <tr>\n",
              "      <th>No</th>\n",
              "      <td>33</td>\n",
              "      <td>33</td>\n",
              "      <td>33</td>\n",
              "      <td>32</td>\n",
              "      <td>33</td>\n",
              "      <td>32</td>\n",
              "      <td>33</td>\n",
              "      <td>30</td>\n",
              "      <td>33</td>\n",
              "      <td>33</td>\n",
              "      <td>33</td>\n",
              "      <td>33</td>\n",
              "      <td>33</td>\n",
              "      <td>33</td>\n",
              "      <td>33</td>\n",
              "      <td>33</td>\n",
              "      <td>33</td>\n",
              "      <td>33</td>\n",
              "      <td>33</td>\n",
              "      <td>33</td>\n",
              "      <td>33</td>\n",
              "      <td>33</td>\n",
              "      <td>33</td>\n",
              "      <td>33</td>\n",
              "    </tr>\n",
              "    <tr>\n",
              "      <th>Yes</th>\n",
              "      <td>12</td>\n",
              "      <td>12</td>\n",
              "      <td>12</td>\n",
              "      <td>12</td>\n",
              "      <td>12</td>\n",
              "      <td>12</td>\n",
              "      <td>12</td>\n",
              "      <td>9</td>\n",
              "      <td>12</td>\n",
              "      <td>12</td>\n",
              "      <td>12</td>\n",
              "      <td>12</td>\n",
              "      <td>12</td>\n",
              "      <td>12</td>\n",
              "      <td>12</td>\n",
              "      <td>12</td>\n",
              "      <td>12</td>\n",
              "      <td>12</td>\n",
              "      <td>12</td>\n",
              "      <td>12</td>\n",
              "      <td>12</td>\n",
              "      <td>12</td>\n",
              "      <td>12</td>\n",
              "      <td>12</td>\n",
              "    </tr>\n",
              "  </tbody>\n",
              "</table>\n",
              "</div>"
            ],
            "text/plain": [
              "        OBJECTID  SiteName  MonitorType  ...  Carbonyls  Meteorilogic  geometry\n",
              "Metals                                   ...                                   \n",
              "No            33        33           33  ...         33            33        33\n",
              "Yes           12        12           12  ...         12            12        12\n",
              "\n",
              "[2 rows x 24 columns]"
            ]
          },
          "metadata": {
            "tags": []
          },
          "execution_count": 34
        }
      ]
    },
    {
      "cell_type": "code",
      "metadata": {
        "colab": {
          "base_uri": "https://localhost:8080/",
          "height": 501
        },
        "id": "nXlJqExlRW_Z",
        "outputId": "05876961-d20d-462d-c5b5-8d9cb5dbaf5b"
      },
      "source": [
        "gdf[columnName].hist(alpha=0.8, figsize=(10,8))"
      ],
      "execution_count": null,
      "outputs": [
        {
          "output_type": "execute_result",
          "data": {
            "text/plain": [
              "<matplotlib.axes._subplots.AxesSubplot at 0x7f9c32890e10>"
            ]
          },
          "metadata": {
            "tags": []
          },
          "execution_count": 19
        },
        {
          "output_type": "display_data",
          "data": {
            "image/png": "[encoded data removed]",
            "text/plain": [
              "<Figure size 720x576 with 1 Axes>"
            ]
          },
          "metadata": {
            "tags": [],
            "needs_background": "light"
          }
        }
      ]
    },
    {
      "cell_type": "code",
      "metadata": {
        "colab": {
          "base_uri": "https://localhost:8080/",
          "height": 596
        },
        "id": "o-5u7JXMQhxx",
        "outputId": "77c66bb6-2db7-4cac-c074-165a3c25d437"
      },
      "source": [
        "fig, ax = plt.subplots(figsize=(15,10), facecolor='#383838')\r\n",
        "ax.set_xticklabels([])\r\n",
        "ax.set_yticklabels([])\r\n",
        "gdf.plot(ax=ax, alpha=.5, markersize=40, column = columnName, legend='true', cmap='rainbow')"
      ],
      "execution_count": null,
      "outputs": [
        {
          "output_type": "execute_result",
          "data": {
            "text/plain": [
              "<matplotlib.axes._subplots.AxesSubplot at 0x7f9c32341470>"
            ]
          },
          "metadata": {
            "tags": []
          },
          "execution_count": 21
        },
        {
          "output_type": "display_data",
          "data": {
            "image/png": "[encoded data removed]",
            "text/plain": [
              "<Figure size 1080x720 with 1 Axes>"
            ]
          },
          "metadata": {
            "tags": []
          }
        }
      ]
    },
    {
      "cell_type": "code",
      "metadata": {
        "colab": {
          "base_uri": "https://localhost:8080/",
          "height": 601
        },
        "id": "1jx91-R4RALS",
        "outputId": "1e76d1da-d098-4147-834e-880537e76c87"
      },
      "source": [
        "fig, ax = plt.subplots(figsize=(15,10),facecolor='#383838')\r\n",
        "ax.set_aspect('equal')\r\n",
        "ax.set_xticklabels([])\r\n",
        "ax.set_yticklabels([])\r\n",
        "#gdf2.plot(ax=ax, alpha=.3, color='none', linewidth=1, zorder=1, edgecolor='darkturquoise')\r\n",
        "gdf.plot(ax=ax, alpha=.8, markersize=50, column = columnName, legend='true', cmap='rainbow')\r\n",
        "plt.title('EGLE Air Stations with PM2.5 Sensors', fontsize=26, color='white')\r\n",
        "ax.set_axis_off()\r\n",
        "plt.show()"
      ],
      "execution_count": null,
      "outputs": [
        {
          "output_type": "display_data",
          "data": {
            "image/png": "[encoded data removed]",
            "text/plain": [
              "<Figure size 1080x720 with 1 Axes>"
            ]
          },
          "metadata": {
            "tags": []
          }
        }
      ]
    },
    {
      "cell_type": "code",
      "metadata": {
        "colab": {
          "base_uri": "https://localhost:8080/",
          "height": 601
        },
        "id": "_V9_NMyAs4i2",
        "outputId": "fcc8ef05-1f4f-4e1f-e287-7f3ef66702d1"
      },
      "source": [
        "gdf = gdf.to_crs('EPSG:3857')\r\n",
        "fig, ax = plt.subplots(figsize=(20,10),facecolor='#383838')\r\n",
        "ax.set_aspect('equal')\r\n",
        "ax.set_xticklabels([])\r\n",
        "ax.set_yticklabels([])\r\n",
        "gdf.plot(ax=ax, alpha=.8, markersize=50, column = columnName, legend='true', cmap='rainbow')\r\n",
        "plt.title('EGLE Air Stations with PM2.5 Sensors', fontsize=26, color='white')\r\n",
        "ax.set_axis_off()\r\n",
        "ctx.add_basemap(ax, source=ctx.providers.OpenStreetMap.Mapnik)\r\n"
      ],
      "execution_count": null,
      "outputs": [
        {
          "output_type": "display_data",
          "data": {
            "image/png": "[encoded data removed]",
            "text/plain": [
              "<Figure size 1440x720 with 1 Axes>"
            ]
          },
          "metadata": {
            "tags": []
          }
        }
      ]
    },
    {
      "cell_type": "code",
      "metadata": {
        "id": "tmZqkRlAlEfS",
        "colab": {
          "base_uri": "https://localhost:8080/",
          "height": 915
        },
        "outputId": "9d077893-0620-4022-ea42-8563c0ef4209"
      },
      "source": [
        " m = folium.Map(location= [44.5, -85], zoom_start = 7, tiles = 'Stamen Toner', prefer_canvas=True)\r\n",
        " folium.GeoJson(gdf).add_to(m)\r\n",
        " m"
      ],
      "execution_count": null,
      "outputs": [
        {
          "output_type": "execute_result",
          "data": {
            "text/html": [
              "<div style=\"width:100%;\"><div style=\"position:relative;width:100%;height:0;padding-bottom:60%;\"><span style=\"color:#565656\">Make this Notebook Trusted to load map: File -> Trust Notebook</span><iframe src=\"about:blank\" style=\"position:absolute;width:100%;height:100%;left:0;top:0;border:none !important;\" data-html=%3C%21DOCTYPE%20html%3E%0A%3Chead%3E%20%20%20%20%0A%20%20%20%20%3Cmeta%20http-equiv%3D%22content-type%22%20content%3D%22text/html%3B%20charset%3DUTF-8%22%20/%3E%0A%20%20%20%20%3Cscript%3EL_PREFER_CANVAS%3Dtrue%3B%20L_NO_TOUCH%3Dfalse%3B%20L_DISABLE_3D%3Dfalse%3B%3C/script%3E%0A%20%20%20%20%3Cscript%20src%3D%22https%3A//cdn.jsdelivr.net/npm/leaflet%401.4.0/dist/leaflet.js%22%3E%3C/script%3E%0A%20%20%20%20%3Cscript%20src%3D%22https%3A//code.jquery.com/jquery-1.12.4.min.js%22%3E%3C/script%3E%0A%20%20%20%20%3Cscript%20src%3D%22https%3A//maxcdn.bootstrapcdn.com/bootstrap/3.2.0/js/bootstrap.min.js%22%3E%3C/script%3E%0A%20%20%20%20%3Cscript%20src%3D%22https%3A//cdnjs.cloudflare.com/ajax/libs/Leaflet.awesome-markers/2.0.2/leaflet.awesome-markers.js%22%3E%3C/script%3E%0A%20%20%20%20%3Clink%20rel%3D%22stylesheet%22%20href%3D%22https%3A//cdn.jsdelivr.net/npm/leaflet%401.4.0/dist/leaflet.css%22/%3E%0A%20%20%20%20%3Clink%20rel%3D%22stylesheet%22%20href%3D%22https%3A//maxcdn.bootstrapcdn.com/bootstrap/3.2.0/css/bootstrap.min.css%22/%3E%0A%20%20%20%20%3Clink%20rel%3D%22stylesheet%22%20href%3D%22https%3A//maxcdn.bootstrapcdn.com/bootstrap/3.2.0/css/bootstrap-theme.min.css%22/%3E%0A%20%20%20%20%3Clink%20rel%3D%22stylesheet%22%20href%3D%22https%3A//maxcdn.bootstrapcdn.com/font-awesome/4.6.3/css/font-awesome.min.css%22/%3E%0A%20%20%20%20%3Clink%20rel%3D%22stylesheet%22%20href%3D%22https%3A//cdnjs.cloudflare.com/ajax/libs/Leaflet.awesome-markers/2.0.2/leaflet.awesome-markers.css%22/%3E%0A%20%20%20%20%3Clink%20rel%3D%22stylesheet%22%20href%3D%22https%3A//rawcdn.githack.com/python-visualization/folium/master/folium/templates/leaflet.awesome.rotate.css%22/%3E%0A%20%20%20%20%3Cstyle%3Ehtml%2C%20body%20%7Bwidth%3A%20100%25%3Bheight%3A%20100%25%3Bmargin%3A%200%3Bpadding%3A%200%3B%7D%3C/style%3E%0A%20%20%20%20%3Cstyle%3E%23map%20%7Bposition%3Aabsolute%3Btop%3A0%3Bbottom%3A0%3Bright%3A0%3Bleft%3A0%3B%7D%3C/style%3E%0A%20%20%20%20%0A%20%20%20%20%3Cmeta%20name%3D%22viewport%22%20content%3D%22width%3Ddevice-width%2C%0A%20%20%20%20%20%20%20%20initial-scale%3D1.0%2C%20maximum-scale%3D1.0%2C%20user-scalable%3Dno%22%20/%3E%0A%20%20%20%20%3Cstyle%3E%23map_24453dd5607f40ed8823674cf2d50ebd%20%7B%0A%20%20%20%20%20%20%20%20position%3A%20relative%3B%0A%20%20%20%20%20%20%20%20width%3A%20100.0%25%3B%0A%20%20%20%20%20%20%20%20height%3A%20100.0%25%3B%0A%20%20%20%20%20%20%20%20left%3A%200.0%25%3B%0A%20%20%20%20%20%20%20%20top%3A%200.0%25%3B%0A%20%20%20%20%20%20%20%20%7D%0A%20%20%20%20%3C/style%3E%0A%3C/head%3E%0A%3Cbody%3E%20%20%20%20%0A%20%20%20%20%0A%20%20%20%20%3Cdiv%20class%3D%22folium-map%22%20id%3D%22map_24453dd5607f40ed8823674cf2d50ebd%22%20%3E%3C/div%3E%0A%3C/body%3E%0A%3Cscript%3E%20%20%20%20%0A%20%20%20%20%0A%20%20%20%20%0A%20%20%20%20%20%20%20%20var%20bounds%20%3D%20null%3B%0A%20%20%20%20%0A%0A%20%20%20%20var%20map_24453dd5607f40ed8823674cf2d50ebd%20%3D%20L.map%28%0A%20%20%20%20%20%20%20%20%27map_24453dd5607f40ed8823674cf2d50ebd%27%2C%20%7B%0A%20%20%20%20%20%20%20%20center%3A%20%5B44.5%2C%20-85%5D%2C%0A%20%20%20%20%20%20%20%20zoom%3A%207%2C%0A%20%20%20%20%20%20%20%20maxBounds%3A%20bounds%2C%0A%20%20%20%20%20%20%20%20layers%3A%20%5B%5D%2C%0A%20%20%20%20%20%20%20%20worldCopyJump%3A%20false%2C%0A%20%20%20%20%20%20%20%20crs%3A%20L.CRS.EPSG3857%2C%0A%20%20%20%20%20%20%20%20zoomControl%3A%20true%2C%0A%20%20%20%20%20%20%20%20%7D%29%3B%0A%0A%0A%20%20%20%20%0A%20%20%20%20var%20tile_layer_1bc8aeb9080c4d798cf6ab5f93e06942%20%3D%20L.tileLayer%28%0A%20%20%20%20%20%20%20%20%27https%3A//stamen-tiles-%7Bs%7D.a.ssl.fastly.net/toner/%7Bz%7D/%7Bx%7D/%7By%7D.png%27%2C%0A%20%20%20%20%20%20%20%20%7B%0A%20%20%20%20%20%20%20%20%22attribution%22%3A%20null%2C%0A%20%20%20%20%20%20%20%20%22detectRetina%22%3A%20false%2C%0A%20%20%20%20%20%20%20%20%22maxNativeZoom%22%3A%2018%2C%0A%20%20%20%20%20%20%20%20%22maxZoom%22%3A%2018%2C%0A%20%20%20%20%20%20%20%20%22minZoom%22%3A%200%2C%0A%20%20%20%20%20%20%20%20%22noWrap%22%3A%20false%2C%0A%20%20%20%20%20%20%20%20%22opacity%22%3A%201%2C%0A%20%20%20%20%20%20%20%20%22subdomains%22%3A%20%22abc%22%2C%0A%20%20%20%20%20%20%20%20%22tms%22%3A%20false%0A%7D%29.addTo%28map_24453dd5607f40ed8823674cf2d50ebd%29%3B%0A%20%20%20%20%0A%20%20%20%20%20%20%20%20var%20geo_json_334491fbde4c4c828176af647591d4fb%20%3D%20L.geoJson%28%0A%20%20%20%20%20%20%20%20%20%20%20%20%7B%22bbox%22%3A%20%5B-85.5694678427233%2C%2041.983854078218286%2C%20-85.37162681081651%2C%2042.15801718108581%5D%2C%20%22features%22%3A%20%5B%7B%22bbox%22%3A%20%5B-85.45966462396399%2C%2041.98463949500851%2C%20-85.38103957411269%2C%2042.04310644443801%5D%2C%20%22geometry%22%3A%20%7B%22coordinates%22%3A%20%5B%5B%5B-85.38103957411269%2C%2041.9847088749225%5D%2C%20%5B-85.4588222457197%2C%2041.98463949500851%5D%2C%20%5B-85.45966462396399%2C%2042.042744926352015%5D%2C%20%5B-85.38159089087789%2C%2042.04310644443801%5D%2C%20%5B-85.38103957411269%2C%2041.9847088749225%5D%5D%5D%2C%20%22type%22%3A%20%22Polygon%22%7D%2C%20%22id%22%3A%20%220%22%2C%20%22properties%22%3A%20%7B%22COMMENT%22%3A%20%22Created%20by%20Eric%20Kerney%20Nov%202011%22%2C%20%22NAME%22%3A%20%221821%20Reservation%22%2C%20%22OBJECTID%22%3A%201%2C%20%22Shape__Area%22%3A%20449591428.491943%2C%20%22Shape__Length%22%3A%2084815.0971578887%2C%20%22YEAR%22%3A%20null%2C%20%22highlight%22%3A%20%7B%7D%2C%20%22style%22%3A%20%7B%7D%7D%2C%20%22type%22%3A%20%22Feature%22%7D%2C%20%7B%22bbox%22%3A%20%5B-85.5694678427233%2C%2041.983854078218286%2C%20-85.37162681081651%2C%2042.15801718108581%5D%2C%20%22geometry%22%3A%20%7B%22coordinates%22%3A%20%5B%5B%5B-85.412577360484%2C%2042.15801718108581%5D%2C%20%5B-85.41252644988178%2C%2042.15504377662081%5D%2C%20%5B-85.4125214555635%2C%2042.1547521385767%5D%2C%20%5B-85.4124644436784%2C%2042.15142203664879%5D%2C%20%5B-85.4124594503663%2C%2042.15113038770439%5D%2C%20%5B-85.412402444977%2C%2042.1478002972913%5D%2C%20%5B-85.4123974514616%2C%2042.14750863743999%5D%2C%20%5B-85.4123404525726%2C%2042.144178558543494%5D%2C%20%5B-85.4123428529189%2C%2042.14388686048178%5D%2C%20%5B-85.41227996871858%2C%2042.1405166585024%5D%2C%20%5B-85.4122747827701%2C%2042.140238789729004%5D%2C%20%5B-85.412211648849%2C%2042.1368548036538%5D%2C%20%5B-85.41220672089788%2C%2042.1365907249694%5D%2C%20%5B-85.4121433384252%2C%2042.133192968305806%5D%2C%20%5B-85.4121386709455%2C%2042.13294266532469%5D%2C%20%5B-85.4120861559878%2C%2042.12953101986529%5D%2C%20%5B-85.41207837646009%2C%2042.12929455036229%5D%2C%20%5B-85.4070163061882%2C%2042.12933414312749%5D%2C%20%5B-85.4021506229029%2C%2042.12937198919698%5D%2C%20%5B-85.397284934656%2C%2042.12940962238528%5D%2C%20%5B-85.39241924024098%2C%2042.129447047192194%5D%2C%20%5B-85.3925023025862%2C%2042.133072958593594%5D%2C%20%5B-85.392585376048%2C%2042.13669886965%5D%2C%20%5B-85.39266845818389%2C%2042.14032478214659%5D%2C%20%5B-85.39275155381078%2C%2042.14395069791039%5D%2C%20%5B-85.38786190830439%2C%2042.143984315968275%5D%2C%20%5B-85.3829722608915%2C%2042.14401772181818%5D%2C%20%5B-85.3780826019322%2C%2042.14405091630859%5D%2C%20%5B-85.37319305555249%2C%2042.144093256369295%5D%2C%20%5B-85.37310106842139%2C%2042.140457566971904%5D%2C%20%5B-85.373009090981%2C%2042.136821877161%5D%2C%20%5B-85.3729171220162%2C%2042.1331861878318%5D%2C%20%5B-85.3728251627988%2C%2042.129550493590095%5D%2C%20%5B-85.37274517838429%2C%2042.125910458644%5D%2C%20%5B-85.372678693511%2C%2042.122270377972%5D%2C%20%5B-85.3726169151622%2C%2042.118630272542084%5D%2C%20%5B-85.3725551443587%2C%2042.114990160488006%5D%2C%20%5B-85.37249256039229%2C%2042.11136052251099%5D%2C%20%5B-85.37242998273578%2C%2042.1077308860159%5D%2C%20%5B-85.372367412623%2C%2042.10410124921069%5D%2C%20%5B-85.3723048500972%2C%2042.1004716084953%5D%2C%20%5B-85.3722330993055%2C%2042.0968447642312%5D%2C%20%5B-85.3721613571046%2C%2042.093217920543104%5D%2C%20%5B-85.372089619872%2C%2042.08959107741109%5D%2C%20%5B-85.3720178900599%2C%2042.08596423215011%5D%2C%20%5B-85.3719536175315%2C%2042.08233735512219%5D%2C%20%5B-85.3718893515509%2C%2042.0787104786888%5D%2C%20%5B-85.3718250932934%2C%2042.075083606460986%5D%2C%20%5B-85.3717608428601%2C%2042.07145672943539%5D%2C%20%5B-85.37173386624728%2C%2042.06853985658718%5D%2C%20%5B-85.37170073658588%2C%2042.064917922789704%5D%2C%20%5B-85.37166760750138%2C%2042.061295989649686%5D%2C%20%5B-85.37163448261559%2C%2042.0576740580914%5D%2C%20%5B-85.3716325635505%2C%2042.0540139185911%5D%2C%20%5B-85.3716306476441%2C%2042.05035377981678%5D%2C%20%5B-85.3716287288522%2C%2042.046693642635404%5D%2C%20%5B-85.37162681081651%2C%2042.0430335061699%5D%2C%20%5B-85.3764717346434%2C%2042.043031613529884%5D%2C%20%5B-85.3813166576895%2C%2042.04302951605021%5D%2C%20%5B-85.38103957411269%2C%2041.9847088749225%5D%2C%20%5B-85.3910438773437%2C%2041.98462719137551%5D%2C%20%5B-85.3957511705359%2C%2041.98462845740021%5D%2C%20%5B-85.3958986233623%2C%2041.984628493988495%5D%2C%20%5B-85.4006059065328%2C%2041.984629560538295%5D%2C%20%5B-85.4007533713131%2C%2041.984629590019296%5D%2C%20%5B-85.4054606468845%2C%2041.98463045170071%5D%2C%20%5B-85.40560811757298%2C%2041.98463047493959%5D%2C%20%5B-85.4101742918655%2C%2041.98463111894729%5D%2C%20%5B-85.4150490560165%2C%2041.98461925235589%5D%2C%20%5B-85.4199238115822%2C%2041.98460717202679%5D%2C%20%5B-85.42479856450288%2C%2041.984594882492%5D%2C%20%5B-85.4296733147566%2C%2041.98458238104488%5D%2C%20%5B-85.4345480645071%2C%2041.98457241987499%5D%2C%20%5B-85.4394228166899%2C%2041.984562252207304%5D%2C%20%5B-85.4442975628853%2C%2041.98455186988649%5D%2C%20%5B-85.44917230783679%2C%2041.98454127653599%5D%2C%20%5B-85.4540562686506%2C%2041.9845208500435%5D%2C%20%5B-85.4589402193959%2C%2041.98450020990191%5D%2C%20%5B-85.463824167248%2C%2041.98447935794558%5D%2C%20%5B-85.46870811094219%2C%2041.984458295064286%5D%2C%20%5B-85.4736141827831%2C%2041.98445214510711%5D%2C%20%5B-85.47852025023391%2C%2041.98444578227469%5D%2C%20%5B-85.4834263156588%2C%2041.98443920657447%5D%2C%20%5B-85.48833238024659%2C%2041.984432414405205%5D%2C%20%5B-85.49318055861069%2C%2041.984419958423786%5D%2C%20%5B-85.49802883446512%2C%2041.98434388694609%5D%2C%20%5B-85.4981506383418%2C%2041.98434275364718%5D%2C%20%5B-85.50287700924439%2C%2041.984298642549305%5D%2C%20%5B-85.5030596947261%2C%2041.98429693243891%5D%2C%20%5B-85.5077251437853%2C%2041.98425315771029%5D%2C%20%5B-85.507968300903%2C%2041.98422611969829%5D%2C%20%5B-85.5125795537811%2C%2041.98420949936201%5D%2C%20%5B-85.5128228858631%2C%2041.98420861504668%5D%2C%20%5B-85.5174341281379%2C%2041.9841917956589%5D%2C%20%5B-85.517677467068%2C%2041.984190903718684%5D%2C%20%5B-85.52228869991539%2C%2041.9841738834804%5D%2C%20%5B-85.52253204573668%2C%2041.984172978511296%5D%2C%20%5B-85.52811915653771%2C%2041.984152096378814%5D%2C%20%5B-85.53297462496249%2C%2041.98412035558931%5D%2C%20%5B-85.53783009224739%2C%2041.984088403573196%5D%2C%20%5B-85.54268555470028%2C%2041.984056243011096%5D%2C%20%5B-85.54754101225829%2C%2041.98402387569969%5D%2C%20%5B-85.5524443704209%2C%2041.9839817475507%5D%2C%20%5B-85.5573477220125%2C%2041.98393940315839%5D%2C%20%5B-85.5622510621263%2C%2041.983896846099796%5D%2C%20%5B-85.5671544015613%2C%2041.983854078218286%5D%2C%20%5B-85.567218962974%2C%2041.98478778666809%5D%2C%20%5B-85.5672001691148%2C%2041.9875179921408%5D%2C%20%5B-85.56717494696208%2C%2041.9911816370085%5D%2C%20%5B-85.5671497238794%2C%2041.99484567192159%5D%2C%20%5B-85.5672028944351%2C%2041.99850922829478%5D%2C%20%5B-85.56722154400579%2C%2042.00216651259169%5D%2C%20%5B-85.56724007650179%2C%2042.005823768497706%5D%2C%20%5B-85.56725861001378%2C%2042.00948102442878%5D%2C%20%5B-85.5672771469363%2C%2042.0131382821941%5D%2C%20%5B-85.56734481398898%2C%2042.01676716208279%5D%2C%20%5B-85.567412497281%2C%2042.0203960356307%5D%2C%20%5B-85.5674801834688%2C%2042.024024909983794%5D%2C%20%5B-85.5675479132453%2C%2042.02765573680001%5D%2C%20%5B-85.56759894565039%2C%2042.031302388413394%5D%2C%20%5B-85.56764998392659%2C%2042.03494904178051%5D%2C%20%5B-85.5677010280752%2C%2042.03859569599889%5D%2C%20%5B-85.56775207687619%2C%2042.042242351961804%5D%2C%20%5B-85.56778988212959%2C%2042.0458650783778%5D%2C%20%5B-85.5678276915393%2C%2042.0494878164862%5D%2C%20%5B-85.56786538308978%2C%2042.05311056216759%5D%2C%20%5B-85.56785111409148%2C%2042.05673331804468%5D%2C%20%5B-85.5679017293736%2C%2042.06035545817649%5D%2C%20%5B-85.56795234435822%2C%2042.0639772722349%5D%2C%20%5B-85.56800296502658%2C%2042.06759908534031%5D%2C%20%5B-85.5680417955248%2C%2042.070377099740575%5D%2C%20%5B-85.5681460120931%2C%2042.0703761334743%5D%2C%20%5B-85.5682782775154%2C%2042.0740294990132%5D%2C%20%5B-85.5684105677602%2C%2042.07768319206809%5D%2C%20%5B-85.56854287443%2C%2042.08133688570361%5D%2C%20%5B-85.5686751963132%2C%2042.084990579912784%5D%2C%20%5B-85.5687776588973%2C%2042.088647140647986%5D%2C%20%5B-85.5688646918766%2C%2042.0923037370954%5D%2C%20%5B-85.56888591096629%2C%2042.095960862689985%5D%2C%20%5B-85.56889479039968%2C%2042.09749125508328%5D%2C%20%5B-85.56878270317121%2C%2042.09961922678399%5D%2C%20%5B-85.5688258554638%2C%2042.103243259591196%5D%2C%20%5B-85.5688690173808%2C%2042.10686728965949%5D%2C%20%5B-85.5689121767897%2C%2042.110491321438694%5D%2C%20%5B-85.5689553057952%2C%2042.1141116905019%5D%2C%20%5B-85.5690383922713%2C%2042.1177843505524%5D%2C%20%5B-85.56912140147058%2C%2042.12145330251519%5D%2C%20%5B-85.56920181712098%2C%2042.12512222896368%5D%2C%20%5B-85.5691069859575%2C%2042.128792228847296%5D%2C%20%5B-85.56917658587429%2C%2042.132444781189%5D%2C%20%5B-85.56924618763739%2C%2042.136097332452984%5D%2C%20%5B-85.5693158033064%2C%2042.13974988719058%5D%2C%20%5B-85.56938542806428%2C%2042.1434024417775%5D%2C%20%5B-85.56940670397%2C%2042.14702443390699%5D%2C%20%5B-85.5694279820429%2C%2042.15064642689929%5D%2C%20%5B-85.569449263494%2C%2042.15426841985698%5D%2C%20%5B-85.5694678427233%2C%2042.157429850105785%5D%2C%20%5B-85.56461867763159%2C%2042.1574481318987%5D%2C%20%5B-85.55976950522958%2C%2042.15746620828819%5D%2C%20%5B-85.5597213909254%2C%2042.1574663874958%5D%2C%20%5B-85.55492033042029%2C%2042.15748407749831%5D%2C%20%5B-85.5548481624974%2C%2042.1574843418966%5D%2C%20%5B-85.5500711568899%2C%2042.157501738649%5D%2C%20%5B-85.5499749255206%2C%2042.15750117209149%5D%2C%20%5B-85.5451445483205%2C%2042.15747260748821%5D%2C%20%5B-85.54507191731769%2C%2042.15747217564488%5D%2C%20%5B-85.5402173055386%2C%2042.157443260498994%5D%2C%20%5B-85.54016891392199%2C%2042.1574429700433%5D%2C%20%5B-85.53529031941129%2C%2042.15741369619359%5D%2C%20%5B-85.53036292066288%2C%2042.1573839160844%5D%2C%20%5B-85.53036391772791%2C%2042.15745931455138%5D%2C%20%5B-85.52518548271429%2C%2042.157475564037796%5D%2C%20%5B-85.52502259486789%2C%2042.15747606938129%5D%2C%20%5B-85.5203174663396%2C%2042.1574906225609%5D%2C%20%5B-85.5201545782683%2C%2042.157491120948805%5D%2C%20%5B-85.51544944690181%2C%2042.15750547233011%5D%2C%20%5B-85.5152865622382%2C%2042.15750596377959%5D%2C%20%5B-85.51058142566778%2C%2042.15752011245559%5D%2C%20%5B-85.510418548084%2C%2042.1575211625318%5D%2C%20%5B-85.50565532813148%2C%2042.1575517545391%5D%2C%20%5B-85.5055331539778%2C%2042.15755253676599%5D%2C%20%5B-85.5007292551117%2C%2042.15758318397011%5D%2C%20%5B-85.5006477167824%2C%2042.1575836997248%5D%2C%20%5B-85.4958029433481%2C%2042.15760448525439%5D%2C%20%5B-85.4957621458673%2C%2042.157604649384396%5D%2C%20%5B-85.49087655912209%2C%2042.15762399020111%5D%2C%20%5B-85.48599644356419%2C%2042.1576586166121%5D%2C%20%5B-85.48111631960349%2C%2042.15769303149361%5D%2C%20%5B-85.4762361896694%2C%2042.157727239364384%5D%2C%20%5B-85.47135605870929%2C%2042.15776123394949%5D%2C%20%5B-85.4664628150175%2C%2042.15778551786858%5D%2C%20%5B-85.46156956700278%2C%2042.15780958644638%5D%2C%20%5B-85.456676314682%2C%2042.157833443289604%5D%2C%20%5B-85.45178305325548%2C%2042.15785708927819%5D%2C%20%5B-85.4468937057462%2C%2042.157892870218106%5D%2C%20%5B-85.44200435339648%2C%2042.15792843889979%5D%2C%20%5B-85.43711499624759%2C%2042.15796379622829%5D%2C%20%5B-85.4322256319199%2C%2042.15799894309559%5D%2C%20%5B-85.4273135664729%2C%2042.15800382396338%5D%2C%20%5B-85.42240149977881%2C%2042.15800849148369%5D%2C%20%5B-85.4174894294941%2C%2042.15801294294669%5D%2C%20%5B-85.412577360484%2C%2042.15801718108581%5D%5D%5D%2C%20%22type%22%3A%20%22Polygon%22%7D%2C%20%22id%22%3A%20%221%22%2C%20%22properties%22%3A%20%7B%22COMMENT%22%3A%20%22Taken%20From%201827%20Treaty%20Text%20with%20minor%20fixes%22%2C%20%22NAME%22%3A%20%221827%20Reservation%22%2C%20%22OBJECTID%22%3A%202%2C%20%22Shape__Area%22%3A%203226831611.21777%2C%20%22Shape__Length%22%3A%20243573.054930594%2C%20%22YEAR%22%3A%20null%2C%20%22highlight%22%3A%20%7B%7D%2C%20%22style%22%3A%20%7B%7D%7D%2C%20%22type%22%3A%20%22Feature%22%7D%5D%2C%20%22type%22%3A%20%22FeatureCollection%22%7D%2C%0A%20%20%20%20%20%20%20%20%20%20%20%20%7B%0A%20%20%20%20%20%20%20%20%20%20%20%20%7D%0A%20%20%20%20%20%20%20%20%29.addTo%28map_24453dd5607f40ed8823674cf2d50ebd%20%29%3B%0A%20%20%20%20%20%20%20%20geo_json_334491fbde4c4c828176af647591d4fb.setStyle%28function%28feature%29%20%7Breturn%20feature.properties.style%3B%7D%29%3B%0A%20%20%20%20%20%20%20%20%0A%3C/script%3E onload=\"this.contentDocument.open();this.contentDocument.write(    decodeURIComponent(this.getAttribute('data-html')));this.contentDocument.close();\" allowfullscreen webkitallowfullscreen mozallowfullscreen></iframe></div></div>"
            ],
            "text/plain": [
              "<folium.folium.Map at 0x7f9c297117b8>"
            ]
          },
          "metadata": {
            "tags": []
          },
          "execution_count": 24
        }
      ]
    },
    {
      "cell_type": "markdown",
      "metadata": {
        "id": "pb4o8LYeTr71"
      },
      "source": [
        "## APPENDICIES"
      ]
    },
    {
      "cell_type": "code",
      "metadata": {
        "id": "Cvi7-BY4mkiL",
        "colab": {
          "base_uri": "https://localhost:8080/"
        },
        "outputId": "8c11ef8d-da69-47fe-f54d-ed28bfea401c"
      },
      "source": [
        "import os\r\n",
        "os.environ['RESTAPI_USE_ARCPY'] = 'FALSE'\r\n",
        "os.environ['RESTAPI_VERIFY_CERT'] = 'FALSE'\r\n",
        "\r\n",
        "!pip install bmi-arcgis-restapi\r\n",
        "import restapi"
      ],
      "execution_count": 1,
      "outputs": [
        {
          "output_type": "stream",
          "text": [
            "Collecting bmi-arcgis-restapi\n",
            "\u001b[?25l  Downloading https://files.pythonhosted.org/packages/af/6f/b98bb59e686881e97be53bd32b13a7af510fbe830c3d4ec9ab17fdbbfc69/bmi-arcgis-restapi-2.0.2.tar.gz (486kB)\n",
            "\r\u001b[K     |▊                               | 10kB 12.1MB/s eta 0:00:01\r\u001b[K     |█▍                              | 20kB 11.8MB/s eta 0:00:01\r\u001b[K     |██                              | 30kB 9.5MB/s eta 0:00:01\r\u001b[K     |██▊                             | 40kB 8.0MB/s eta 0:00:01\r\u001b[K     |███▍                            | 51kB 4.3MB/s eta 0:00:01\r\u001b[K     |████                            | 61kB 4.7MB/s eta 0:00:01\r\u001b[K     |████▊                           | 71kB 5.2MB/s eta 0:00:01\r\u001b[K     |█████▍                          | 81kB 5.0MB/s eta 0:00:01\r\u001b[K     |██████                          | 92kB 5.1MB/s eta 0:00:01\r\u001b[K     |██████▊                         | 102kB 4.1MB/s eta 0:00:01\r\u001b[K     |███████▍                        | 112kB 4.1MB/s eta 0:00:01\r\u001b[K     |████████                        | 122kB 4.1MB/s eta 0:00:01\r\u001b[K     |████████▊                       | 133kB 4.1MB/s eta 0:00:01\r\u001b[K     |█████████▍                      | 143kB 4.1MB/s eta 0:00:01\r\u001b[K     |██████████                      | 153kB 4.1MB/s eta 0:00:01\r\u001b[K     |██████████▉                     | 163kB 4.1MB/s eta 0:00:01\r\u001b[K     |███████████▌                    | 174kB 4.1MB/s eta 0:00:01\r\u001b[K     |████████████▏                   | 184kB 4.1MB/s eta 0:00:01\r\u001b[K     |████████████▉                   | 194kB 4.1MB/s eta 0:00:01\r\u001b[K     |█████████████▌                  | 204kB 4.1MB/s eta 0:00:01\r\u001b[K     |██████████████▏                 | 215kB 4.1MB/s eta 0:00:01\r\u001b[K     |██████████████▉                 | 225kB 4.1MB/s eta 0:00:01\r\u001b[K     |███████████████▌                | 235kB 4.1MB/s eta 0:00:01\r\u001b[K     |████████████████▏               | 245kB 4.1MB/s eta 0:00:01\r\u001b[K     |████████████████▉               | 256kB 4.1MB/s eta 0:00:01\r\u001b[K     |█████████████████▌              | 266kB 4.1MB/s eta 0:00:01\r\u001b[K     |██████████████████▏             | 276kB 4.1MB/s eta 0:00:01\r\u001b[K     |██████████████████▉             | 286kB 4.1MB/s eta 0:00:01\r\u001b[K     |███████████████████▌            | 296kB 4.1MB/s eta 0:00:01\r\u001b[K     |████████████████████▏           | 307kB 4.1MB/s eta 0:00:01\r\u001b[K     |████████████████████▉           | 317kB 4.1MB/s eta 0:00:01\r\u001b[K     |█████████████████████▋          | 327kB 4.1MB/s eta 0:00:01\r\u001b[K     |██████████████████████▎         | 337kB 4.1MB/s eta 0:00:01\r\u001b[K     |███████████████████████         | 348kB 4.1MB/s eta 0:00:01\r\u001b[K     |███████████████████████▋        | 358kB 4.1MB/s eta 0:00:01\r\u001b[K     |████████████████████████▎       | 368kB 4.1MB/s eta 0:00:01\r\u001b[K     |█████████████████████████       | 378kB 4.1MB/s eta 0:00:01\r\u001b[K     |█████████████████████████▋      | 389kB 4.1MB/s eta 0:00:01\r\u001b[K     |██████████████████████████▎     | 399kB 4.1MB/s eta 0:00:01\r\u001b[K     |███████████████████████████     | 409kB 4.1MB/s eta 0:00:01\r\u001b[K     |███████████████████████████▋    | 419kB 4.1MB/s eta 0:00:01\r\u001b[K     |████████████████████████████▎   | 430kB 4.1MB/s eta 0:00:01\r\u001b[K     |█████████████████████████████   | 440kB 4.1MB/s eta 0:00:01\r\u001b[K     |█████████████████████████████▋  | 450kB 4.1MB/s eta 0:00:01\r\u001b[K     |██████████████████████████████▎ | 460kB 4.1MB/s eta 0:00:01\r\u001b[K     |███████████████████████████████ | 471kB 4.1MB/s eta 0:00:01\r\u001b[K     |███████████████████████████████▋| 481kB 4.1MB/s eta 0:00:01\r\u001b[K     |████████████████████████████████| 491kB 4.1MB/s \n",
            "\u001b[?25hCollecting munch\n",
            "  Downloading https://files.pythonhosted.org/packages/cc/ab/85d8da5c9a45e072301beb37ad7f833cd344e04c817d97e0cc75681d248f/munch-2.5.0-py2.py3-none-any.whl\n",
            "Requirement already satisfied: requests in /usr/local/lib/python3.6/dist-packages (from bmi-arcgis-restapi) (2.23.0)\n",
            "Requirement already satisfied: urllib3 in /usr/local/lib/python3.6/dist-packages (from bmi-arcgis-restapi) (1.24.3)\n",
            "Requirement already satisfied: six in /usr/local/lib/python3.6/dist-packages (from munch->bmi-arcgis-restapi) (1.15.0)\n",
            "Requirement already satisfied: certifi>=2017.4.17 in /usr/local/lib/python3.6/dist-packages (from requests->bmi-arcgis-restapi) (2020.12.5)\n",
            "Requirement already satisfied: idna<3,>=2.5 in /usr/local/lib/python3.6/dist-packages (from requests->bmi-arcgis-restapi) (2.10)\n",
            "Requirement already satisfied: chardet<4,>=3.0.2 in /usr/local/lib/python3.6/dist-packages (from requests->bmi-arcgis-restapi) (3.0.4)\n",
            "Building wheels for collected packages: bmi-arcgis-restapi\n",
            "  Building wheel for bmi-arcgis-restapi (setup.py) ... \u001b[?25l\u001b[?25hdone\n",
            "  Created wheel for bmi-arcgis-restapi: filename=bmi_arcgis_restapi-2.0.2-cp36-none-any.whl size=493706 sha256=cd242efdbe7127bbaf706d4e29a957c4be1c88e17a18a7d2bcbf48bde07dc114\n",
            "  Stored in directory: /root/.cache/pip/wheels/66/61/9e/5b7142135cc89747a0e095bdecaa428ac14549d570bffbce5a\n",
            "Successfully built bmi-arcgis-restapi\n",
            "Installing collected packages: munch, bmi-arcgis-restapi\n",
            "Successfully installed bmi-arcgis-restapi-2.0.2 munch-2.5.0\n",
            "arcpy import error:  \n"
          ],
          "name": "stdout"
        },
        {
          "output_type": "stream",
          "text": [
            "/usr/local/lib/python3.6/dist-packages/restapi/common_types.py:35: UserWarning: No Arcpy found, some limitations in functionality may apply.\n",
            "  warnings.warn('No Arcpy found, some limitations in functionality may apply.')\n"
          ],
          "name": "stderr"
        }
      ]
    },
    {
      "cell_type": "code",
      "metadata": {
        "id": "7j1lMBOl2ZEW",
        "colab": {
          "base_uri": "https://localhost:8080/"
        },
        "outputId": "99c827f0-728a-414f-a135-2162c09497d9"
      },
      "source": [
        "%%time \r\n",
        "#!apt update\r\n",
        "#!apt upgrade\r\n",
        "#!apt-get install -qq libgdal-dev libproj-dev\r\n",
        "!apt install gdal-bin python-gdal python3-gdal\r\n",
        "!apt install python3-rtree \r\n",
        "!pip install git+git://github.com/geopandas/geopandas.git\r\n",
        "!pip install descartes\r\n",
        "import geopandas as gpd\r\n",
        "!pip install contextily\r\n",
        "import contextily as ctx\r\n",
        "!pip install pygeos\r\n",
        "!pip install folium\r\n",
        "\r\n",
        "import time\r\n",
        "import getpass\r\n",
        "from pathlib import Path\r\n",
        "from shapely.geometry import Point\r\n",
        "from IPython.display import display\r\n",
        "from IPython.display import Markdown as md\r\n",
        "import plotly.express as px\r\n",
        "import pandas as pd\r\n",
        "import numpy as np\r\n",
        "import matplotlib\r\n",
        "import matplotlib.pyplot as plt \r\n",
        "import folium"
      ],
      "execution_count": 2,
      "outputs": [
        {
          "output_type": "stream",
          "text": [
            "Reading package lists... Done\n",
            "Building dependency tree       \n",
            "Reading state information... Done\n",
            "gdal-bin is already the newest version (2.2.3+dfsg-2).\n",
            "python-gdal is already the newest version (2.2.3+dfsg-2).\n",
            "python3-gdal is already the newest version (2.2.3+dfsg-2).\n",
            "0 upgraded, 0 newly installed, 0 to remove and 16 not upgraded.\n",
            "Reading package lists... Done\n",
            "Building dependency tree       \n",
            "Reading state information... Done\n",
            "The following additional packages will be installed:\n",
            "  libspatialindex-c4v5 libspatialindex-dev libspatialindex4v5\n",
            "  python3-pkg-resources\n",
            "Suggested packages:\n",
            "  python3-setuptools\n",
            "The following NEW packages will be installed:\n",
            "  libspatialindex-c4v5 libspatialindex-dev libspatialindex4v5\n",
            "  python3-pkg-resources python3-rtree\n",
            "0 upgraded, 5 newly installed, 0 to remove and 16 not upgraded.\n",
            "Need to get 671 kB of archives.\n",
            "After this operation, 3,948 kB of additional disk space will be used.\n",
            "Get:1 http://archive.ubuntu.com/ubuntu bionic/universe amd64 libspatialindex4v5 amd64 1.8.5-5 [219 kB]\n",
            "Get:2 http://archive.ubuntu.com/ubuntu bionic/universe amd64 libspatialindex-c4v5 amd64 1.8.5-5 [51.7 kB]\n",
            "Get:3 http://archive.ubuntu.com/ubuntu bionic/main amd64 python3-pkg-resources all 39.0.1-2 [98.8 kB]\n",
            "Get:4 http://archive.ubuntu.com/ubuntu bionic/universe amd64 libspatialindex-dev amd64 1.8.5-5 [285 kB]\n",
            "Get:5 http://archive.ubuntu.com/ubuntu bionic/universe amd64 python3-rtree all 0.8.3+ds-1 [16.9 kB]\n",
            "Fetched 671 kB in 1s (848 kB/s)\n",
            "Selecting previously unselected package libspatialindex4v5:amd64.\n",
            "(Reading database ... 145483 files and directories currently installed.)\n",
            "Preparing to unpack .../libspatialindex4v5_1.8.5-5_amd64.deb ...\n",
            "Unpacking libspatialindex4v5:amd64 (1.8.5-5) ...\n",
            "Selecting previously unselected package libspatialindex-c4v5:amd64.\n",
            "Preparing to unpack .../libspatialindex-c4v5_1.8.5-5_amd64.deb ...\n",
            "Unpacking libspatialindex-c4v5:amd64 (1.8.5-5) ...\n",
            "Selecting previously unselected package python3-pkg-resources.\n",
            "Preparing to unpack .../python3-pkg-resources_39.0.1-2_all.deb ...\n",
            "Unpacking python3-pkg-resources (39.0.1-2) ...\n",
            "Selecting previously unselected package libspatialindex-dev:amd64.\n",
            "Preparing to unpack .../libspatialindex-dev_1.8.5-5_amd64.deb ...\n",
            "Unpacking libspatialindex-dev:amd64 (1.8.5-5) ...\n",
            "Selecting previously unselected package python3-rtree.\n",
            "Preparing to unpack .../python3-rtree_0.8.3+ds-1_all.deb ...\n",
            "Unpacking python3-rtree (0.8.3+ds-1) ...\n",
            "Setting up libspatialindex4v5:amd64 (1.8.5-5) ...\n",
            "Setting up python3-pkg-resources (39.0.1-2) ...\n",
            "Setting up libspatialindex-c4v5:amd64 (1.8.5-5) ...\n",
            "Setting up libspatialindex-dev:amd64 (1.8.5-5) ...\n",
            "Setting up python3-rtree (0.8.3+ds-1) ...\n",
            "Processing triggers for libc-bin (2.27-3ubuntu1.2) ...\n",
            "/sbin/ldconfig.real: /usr/local/lib/python3.6/dist-packages/ideep4py/lib/libmkldnn.so.0 is not a symbolic link\n",
            "\n",
            "Collecting git+git://github.com/geopandas/geopandas.git\n",
            "  Cloning git://github.com/geopandas/geopandas.git to /tmp/pip-req-build-r9xgjo0d\n",
            "  Running command git clone -q git://github.com/geopandas/geopandas.git /tmp/pip-req-build-r9xgjo0d\n",
            "Requirement already satisfied: pandas>=0.24.0 in /usr/local/lib/python3.6/dist-packages (from geopandas==0.8.0+85.geabe404) (1.1.5)\n",
            "Requirement already satisfied: shapely>=1.6 in /usr/local/lib/python3.6/dist-packages (from geopandas==0.8.0+85.geabe404) (1.7.1)\n",
            "Collecting fiona>=1.8\n",
            "\u001b[?25l  Downloading https://files.pythonhosted.org/packages/37/94/4910fd55246c1d963727b03885ead6ef1cd3748a465f7b0239ab25dfc9a3/Fiona-1.8.18-cp36-cp36m-manylinux1_x86_64.whl (14.8MB)\n",
            "\u001b[K     |████████████████████████████████| 14.8MB 317kB/s \n",
            "\u001b[?25hCollecting pyproj>=2.2.0\n",
            "\u001b[?25l  Downloading https://files.pythonhosted.org/packages/e4/ab/280e80a67cfc109d15428c0ec56391fc03a65857b7727cf4e6e6f99a4204/pyproj-3.0.0.post1-cp36-cp36m-manylinux2010_x86_64.whl (6.4MB)\n",
            "\u001b[K     |████████████████████████████████| 6.5MB 45.8MB/s \n",
            "\u001b[?25hRequirement already satisfied: pytz>=2017.2 in /usr/local/lib/python3.6/dist-packages (from pandas>=0.24.0->geopandas==0.8.0+85.geabe404) (2018.9)\n",
            "Requirement already satisfied: python-dateutil>=2.7.3 in /usr/local/lib/python3.6/dist-packages (from pandas>=0.24.0->geopandas==0.8.0+85.geabe404) (2.8.1)\n",
            "Requirement already satisfied: numpy>=1.15.4 in /usr/local/lib/python3.6/dist-packages (from pandas>=0.24.0->geopandas==0.8.0+85.geabe404) (1.19.5)\n",
            "Collecting cligj>=0.5\n",
            "  Downloading https://files.pythonhosted.org/packages/42/1e/947eadf10d6804bf276eb8a038bd5307996dceaaa41cfd21b7a15ec62f5d/cligj-0.7.1-py3-none-any.whl\n",
            "Requirement already satisfied: click<8,>=4.0 in /usr/local/lib/python3.6/dist-packages (from fiona>=1.8->geopandas==0.8.0+85.geabe404) (7.1.2)\n",
            "Requirement already satisfied: attrs>=17 in /usr/local/lib/python3.6/dist-packages (from fiona>=1.8->geopandas==0.8.0+85.geabe404) (20.3.0)\n",
            "Requirement already satisfied: certifi in /usr/local/lib/python3.6/dist-packages (from fiona>=1.8->geopandas==0.8.0+85.geabe404) (2020.12.5)\n",
            "Requirement already satisfied: six>=1.7 in /usr/local/lib/python3.6/dist-packages (from fiona>=1.8->geopandas==0.8.0+85.geabe404) (1.15.0)\n",
            "Requirement already satisfied: munch in /usr/local/lib/python3.6/dist-packages (from fiona>=1.8->geopandas==0.8.0+85.geabe404) (2.5.0)\n",
            "Collecting click-plugins>=1.0\n",
            "  Downloading https://files.pythonhosted.org/packages/e9/da/824b92d9942f4e472702488857914bdd50f73021efea15b4cad9aca8ecef/click_plugins-1.1.1-py2.py3-none-any.whl\n",
            "Building wheels for collected packages: geopandas\n",
            "  Building wheel for geopandas (setup.py) ... \u001b[?25l\u001b[?25hdone\n",
            "  Created wheel for geopandas: filename=geopandas-0.8.0+85.geabe404-py2.py3-none-any.whl size=976150 sha256=fc6c75366f1c2bdd6273b0d14dc3a8e3265b9d7279a99bcb0470e2d391e68a15\n",
            "  Stored in directory: /tmp/pip-ephem-wheel-cache-j23r_6nt/wheels/91/24/71/376c9c67192694168352afcccc2d264248f7e2cc6192997186\n",
            "Successfully built geopandas\n",
            "Installing collected packages: cligj, click-plugins, fiona, pyproj, geopandas\n",
            "Successfully installed click-plugins-1.1.1 cligj-0.7.1 fiona-1.8.18 geopandas-0.8.0+85.geabe404 pyproj-3.0.0.post1\n",
            "Requirement already satisfied: descartes in /usr/local/lib/python3.6/dist-packages (1.1.0)\n",
            "Requirement already satisfied: matplotlib in /usr/local/lib/python3.6/dist-packages (from descartes) (3.2.2)\n",
            "Requirement already satisfied: cycler>=0.10 in /usr/local/lib/python3.6/dist-packages (from matplotlib->descartes) (0.10.0)\n",
            "Requirement already satisfied: kiwisolver>=1.0.1 in /usr/local/lib/python3.6/dist-packages (from matplotlib->descartes) (1.3.1)\n",
            "Requirement already satisfied: pyparsing!=2.0.4,!=2.1.2,!=2.1.6,>=2.0.1 in /usr/local/lib/python3.6/dist-packages (from matplotlib->descartes) (2.4.7)\n",
            "Requirement already satisfied: numpy>=1.11 in /usr/local/lib/python3.6/dist-packages (from matplotlib->descartes) (1.19.5)\n",
            "Requirement already satisfied: python-dateutil>=2.1 in /usr/local/lib/python3.6/dist-packages (from matplotlib->descartes) (2.8.1)\n",
            "Requirement already satisfied: six in /usr/local/lib/python3.6/dist-packages (from cycler>=0.10->matplotlib->descartes) (1.15.0)\n",
            "Collecting contextily\n",
            "  Downloading https://files.pythonhosted.org/packages/93/2a/22b34b6129303c594c21cb80ded800ebd6d13037f00d162d9b3a3785d5ea/contextily-1.0.1-py3-none-any.whl\n",
            "Requirement already satisfied: requests in /usr/local/lib/python3.6/dist-packages (from contextily) (2.23.0)\n",
            "Collecting mercantile\n",
            "  Downloading https://files.pythonhosted.org/packages/b9/cd/ee6dbee0abca93edda53703fe408d2a6abdc8c1b248a3c9a4539089eafa2/mercantile-1.1.6-py3-none-any.whl\n",
            "Collecting rasterio\n",
            "\u001b[?25l  Downloading https://files.pythonhosted.org/packages/33/1a/51baddc8581ead98fcef591624b4b2521b581943a9178912a2ac576e0235/rasterio-1.1.8-1-cp36-cp36m-manylinux1_x86_64.whl (18.3MB)\n",
            "\u001b[K     |████████████████████████████████| 18.3MB 1.3MB/s \n",
            "\u001b[?25hRequirement already satisfied: joblib in /usr/local/lib/python3.6/dist-packages (from contextily) (1.0.0)\n",
            "Requirement already satisfied: geopy in /usr/local/lib/python3.6/dist-packages (from contextily) (1.17.0)\n",
            "Requirement already satisfied: pillow in /usr/local/lib/python3.6/dist-packages (from contextily) (7.0.0)\n",
            "Requirement already satisfied: matplotlib in /usr/local/lib/python3.6/dist-packages (from contextily) (3.2.2)\n",
            "Requirement already satisfied: chardet<4,>=3.0.2 in /usr/local/lib/python3.6/dist-packages (from requests->contextily) (3.0.4)\n",
            "Requirement already satisfied: certifi>=2017.4.17 in /usr/local/lib/python3.6/dist-packages (from requests->contextily) (2020.12.5)\n",
            "Requirement already satisfied: idna<3,>=2.5 in /usr/local/lib/python3.6/dist-packages (from requests->contextily) (2.10)\n",
            "Requirement already satisfied: urllib3!=1.25.0,!=1.25.1,<1.26,>=1.21.1 in /usr/local/lib/python3.6/dist-packages (from requests->contextily) (1.24.3)\n",
            "Requirement already satisfied: click>=3.0 in /usr/local/lib/python3.6/dist-packages (from mercantile->contextily) (7.1.2)\n",
            "Requirement already satisfied: attrs in /usr/local/lib/python3.6/dist-packages (from rasterio->contextily) (20.3.0)\n",
            "Collecting affine\n",
            "  Downloading https://files.pythonhosted.org/packages/ac/a6/1a39a1ede71210e3ddaf623982b06ecfc5c5c03741ae659073159184cd3e/affine-2.3.0-py2.py3-none-any.whl\n",
            "Requirement already satisfied: cligj>=0.5 in /usr/local/lib/python3.6/dist-packages (from rasterio->contextily) (0.7.1)\n",
            "Collecting snuggs>=1.4.1\n",
            "  Downloading https://files.pythonhosted.org/packages/cc/0e/d27d6e806d6c0d1a2cfdc5d1f088e42339a0a54a09c3343f7f81ec8947ea/snuggs-1.4.7-py3-none-any.whl\n",
            "Requirement already satisfied: click-plugins in /usr/local/lib/python3.6/dist-packages (from rasterio->contextily) (1.1.1)\n",
            "Requirement already satisfied: numpy in /usr/local/lib/python3.6/dist-packages (from rasterio->contextily) (1.19.5)\n",
            "Requirement already satisfied: geographiclib<2,>=1.49 in /usr/local/lib/python3.6/dist-packages (from geopy->contextily) (1.50)\n",
            "Requirement already satisfied: kiwisolver>=1.0.1 in /usr/local/lib/python3.6/dist-packages (from matplotlib->contextily) (1.3.1)\n",
            "Requirement already satisfied: python-dateutil>=2.1 in /usr/local/lib/python3.6/dist-packages (from matplotlib->contextily) (2.8.1)\n",
            "Requirement already satisfied: pyparsing!=2.0.4,!=2.1.2,!=2.1.6,>=2.0.1 in /usr/local/lib/python3.6/dist-packages (from matplotlib->contextily) (2.4.7)\n",
            "Requirement already satisfied: cycler>=0.10 in /usr/local/lib/python3.6/dist-packages (from matplotlib->contextily) (0.10.0)\n",
            "Requirement already satisfied: six>=1.5 in /usr/local/lib/python3.6/dist-packages (from python-dateutil>=2.1->matplotlib->contextily) (1.15.0)\n",
            "Installing collected packages: mercantile, affine, snuggs, rasterio, contextily\n",
            "Successfully installed affine-2.3.0 contextily-1.0.1 mercantile-1.1.6 rasterio-1.1.8 snuggs-1.4.7\n",
            "Collecting pygeos\n",
            "\u001b[?25l  Downloading https://files.pythonhosted.org/packages/66/06/2cfcf6e90814da1fdb4585534f03a36531f00cbad65f11b417337d69fe60/pygeos-0.8-cp36-cp36m-manylinux1_x86_64.whl (1.6MB)\n",
            "\u001b[K     |████████████████████████████████| 1.6MB 4.2MB/s \n",
            "\u001b[?25hRequirement already satisfied: numpy>=1.10 in /usr/local/lib/python3.6/dist-packages (from pygeos) (1.19.5)\n",
            "Installing collected packages: pygeos\n",
            "Successfully installed pygeos-0.8\n",
            "Requirement already satisfied: folium in /usr/local/lib/python3.6/dist-packages (0.8.3)\n",
            "Requirement already satisfied: jinja2 in /usr/local/lib/python3.6/dist-packages (from folium) (2.11.2)\n",
            "Requirement already satisfied: numpy in /usr/local/lib/python3.6/dist-packages (from folium) (1.19.5)\n",
            "Requirement already satisfied: six in /usr/local/lib/python3.6/dist-packages (from folium) (1.15.0)\n",
            "Requirement already satisfied: requests in /usr/local/lib/python3.6/dist-packages (from folium) (2.23.0)\n",
            "Requirement already satisfied: branca>=0.3.0 in /usr/local/lib/python3.6/dist-packages (from folium) (0.4.2)\n",
            "Requirement already satisfied: MarkupSafe>=0.23 in /usr/local/lib/python3.6/dist-packages (from jinja2->folium) (1.1.1)\n",
            "Requirement already satisfied: urllib3!=1.25.0,!=1.25.1,<1.26,>=1.21.1 in /usr/local/lib/python3.6/dist-packages (from requests->folium) (1.24.3)\n",
            "Requirement already satisfied: certifi>=2017.4.17 in /usr/local/lib/python3.6/dist-packages (from requests->folium) (2020.12.5)\n",
            "Requirement already satisfied: chardet<4,>=3.0.2 in /usr/local/lib/python3.6/dist-packages (from requests->folium) (3.0.4)\n",
            "Requirement already satisfied: idna<3,>=2.5 in /usr/local/lib/python3.6/dist-packages (from requests->folium) (2.10)\n",
            "CPU times: user 942 ms, sys: 256 ms, total: 1.2 s\n",
            "Wall time: 42.9 s\n"
          ],
          "name": "stdout"
        }
      ]
    },
    {
      "cell_type": "code",
      "metadata": {
        "id": "BCkxIekH1cPk",
        "colab": {
          "base_uri": "https://localhost:8080/"
        },
        "outputId": "a7588142-54f8-44fb-8bd3-38532dbe2e4b"
      },
      "source": [
        "# view all installed packages on Colab\r\n",
        "!pip list -v"
      ],
      "execution_count": 3,
      "outputs": [
        {
          "output_type": "stream",
          "text": [
            "Package                       Version           Location                               Installer\n",
            "----------------------------- ----------------- -------------------------------------- ---------\n",
            "absl-py                       0.10.0            /usr/local/lib/python3.6/dist-packages pip      \n",
            "affine                        2.3.0             /usr/local/lib/python3.6/dist-packages pip      \n",
            "alabaster                     0.7.12            /usr/local/lib/python3.6/dist-packages pip      \n",
            "albumentations                0.1.12            /usr/local/lib/python3.6/dist-packages pip      \n",
            "altair                        4.1.0             /usr/local/lib/python3.6/dist-packages pip      \n",
            "argon2-cffi                   20.1.0            /usr/local/lib/python3.6/dist-packages pip      \n",
            "asgiref                       3.3.1             /usr/local/lib/python3.6/dist-packages pip      \n",
            "astor                         0.8.1             /usr/local/lib/python3.6/dist-packages pip      \n",
            "astropy                       4.1               /usr/local/lib/python3.6/dist-packages pip      \n",
            "astunparse                    1.6.3             /usr/local/lib/python3.6/dist-packages pip      \n",
            "async-generator               1.10              /usr/local/lib/python3.6/dist-packages pip      \n",
            "atari-py                      0.2.6             /usr/local/lib/python3.6/dist-packages pip      \n",
            "atomicwrites                  1.4.0             /usr/local/lib/python3.6/dist-packages pip      \n",
            "attrs                         20.3.0            /usr/local/lib/python3.6/dist-packages pip      \n",
            "audioread                     2.1.9             /usr/local/lib/python3.6/dist-packages pip      \n",
            "autograd                      1.3               /usr/local/lib/python3.6/dist-packages pip      \n",
            "Babel                         2.9.0             /usr/local/lib/python3.6/dist-packages pip      \n",
            "backcall                      0.2.0             /usr/local/lib/python3.6/dist-packages pip      \n",
            "beautifulsoup4                4.6.3             /usr/local/lib/python3.6/dist-packages pip      \n",
            "bleach                        3.2.1             /usr/local/lib/python3.6/dist-packages pip      \n",
            "blis                          0.4.1             /usr/local/lib/python3.6/dist-packages pip      \n",
            "bmi-arcgis-restapi            2.0.2             /usr/local/lib/python3.6/dist-packages pip      \n",
            "bokeh                         2.1.1             /usr/local/lib/python3.6/dist-packages pip      \n",
            "Bottleneck                    1.3.2             /usr/local/lib/python3.6/dist-packages pip      \n",
            "branca                        0.4.2             /usr/local/lib/python3.6/dist-packages pip      \n",
            "bs4                           0.0.1             /usr/local/lib/python3.6/dist-packages pip      \n",
            "CacheControl                  0.12.6            /usr/local/lib/python3.6/dist-packages pip      \n",
            "cachetools                    4.2.0             /usr/local/lib/python3.6/dist-packages pip      \n",
            "catalogue                     1.0.0             /usr/local/lib/python3.6/dist-packages pip      \n",
            "certifi                       2020.12.5         /usr/local/lib/python3.6/dist-packages pip      \n",
            "cffi                          1.14.4            /usr/local/lib/python3.6/dist-packages pip      \n",
            "chainer                       7.4.0             /usr/local/lib/python3.6/dist-packages pip      \n",
            "chardet                       3.0.4             /usr/local/lib/python3.6/dist-packages pip      \n",
            "click                         7.1.2             /usr/local/lib/python3.6/dist-packages pip      \n",
            "click-plugins                 1.1.1             /usr/local/lib/python3.6/dist-packages pip      \n",
            "cligj                         0.7.1             /usr/local/lib/python3.6/dist-packages pip      \n",
            "cloudpickle                   1.3.0             /usr/local/lib/python3.6/dist-packages pip      \n",
            "cmake                         3.12.0            /usr/local/lib/python3.6/dist-packages pip      \n",
            "cmdstanpy                     0.9.5             /usr/local/lib/python3.6/dist-packages pip      \n",
            "colorlover                    0.3.0             /usr/local/lib/python3.6/dist-packages pip      \n",
            "community                     1.0.0b1           /usr/local/lib/python3.6/dist-packages pip      \n",
            "contextily                    1.0.1             /usr/local/lib/python3.6/dist-packages pip      \n",
            "contextlib2                   0.5.5             /usr/local/lib/python3.6/dist-packages pip      \n",
            "convertdate                   2.2.0             /usr/local/lib/python3.6/dist-packages pip      \n",
            "coverage                      3.7.1             /usr/local/lib/python3.6/dist-packages pip      \n",
            "coveralls                     0.5               /usr/local/lib/python3.6/dist-packages pip      \n",
            "crcmod                        1.7               /usr/local/lib/python3.6/dist-packages pip      \n",
            "cufflinks                     0.17.3            /usr/local/lib/python3.6/dist-packages pip      \n",
            "cvxopt                        1.2.5             /usr/local/lib/python3.6/dist-packages pip      \n",
            "cvxpy                         1.0.31            /usr/local/lib/python3.6/dist-packages pip      \n",
            "cycler                        0.10.0            /usr/local/lib/python3.6/dist-packages pip      \n",
            "cymem                         2.0.5             /usr/local/lib/python3.6/dist-packages pip      \n",
            "Cython                        0.29.21           /usr/local/lib/python3.6/dist-packages pip      \n",
            "daft                          0.0.4             /usr/local/lib/python3.6/dist-packages pip      \n",
            "dask                          2.12.0            /usr/local/lib/python3.6/dist-packages pip      \n",
            "dataclasses                   0.8               /usr/local/lib/python3.6/dist-packages pip      \n",
            "datascience                   0.10.6            /usr/local/lib/python3.6/dist-packages pip      \n",
            "debugpy                       1.0.0             /usr/local/lib/python3.6/dist-packages pip      \n",
            "decorator                     4.4.2             /usr/local/lib/python3.6/dist-packages pip      \n",
            "defusedxml                    0.6.0             /usr/local/lib/python3.6/dist-packages pip      \n",
            "descartes                     1.1.0             /usr/local/lib/python3.6/dist-packages pip      \n",
            "dill                          0.3.3             /usr/local/lib/python3.6/dist-packages pip      \n",
            "distributed                   1.25.3            /usr/local/lib/python3.6/dist-packages pip      \n",
            "Django                        3.1.5             /usr/local/lib/python3.6/dist-packages pip      \n",
            "dlib                          19.18.0           /usr/local/lib/python3.6/dist-packages pip      \n",
            "dm-tree                       0.1.5             /usr/local/lib/python3.6/dist-packages pip      \n",
            "docopt                        0.6.2             /usr/local/lib/python3.6/dist-packages pip      \n",
            "docutils                      0.16              /usr/local/lib/python3.6/dist-packages pip      \n",
            "dopamine-rl                   1.0.5             /usr/local/lib/python3.6/dist-packages pip      \n",
            "earthengine-api               0.1.238           /usr/local/lib/python3.6/dist-packages pip      \n",
            "easydict                      1.9               /usr/local/lib/python3.6/dist-packages pip      \n",
            "ecos                          2.0.7.post1       /usr/local/lib/python3.6/dist-packages pip      \n",
            "editdistance                  0.5.3             /usr/local/lib/python3.6/dist-packages pip      \n",
            "en-core-web-sm                2.2.5             /usr/local/lib/python3.6/dist-packages pip      \n",
            "entrypoints                   0.3               /usr/local/lib/python3.6/dist-packages pip      \n",
            "ephem                         3.7.7.1           /usr/local/lib/python3.6/dist-packages pip      \n",
            "et-xmlfile                    1.0.1             /usr/local/lib/python3.6/dist-packages pip      \n",
            "fa2                           0.3.5             /usr/local/lib/python3.6/dist-packages pip      \n",
            "fancyimpute                   0.4.3             /usr/local/lib/python3.6/dist-packages pip      \n",
            "fastai                        1.0.61            /usr/local/lib/python3.6/dist-packages pip      \n",
            "fastdtw                       0.3.4             /usr/local/lib/python3.6/dist-packages pip      \n",
            "fastprogress                  1.0.0             /usr/local/lib/python3.6/dist-packages pip      \n",
            "fastrlock                     0.5               /usr/local/lib/python3.6/dist-packages pip      \n",
            "fbprophet                     0.7.1             /usr/local/lib/python3.6/dist-packages          \n",
            "feather-format                0.4.1             /usr/local/lib/python3.6/dist-packages pip      \n",
            "filelock                      3.0.12            /usr/local/lib/python3.6/dist-packages pip      \n",
            "Fiona                         1.8.18            /usr/local/lib/python3.6/dist-packages pip      \n",
            "firebase-admin                4.4.0             /usr/local/lib/python3.6/dist-packages pip      \n",
            "fix-yahoo-finance             0.0.22            /usr/local/lib/python3.6/dist-packages pip      \n",
            "Flask                         1.1.2             /usr/local/lib/python3.6/dist-packages pip      \n",
            "flatbuffers                   1.12              /usr/local/lib/python3.6/dist-packages pip      \n",
            "folium                        0.8.3             /usr/local/lib/python3.6/dist-packages pip      \n",
            "future                        0.16.0            /usr/local/lib/python3.6/dist-packages pip      \n",
            "gast                          0.3.3             /usr/local/lib/python3.6/dist-packages pip      \n",
            "GDAL                          2.2.2             /usr/lib/python3/dist-packages                  \n",
            "gdown                         3.6.4             /usr/local/lib/python3.6/dist-packages pip      \n",
            "gensim                        3.6.0             /usr/local/lib/python3.6/dist-packages pip      \n",
            "geographiclib                 1.50              /usr/local/lib/python3.6/dist-packages pip      \n",
            "geopandas                     0.8.0+85.geabe404 /usr/local/lib/python3.6/dist-packages pip      \n",
            "geopy                         1.17.0            /usr/local/lib/python3.6/dist-packages pip      \n",
            "gin-config                    0.4.0             /usr/local/lib/python3.6/dist-packages pip      \n",
            "glob2                         0.7               /usr/local/lib/python3.6/dist-packages pip      \n",
            "google                        2.0.3             /usr/local/lib/python3.6/dist-packages pip      \n",
            "google-api-core               1.16.0            /usr/local/lib/python3.6/dist-packages pip      \n",
            "google-api-python-client      1.7.12            /usr/local/lib/python3.6/dist-packages pip      \n",
            "google-auth                   1.17.2            /usr/local/lib/python3.6/dist-packages pip      \n",
            "google-auth-httplib2          0.0.4             /usr/local/lib/python3.6/dist-packages pip      \n",
            "google-auth-oauthlib          0.4.2             /usr/local/lib/python3.6/dist-packages pip      \n",
            "google-cloud-bigquery         1.21.0            /usr/local/lib/python3.6/dist-packages pip      \n",
            "google-cloud-bigquery-storage 1.1.0             /usr/local/lib/python3.6/dist-packages pip      \n",
            "google-cloud-core             1.0.3             /usr/local/lib/python3.6/dist-packages pip      \n",
            "google-cloud-datastore        1.8.0             /usr/local/lib/python3.6/dist-packages pip      \n",
            "google-cloud-firestore        1.7.0             /usr/local/lib/python3.6/dist-packages pip      \n",
            "google-cloud-language         1.2.0             /usr/local/lib/python3.6/dist-packages pip      \n",
            "google-cloud-storage          1.18.1            /usr/local/lib/python3.6/dist-packages pip      \n",
            "google-cloud-translate        1.5.0             /usr/local/lib/python3.6/dist-packages pip      \n",
            "google-colab                  1.0.0             /usr/local/lib/python3.6/dist-packages pip      \n",
            "google-pasta                  0.2.0             /usr/local/lib/python3.6/dist-packages pip      \n",
            "google-resumable-media        0.4.1             /usr/local/lib/python3.6/dist-packages pip      \n",
            "googleapis-common-protos      1.52.0            /usr/local/lib/python3.6/dist-packages pip      \n",
            "googledrivedownloader         0.4               /usr/local/lib/python3.6/dist-packages pip      \n",
            "graphviz                      0.10.1            /usr/local/lib/python3.6/dist-packages pip      \n",
            "grpcio                        1.32.0            /usr/local/lib/python3.6/dist-packages pip      \n",
            "gspread                       3.0.1             /usr/local/lib/python3.6/dist-packages pip      \n",
            "gspread-dataframe             3.0.8             /usr/local/lib/python3.6/dist-packages pip      \n",
            "gym                           0.17.3            /usr/local/lib/python3.6/dist-packages pip      \n",
            "h5py                          2.10.0            /usr/local/lib/python3.6/dist-packages pip      \n",
            "HeapDict                      1.0.1             /usr/local/lib/python3.6/dist-packages pip      \n",
            "holidays                      0.10.4            /usr/local/lib/python3.6/dist-packages pip      \n",
            "holoviews                     1.13.5            /usr/local/lib/python3.6/dist-packages pip      \n",
            "html5lib                      1.0.1             /usr/local/lib/python3.6/dist-packages pip      \n",
            "httpimport                    0.5.18            /usr/local/lib/python3.6/dist-packages pip      \n",
            "httplib2                      0.17.4            /usr/local/lib/python3.6/dist-packages pip      \n",
            "httplib2shim                  0.0.3             /usr/local/lib/python3.6/dist-packages pip      \n",
            "humanize                      0.5.1             /usr/local/lib/python3.6/dist-packages pip      \n",
            "hyperopt                      0.1.2             /usr/local/lib/python3.6/dist-packages pip      \n",
            "ideep4py                      2.0.0.post3       /usr/local/lib/python3.6/dist-packages pip      \n",
            "idna                          2.10              /usr/local/lib/python3.6/dist-packages pip      \n",
            "image                         1.5.33            /usr/local/lib/python3.6/dist-packages pip      \n",
            "imageio                       2.4.1             /usr/local/lib/python3.6/dist-packages pip      \n",
            "imagesize                     1.2.0             /usr/local/lib/python3.6/dist-packages pip      \n",
            "imbalanced-learn              0.4.3             /usr/local/lib/python3.6/dist-packages pip      \n",
            "imblearn                      0.0               /usr/local/lib/python3.6/dist-packages pip      \n",
            "imgaug                        0.2.9             /usr/local/lib/python3.6/dist-packages pip      \n",
            "importlib-metadata            3.3.0             /usr/local/lib/python3.6/dist-packages pip      \n",
            "importlib-resources           4.1.1             /usr/local/lib/python3.6/dist-packages pip      \n",
            "imutils                       0.5.3             /usr/local/lib/python3.6/dist-packages pip      \n",
            "inflect                       2.1.0             /usr/local/lib/python3.6/dist-packages pip      \n",
            "iniconfig                     1.1.1             /usr/local/lib/python3.6/dist-packages pip      \n",
            "intel-openmp                  2021.1.2          /usr/local/lib/python3.6/dist-packages pip      \n",
            "intervaltree                  2.1.0             /usr/local/lib/python3.6/dist-packages pip      \n",
            "ipykernel                     4.10.1            /usr/local/lib/python3.6/dist-packages pip      \n",
            "ipython                       5.5.0             /usr/local/lib/python3.6/dist-packages pip      \n",
            "ipython-genutils              0.2.0             /usr/local/lib/python3.6/dist-packages pip      \n",
            "ipython-sql                   0.3.9             /usr/local/lib/python3.6/dist-packages pip      \n",
            "ipywidgets                    7.6.3             /usr/local/lib/python3.6/dist-packages pip      \n",
            "itsdangerous                  1.1.0             /usr/local/lib/python3.6/dist-packages pip      \n",
            "jax                           0.2.7             /usr/local/lib/python3.6/dist-packages pip      \n",
            "jaxlib                        0.1.57+cuda101    /usr/local/lib/python3.6/dist-packages pip      \n",
            "jdcal                         1.4.1             /usr/local/lib/python3.6/dist-packages pip      \n",
            "jedi                          0.17.2            /usr/local/lib/python3.6/dist-packages pip      \n",
            "jieba                         0.42.1            /usr/local/lib/python3.6/dist-packages pip      \n",
            "Jinja2                        2.11.2            /usr/local/lib/python3.6/dist-packages pip      \n",
            "joblib                        1.0.0             /usr/local/lib/python3.6/dist-packages pip      \n",
            "jpeg4py                       0.1.4             /usr/local/lib/python3.6/dist-packages pip      \n",
            "jsonschema                    2.6.0             /usr/local/lib/python3.6/dist-packages pip      \n",
            "jupyter                       1.0.0             /usr/local/lib/python3.6/dist-packages pip      \n",
            "jupyter-client                5.3.5             /usr/local/lib/python3.6/dist-packages pip      \n",
            "jupyter-console               5.2.0             /usr/local/lib/python3.6/dist-packages pip      \n",
            "jupyter-core                  4.7.0             /usr/local/lib/python3.6/dist-packages pip      \n",
            "jupyterlab-pygments           0.1.2             /usr/local/lib/python3.6/dist-packages pip      \n",
            "jupyterlab-widgets            1.0.0             /usr/local/lib/python3.6/dist-packages pip      \n",
            "kaggle                        1.5.10            /usr/local/lib/python3.6/dist-packages pip      \n",
            "kapre                         0.1.3.1           /usr/local/lib/python3.6/dist-packages pip      \n",
            "Keras                         2.4.3             /usr/local/lib/python3.6/dist-packages pip      \n",
            "Keras-Preprocessing           1.1.2             /usr/local/lib/python3.6/dist-packages pip      \n",
            "keras-vis                     0.4.1             /usr/local/lib/python3.6/dist-packages pip      \n",
            "kiwisolver                    1.3.1             /usr/local/lib/python3.6/dist-packages pip      \n",
            "knnimpute                     0.1.0             /usr/local/lib/python3.6/dist-packages pip      \n",
            "korean-lunar-calendar         0.2.1             /usr/local/lib/python3.6/dist-packages pip      \n",
            "librosa                       0.6.3             /usr/local/lib/python3.6/dist-packages pip      \n",
            "lightgbm                      2.2.3             /usr/local/lib/python3.6/dist-packages pip      \n",
            "llvmlite                      0.31.0            /usr/local/lib/python3.6/dist-packages pip      \n",
            "lmdb                          0.99              /usr/local/lib/python3.6/dist-packages pip      \n",
            "lucid                         0.3.8             /usr/local/lib/python3.6/dist-packages pip      \n",
            "LunarCalendar                 0.0.9             /usr/local/lib/python3.6/dist-packages pip      \n",
            "lxml                          4.2.6             /usr/local/lib/python3.6/dist-packages pip      \n",
            "Markdown                      3.3.3             /usr/local/lib/python3.6/dist-packages pip      \n",
            "MarkupSafe                    1.1.1             /usr/local/lib/python3.6/dist-packages pip      \n",
            "matplotlib                    3.2.2             /usr/local/lib/python3.6/dist-packages pip      \n",
            "matplotlib-venn               0.11.6            /usr/local/lib/python3.6/dist-packages pip      \n",
            "mercantile                    1.1.6             /usr/local/lib/python3.6/dist-packages pip      \n",
            "missingno                     0.4.2             /usr/local/lib/python3.6/dist-packages pip      \n",
            "mistune                       0.8.4             /usr/local/lib/python3.6/dist-packages pip      \n",
            "mizani                        0.6.0             /usr/local/lib/python3.6/dist-packages pip      \n",
            "mkl                           2019.0            /usr/local/lib/python3.6/dist-packages pip      \n",
            "mlxtend                       0.14.0            /usr/local/lib/python3.6/dist-packages pip      \n",
            "more-itertools                8.6.0             /usr/local/lib/python3.6/dist-packages pip      \n",
            "moviepy                       0.2.3.5           /usr/local/lib/python3.6/dist-packages pip      \n",
            "mpmath                        1.1.0             /usr/local/lib/python3.6/dist-packages pip      \n",
            "msgpack                       1.0.2             /usr/local/lib/python3.6/dist-packages pip      \n",
            "multiprocess                  0.70.11.1         /usr/local/lib/python3.6/dist-packages pip      \n",
            "multitasking                  0.0.9             /usr/local/lib/python3.6/dist-packages pip      \n",
            "munch                         2.5.0             /usr/local/lib/python3.6/dist-packages pip      \n",
            "murmurhash                    1.0.5             /usr/local/lib/python3.6/dist-packages pip      \n",
            "music21                       5.5.0             /usr/local/lib/python3.6/dist-packages pip      \n",
            "natsort                       5.5.0             /usr/local/lib/python3.6/dist-packages pip      \n",
            "nbclient                      0.5.1             /usr/local/lib/python3.6/dist-packages pip      \n",
            "nbconvert                     5.6.1             /usr/local/lib/python3.6/dist-packages pip      \n",
            "nbformat                      5.0.8             /usr/local/lib/python3.6/dist-packages pip      \n",
            "nest-asyncio                  1.4.3             /usr/local/lib/python3.6/dist-packages pip      \n",
            "networkx                      2.5               /usr/local/lib/python3.6/dist-packages pip      \n",
            "nibabel                       3.0.2             /usr/local/lib/python3.6/dist-packages pip      \n",
            "nltk                          3.2.5             /usr/local/lib/python3.6/dist-packages pip      \n",
            "notebook                      5.3.1             /usr/local/lib/python3.6/dist-packages pip      \n",
            "np-utils                      0.5.12.1          /usr/local/lib/python3.6/dist-packages pip      \n",
            "numba                         0.48.0            /usr/local/lib/python3.6/dist-packages pip      \n",
            "numexpr                       2.7.2             /usr/local/lib/python3.6/dist-packages pip      \n",
            "numpy                         1.19.5            /usr/local/lib/python3.6/dist-packages pip      \n",
            "nvidia-ml-py3                 7.352.0           /usr/local/lib/python3.6/dist-packages pip      \n",
            "oauth2client                  4.1.3             /usr/local/lib/python3.6/dist-packages pip      \n",
            "oauthlib                      3.1.0             /usr/local/lib/python3.6/dist-packages pip      \n",
            "okgrade                       0.4.3             /usr/local/lib/python3.6/dist-packages pip      \n",
            "opencv-contrib-python         4.1.2.30          /usr/local/lib/python3.6/dist-packages pip      \n",
            "opencv-python                 4.1.2.30          /usr/local/lib/python3.6/dist-packages pip      \n",
            "openpyxl                      2.5.9             /usr/local/lib/python3.6/dist-packages pip      \n",
            "opt-einsum                    3.3.0             /usr/local/lib/python3.6/dist-packages pip      \n",
            "osqp                          0.6.2             /usr/local/lib/python3.6/dist-packages pip      \n",
            "packaging                     20.8              /usr/local/lib/python3.6/dist-packages pip      \n",
            "palettable                    3.3.0             /usr/local/lib/python3.6/dist-packages pip      \n",
            "pandas                        1.1.5             /usr/local/lib/python3.6/dist-packages pip      \n",
            "pandas-datareader             0.9.0             /usr/local/lib/python3.6/dist-packages pip      \n",
            "pandas-gbq                    0.13.3            /usr/local/lib/python3.6/dist-packages pip      \n",
            "pandas-profiling              1.4.1             /usr/local/lib/python3.6/dist-packages pip      \n",
            "pandocfilters                 1.4.3             /usr/local/lib/python3.6/dist-packages pip      \n",
            "panel                         0.9.7             /usr/local/lib/python3.6/dist-packages pip      \n",
            "param                         1.10.1            /usr/local/lib/python3.6/dist-packages pip      \n",
            "parso                         0.7.1             /usr/local/lib/python3.6/dist-packages pip      \n",
            "pathlib                       1.0.1             /usr/local/lib/python3.6/dist-packages pip      \n",
            "patsy                         0.5.1             /usr/local/lib/python3.6/dist-packages pip      \n",
            "pexpect                       4.8.0             /usr/local/lib/python3.6/dist-packages pip      \n",
            "pickleshare                   0.7.5             /usr/local/lib/python3.6/dist-packages pip      \n",
            "Pillow                        7.0.0             /usr/local/lib/python3.6/dist-packages pip      \n",
            "pip                           19.3.1            /usr/local/lib/python3.6/dist-packages pip      \n",
            "pip-tools                     4.5.1             /usr/local/lib/python3.6/dist-packages pip      \n",
            "plac                          1.1.3             /usr/local/lib/python3.6/dist-packages pip      \n",
            "plotly                        4.4.1             /usr/local/lib/python3.6/dist-packages pip      \n",
            "plotnine                      0.6.0             /usr/local/lib/python3.6/dist-packages pip      \n",
            "pluggy                        0.7.1             /usr/local/lib/python3.6/dist-packages pip      \n",
            "portpicker                    1.3.1             /usr/local/lib/python3.6/dist-packages pip      \n",
            "prefetch-generator            1.0.1             /usr/local/lib/python3.6/dist-packages pip      \n",
            "preshed                       3.0.5             /usr/local/lib/python3.6/dist-packages pip      \n",
            "prettytable                   2.0.0             /usr/local/lib/python3.6/dist-packages pip      \n",
            "progressbar2                  3.38.0            /usr/local/lib/python3.6/dist-packages pip      \n",
            "prometheus-client             0.9.0             /usr/local/lib/python3.6/dist-packages pip      \n",
            "promise                       2.3               /usr/local/lib/python3.6/dist-packages pip      \n",
            "prompt-toolkit                1.0.18            /usr/local/lib/python3.6/dist-packages pip      \n",
            "protobuf                      3.12.4            /usr/local/lib/python3.6/dist-packages pip      \n",
            "psutil                        5.4.8             /usr/local/lib/python3.6/dist-packages pip      \n",
            "psycopg2                      2.7.6.1           /usr/local/lib/python3.6/dist-packages pip      \n",
            "ptyprocess                    0.7.0             /usr/local/lib/python3.6/dist-packages pip      \n",
            "py                            1.10.0            /usr/local/lib/python3.6/dist-packages pip      \n",
            "pyarrow                       0.14.1            /usr/local/lib/python3.6/dist-packages pip      \n",
            "pyasn1                        0.4.8             /usr/local/lib/python3.6/dist-packages pip      \n",
            "pyasn1-modules                0.2.8             /usr/local/lib/python3.6/dist-packages pip      \n",
            "pycocotools                   2.0.2             /usr/local/lib/python3.6/dist-packages pip      \n",
            "pycparser                     2.20              /usr/local/lib/python3.6/dist-packages pip      \n",
            "pyct                          0.4.8             /usr/local/lib/python3.6/dist-packages pip      \n",
            "pydata-google-auth            1.1.0             /usr/local/lib/python3.6/dist-packages pip      \n",
            "pydot                         1.3.0             /usr/local/lib/python3.6/dist-packages pip      \n",
            "pydot-ng                      2.0.0             /usr/local/lib/python3.6/dist-packages pip      \n",
            "pydotplus                     2.0.2             /usr/local/lib/python3.6/dist-packages pip      \n",
            "PyDrive                       1.3.1             /usr/local/lib/python3.6/dist-packages pip      \n",
            "pyemd                         0.5.1             /usr/local/lib/python3.6/dist-packages pip      \n",
            "pygeos                        0.8               /usr/local/lib/python3.6/dist-packages pip      \n",
            "pyglet                        1.5.0             /usr/local/lib/python3.6/dist-packages pip      \n",
            "Pygments                      2.6.1             /usr/local/lib/python3.6/dist-packages pip      \n",
            "pygobject                     3.26.1            /usr/lib/python3/dist-packages                  \n",
            "pymc3                         3.7               /usr/local/lib/python3.6/dist-packages pip      \n",
            "PyMeeus                       0.3.7             /usr/local/lib/python3.6/dist-packages pip      \n",
            "pymongo                       3.11.2            /usr/local/lib/python3.6/dist-packages pip      \n",
            "pymystem3                     0.2.0             /usr/local/lib/python3.6/dist-packages pip      \n",
            "PyOpenGL                      3.1.5             /usr/local/lib/python3.6/dist-packages pip      \n",
            "pyparsing                     2.4.7             /usr/local/lib/python3.6/dist-packages pip      \n",
            "pyproj                        3.0.0.post1       /usr/local/lib/python3.6/dist-packages pip      \n",
            "pyrsistent                    0.17.3            /usr/local/lib/python3.6/dist-packages pip      \n",
            "pysndfile                     1.3.8             /usr/local/lib/python3.6/dist-packages pip      \n",
            "PySocks                       1.7.1             /usr/local/lib/python3.6/dist-packages pip      \n",
            "pystan                        2.19.1.1          /usr/local/lib/python3.6/dist-packages pip      \n",
            "pytest                        3.6.4             /usr/local/lib/python3.6/dist-packages pip      \n",
            "python-apt                    1.6.5+ubuntu0.5   /usr/lib/python3/dist-packages                  \n",
            "python-chess                  0.23.11           /usr/local/lib/python3.6/dist-packages pip      \n",
            "python-dateutil               2.8.1             /usr/local/lib/python3.6/dist-packages pip      \n",
            "python-louvain                0.15              /usr/local/lib/python3.6/dist-packages pip      \n",
            "python-slugify                4.0.1             /usr/local/lib/python3.6/dist-packages pip      \n",
            "python-utils                  2.4.0             /usr/local/lib/python3.6/dist-packages pip      \n",
            "pytz                          2018.9            /usr/local/lib/python3.6/dist-packages pip      \n",
            "pyviz-comms                   2.0.1             /usr/local/lib/python3.6/dist-packages pip      \n",
            "PyWavelets                    1.1.1             /usr/local/lib/python3.6/dist-packages pip      \n",
            "PyYAML                        3.13              /usr/local/lib/python3.6/dist-packages pip      \n",
            "pyzmq                         20.0.0            /usr/local/lib/python3.6/dist-packages pip      \n",
            "qdldl                         0.1.5.post0       /usr/local/lib/python3.6/dist-packages pip      \n",
            "qtconsole                     5.0.1             /usr/local/lib/python3.6/dist-packages pip      \n",
            "QtPy                          1.9.0             /usr/local/lib/python3.6/dist-packages pip      \n",
            "rasterio                      1.1.8             /usr/local/lib/python3.6/dist-packages pip      \n",
            "regex                         2019.12.20        /usr/local/lib/python3.6/dist-packages pip      \n",
            "requests                      2.23.0            /usr/local/lib/python3.6/dist-packages pip      \n",
            "requests-oauthlib             1.3.0             /usr/local/lib/python3.6/dist-packages pip      \n",
            "resampy                       0.2.2             /usr/local/lib/python3.6/dist-packages pip      \n",
            "retrying                      1.3.3             /usr/local/lib/python3.6/dist-packages pip      \n",
            "rpy2                          3.2.7             /usr/local/lib/python3.6/dist-packages pip      \n",
            "rsa                           4.6               /usr/local/lib/python3.6/dist-packages pip      \n",
            "Rtree                         0.8.3             /usr/lib/python3/dist-packages                  \n",
            "scikit-image                  0.16.2            /usr/local/lib/python3.6/dist-packages pip      \n",
            "scikit-learn                  0.22.2.post1      /usr/local/lib/python3.6/dist-packages pip      \n",
            "scipy                         1.4.1             /usr/local/lib/python3.6/dist-packages pip      \n",
            "screen-resolution-extra       0.0.0             /usr/lib/python3/dist-packages                  \n",
            "scs                           2.1.2             /usr/local/lib/python3.6/dist-packages pip      \n",
            "seaborn                       0.11.1            /usr/local/lib/python3.6/dist-packages pip      \n",
            "Send2Trash                    1.5.0             /usr/local/lib/python3.6/dist-packages pip      \n",
            "setuptools                    51.1.1            /usr/local/lib/python3.6/dist-packages pip      \n",
            "setuptools-git                1.2               /usr/local/lib/python3.6/dist-packages pip      \n",
            "Shapely                       1.7.1             /usr/local/lib/python3.6/dist-packages pip      \n",
            "simplegeneric                 0.8.1             /usr/local/lib/python3.6/dist-packages pip      \n",
            "six                           1.15.0            /usr/local/lib/python3.6/dist-packages pip      \n",
            "sklearn                       0.0               /usr/local/lib/python3.6/dist-packages pip      \n",
            "sklearn-pandas                1.8.0             /usr/local/lib/python3.6/dist-packages pip      \n",
            "smart-open                    4.1.0             /usr/local/lib/python3.6/dist-packages pip      \n",
            "snowballstemmer               2.0.0             /usr/local/lib/python3.6/dist-packages pip      \n",
            "snuggs                        1.4.7             /usr/local/lib/python3.6/dist-packages pip      \n",
            "sortedcontainers              2.3.0             /usr/local/lib/python3.6/dist-packages pip      \n",
            "spacy                         2.2.4             /usr/local/lib/python3.6/dist-packages pip      \n",
            "Sphinx                        1.8.5             /usr/local/lib/python3.6/dist-packages pip      \n",
            "sphinxcontrib-serializinghtml 1.1.4             /usr/local/lib/python3.6/dist-packages pip      \n",
            "sphinxcontrib-websupport      1.2.4             /usr/local/lib/python3.6/dist-packages pip      \n",
            "SQLAlchemy                    1.3.22            /usr/local/lib/python3.6/dist-packages pip      \n",
            "sqlparse                      0.4.1             /usr/local/lib/python3.6/dist-packages pip      \n",
            "srsly                         1.0.5             /usr/local/lib/python3.6/dist-packages pip      \n",
            "statsmodels                   0.10.2            /usr/local/lib/python3.6/dist-packages pip      \n",
            "sympy                         1.1.1             /usr/local/lib/python3.6/dist-packages pip      \n",
            "tables                        3.4.4             /usr/local/lib/python3.6/dist-packages pip      \n",
            "tabulate                      0.8.7             /usr/local/lib/python3.6/dist-packages pip      \n",
            "tblib                         1.7.0             /usr/local/lib/python3.6/dist-packages pip      \n",
            "tensorboard                   2.4.0             /usr/local/lib/python3.6/dist-packages pip      \n",
            "tensorboard-plugin-wit        1.7.0             /usr/local/lib/python3.6/dist-packages pip      \n",
            "tensorboardcolab              0.0.22            /usr/local/lib/python3.6/dist-packages pip      \n",
            "tensorflow                    2.4.0             /usr/local/lib/python3.6/dist-packages pip      \n",
            "tensorflow-addons             0.8.3             /usr/local/lib/python3.6/dist-packages pip      \n",
            "tensorflow-datasets           4.0.1             /usr/local/lib/python3.6/dist-packages pip      \n",
            "tensorflow-estimator          2.4.0             /usr/local/lib/python3.6/dist-packages pip      \n",
            "tensorflow-gcs-config         2.4.0             /usr/local/lib/python3.6/dist-packages pip      \n",
            "tensorflow-hub                0.11.0            /usr/local/lib/python3.6/dist-packages pip      \n",
            "tensorflow-metadata           0.26.0            /usr/local/lib/python3.6/dist-packages pip      \n",
            "tensorflow-privacy            0.2.2             /usr/local/lib/python3.6/dist-packages pip      \n",
            "tensorflow-probability        0.12.1            /usr/local/lib/python3.6/dist-packages pip      \n",
            "termcolor                     1.1.0             /usr/local/lib/python3.6/dist-packages pip      \n",
            "terminado                     0.9.2             /usr/local/lib/python3.6/dist-packages pip      \n",
            "testpath                      0.4.4             /usr/local/lib/python3.6/dist-packages pip      \n",
            "text-unidecode                1.3               /usr/local/lib/python3.6/dist-packages pip      \n",
            "textblob                      0.15.3            /usr/local/lib/python3.6/dist-packages pip      \n",
            "textgenrnn                    1.4.1             /usr/local/lib/python3.6/dist-packages pip      \n",
            "Theano                        1.0.5             /usr/local/lib/python3.6/dist-packages pip      \n",
            "thinc                         7.4.0             /usr/local/lib/python3.6/dist-packages pip      \n",
            "tifffile                      2020.9.3          /usr/local/lib/python3.6/dist-packages pip      \n",
            "toml                          0.10.2            /usr/local/lib/python3.6/dist-packages pip      \n",
            "toolz                         0.11.1            /usr/local/lib/python3.6/dist-packages pip      \n",
            "torch                         1.7.0+cu101       /usr/local/lib/python3.6/dist-packages pip      \n",
            "torchsummary                  1.5.1             /usr/local/lib/python3.6/dist-packages pip      \n",
            "torchtext                     0.3.1             /usr/local/lib/python3.6/dist-packages pip      \n",
            "torchvision                   0.8.1+cu101       /usr/local/lib/python3.6/dist-packages pip      \n",
            "tornado                       5.1.1             /usr/local/lib/python3.6/dist-packages pip      \n",
            "tqdm                          4.41.1            /usr/local/lib/python3.6/dist-packages pip      \n",
            "traitlets                     4.3.3             /usr/local/lib/python3.6/dist-packages pip      \n",
            "tweepy                        3.6.0             /usr/local/lib/python3.6/dist-packages pip      \n",
            "typeguard                     2.7.1             /usr/local/lib/python3.6/dist-packages pip      \n",
            "typing-extensions             3.7.4.3           /usr/local/lib/python3.6/dist-packages pip      \n",
            "tzlocal                       1.5.1             /usr/local/lib/python3.6/dist-packages pip      \n",
            "umap-learn                    0.4.6             /usr/local/lib/python3.6/dist-packages pip      \n",
            "uritemplate                   3.0.1             /usr/local/lib/python3.6/dist-packages pip      \n",
            "urllib3                       1.24.3            /usr/local/lib/python3.6/dist-packages pip      \n",
            "vega-datasets                 0.9.0             /usr/local/lib/python3.6/dist-packages pip      \n",
            "wasabi                        0.8.0             /usr/local/lib/python3.6/dist-packages pip      \n",
            "wcwidth                       0.2.5             /usr/local/lib/python3.6/dist-packages pip      \n",
            "webencodings                  0.5.1             /usr/local/lib/python3.6/dist-packages pip      \n",
            "Werkzeug                      1.0.1             /usr/local/lib/python3.6/dist-packages pip      \n",
            "wheel                         0.36.2            /usr/local/lib/python3.6/dist-packages pip      \n",
            "widgetsnbextension            3.5.1             /usr/local/lib/python3.6/dist-packages pip      \n",
            "wordcloud                     1.5.0             /usr/local/lib/python3.6/dist-packages pip      \n",
            "wrapt                         1.12.1            /usr/local/lib/python3.6/dist-packages pip      \n",
            "xarray                        0.15.1            /usr/local/lib/python3.6/dist-packages pip      \n",
            "xgboost                       0.90              /usr/local/lib/python3.6/dist-packages pip      \n",
            "xkit                          0.0.0             /usr/lib/python3/dist-packages                  \n",
            "xlrd                          1.1.0             /usr/local/lib/python3.6/dist-packages pip      \n",
            "xlwt                          1.3.0             /usr/local/lib/python3.6/dist-packages pip      \n",
            "yellowbrick                   0.9.1             /usr/local/lib/python3.6/dist-packages pip      \n",
            "zict                          2.0.0             /usr/local/lib/python3.6/dist-packages pip      \n",
            "zipp                          3.4.0             /usr/local/lib/python3.6/dist-packages pip      \n"
          ],
          "name": "stdout"
        }
      ]
    }
  ]
}