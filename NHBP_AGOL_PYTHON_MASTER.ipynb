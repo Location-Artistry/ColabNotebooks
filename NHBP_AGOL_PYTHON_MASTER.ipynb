{
  "nbformat": 4,
  "nbformat_minor": 0,
  "metadata": {
    "colab": {
      "name": "NHBP-AGOL-PYTHON-MASTER.ipynb",
      "provenance": [],
      "collapsed_sections": [
        "BnyGget8hsEU",
        "OGCTOWiIKHua",
        "KwH8WwzWLTLE"
      ],
      "authorship_tag": "ABX9TyNiGk1d7DWV5awaNNcOiSVd",
      "include_colab_link": true
    },
    "kernelspec": {
      "name": "python3",
      "display_name": "Python 3"
    },
    "accelerator": "GPU",
    "widgets": {
      "application/vnd.jupyter.widget-state+json": {
        "5b30b5b48e9146359c6a652628a2ad1c": {
          "model_module": "arcgis-map-ipywidget",
          "model_name": "ArcGISMapIPyWidgetModel",
          "state": {
            "_view_name": "ArcGISMapIPyWidgetView",
            "_webmap": {},
            "_trigger_new_jlab_window_with_args": {},
            "_webscene": {},
            "_scale": -1,
            "_uuid": "04186110-5a68-4879-b36d-148eb941b1e5",
            "_image_overlays_to_remove": [],
            "_view_module": "arcgis-map-ipywidget",
            "_extent": {
              "xmin": -87.92269749999997,
              "ymin": 40.39919983400006,
              "ymax": 47.851199834000056,
              "xmax": -80.47069749999997
            },
            "_model_module_version": "1.8.2",
            "_readonly_webmap_from_js": {},
            "_gallery_basemaps": {
              "default": {
                "baseMapLayers": [
                  {
                    "url": "https://services.arcgisonline.com/ArcGIS/rest/services/World_Topo_Map/MapServer",
                    "resourceInfo": {
                      "layers": [
                        {
                          "name": "Citations",
                          "maxScale": 0,
                          "defaultVisibility": false,
                          "parentLayerId": -1,
                          "id": 0,
                          "minScale": 0,
                          "subLayerIds": null
                        }
                      ],
                      "tables": [],
                      "exportTilesAllowed": false,
                      "supportedImageFormatTypes": "PNG32,PNG24,PNG,JPG,DIB,TIFF,EMF,PS,PDF,GIF,SVG,SVGZ,BMP",
                      "supportsDynamicLayers": false,
                      "initialExtent": {
                        "xmin": -28848255.049479112,
                        "ymin": -2077452.082122866,
                        "ymax": 16430757.376790084,
                        "xmax": 28848255.049479112,
                        "spatialReference": {
                          "wkid": 102100,
                          "latestWkid": 3857
                        }
                      },
                      "maxImageHeight": 4096,
                      "maxScale": 70.5310735,
                      "capabilities": "Map,Tilemap,Query,Data",
                      "spatialReference": {
                        "wkid": 102100,
                        "latestWkid": 3857
                      },
                      "mapName": "Layers",
                      "currentVersion": 10.3,
                      "maxRecordCount": 100,
                      "maxImageWidth": 4096,
                      "units": "esriMeters",
                      "fullExtent": {
                        "xmin": -20037507.067161843,
                        "ymin": -19971868.880408604,
                        "ymax": 19971868.88040863,
                        "xmax": 20037507.067161843,
                        "spatialReference": {
                          "wkid": 102100,
                          "latestWkid": 3857
                        }
                      },
                      "singleFusedMapCache": true,
                      "supportedQueryFormats": "JSON, AMF",
                      "minScale": 591657527.591555,
                      "supportedExtensions": "KmlServer",
                      "tileInfo": {
                        "origin": {
                          "y": 20037508.342787,
                          "x": -20037508.342787
                        },
                        "rows": 256,
                        "format": "JPEG",
                        "cols": 256,
                        "compressionQuality": 90,
                        "lods": [
                          {
                            "scale": 591657527.591555,
                            "resolution": 156543.03392800014,
                            "level": 0
                          },
                          {
                            "scale": 295828763.795777,
                            "resolution": 78271.51696399994,
                            "level": 1
                          },
                          {
                            "scale": 147914381.897889,
                            "resolution": 39135.75848200009,
                            "level": 2
                          },
                          {
                            "scale": 73957190.948944,
                            "resolution": 19567.87924099992,
                            "level": 3
                          },
                          {
                            "scale": 36978595.474472,
                            "resolution": 9783.93962049996,
                            "level": 4
                          },
                          {
                            "scale": 18489297.737236,
                            "resolution": 4891.96981024998,
                            "level": 5
                          },
                          {
                            "scale": 9244648.868618,
                            "resolution": 2445.98490512499,
                            "level": 6
                          },
                          {
                            "scale": 4622324.434309,
                            "resolution": 1222.992452562495,
                            "level": 7
                          },
                          {
                            "scale": 2311162.217155,
                            "resolution": 611.4962262813797,
                            "level": 8
                          },
                          {
                            "scale": 1155581.108577,
                            "resolution": 305.74811314055756,
                            "level": 9
                          },
                          {
                            "scale": 577790.554289,
                            "resolution": 152.87405657041106,
                            "level": 10
                          },
                          {
                            "scale": 288895.277144,
                            "resolution": 76.43702828507324,
                            "level": 11
                          },
                          {
                            "scale": 144447.638572,
                            "resolution": 38.21851414253662,
                            "level": 12
                          },
                          {
                            "scale": 72223.819286,
                            "resolution": 19.10925707126831,
                            "level": 13
                          },
                          {
                            "scale": 36111.909643,
                            "resolution": 9.554628535634155,
                            "level": 14
                          },
                          {
                            "scale": 18055.954822,
                            "resolution": 4.77731426794937,
                            "level": 15
                          },
                          {
                            "scale": 9027.977411,
                            "resolution": 2.388657133974685,
                            "level": 16
                          },
                          {
                            "scale": 4513.988705,
                            "resolution": 1.1943285668550503,
                            "level": 17
                          },
                          {
                            "scale": 2256.994353,
                            "resolution": 0.5971642835598172,
                            "level": 18
                          },
                          {
                            "scale": 1128.497176,
                            "resolution": 0.29858214164761665,
                            "level": 19
                          },
                          {
                            "scale": 564.248588,
                            "resolution": 0.14929107082380833,
                            "level": 20
                          },
                          {
                            "scale": 282.124294,
                            "resolution": 0.07464553541190416,
                            "level": 21
                          },
                          {
                            "scale": 141.062147,
                            "resolution": 0.03732276770595208,
                            "level": 22
                          },
                          {
                            "scale": 70.5310735,
                            "resolution": 0.01866138385297604,
                            "level": 23
                          }
                        ],
                        "spatialReference": {
                          "wkid": 102100,
                          "latestWkid": 3857
                        },
                        "dpi": 96
                      }
                    },
                    "layerType": "ArcGISTiledMapServiceLayer"
                  }
                ],
                "title": "Topographic"
              }
            },
            "_center": {},
            "print_service_url": "",
            "tab_mode": "auto",
            "ready": false,
            "_trigger_print_js_debug_info": "",
            "_basemap": "hybrid",
            "_readonly_heading": 0,
            "_model_module": "arcgis-map-ipywidget",
            "_overlay_this_image": {},
            "_snap_to_zoom": true,
            "_link_writeonly_tilt": 0,
            "_link_writeonly_rotation": 0,
            "layout": "IPY_MODEL_7eb37cefa0304a72b180a8e5e2edd541",
            "_model_name": "ArcGISMapIPyWidgetModel",
            "_zoom": -1,
            "_view_module_version": "1.8.2",
            "jupyter_target": "",
            "_readonly_extent": {},
            "_portal_token": "",
            "_portal_sharing_rest_url": "https://www.arcgis.com/sharing/rest/",
            "_tilt": 0,
            "_username": "None",
            "_readonly_center": {},
            "_dom_classes": [],
            "_preview_screenshot_callback_resp": "",
            "_heading": 0,
            "_trigger_webscene_save_to_this_portal_id": "",
            "_readonly_zoom": -1,
            "_js_cdn_override": "",
            "_link_writeonly_extent": {},
            "_center_long_lat": [],
            "_overlay_these_images_on_widget_load": [],
            "_link_writeonly_heading": 0,
            "_add_this_graphic": {},
            "_readonly_scale": -1,
            "_view_count": null,
            "legend": false,
            "_draw_these_notype_layers_on_widget_load": [],
            "_auth_mode": "anonymous",
            "_portal_url": "https://www.arcgis.com",
            "hide_mode_switch": false,
            "_draw_these_graphics_on_widget_load": [],
            "_trigger_screenshot_with_args": {},
            "_trigger_interactive_draw_mode_for": "",
            "_custom_msg": "",
            "_rotation": 0,
            "_cell_output_screenshot_callback_resp": "",
            "_readonly_tilt": 0,
            "mode": "2D",
            "_readonly_rotation": 0,
            "_file_output_screenshot_callback_resp": "",
            "_layers_to_remove": [],
            "_add_this_notype_layer": {}
          }
        }
      }
    }
  },
  "cells": [
    {
      "cell_type": "markdown",
      "metadata": {
        "id": "view-in-github",
        "colab_type": "text"
      },
      "source": [
        "<a href=\"https://colab.research.google.com/github/Location-Artistry/ColabNotebooks/blob/master/NHBP_AGOL_PYTHON_MASTER.ipynb\" target=\"_parent\"><img src=\"https://colab.research.google.com/assets/colab-badge.svg\" alt=\"Open In Colab\"/></a>"
      ]
    },
    {
      "cell_type": "markdown",
      "metadata": {
        "id": "pqjE9Qc4okhX",
        "colab_type": "text"
      },
      "source": [
        "#**NHBP MASTER PYTHON API FUNCTIONS**\n",
        "**8-17 Completed: Download & Export Functions, QuickMap Display**   \n",
        "**This Notebook has most current Python Functions!!!**   \n",
        "**Added delAllFeatures() 8-17, fixed minor error 8-18**   \n",
        "**Testing html mapExport with quickMapExport()**"
      ]
    },
    {
      "cell_type": "markdown",
      "metadata": {
        "id": "BnyGget8hsEU",
        "colab_type": "text"
      },
      "source": [
        "# Install and Import Libraries\n",
        "**RUN FIRST**"
      ]
    },
    {
      "cell_type": "markdown",
      "metadata": {
        "id": "htCaIGuCogcX",
        "colab_type": "text"
      },
      "source": [
        ""
      ]
    },
    {
      "cell_type": "code",
      "metadata": {
        "id": "HHy0jzy99nJz",
        "colab_type": "code",
        "colab": {}
      },
      "source": [
        "!pip install arcgis\n",
        "from pathlib import Path\n",
        "import sys\n",
        "import os\n",
        "import datetime as dt\n",
        "import pandas as pd\n",
        "from arcgis.gis import GIS, Item\n",
        "from arcgis.env import active_gis\n",
        "from arcgis.features import FeatureLayerCollection\n",
        "from arcgis.mapping import WebMap\n",
        "from IPython.display import display\n",
        "import getpass\n",
        "from pathlib import Path\n",
        "from zipfile import ZipFile\n",
        "from IPython.display import IFrame"
      ],
      "execution_count": null,
      "outputs": []
    },
    {
      "cell_type": "markdown",
      "metadata": {
        "id": "zjMsYkFKnl49",
        "colab_type": "text"
      },
      "source": [
        "##UPDATES\n",
        "Edited 8-11-2020 - match CustomArcGIS Notebook functions\n",
        "Updated 8-13 - Added quickMaps functions from AGOL Notebook\n",
        "Updated 8-14 - Updated searchItem() to allow 0 index search access"
      ]
    },
    {
      "cell_type": "markdown",
      "metadata": {
        "id": "SXYFq_pyhNrX",
        "colab_type": "text"
      },
      "source": [
        "# Python API Function List  \n",
        "**userLogin()** - **additionalUserLogin()** - **getUserContent** *(gisInfo)* - **cloneItem** *(gisInfo, gisInfo2, cloneID)*  \n",
        "**searchByKeywords** *(gisInfo, searchKeywords)* - **searchByKeyViz** *(gisInfo, searchKeywords)*  \n",
        "**getItemKeysValues** *(gisInfo, idString)* - **getLayers** *(gisInfo, idString)*\n",
        "**getLayerTable** *(gisInfo, idString, layerNum)* - **deleteItem** *(gisInfo, idString)*  \n",
        "**ListAllDashWebmaps** *(gisInfo)* - **updateLayFeatFromTable** *(gisInfo, targetLayerID, matchAttrib, targetAttrib, sourceAttrib)*  \n",
        "**updateLayFeatFromTableBreaks** *(gisInfo, targetLayerID, matchAttrib, targetAttrib, sourceAttrib, breaksList)*  \n",
        "**downloadItem** *(gisInfo, idString)* - **searchItem** *(gisInfo, searchKeywords, itemType)* - **quickMap()**   \n",
        "**delAllFeatures** *(gisInfo, itemID)* - **delMultiple** *(gisInfo, itemList)*\n",
        "\n",
        "\n",
        "---\n",
        "\n",
        "\n",
        "# ESRI pre-made helper functions  \n",
        "**is_hosted** *(gisInfo, item)* - **print_webmap_inventory** *(gisInfo, wm)* - **get_webmap_list** *(wm)*  \n",
        "**displayWebmapLayers** *(gisInfo, idList)* - **get_user_items** *(gisInfo, user)*  \n",
        "**print_user_inventory** *(inventory)* - **get_dash_wm** *(gisInfo, dash)*"
      ]
    },
    {
      "cell_type": "markdown",
      "metadata": {
        "id": "OGCTOWiIKHua",
        "colab_type": "text"
      },
      "source": [
        "# WORKING AREA"
      ]
    },
    {
      "cell_type": "code",
      "metadata": {
        "id": "gw6iuktB9syb",
        "colab_type": "code",
        "colab": {
          "base_uri": "https://localhost:8080/",
          "height": 119
        },
        "outputId": "9586127d-eda9-4f06-e199-9a67b762ab66"
      },
      "source": [
        "# User Login Function\n",
        "# must load functions code below before userLogin()\n",
        "userLogin()\n"
      ],
      "execution_count": null,
      "outputs": [
        {
          "output_type": "stream",
          "text": [
            "ArcGIS Online USER ID: ekerney_nhbptribe\n",
            "PASSWORD: ··········\n",
            "SUCCESS - CONNECTED TO: ekerney_nhbptribe ACCOUNT as <gis>\n",
            "GIS @ https://nhbptribe.maps.arcgis.com version:8.2\n",
            "Additional User Login(YES/NO)? NO\n",
            "YOU MAY NOW PROCEED...\n"
          ],
          "name": "stdout"
        }
      ]
    },
    {
      "cell_type": "code",
      "metadata": {
        "id": "WOV2olI8ZohS",
        "colab_type": "code",
        "colab": {}
      },
      "source": [
        "#returns = searchByKeywords(gis, 'mnomen roam 2020')\n",
        "returns[0]\n",
        "#delAllFeatures(gis, returns[0].id)"
      ],
      "execution_count": null,
      "outputs": []
    },
    {
      "cell_type": "code",
      "metadata": {
        "colab_type": "code",
        "id": "d-Sd-vZhLq-w",
        "colab": {}
      },
      "source": [
        "kzooLayerNHBP = 'dff379381a6b4b73a1d80b9fd42784a8'\n",
        "kzooLayerLA = '6b62d8b710e64b8abc79015fd7231b87'\n",
        "waterSampNHBP = '680016d676e746f98743f51d28abac60'\n",
        "match = 'SITE_ID'\n",
        "turbTarget = 'TURB_STATUS_'\n",
        "turbSource = 'TURB_NTU'\n",
        "turbRefList = [3.93,10,40,1000]\n",
        "DOtarget = 'DO_STATUS_'\n",
        "DOsource = 'DO_mgl'\n",
        "DOrefList = [5,6,7,100]\n",
        "# calc Turbidity Status from most recent sample\n",
        "updateLayFeatFromTableBreaks(gis, kzooLayerNHBP, match, turbTarget, turbSource, turbRefList)\n",
        "\n",
        "# calc DO Status from most recent sample\n",
        "# updateLayFeatFromTableBreaks(gis, waterSampNHBP, match, DOtarget, DOsource, DOrefList)"
      ],
      "execution_count": null,
      "outputs": []
    },
    {
      "cell_type": "markdown",
      "metadata": {
        "id": "KwH8WwzWLTLE",
        "colab_type": "text"
      },
      "source": [
        "# QuickMaps Export Testing"
      ]
    },
    {
      "cell_type": "code",
      "metadata": {
        "id": "qPt6gmHCLYOC",
        "colab_type": "code",
        "colab": {
          "base_uri": "https://localhost:8080/",
          "height": 178,
          "referenced_widgets": [
            "5b30b5b48e9146359c6a652628a2ad1c"
          ]
        },
        "outputId": "0fe7b28a-092c-4db3-c554-f6dc6d844f51"
      },
      "source": [
        "def quickMapExport():\n",
        "  mapType = input(f'(YES) for QuickMap (NO) for Existing: ')\n",
        "  if mapType.upper() == 'NO':\n",
        "    mapSize = ['480px','720px','960px']\n",
        "    print(f'<You entered {mapType} please login below>')\n",
        "    userLogin() \n",
        "    mapKeywords = input(f'Name of WebMap to Search for: ') or ''\n",
        "    mapObj = searchItem(gis,mapKeywords,'Web Map')\n",
        "    map = gis.map(mapObj)\n",
        "    sizeIn = int(input(f'MAP SIZE (0)SMALL (1)MEDIUM (2)HUGE: '))\n",
        "    map.layout.height = mapSize[sizeIn]\n",
        "    display(map)\n",
        "  else:\n",
        "    print(f'<You entered {mapType} Opening QuickMap>')\n",
        "    mapList = ['topo','hybrid','streets','dark-gray','terrain']\n",
        "    mapDimen = ['2D','3D']\n",
        "    mapSize = ['480px','720px','960px']\n",
        "    mapLoc = input(f'Location (default=Michigan): ') or 'Michigan'\n",
        "    mapBaseNum = input(f'Basemap (default=topo (1=hybrid,2=streets,3=dark-gray,4=terrain): ') or 0\n",
        "    mapDimIn = input(f'ENTER (1) for 3D Map: ') or 0\n",
        "    atlasLayers = input(f'Layers from Living Atlas(Enter for None): ') or 'NONE'\n",
        "    gisNone = GIS()\n",
        "    map = gisNone.map(mapLoc)\n",
        "    map.basemap = mapList[int(mapBaseNum)]\n",
        "    if atlasLayers != 'NONE':\n",
        "        layerDisplay = searchItem(gisNone, atlasLayers,'Feature Service')\n",
        "        for layrs in layerDisplay.layers:\n",
        "            map.add_layer(layrs)\n",
        "    map.mode = mapDimen[int(mapDimIn)]\n",
        "    mapName = input(f'ENTER map name: ') or 'mapExport.html'\n",
        "    if mapName != 'mapExport.html':\n",
        "      mapName = (f'{mapName}.html')\n",
        "    #sizeIn = int(input(f'MAP SIZE (0)SMALL (1)MEDIUM (2)HUGE: '))\n",
        "    #map.layout.height = mapSize[sizeIn]\n",
        "    map.export_to_html(mapName)\n",
        "    print(f'map exported to: /content/{mapName}')\n",
        "    display(map)\n",
        "fullPath = '/content/ChicagoTransit.html'\n",
        "\n",
        "quickMapExport()\n",
        "#import IPython\n",
        "\n",
        "#display(IPython.display.HTML(filename=fullPath))\n",
        "#display(IPython.display.HTML(fullPath))\n",
        "#IPython.display.HTML(filename='/content/ChicagoTransit.html')\n",
        "#IFrame(src='/content/ChicagoTransit.html', width=900, height=600)"
      ],
      "execution_count": null,
      "outputs": [
        {
          "output_type": "stream",
          "text": [
            "(YES) for QuickMap (NO) for Existing: YES\n",
            "<You entered YES Opening QuickMap>\n",
            "Location (default=Michigan): \n",
            "Basemap (default=topo (1=hybrid,2=streets,3=dark-gray,4=terrain): 1\n",
            "ENTER (1) for 3D Map: \n",
            "Layers from Living Atlas(Enter for None): \n",
            "ENTER map name: Michigan\n",
            "map exported to: /content/Michigan.html\n"
          ],
          "name": "stdout"
        },
        {
          "output_type": "display_data",
          "data": {
            "application/vnd.jupyter.widget-view+json": {
              "model_id": "5b30b5b48e9146359c6a652628a2ad1c",
              "version_minor": 0,
              "version_major": 2
            },
            "text/plain": [
              "MapView(layout=Layout(height='400px', width='100%'))"
            ]
          },
          "metadata": {
            "tags": []
          }
        },
        {
          "output_type": "display_data",
          "data": {
            "text/html": [
              "<div class=\"map-static-img-preview-04186110-5a68-4879-b36d-148eb941b1e5\"><img src=\"\"></img></div>"
            ],
            "text/plain": [
              "<IPython.core.display.HTML object>"
            ]
          },
          "metadata": {
            "tags": []
          }
        }
      ]
    },
    {
      "cell_type": "markdown",
      "metadata": {
        "id": "RZeIS-3WhC30",
        "colab_type": "text"
      },
      "source": [
        "# Python Functions from my ArcGIS Python Colab Notebook  \n",
        "**MUST RUN THIS CELL AFTER INSTALL AND IMPORT THEN - userLogin() -**"
      ]
    },
    {
      "cell_type": "markdown",
      "metadata": {
        "id": "FF-De088oYfR",
        "colab_type": "text"
      },
      "source": [
        ""
      ]
    },
    {
      "cell_type": "code",
      "metadata": {
        "id": "n4Ffhx69jTSl",
        "colab_type": "code",
        "colab": {}
      },
      "source": [
        "# Collection of all ArcGIS Python API Helper Functions\n",
        "# user login functions, ask if user would like additional logins\n",
        "def userLogin():\n",
        "    userID = input(f'ArcGIS Online USER ID: ')\n",
        "    passWord = getpass.getpass('PASSWORD: ')\n",
        "    try:\n",
        "        global gis\n",
        "        gis = GIS(\"https://www.arcgis.com\", userID, passWord)\n",
        "        print(f'SUCCESS - CONNECTED TO: {gis.users.me.username} ACCOUNT as <gis>')\n",
        "        print(gis)\n",
        "        addUsers = input(f'Additional User Login(YES/NO)? ')\n",
        "        if addUsers.upper() == 'YES':\n",
        "            additionalUserLogin()\n",
        "        else:\n",
        "            print(f'YOU MAY NOW PROCEED...')\n",
        "    except:\n",
        "        print(f'ERROR DID NOT CONNECT TO: {userID}')\n",
        "\n",
        "def additionalUserLogin():\n",
        "    userID = input(f'ArcGIS Online USER ID: ')\n",
        "    passWord = getpass.getpass('PASSWORD: ')\n",
        "    try:\n",
        "        global gis2\n",
        "        gis2 = GIS(\"https://www.arcgis.com\", userID, passWord)\n",
        "        print(f'SUCCESS - CONNECTED TO: {gis2.users.me.username} ACCOUNT as <gis2>')\n",
        "        print(gis2)\n",
        "    except:\n",
        "        print(f'ERROR DID NOT CONNECT TO: {userID}')\n",
        "\n",
        "# get list of all owner AGOL items, print list with title, id, type, and categories\n",
        "def getUserContent(gisInfo):\n",
        "    try:\n",
        "        my_content = gisInfo.content.search(query=\"owner:\" + gisInfo.users.me.username, item_type=\"\", max_items=200)\n",
        "        for x in my_content:\n",
        "            strMod = str(x.modified)\n",
        "            stampInt = int(strMod[0:10])\n",
        "            print(f'{x.title} - {x.id} - {x.type} - {x.categories} - {dt.datetime.fromtimestamp(stampInt)}')\n",
        "    except:\n",
        "        print('ERROR could not get user content')\n",
        "\n",
        "# Clone item using id of item passed to function\n",
        "def cloneItem(gisInfo, gisInfo2, cloneID):    \n",
        "    try:\n",
        "        itemToClone = gisInfo.content.get(cloneID)\n",
        "        print('Cloning:' + itemToClone.title + ' - ' + itemToClone.id + ' -',itemToClone.type)\n",
        "        clonedItem = gisInfo2.content.clone_items(items=[itemToClone])\n",
        "        print(f'Cloned Item: {clonedItem[0]}')\n",
        "        #return clonedItem\n",
        "    except:\n",
        "        print('ERROR Could Not Clone')\n",
        "\n",
        "# updated searchByKeywords, returns LIST of items 8-14-2020\n",
        "def searchByKeywords(gisInfo, searchKeywords):\n",
        "    try:\n",
        "        searchContent = gisInfo.content.search(query=f'{searchKeywords}', item_type='', max_items=50)\n",
        "        x = 0\n",
        "        for z in searchContent:\n",
        "          strMod = str(z.modified)\n",
        "          stampInt = int(strMod[0:10])\n",
        "          print(f'{x} - {z.title} - {z.id} - {z.type} - {z.categories} - {dt.datetime.fromtimestamp(stampInt)}')\n",
        "          x += 1\n",
        "        return searchContent\n",
        "    except:\n",
        "        print('ERROR Search not Successful')\n",
        "\n",
        "# find item by keywords and display visual card\n",
        "def searchByKeyViz(gisInfo, searchKeywords):\n",
        "    try:\n",
        "        searchContent = gisInfo.content.search(query=f'{searchKeywords}', item_type='', max_items=50)\n",
        "        for z in searchContent:\n",
        "            print(f'title: {z.title} - itemID: {z.id} - type: {z.type}')\n",
        "            display(z)\n",
        "    except:\n",
        "        print('ERROR Search not Successful')\n",
        "        \n",
        "# return all keys and values for item when passed itemID string\n",
        "def getItemKeysValues(gisInfo, idString):\n",
        "    try:\n",
        "        getFeature = gisInfo.content.get(idString)\n",
        "        for key, value in getFeature.items():\n",
        "            print(key,': ', value)\n",
        "    except:\n",
        "        print('ERROR GET Keys/Values not Successful')\n",
        "        \n",
        "# takes itemID and gets and returns layerObject if exist, otherwise 'no layers found'\n",
        "def getLayers(gisInfo, idString):\n",
        "    getFeature = gisInfo.content.get(idString)\n",
        "    try:\n",
        "        featureLayers = getFeature.layers\n",
        "        z = 0 \n",
        "        for x in featureLayers:\n",
        "            print(f'Layer {z}: {x}')\n",
        "            z += 1\n",
        "    except:\n",
        "        print('no layers found')\n",
        "    return featureLayers\n",
        "\n",
        "# supply feature layer itemID, and the layer number to display table head \n",
        "def getLayerTable(gisInfo, idString, layerNum):\n",
        "    try:\n",
        "        layerOutput = getLayers(gisInfo, idString)\n",
        "        queryLayer = layerOutput[layerNum].query()\n",
        "        display(queryLayer.sdf.head())\n",
        "    except:\n",
        "        print('ERROR no Layers Found')\n",
        "        \n",
        "# delete item by itemID\n",
        "def deleteItem(gisInfo, idString):\n",
        "    itemToDelete = gisInfo.content.get(idString)\n",
        "    display(itemToDelete)\n",
        "    delQuest = input(f'Are you sure you want to delete: {itemToDelete.title}')\n",
        "    try:\n",
        "        if delQuest.upper() == 'YES':\n",
        "            print(f'DELETING: {itemToDelete.title}')\n",
        "            itemToDelete.delete()\n",
        "        else:\n",
        "            print(f'NOT DELETING: {itemToDelete.title}')\n",
        "    except:\n",
        "        print(f'ERROR failed to DELETE: {itemToDelete.title}')\n",
        "\n",
        "# delete multiple items by searchByKeywords() returned LIST 8-14-2020\n",
        "def delMultiple(gisInfo, itemList):\n",
        "  try:\n",
        "    print('List of Items to be Deleted: ')\n",
        "    for z in itemList:\n",
        "          strMod = str(z.modified)\n",
        "          stampInt = int(strMod[0:10])\n",
        "          print(f'{z.title} - {z.id} - {z.type} - {z.categories} - {dt.datetime.fromtimestamp(stampInt)}')\n",
        "    delQuest = input(f'SURE YOU WANT TO DELETE THESE?!?!?')\n",
        "    if delQuest.upper() == 'YES':\n",
        "      for z in itemList:\n",
        "          print(f'DELETING {z.title}')\n",
        "          itemToDelete = gisInfo.content.get(z.id)\n",
        "          itemToDelete.delete()\n",
        "      print('<FINISHED DELETION PROCESS>')\n",
        "    else:\n",
        "      print(f'NOT DELETING!')\n",
        "  except:\n",
        "      print(f'ERROR failed to DELETE: {itemToDelete.title}')\n",
        "\n",
        "# List all user Dashboards and Dashboard Webmmaps\n",
        "def ListAllDashWebmaps(gisInfo):\n",
        "  source_admin_inventory = get_user_items(gisInfo, gisInfo.users.me)\n",
        "  x = 0\n",
        "  try:\n",
        "    for dashboard in source_admin_inventory['Dashboard']:\n",
        "        print(x, dashboard)\n",
        "        dashWebmap = get_dash_wm(gisInfo, dashboard)\n",
        "        print(dashWebmap)\n",
        "        x += 1\n",
        "  except:\n",
        "    print(\"ERROR COULD NOT LIST DASHBOARDS\") \n",
        "\n",
        "# generic function update targetLayer Features based on Table Records\n",
        "def updateLayFeatFromTable(gisInfo, targetLayerID, matchAttrib, targetAttrib, sourceAttrib):\n",
        "  try:\n",
        "    getLayers = gisInfo.content.get(targetLayerID)\n",
        "    targetLayer = getLayers.layers\n",
        "    layerFeatures = targetLayer[0].query()\n",
        "    sourceTable = getLayers.tables\n",
        "    tableFeatures = sourceTable[0].query()\n",
        "    for tableFeature in tableFeatures:\n",
        "      tableFeatureID = tableFeature.attributes[matchAttrib]\n",
        "      for layerFeature in layerFeatures:\n",
        "        layerFeatureID = layerFeature.attributes[matchAttrib]\n",
        "        if tableFeatureID == layerFeatureID:\n",
        "          targetValue = tableFeature.attributes[sourceAttrib]\n",
        "          layerFeature.set_value(targetAttrib, targetValue)\n",
        "          print(f'feature: {layerFeatureID} from tableFeature: {tableFeatureID} set {targetAttrib} as: {targetValue}')\n",
        "    layerEdits = targetLayer[0].edit_features(updates=layerFeatures)\n",
        "    editCounter = 0\n",
        "    for edits in layerEdits['updateResults']:\n",
        "      editCounter+=1\n",
        "    print(f'updated {getLayers.title} with {editCounter} edits from {getLayers.tables[0]}')\n",
        "  except:\n",
        "    print(f'update features failed for {getLayers.title}')\n",
        "  \n",
        "# generic function update targetLayer Features based on Table Record, adds break list for parameter categories mapping/analysis\n",
        "# 8-14 Updated to screen for sampling records with blank values: 'None'\n",
        "def updateLayFeatFromTableBreaks(gisInfo, targetLayerID, matchAttrib, targetAttrib, sourceAttrib, breaksList):\n",
        "  try:\n",
        "    getLayers = gisInfo.content.get(targetLayerID)\n",
        "    targetLayer = getLayers.layers\n",
        "    layerFeatures = targetLayer[0].query()\n",
        "    sourceTable = getLayers.tables\n",
        "    tableFeatures = sourceTable[0].query()\n",
        "    for tableFeature in tableFeatures:\n",
        "      #tableFeatureID = tableFeature.attributes[matchAttrib]\n",
        "      print(tableFeature.attributes['WATER_TEMP'] is None)\n",
        "      if (tableFeature.attributes['WATER_TEMP'] is None) != True:\n",
        "        tableFeatureID = tableFeature.attributes[matchAttrib]\n",
        "        for layerFeature in layerFeatures:\n",
        "          layerFeatureID = layerFeature.attributes[matchAttrib]\n",
        "          if tableFeatureID == layerFeatureID:\n",
        "            targetValue = tableFeature.attributes[sourceAttrib]\n",
        "            x = 1\n",
        "            for breakVal in breaksList:\n",
        "              if targetValue > breakVal:\n",
        "                print('none')\n",
        "              else:\n",
        "                layerFeature.set_value(targetAttrib, x)\n",
        "                print(f'feature: {layerFeatureID} from tableFeature: {tableFeatureID} set {targetAttrib}: {targetValue} as: {x}')\n",
        "                break\n",
        "              x+=1\n",
        "    layerEdits = targetLayer[0].edit_features(updates=layerFeatures)\n",
        "    editCounter = 0\n",
        "    for edits in layerEdits['updateResults']:\n",
        "      editCounter+=1\n",
        "    # hide REST infor for updated layers and tables\n",
        "    # print(f'updated {getLayers.title} with {editCounter} edits from {getLayers.tables[0]}')\n",
        "    print(f'updated {getLayers.title} with {editCounter} edits')\n",
        "  except:\n",
        "    print(f'update features failed for {getLayers.title}')\n",
        "\n",
        "# download Feature Layer data from AGOL, unzip contents to folder with item.title name\n",
        "# Export Formats: Shapefile | CSV | File Geodatabase | Feature Collection | GeoJson | Scene Package | KML | Excel\n",
        "def downloadItem(gisInfo, idString):\n",
        "    try:\n",
        "        downloadData = gisInfo.content.get(idString)\n",
        "        dataPath = Path('/data')\n",
        "        print(f'Downloading: {downloadData.title} to {dataPath} directory')\n",
        "        if not dataPath.exists():\n",
        "          dataPath.mkdir()\n",
        "        # this portion for feature service\n",
        "        downloadExport = downloadData.export(title=downloadData.title, export_format=\"CSV\")\n",
        "        zipPath = downloadExport.download(save_path=dataPath)\n",
        "        # preparing to extract files to directory with item.title name\n",
        "        #zipPath = downloadData.download(save_path=dataPath)\n",
        "        extractPath = dataPath.joinpath(downloadData.title)\n",
        "        # extract files to /data directory\n",
        "        zipFiles = ZipFile(zipPath)\n",
        "        zipFiles.extractall(path=extractPath)\n",
        "        print(f'list of Files extracted to: {extractPath}')\n",
        "        print(list(file.name for file in extractPath.glob('*')))\n",
        "    except:\n",
        "        print('ERROR DOWNLOAD did not workings!')\n",
        "\n",
        "def searchItem(gisInfo, searchKeywords, itemType):\n",
        "    try:\n",
        "        searchContent = gisInfo.content.search(query=f'{searchKeywords}', item_type=itemType, max_items=25)\n",
        "        if itemType == 'Feature Service':\n",
        "            x = 0\n",
        "            print(f'<Search Query for {searchKeywords}>')\n",
        "            for z in searchContent:\n",
        "                strMod = str(z.modified)\n",
        "                stampInt = int(strMod[0:10])\n",
        "                print(f'{x} - {z.title} - {z.id} - {z.type} - {z.categories} - {dt.datetime.fromtimestamp(stampInt)}')\n",
        "                x += 1\n",
        "            layInd = int(input(f'Index of selected Feature Layer: '))\n",
        "            addLayer = gisInfo.content.get(searchContent[layInd].id)\n",
        "            return addLayer\n",
        "        elif itemType == 'Web Map':\n",
        "            x = 0\n",
        "            print(f'<Search Query for {searchKeywords}>')\n",
        "            for z in searchContent:\n",
        "                strMod = str(z.modified)\n",
        "                stampInt = int(strMod[0:10])\n",
        "                print(f'{x} - {z.title} - {z.id} - {z.type} - {z.categories} - {dt.datetime.fromtimestamp(stampInt)}')\n",
        "                x += 1\n",
        "            layInd = int(input(f'Index of selected Feature Layer: ')) or 'NONE'\n",
        "            #print(searchContent[layInd])\n",
        "            mapReturn = searchContent[layInd]\n",
        "            return mapReturn\n",
        "    except:\n",
        "        print('ERROR Search not Successful')\n",
        "        \n",
        "def quickMap():\n",
        "  mapType = input(f'(YES) for QuickMap (NO) for Existing: ')\n",
        "  if mapType.upper() == 'NO':\n",
        "    mapSize = ['480px','720px','960px']\n",
        "    print(f'<You entered {mapType} please login below>')\n",
        "    userLogin() \n",
        "    mapKeywords = input(f'Name of WebMap to Search for: ') or ''\n",
        "    mapObj = searchItem(gis,mapKeywords,'Web Map')\n",
        "    map = gis.map(mapObj)\n",
        "    sizeIn = int(input(f'MAP SIZE (0)SMALL (1)MEDIUM (2)HUGE: '))\n",
        "    map.layout.height = mapSize[sizeIn]\n",
        "    display(map)\n",
        "  else:\n",
        "    print(f'<You entered {mapType} Opening QuickMap>')\n",
        "    mapList = ['topo','hybrid','streets','dark-gray','terrain']\n",
        "    mapDimen = ['2D','3D']\n",
        "    mapSize = ['480px','720px','960px']\n",
        "    mapLoc = input(f'Location (default=Michigan): ') or 'Michigan'\n",
        "    mapBaseNum = input(f'Basemap (default=topo (1=hybrid,2=streets,3=dark-gray,4=terrain): ') or 0\n",
        "    mapDimIn = input(f'ENTER (1) for 3D Map: ') or 0\n",
        "    atlasLayers = input(f'Layers from Living Atlas(Enter for None): ') or 'NONE'\n",
        "    gisNone = GIS()\n",
        "    map = gisNone.map(mapLoc)\n",
        "    map.basemap = mapList[int(mapBaseNum)]\n",
        "    if atlasLayers != 'NONE':\n",
        "        layerDisplay = searchItem(gisNone, atlasLayers,'Feature Service')\n",
        "        for layrs in layerDisplay.layers:\n",
        "            map.add_layer(layrs)\n",
        "    map.mode = mapDimen[int(mapDimIn)]\n",
        "    sizeIn = int(input(f'MAP SIZE (0)SMALL (1)MEDIUM (2)HUGE: '))\n",
        "    map.layout.height = mapSize[sizeIn]\n",
        "    display(map)\n",
        "\n",
        "# Delete all features from selected Feature Service, may need more debugging\n",
        "def delAllFeatures(gisInfo, idString):\n",
        "    delFeatures = gisInfo.content.get(idString)\n",
        "    display(delFeatures)\n",
        "    delQuest = input(f'Are you sure you want to delete all the feature in? {delFeatures.title}')\n",
        "    try:\n",
        "        if delQuest.upper() == 'YES':\n",
        "            print('in loop')\n",
        "            print(f'DELETING ALL FEATURES IN: {delFeatures.title}')\n",
        "            featDelRes = []\n",
        "            targetLayer = delFeatures.layers\n",
        "            layerFeatures = targetLayer[0].query()\n",
        "            for feature in layerFeatures:\n",
        "              #print(f'features: {feature.attributes}')\n",
        "              featDelRes.append(targetLayer[0].edit_features(deletes=str(feature.attributes['objectid'])))\n",
        "            return featDelRes\n",
        "        else:\n",
        "            print(f'NOT DELETING: {delFeatures.title}')\n",
        "    except:\n",
        "        print(f'ERROR failed to DELETE: {delFeatures.title}')\n",
        "\n",
        "# *******ESRI pre-made helper functions********\n",
        "def is_hosted(gisInfo, item):\n",
        "    return [keyword for keyword in item.typeKeywords if \"Hosted\" in keyword] \n",
        "\n",
        "# Prints all layers in a webmap, very handy\n",
        "def print_webmap_inventory(gisInfo, wm):\n",
        "    wm_obj = WebMap(wm)\n",
        "    print(f\"{wm_obj.item.title}\\n{'-'*100}\")\n",
        "    for wm_layer in wm_obj.layers:\n",
        "        try:\n",
        "            if is_hosted(Item(gisInfo, wm_layer['itemId'])):\n",
        "                print(f\"{' '*2}{wm_layer['title']:40}HOSTED{' ':5}\"\n",
        "                      f\"{wm_layer['layerType']:20}{dict(wm_layer)['itemId']}\")\n",
        "            else:\n",
        "                print(f\"{' '*2}{wm_layer['title']:40}other{' ':6}\"\n",
        "                      f\"{wm_layer['layerType']:20}{wm_layer.id}\") \n",
        "        except:\n",
        "            print(f\"{' '*2}{wm_layer['title']:40}other{' ':6}\"\n",
        "                  f\"{wm_layer['layerType']:20}{wm_layer.id}\")\n",
        "    print(\"\\n\")\n",
        "\n",
        "def get_webmap_list(wm):\n",
        "    wm_obj = WebMap(wm)\n",
        "    wmList = []\n",
        "    print(f\"{wm_obj.item.title}\\n{'-'*100}\")\n",
        "    for wm_layer in wm_obj.layers:\n",
        "        # print(wm_layer.itemId)\n",
        "        wmList.append(wm_layer.itemId)\n",
        "    return(wmList)\n",
        "    \n",
        "def displayWebmapLayers(gisInfo, idList):\n",
        "    for id in idList:\n",
        "        displayLayer = gisInfo.content.get(id)\n",
        "        display(displayLayer)\n",
        "\n",
        "def get_user_items(gisInfo, user):\n",
        "    user_inventory = {}\n",
        "    user_items = gisInfo.content.search(query=f\"* AND owner:{user.username}\", \n",
        "                                           max_items=500)\n",
        "    for item in user_items:\n",
        "        if item.type not in user_inventory:\n",
        "            user_inventory[item.type] = [i \n",
        "                                         for i in user_items \n",
        "                                         if i.type == item.type]\n",
        "    return user_inventory\n",
        "\n",
        "def print_user_inventory(inventory):\n",
        "    for itype, ilist in inventory.items():\n",
        "        try:\n",
        "            print(f\"{itype}\\n{'-'*50}\")\n",
        "            for i in ilist:\n",
        "                print(f\"{' ':3}{i.title:50}\")\n",
        "            print(\"\\n\")\n",
        "        except Exception as e:\n",
        "            print(f\"\\t\\tOperation failed on: {i.title}\")\n",
        "            print(f\"\\t\\tException: {sys.exc_info()[1]}\")\n",
        "            continue\n",
        "            \n",
        "def get_dash_wm(gisInfo, dash):\n",
        "    return [gisInfo.content.get(widget['itemId']) \n",
        "            for widget in dash.get_data()['widgets'] \n",
        "            if widget['type'] == \"mapWidget\"]"
      ],
      "execution_count": null,
      "outputs": []
    }
  ]
}