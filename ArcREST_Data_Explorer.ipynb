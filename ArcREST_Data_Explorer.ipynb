{
  "nbformat": 4,
  "nbformat_minor": 0,
  "metadata": {
    "colab": {
      "name": "ArcREST-Data-Explorer.ipynb",
      "provenance": [],
      "collapsed_sections": [
        "njINpS1c4V8Q"
      ],
      "toc_visible": true,
      "authorship_tag": "ABX9TyOzBdzbuDpkSMCt3tMkRH5M",
      "include_colab_link": true
    },
    "kernelspec": {
      "name": "python3",
      "display_name": "Python 3"
    },
    "accelerator": "GPU",
    "widgets": {
      "application/vnd.jupyter.widget-state+json": {
        "2653046644a249c59c3790b9fa4d8a89": {
          "model_module": "keplergl-jupyter",
          "model_name": "KeplerGlModal",
          "state": {
            "_view_name": "KeplerGlView",
            "_dom_classes": [],
            "_model_name": "KeplerGlModal",
            "config": {},
            "_view_module": "keplergl-jupyter",
            "_model_module_version": "^0.2.2",
            "value": "Hello World!",
            "_view_count": null,
            "_view_module_version": "^0.2.2",
            "data": {},
            "layout": "IPY_MODEL_f3953bbdeb7643afab6386b89accdd8a",
            "height": 400,
            "_model_module": "keplergl-jupyter"
          }
        }
      }
    }
  },
  "cells": [
    {
      "cell_type": "markdown",
      "metadata": {
        "id": "view-in-github",
        "colab_type": "text"
      },
      "source": [
        "<a href=\"https://colab.research.google.com/github/Location-Artistry/ColabNotebooks/blob/master/ArcREST_Data_Explorer.ipynb\" target=\"_parent\"><img src=\"https://colab.research.google.com/assets/colab-badge.svg\" alt=\"Open In Colab\"/></a>"
      ]
    },
    {
      "cell_type": "markdown",
      "metadata": {
        "id": "Ik4VOc4bSnfL"
      },
      "source": [
        "# **ArcREST Data Explorer**   \r\n",
        "# Efficient ArcGIS Server Browsing Library\r\n",
        "## Quickly view all services and layers available from an ArcGIS Server URL\r\n"
      ]
    },
    {
      "cell_type": "markdown",
      "metadata": {
        "id": "F1IMXbKt7zIt"
      },
      "source": [
        "### Built on top of bmi-arcgis-restapi library\r\n",
        "bmi-arcgis-restapi provides additional functionality beyond the arcgis Python API.  It will use ArcPy if available, or open source libraries if not.\r\n",
        "https://github.com/Bolton-and-Menk-GIS/restapi   \r\n",
        "Also deploys GeoPandas to read in Layer Query as a GeoDataframe\r\n"
      ]
    },
    {
      "cell_type": "markdown",
      "metadata": {
        "id": "M55TkG3XWUAs"
      },
      "source": [
        "## Class and Function Definitions\r\n",
        "Creates 3 new classes:\r\n",
        "\r\n",
        "\r\n",
        "1.   mapServer - the root ArcServer Object\r\n",
        "2.   mapService - Services contained with the mapServer\r\n",
        "3.   mapLayer - Layers available through a mapService\r\n",
        "\r\n",
        "\r\n"
      ]
    },
    {
      "cell_type": "code",
      "metadata": {
        "id": "KraQcHhof8dp"
      },
      "source": [
        "# Class creates a <-MapService object-> based on restapi.ArcServer from bmi-arcgis-restapi library\r\n",
        "class mapServer:\r\n",
        "# -init- function, ArcServer object as self.ags, server endpoint as self.url\r\n",
        "  def __init__(self, url): \r\n",
        "    self.ags = restapi.ArcServer(url)\r\n",
        "    self.url = url\r\n",
        "    display('MAPSERVER OBJECT CREATED', self.ags)\r\n",
        "# -getServices- displays and returns a list of all ArcGIS services\r\n",
        "  def getServices(self):\r\n",
        "    for i, service in enumerate(self.ags.services):\r\n",
        "      display(f'{i} - Service Name: {service.name} -  Service Type: {service.type}')\r\n",
        "    return self.ags.services \r\n",
        "# -getFolders- displays and returns list of all folders\r\n",
        "  def getFolders(self):\r\n",
        "    for i, folder in enumerate(self.ags.folders):\r\n",
        "      display(f'{i} - Folder: {folder}') \r\n",
        "    return self.ags.folders\r\n",
        "# -getNesterServ- gets a mapServer's nested services\r\n",
        "  def getNestedServices(self):\r\n",
        "    for i, folder in enumerate(self.ags.folders):\r\n",
        "      display(f'{i} - Folder: {folder}')\r\n",
        "      ags = restapi.ArcServer(f'{self.ags.url}/{folder}')\r\n",
        "      for z, service in enumerate(ags.services):\r\n",
        "        display(f'   {z} - Service Name: {service.name} -  Service Type: {service.type}')\r\n",
        "# -getAttr- get atrributes and show values for non-function methods of for MapServer Object\r\n",
        "  def getAttr(self):\r\n",
        "    for attribute in dir(self.ags):\r\n",
        "      display(f'Attribute Names: {attribute} - {self.ags[attribute]}')\r\n",
        "# -listAttr- list all attrbutes of MapServer Object\r\n",
        "  def listAttr(self):\r\n",
        "    return dir(self.ags)\r\n",
        "# -getSubService- returns a mapService object within specified mapServer\r\n",
        "  def getSubService(self, rootServer=0):\r\n",
        "    folders = self.getFolders()\r\n",
        "    services = self.getServices()\r\n",
        "    if not folders:\r\n",
        "      fID = int(input(f'Select index of subservice: '))\r\n",
        "      serviceURL = services[fID].name\r\n",
        "      subService = self.getService(serviceURL)\r\n",
        "      return subService\r\n",
        "    else:\r\n",
        "      fID = int(input(f'Select index of subservice folder: '))\r\n",
        "      serviceURL = (f'{self.url}/{folders[fID]}')\r\n",
        "      subFolder = mapServer(serviceURL)\r\n",
        "      subServices = subFolder.getServices()\r\n",
        "      fID = int(input(f'Select index of subservice: '))\r\n",
        "      serviceName = subServices[fID].name\r\n",
        "      subService = mapService(self, serviceName)\r\n",
        "      return subService\r\n",
        "\r\n",
        "# Class creates a <-MapService object-> based on ags.getService from bmi-arcgis-restapi library\r\n",
        "class mapService:\r\n",
        "# -init- create mapService from mapServer Class  \r\n",
        "  def __init__(self, server, servName): \r\n",
        "    self.ags = server.ags.getService(servName)\r\n",
        "    self.url = self.ags.url\r\n",
        "    display(f'MAPSERVICE OBJECT CREATED - {self.ags.url}')  \r\n",
        "  def getAttr(self):\r\n",
        "    for attribute in dir(self.ags):\r\n",
        "      display(f'Attribute Names: {attribute} - {self.ags[attribute]}')\r\n",
        "  def listAttr(self):\r\n",
        "    return dir(self.ags)\r\n",
        "  def desc(self):\r\n",
        "    return self.ags.description\r\n",
        "  def spatialRef(self):\r\n",
        "    return self.ags.spatialReference\r\n",
        "  def units(self):\r\n",
        "    return self.ags.units\r\n",
        "  def layers(self):\r\n",
        "    return self.ags.list_layers()\r\n",
        "  def tables(self):\r\n",
        "    return self.ags.list_tables()\r\n",
        "# -getLayer- returns a mapLayer from mapService Class\r\n",
        "  def getLayer(self):\r\n",
        "    for i, lay in enumerate(self.ags.layers):\r\n",
        "      display(f'{i} - {lay.name}')\r\n",
        "    layers = self.layers()\r\n",
        "    fID = int(input(f'Select index of Layer: '))\r\n",
        "    layerObj = mapLayer(self, layers[fID])\r\n",
        "    return layerObj\r\n",
        "\r\n",
        "# Class creates a <-Layer object-> based on ags.layer from bmi-arcgis-restapi library\r\n",
        "class mapLayer:\r\n",
        "  def __init__(self, service, lyrName): \r\n",
        "    self.lyr = service.ags.layer(lyrName)\r\n",
        "    display(f'LAYER CREATED - {self.lyr.name} - id: {self.lyr.id} - url: {self.lyr.url}')\r\n",
        "  def getInfo(self):\r\n",
        "    display(f'{self.lyr.name} - subLayers: {self.lyr.subLayers} - capabilities: {self.lyr.capabilities} - query formats: {self.lyr.supportedQueryFormats} - count: {self.lyr.getCount()}')\r\n",
        "  def getFields(self):\r\n",
        "    return self.lyr.list_fields()\r\n",
        "# -layerQuery- prompts user for SQL query and fields, returns geoDataframe object which has access to all pandas/geoPandas methods\r\n",
        "  def layerQuery (self):\r\n",
        "    baseURL = self.lyr.url\r\n",
        "    SQL = input(f'SQL query(ENTER for ALL): ') or '1=1'\r\n",
        "    fields = input(f'Fields(ENTER for ALL)? ') or '*'\r\n",
        "    RESTurl = (f'{baseURL}/query?f=geojson&where={SQL}&outFields={fields}')\r\n",
        "    gdf = gpd.read_file(RESTurl)\r\n",
        "    return gdf\r\n",
        "  "
      ],
      "execution_count": null,
      "outputs": []
    },
    {
      "cell_type": "markdown",
      "metadata": {
        "id": "WMQU31zwnwnT"
      },
      "source": [
        "## Sample Workflow from ArcGIS REST Server Endpoint\r\n",
        "Entire Workflow for newly created Arc Server Workflow using bmi-arcgis-restapi\r\n",
        "\r\n",
        "\r\n",
        "1.   Create mapServer with Server root url\r\n",
        "2.   Derive specified MapService from root MapServer Object\r\n",
        "3.   Generate layer from specified MapService Endpoint\r\n",
        "4.   Return geoDataframe from layer query\r\n",
        "5.   Perform data analysis and visualization with gdf\r\n",
        "\r\n"
      ]
    },
    {
      "cell_type": "code",
      "metadata": {
        "id": "sar2hWjEcrsa",
        "colab": {
          "base_uri": "https://localhost:8080/",
          "height": 53
        },
        "outputId": "4562aea1-76b1-43ac-b2ec-00cb83b005be"
      },
      "source": [
        "# 1 - Create MapServer with Server root url\r\n",
        "rest_url = 'https://gispub.epa.gov/arcgis/rest/services'\r\n",
        "gisServer = mapServer(rest_url)"
      ],
      "execution_count": null,
      "outputs": [
        {
          "output_type": "display_data",
          "data": {
            "application/vnd.google.colaboratory.intrinsic+json": {
              "type": "string"
            },
            "text/plain": [
              "'MAPSERVER OBJECT CREATED'"
            ]
          },
          "metadata": {
            "tags": []
          }
        },
        {
          "output_type": "display_data",
          "data": {
            "text/plain": [
              "<ArcServer: \"gispub.epa.gov\" (\"arcgis\")>"
            ]
          },
          "metadata": {
            "tags": []
          }
        }
      ]
    },
    {
      "cell_type": "code",
      "metadata": {
        "colab": {
          "base_uri": "https://localhost:8080/",
          "height": 611
        },
        "id": "YBMIT-dSoR2H",
        "outputId": "29e1bed9-4f53-4179-f771-3565711f18c5"
      },
      "source": [
        "# 2 - Derive specified MapService from root MapServer Object\r\n",
        "gisService = gisServer.getSubService()"
      ],
      "execution_count": null,
      "outputs": [
        {
          "output_type": "display_data",
          "data": {
            "application/vnd.google.colaboratory.intrinsic+json": {
              "type": "string"
            },
            "text/plain": [
              "'0 - Folder: AgSTAR'"
            ]
          },
          "metadata": {
            "tags": []
          }
        },
        {
          "output_type": "display_data",
          "data": {
            "application/vnd.google.colaboratory.intrinsic+json": {
              "type": "string"
            },
            "text/plain": [
              "'1 - Folder: ER_Harvey'"
            ]
          },
          "metadata": {
            "tags": []
          }
        },
        {
          "output_type": "display_data",
          "data": {
            "application/vnd.google.colaboratory.intrinsic+json": {
              "type": "string"
            },
            "text/plain": [
              "'2 - Folder: monitor'"
            ]
          },
          "metadata": {
            "tags": []
          }
        },
        {
          "output_type": "display_data",
          "data": {
            "application/vnd.google.colaboratory.intrinsic+json": {
              "type": "string"
            },
            "text/plain": [
              "'3 - Folder: NELP'"
            ]
          },
          "metadata": {
            "tags": []
          }
        },
        {
          "output_type": "display_data",
          "data": {
            "application/vnd.google.colaboratory.intrinsic+json": {
              "type": "string"
            },
            "text/plain": [
              "'4 - Folder: NPDAT'"
            ]
          },
          "metadata": {
            "tags": []
          }
        },
        {
          "output_type": "display_data",
          "data": {
            "application/vnd.google.colaboratory.intrinsic+json": {
              "type": "string"
            },
            "text/plain": [
              "'5 - Folder: OA'"
            ]
          },
          "metadata": {
            "tags": []
          }
        },
        {
          "output_type": "display_data",
          "data": {
            "application/vnd.google.colaboratory.intrinsic+json": {
              "type": "string"
            },
            "text/plain": [
              "'6 - Folder: OAR'"
            ]
          },
          "metadata": {
            "tags": []
          }
        },
        {
          "output_type": "display_data",
          "data": {
            "application/vnd.google.colaboratory.intrinsic+json": {
              "type": "string"
            },
            "text/plain": [
              "'7 - Folder: OAR_OAP'"
            ]
          },
          "metadata": {
            "tags": []
          }
        },
        {
          "output_type": "display_data",
          "data": {
            "application/vnd.google.colaboratory.intrinsic+json": {
              "type": "string"
            },
            "text/plain": [
              "'8 - Folder: OAR_OAQPS'"
            ]
          },
          "metadata": {
            "tags": []
          }
        },
        {
          "output_type": "display_data",
          "data": {
            "application/vnd.google.colaboratory.intrinsic+json": {
              "type": "string"
            },
            "text/plain": [
              "'9 - Folder: OECA'"
            ]
          },
          "metadata": {
            "tags": []
          }
        },
        {
          "output_type": "display_data",
          "data": {
            "application/vnd.google.colaboratory.intrinsic+json": {
              "type": "string"
            },
            "text/plain": [
              "'10 - Folder: OEI'"
            ]
          },
          "metadata": {
            "tags": []
          }
        },
        {
          "output_type": "display_data",
          "data": {
            "application/vnd.google.colaboratory.intrinsic+json": {
              "type": "string"
            },
            "text/plain": [
              "'11 - Folder: ORD'"
            ]
          },
          "metadata": {
            "tags": []
          }
        },
        {
          "output_type": "display_data",
          "data": {
            "application/vnd.google.colaboratory.intrinsic+json": {
              "type": "string"
            },
            "text/plain": [
              "'12 - Folder: OSWER'"
            ]
          },
          "metadata": {
            "tags": []
          }
        },
        {
          "output_type": "display_data",
          "data": {
            "application/vnd.google.colaboratory.intrinsic+json": {
              "type": "string"
            },
            "text/plain": [
              "'13 - Folder: OW'"
            ]
          },
          "metadata": {
            "tags": []
          }
        },
        {
          "output_type": "display_data",
          "data": {
            "application/vnd.google.colaboratory.intrinsic+json": {
              "type": "string"
            },
            "text/plain": [
              "'14 - Folder: PrintTools'"
            ]
          },
          "metadata": {
            "tags": []
          }
        },
        {
          "output_type": "display_data",
          "data": {
            "application/vnd.google.colaboratory.intrinsic+json": {
              "type": "string"
            },
            "text/plain": [
              "'15 - Folder: R1'"
            ]
          },
          "metadata": {
            "tags": []
          }
        },
        {
          "output_type": "display_data",
          "data": {
            "application/vnd.google.colaboratory.intrinsic+json": {
              "type": "string"
            },
            "text/plain": [
              "'16 - Folder: R10'"
            ]
          },
          "metadata": {
            "tags": []
          }
        },
        {
          "output_type": "display_data",
          "data": {
            "application/vnd.google.colaboratory.intrinsic+json": {
              "type": "string"
            },
            "text/plain": [
              "'17 - Folder: R1AUL'"
            ]
          },
          "metadata": {
            "tags": []
          }
        },
        {
          "output_type": "display_data",
          "data": {
            "application/vnd.google.colaboratory.intrinsic+json": {
              "type": "string"
            },
            "text/plain": [
              "'18 - Folder: r4'"
            ]
          },
          "metadata": {
            "tags": []
          }
        },
        {
          "output_type": "display_data",
          "data": {
            "application/vnd.google.colaboratory.intrinsic+json": {
              "type": "string"
            },
            "text/plain": [
              "'19 - Folder: r6'"
            ]
          },
          "metadata": {
            "tags": []
          }
        },
        {
          "output_type": "display_data",
          "data": {
            "application/vnd.google.colaboratory.intrinsic+json": {
              "type": "string"
            },
            "text/plain": [
              "'20 - Folder: r7'"
            ]
          },
          "metadata": {
            "tags": []
          }
        },
        {
          "output_type": "display_data",
          "data": {
            "application/vnd.google.colaboratory.intrinsic+json": {
              "type": "string"
            },
            "text/plain": [
              "'21 - Folder: R9MarineDebris'"
            ]
          },
          "metadata": {
            "tags": []
          }
        },
        {
          "output_type": "display_data",
          "data": {
            "application/vnd.google.colaboratory.intrinsic+json": {
              "type": "string"
            },
            "text/plain": [
              "'22 - Folder: R9Watersheds'"
            ]
          },
          "metadata": {
            "tags": []
          }
        },
        {
          "output_type": "display_data",
          "data": {
            "application/vnd.google.colaboratory.intrinsic+json": {
              "type": "string"
            },
            "text/plain": [
              "'23 - Folder: Region9'"
            ]
          },
          "metadata": {
            "tags": []
          }
        },
        {
          "output_type": "display_data",
          "data": {
            "application/vnd.google.colaboratory.intrinsic+json": {
              "type": "string"
            },
            "text/plain": [
              "'24 - Folder: SFBayWQIF'"
            ]
          },
          "metadata": {
            "tags": []
          }
        },
        {
          "output_type": "display_data",
          "data": {
            "application/vnd.google.colaboratory.intrinsic+json": {
              "type": "string"
            },
            "text/plain": [
              "'25 - Folder: Utilities'"
            ]
          },
          "metadata": {
            "tags": []
          }
        },
        {
          "output_type": "stream",
          "text": [
            "Select index of subservice folder: 13\n"
          ],
          "name": "stdout"
        },
        {
          "output_type": "display_data",
          "data": {
            "application/vnd.google.colaboratory.intrinsic+json": {
              "type": "string"
            },
            "text/plain": [
              "'MAPSERVER OBJECT CREATED'"
            ]
          },
          "metadata": {
            "tags": []
          }
        },
        {
          "output_type": "display_data",
          "data": {
            "text/plain": [
              "<ArcServer: \"gispub.epa.gov\" (\"arcgis\")>"
            ]
          },
          "metadata": {
            "tags": []
          }
        },
        {
          "output_type": "display_data",
          "data": {
            "application/vnd.google.colaboratory.intrinsic+json": {
              "type": "string"
            },
            "text/plain": [
              "'0 - Service Name: OW/AquaticNuisanceSpeciesLocator -  Service Type: MapServer'"
            ]
          },
          "metadata": {
            "tags": []
          }
        },
        {
          "output_type": "display_data",
          "data": {
            "application/vnd.google.colaboratory.intrinsic+json": {
              "type": "string"
            },
            "text/plain": [
              "'1 - Service Name: OW/ATTAINS_Assessment -  Service Type: MapServer'"
            ]
          },
          "metadata": {
            "tags": []
          }
        },
        {
          "output_type": "stream",
          "text": [
            "Select index of subservice: 1\n"
          ],
          "name": "stdout"
        },
        {
          "output_type": "display_data",
          "data": {
            "application/vnd.google.colaboratory.intrinsic+json": {
              "type": "string"
            },
            "text/plain": [
              "'MAPSERVICE OBJECT CREATED - https://gispub.epa.gov/arcgis/rest/services/OW/ATTAINS_Assessment/MapServer'"
            ]
          },
          "metadata": {
            "tags": []
          }
        }
      ]
    },
    {
      "cell_type": "code",
      "metadata": {
        "colab": {
          "base_uri": "https://localhost:8080/",
          "height": 143
        },
        "id": "3y7AQ9KJoi3R",
        "outputId": "b23d3dd4-b49d-4763-b67c-4d96add1a93b"
      },
      "source": [
        "# 3 - Generate layer from specific specified MapService Endpoint\r\n",
        "gisLayer = gisService.getLayer()\r\n",
        "gisLayer.getInfo()"
      ],
      "execution_count": null,
      "outputs": [
        {
          "output_type": "display_data",
          "data": {
            "application/vnd.google.colaboratory.intrinsic+json": {
              "type": "string"
            },
            "text/plain": [
              "'0 - ATTAINS Assessment Points'"
            ]
          },
          "metadata": {
            "tags": []
          }
        },
        {
          "output_type": "display_data",
          "data": {
            "application/vnd.google.colaboratory.intrinsic+json": {
              "type": "string"
            },
            "text/plain": [
              "'1 - ATTAINS Assessment Lines'"
            ]
          },
          "metadata": {
            "tags": []
          }
        },
        {
          "output_type": "display_data",
          "data": {
            "application/vnd.google.colaboratory.intrinsic+json": {
              "type": "string"
            },
            "text/plain": [
              "'2 - ATTAINS Assessment Areas'"
            ]
          },
          "metadata": {
            "tags": []
          }
        },
        {
          "output_type": "display_data",
          "data": {
            "application/vnd.google.colaboratory.intrinsic+json": {
              "type": "string"
            },
            "text/plain": [
              "'3 - ATTAINS Assessment Unit Catchment Associations'"
            ]
          },
          "metadata": {
            "tags": []
          }
        },
        {
          "output_type": "stream",
          "text": [
            "Select index of Layer: 0\n"
          ],
          "name": "stdout"
        },
        {
          "output_type": "display_data",
          "data": {
            "application/vnd.google.colaboratory.intrinsic+json": {
              "type": "string"
            },
            "text/plain": [
              "'LAYER CREATED - ATTAINS Assessment Points - id: 0 - url: https://gispub.epa.gov/arcgis/rest/services/OW/ATTAINS_Assessment/MapServer/0'"
            ]
          },
          "metadata": {
            "tags": []
          }
        },
        {
          "output_type": "display_data",
          "data": {
            "application/vnd.google.colaboratory.intrinsic+json": {
              "type": "string"
            },
            "text/plain": [
              "'ATTAINS Assessment Points - subLayers: [] - capabilities: Map,Query,Data - query formats: JSON, geoJSON, PBF - count: 4022'"
            ]
          },
          "metadata": {
            "tags": []
          }
        }
      ]
    },
    {
      "cell_type": "code",
      "metadata": {
        "colab": {
          "base_uri": "https://localhost:8080/",
          "height": 515
        },
        "id": "bxodky_lmqcI",
        "outputId": "eb2acf87-e7ef-401e-a614-b733cd96b16a"
      },
      "source": [
        "# 4 - Return geoDataframe from layer query\r\n",
        "gdf = gisLayer.layerQuery()\r\n",
        "gdf.head()"
      ],
      "execution_count": null,
      "outputs": [
        {
          "output_type": "stream",
          "text": [
            "SQL query(ENTER for ALL): \n",
            "Fields(ENTER for ALL)? \n"
          ],
          "name": "stdout"
        },
        {
          "output_type": "execute_result",
          "data": {
            "text/html": [
              "<div>\n",
              "<style scoped>\n",
              "    .dataframe tbody tr th:only-of-type {\n",
              "        vertical-align: middle;\n",
              "    }\n",
              "\n",
              "    .dataframe tbody tr th {\n",
              "        vertical-align: top;\n",
              "    }\n",
              "\n",
              "    .dataframe thead th {\n",
              "        text-align: right;\n",
              "    }\n",
              "</style>\n",
              "<table border=\"1\" class=\"dataframe\">\n",
              "  <thead>\n",
              "    <tr style=\"text-align: right;\">\n",
              "      <th></th>\n",
              "      <th>OBJECTID</th>\n",
              "      <th>submissionid</th>\n",
              "      <th>permid_joinkey</th>\n",
              "      <th>state</th>\n",
              "      <th>region</th>\n",
              "      <th>organizationid</th>\n",
              "      <th>orgtype</th>\n",
              "      <th>tas303d</th>\n",
              "      <th>organizationname</th>\n",
              "      <th>reportingcycle</th>\n",
              "      <th>assessmentunitidentifier</th>\n",
              "      <th>assessmentunitname</th>\n",
              "      <th>waterbodyreportlink</th>\n",
              "      <th>assmnt_joinkey</th>\n",
              "      <th>ircategory</th>\n",
              "      <th>overallstatus</th>\n",
              "      <th>isassessed</th>\n",
              "      <th>isimpaired</th>\n",
              "      <th>isthreatened</th>\n",
              "      <th>on303dlist</th>\n",
              "      <th>hastmdl</th>\n",
              "      <th>hasotherplan</th>\n",
              "      <th>visionpriority303d</th>\n",
              "      <th>drinkingwater_use</th>\n",
              "      <th>ecological_use</th>\n",
              "      <th>fishconsumption_use</th>\n",
              "      <th>recreation_use</th>\n",
              "      <th>other_use</th>\n",
              "      <th>algal_growth</th>\n",
              "      <th>ammonia</th>\n",
              "      <th>biotoxins</th>\n",
              "      <th>cause_unknown</th>\n",
              "      <th>cause_unknown_fish_kills</th>\n",
              "      <th>cause_unknown_impaired_biota</th>\n",
              "      <th>chlorine</th>\n",
              "      <th>dioxins</th>\n",
              "      <th>fish_consumption_advisory</th>\n",
              "      <th>flow_alterations</th>\n",
              "      <th>habitat_alterations</th>\n",
              "      <th>hydrologic_alteration</th>\n",
              "      <th>mercury</th>\n",
              "      <th>metals_other_than_mercury</th>\n",
              "      <th>noxious_aquatic_plants</th>\n",
              "      <th>nuisance_exotic_species</th>\n",
              "      <th>nuisance_native_species</th>\n",
              "      <th>nutrients</th>\n",
              "      <th>oil_and_grease</th>\n",
              "      <th>oxygen_depletion</th>\n",
              "      <th>other_cause</th>\n",
              "      <th>pathogens</th>\n",
              "      <th>pesticides</th>\n",
              "      <th>ph_acidity_caustic_conditions</th>\n",
              "      <th>polychlorinated_biphenyls_pcbs</th>\n",
              "      <th>radiation</th>\n",
              "      <th>solids_chlorides_sulfates</th>\n",
              "      <th>sediment</th>\n",
              "      <th>taste_color_and_odor</th>\n",
              "      <th>temperature</th>\n",
              "      <th>total_toxics</th>\n",
              "      <th>toxic_inorganics</th>\n",
              "      <th>toxic_organics</th>\n",
              "      <th>trash</th>\n",
              "      <th>turbidity</th>\n",
              "      <th>GLOBALID</th>\n",
              "      <th>geometry</th>\n",
              "    </tr>\n",
              "  </thead>\n",
              "  <tbody>\n",
              "    <tr>\n",
              "      <th>0</th>\n",
              "      <td>1</td>\n",
              "      <td>{ea5304a8-04ea-089a-11f9-2c4dc0766643}</td>\n",
              "      <td>{B5FB99AA-D105-802E-E053-FEDD43862C34}</td>\n",
              "      <td>HI</td>\n",
              "      <td>09</td>\n",
              "      <td>21HI</td>\n",
              "      <td>State</td>\n",
              "      <td>Y</td>\n",
              "      <td>Hawaii</td>\n",
              "      <td>2020</td>\n",
              "      <td>HI138086</td>\n",
              "      <td>Hakalau Co. Pk.</td>\n",
              "      <td>https://mywaterway.epa.gov/waterbody-report/21...</td>\n",
              "      <td>{B5FB99A5-16BB-802E-E053-FEDD43862C34}</td>\n",
              "      <td>2</td>\n",
              "      <td>Fully Supporting</td>\n",
              "      <td>Y</td>\n",
              "      <td>N</td>\n",
              "      <td>N</td>\n",
              "      <td>N</td>\n",
              "      <td>N</td>\n",
              "      <td>N</td>\n",
              "      <td>N</td>\n",
              "      <td>None</td>\n",
              "      <td>Not Assessed</td>\n",
              "      <td>None</td>\n",
              "      <td>Fully Supporting</td>\n",
              "      <td>None</td>\n",
              "      <td>None</td>\n",
              "      <td>None</td>\n",
              "      <td>None</td>\n",
              "      <td>None</td>\n",
              "      <td>None</td>\n",
              "      <td>None</td>\n",
              "      <td>None</td>\n",
              "      <td>None</td>\n",
              "      <td>None</td>\n",
              "      <td>None</td>\n",
              "      <td>None</td>\n",
              "      <td>None</td>\n",
              "      <td>None</td>\n",
              "      <td>None</td>\n",
              "      <td>None</td>\n",
              "      <td>None</td>\n",
              "      <td>None</td>\n",
              "      <td>None</td>\n",
              "      <td>None</td>\n",
              "      <td>None</td>\n",
              "      <td>None</td>\n",
              "      <td>Meeting Criteria</td>\n",
              "      <td>None</td>\n",
              "      <td>None</td>\n",
              "      <td>None</td>\n",
              "      <td>None</td>\n",
              "      <td>None</td>\n",
              "      <td>None</td>\n",
              "      <td>None</td>\n",
              "      <td>None</td>\n",
              "      <td>None</td>\n",
              "      <td>None</td>\n",
              "      <td>None</td>\n",
              "      <td>None</td>\n",
              "      <td>None</td>\n",
              "      <td>{DCF54C6E-E635-429A-A235-65CA73174ABD}</td>\n",
              "      <td>MULTIPOINT (-155.11961 19.88190)</td>\n",
              "    </tr>\n",
              "    <tr>\n",
              "      <th>1</th>\n",
              "      <td>2</td>\n",
              "      <td>{1b6f8338-ce5b-b915-b4eb-9a7c84157ddc}</td>\n",
              "      <td>{B5FB99AA-DBB4-802E-E053-FEDD43862C34}</td>\n",
              "      <td>SC</td>\n",
              "      <td>04</td>\n",
              "      <td>21SC60WQ</td>\n",
              "      <td>State</td>\n",
              "      <td>Y</td>\n",
              "      <td>South Carolina</td>\n",
              "      <td>2016</td>\n",
              "      <td>SCRS-06007</td>\n",
              "      <td>RS-06007</td>\n",
              "      <td>https://mywaterway.epa.gov/waterbody-report/21...</td>\n",
              "      <td>{B5FB99A7-82FD-802E-E053-FEDD43862C34}</td>\n",
              "      <td>1</td>\n",
              "      <td>Fully Supporting</td>\n",
              "      <td>Y</td>\n",
              "      <td>N</td>\n",
              "      <td>N</td>\n",
              "      <td>N</td>\n",
              "      <td>N</td>\n",
              "      <td>N</td>\n",
              "      <td>N</td>\n",
              "      <td>None</td>\n",
              "      <td>None</td>\n",
              "      <td>None</td>\n",
              "      <td>Fully Supporting</td>\n",
              "      <td>None</td>\n",
              "      <td>None</td>\n",
              "      <td>None</td>\n",
              "      <td>None</td>\n",
              "      <td>None</td>\n",
              "      <td>None</td>\n",
              "      <td>None</td>\n",
              "      <td>None</td>\n",
              "      <td>None</td>\n",
              "      <td>None</td>\n",
              "      <td>None</td>\n",
              "      <td>None</td>\n",
              "      <td>None</td>\n",
              "      <td>None</td>\n",
              "      <td>None</td>\n",
              "      <td>None</td>\n",
              "      <td>None</td>\n",
              "      <td>None</td>\n",
              "      <td>None</td>\n",
              "      <td>None</td>\n",
              "      <td>None</td>\n",
              "      <td>None</td>\n",
              "      <td>None</td>\n",
              "      <td>None</td>\n",
              "      <td>None</td>\n",
              "      <td>None</td>\n",
              "      <td>None</td>\n",
              "      <td>None</td>\n",
              "      <td>None</td>\n",
              "      <td>None</td>\n",
              "      <td>None</td>\n",
              "      <td>None</td>\n",
              "      <td>None</td>\n",
              "      <td>None</td>\n",
              "      <td>None</td>\n",
              "      <td>None</td>\n",
              "      <td>{E05E1267-5661-405D-94EE-613D8239198D}</td>\n",
              "      <td>MULTIPOINT (-81.67477 34.49325)</td>\n",
              "    </tr>\n",
              "    <tr>\n",
              "      <th>2</th>\n",
              "      <td>3</td>\n",
              "      <td>{ea5304a8-04ea-089a-11f9-2c4dc0766643}</td>\n",
              "      <td>{B5FB99AA-DBB5-802E-E053-FEDD43862C34}</td>\n",
              "      <td>HI</td>\n",
              "      <td>09</td>\n",
              "      <td>21HI</td>\n",
              "      <td>State</td>\n",
              "      <td>Y</td>\n",
              "      <td>Hawaii</td>\n",
              "      <td>2020</td>\n",
              "      <td>HI167153</td>\n",
              "      <td>Puamana Beach Co. Park</td>\n",
              "      <td>https://mywaterway.epa.gov/waterbody-report/21...</td>\n",
              "      <td>{B5FB99A7-834D-802E-E053-FEDD43862C34}</td>\n",
              "      <td>2</td>\n",
              "      <td>Fully Supporting</td>\n",
              "      <td>Y</td>\n",
              "      <td>N</td>\n",
              "      <td>N</td>\n",
              "      <td>N</td>\n",
              "      <td>N</td>\n",
              "      <td>N</td>\n",
              "      <td>N</td>\n",
              "      <td>None</td>\n",
              "      <td>Not Assessed</td>\n",
              "      <td>None</td>\n",
              "      <td>Fully Supporting</td>\n",
              "      <td>None</td>\n",
              "      <td>None</td>\n",
              "      <td>None</td>\n",
              "      <td>None</td>\n",
              "      <td>None</td>\n",
              "      <td>None</td>\n",
              "      <td>None</td>\n",
              "      <td>None</td>\n",
              "      <td>None</td>\n",
              "      <td>None</td>\n",
              "      <td>None</td>\n",
              "      <td>None</td>\n",
              "      <td>None</td>\n",
              "      <td>None</td>\n",
              "      <td>None</td>\n",
              "      <td>None</td>\n",
              "      <td>None</td>\n",
              "      <td>None</td>\n",
              "      <td>None</td>\n",
              "      <td>None</td>\n",
              "      <td>None</td>\n",
              "      <td>None</td>\n",
              "      <td>None</td>\n",
              "      <td>None</td>\n",
              "      <td>None</td>\n",
              "      <td>None</td>\n",
              "      <td>None</td>\n",
              "      <td>None</td>\n",
              "      <td>None</td>\n",
              "      <td>None</td>\n",
              "      <td>None</td>\n",
              "      <td>None</td>\n",
              "      <td>None</td>\n",
              "      <td>None</td>\n",
              "      <td>None</td>\n",
              "      <td>None</td>\n",
              "      <td>{21FF59F9-AABC-49B8-A5D6-9A0455150934}</td>\n",
              "      <td>MULTIPOINT (-156.67573 20.97868)</td>\n",
              "    </tr>\n",
              "    <tr>\n",
              "      <th>3</th>\n",
              "      <td>4</td>\n",
              "      <td>{1b6f8338-ce5b-b915-b4eb-9a7c84157ddc}</td>\n",
              "      <td>{B5FB99AA-DBB7-802E-E053-FEDD43862C34}</td>\n",
              "      <td>SC</td>\n",
              "      <td>04</td>\n",
              "      <td>21SC60WQ</td>\n",
              "      <td>State</td>\n",
              "      <td>Y</td>\n",
              "      <td>South Carolina</td>\n",
              "      <td>2016</td>\n",
              "      <td>SCMD-273</td>\n",
              "      <td>MD-273</td>\n",
              "      <td>https://mywaterway.epa.gov/waterbody-report/21...</td>\n",
              "      <td>{B5FB99A7-83E5-802E-E053-FEDD43862C34}</td>\n",
              "      <td>1</td>\n",
              "      <td>Fully Supporting</td>\n",
              "      <td>Y</td>\n",
              "      <td>N</td>\n",
              "      <td>N</td>\n",
              "      <td>N</td>\n",
              "      <td>N</td>\n",
              "      <td>N</td>\n",
              "      <td>N</td>\n",
              "      <td>None</td>\n",
              "      <td>Fully Supporting</td>\n",
              "      <td>None</td>\n",
              "      <td>Fully Supporting</td>\n",
              "      <td>None</td>\n",
              "      <td>None</td>\n",
              "      <td>None</td>\n",
              "      <td>None</td>\n",
              "      <td>None</td>\n",
              "      <td>None</td>\n",
              "      <td>None</td>\n",
              "      <td>None</td>\n",
              "      <td>None</td>\n",
              "      <td>None</td>\n",
              "      <td>None</td>\n",
              "      <td>None</td>\n",
              "      <td>None</td>\n",
              "      <td>None</td>\n",
              "      <td>None</td>\n",
              "      <td>None</td>\n",
              "      <td>None</td>\n",
              "      <td>None</td>\n",
              "      <td>None</td>\n",
              "      <td>None</td>\n",
              "      <td>None</td>\n",
              "      <td>None</td>\n",
              "      <td>None</td>\n",
              "      <td>None</td>\n",
              "      <td>None</td>\n",
              "      <td>None</td>\n",
              "      <td>None</td>\n",
              "      <td>None</td>\n",
              "      <td>None</td>\n",
              "      <td>None</td>\n",
              "      <td>None</td>\n",
              "      <td>None</td>\n",
              "      <td>None</td>\n",
              "      <td>None</td>\n",
              "      <td>None</td>\n",
              "      <td>None</td>\n",
              "      <td>{9CA030FC-AF17-48A9-9D07-1D5F8230FDD7}</td>\n",
              "      <td>MULTIPOINT (-80.12743 32.60801)</td>\n",
              "    </tr>\n",
              "    <tr>\n",
              "      <th>4</th>\n",
              "      <td>5</td>\n",
              "      <td>{1b6f8338-ce5b-b915-b4eb-9a7c84157ddc}</td>\n",
              "      <td>{B5FB99AA-DBB8-802E-E053-FEDD43862C34}</td>\n",
              "      <td>SC</td>\n",
              "      <td>04</td>\n",
              "      <td>21SC60WQ</td>\n",
              "      <td>State</td>\n",
              "      <td>Y</td>\n",
              "      <td>South Carolina</td>\n",
              "      <td>2016</td>\n",
              "      <td>SC05-02</td>\n",
              "      <td>05-02</td>\n",
              "      <td>https://mywaterway.epa.gov/waterbody-report/21...</td>\n",
              "      <td>{B5FB99A7-83E6-802E-E053-FEDD43862C34}</td>\n",
              "      <td>1</td>\n",
              "      <td>Fully Supporting</td>\n",
              "      <td>Y</td>\n",
              "      <td>N</td>\n",
              "      <td>N</td>\n",
              "      <td>N</td>\n",
              "      <td>N</td>\n",
              "      <td>N</td>\n",
              "      <td>N</td>\n",
              "      <td>None</td>\n",
              "      <td>None</td>\n",
              "      <td>Fully Supporting</td>\n",
              "      <td>None</td>\n",
              "      <td>None</td>\n",
              "      <td>None</td>\n",
              "      <td>None</td>\n",
              "      <td>None</td>\n",
              "      <td>None</td>\n",
              "      <td>None</td>\n",
              "      <td>None</td>\n",
              "      <td>None</td>\n",
              "      <td>None</td>\n",
              "      <td>None</td>\n",
              "      <td>None</td>\n",
              "      <td>None</td>\n",
              "      <td>None</td>\n",
              "      <td>None</td>\n",
              "      <td>None</td>\n",
              "      <td>None</td>\n",
              "      <td>None</td>\n",
              "      <td>None</td>\n",
              "      <td>None</td>\n",
              "      <td>None</td>\n",
              "      <td>None</td>\n",
              "      <td>None</td>\n",
              "      <td>None</td>\n",
              "      <td>None</td>\n",
              "      <td>None</td>\n",
              "      <td>None</td>\n",
              "      <td>None</td>\n",
              "      <td>None</td>\n",
              "      <td>None</td>\n",
              "      <td>None</td>\n",
              "      <td>None</td>\n",
              "      <td>None</td>\n",
              "      <td>None</td>\n",
              "      <td>None</td>\n",
              "      <td>None</td>\n",
              "      <td>None</td>\n",
              "      <td>{2214E7E0-953F-4175-9116-311079BA1622}</td>\n",
              "      <td>MULTIPOINT (-79.18339 33.30089)</td>\n",
              "    </tr>\n",
              "  </tbody>\n",
              "</table>\n",
              "</div>"
            ],
            "text/plain": [
              "   OBJECTID  ...                          geometry\n",
              "0         1  ...  MULTIPOINT (-155.11961 19.88190)\n",
              "1         2  ...   MULTIPOINT (-81.67477 34.49325)\n",
              "2         3  ...  MULTIPOINT (-156.67573 20.97868)\n",
              "3         4  ...   MULTIPOINT (-80.12743 32.60801)\n",
              "4         5  ...   MULTIPOINT (-79.18339 33.30089)\n",
              "\n",
              "[5 rows x 65 columns]"
            ]
          },
          "metadata": {
            "tags": []
          },
          "execution_count": 8
        }
      ]
    },
    {
      "cell_type": "code",
      "metadata": {
        "colab": {
          "base_uri": "https://localhost:8080/"
        },
        "id": "1PvMeIooj9Bf",
        "outputId": "884c93a1-cd44-48bc-c369-96dd1270f05d"
      },
      "source": [
        "gdf.info()"
      ],
      "execution_count": null,
      "outputs": [
        {
          "output_type": "stream",
          "text": [
            "<class 'geopandas.geodataframe.GeoDataFrame'>\n",
            "RangeIndex: 4022 entries, 0 to 4021\n",
            "Data columns (total 65 columns):\n",
            " #   Column                          Non-Null Count  Dtype   \n",
            "---  ------                          --------------  -----   \n",
            " 0   OBJECTID                        4022 non-null   int64   \n",
            " 1   submissionid                    4022 non-null   object  \n",
            " 2   permid_joinkey                  4022 non-null   object  \n",
            " 3   state                           4022 non-null   object  \n",
            " 4   region                          4022 non-null   object  \n",
            " 5   organizationid                  4022 non-null   object  \n",
            " 6   orgtype                         4022 non-null   object  \n",
            " 7   tas303d                         4022 non-null   object  \n",
            " 8   organizationname                4022 non-null   object  \n",
            " 9   reportingcycle                  4022 non-null   int64   \n",
            " 10  assessmentunitidentifier        4022 non-null   object  \n",
            " 11  assessmentunitname              4022 non-null   object  \n",
            " 12  waterbodyreportlink             4022 non-null   object  \n",
            " 13  assmnt_joinkey                  4022 non-null   object  \n",
            " 14  ircategory                      3884 non-null   object  \n",
            " 15  overallstatus                   4022 non-null   object  \n",
            " 16  isassessed                      4022 non-null   object  \n",
            " 17  isimpaired                      4022 non-null   object  \n",
            " 18  isthreatened                    4022 non-null   object  \n",
            " 19  on303dlist                      3884 non-null   object  \n",
            " 20  hastmdl                         4022 non-null   object  \n",
            " 21  hasotherplan                    4022 non-null   object  \n",
            " 22  visionpriority303d              3884 non-null   object  \n",
            " 23  drinkingwater_use               758 non-null    object  \n",
            " 24  ecological_use                  3044 non-null   object  \n",
            " 25  fishconsumption_use             1367 non-null   object  \n",
            " 26  recreation_use                  2870 non-null   object  \n",
            " 27  other_use                       991 non-null    object  \n",
            " 28  algal_growth                    227 non-null    object  \n",
            " 29  ammonia                         381 non-null    object  \n",
            " 30  biotoxins                       44 non-null     object  \n",
            " 31  cause_unknown                   2 non-null      object  \n",
            " 32  cause_unknown_fish_kills        2 non-null      object  \n",
            " 33  cause_unknown_impaired_biota    186 non-null    object  \n",
            " 34  chlorine                        7 non-null      object  \n",
            " 35  dioxins                         43 non-null     object  \n",
            " 36  fish_consumption_advisory       19 non-null     object  \n",
            " 37  flow_alterations                0 non-null      object  \n",
            " 38  habitat_alterations             2 non-null      object  \n",
            " 39  hydrologic_alteration           6 non-null      object  \n",
            " 40  mercury                         1051 non-null   object  \n",
            " 41  metals_other_than_mercury       448 non-null    object  \n",
            " 42  noxious_aquatic_plants          0 non-null      object  \n",
            " 43  nuisance_exotic_species         6 non-null      object  \n",
            " 44  nuisance_native_species         0 non-null      object  \n",
            " 45  nutrients                       622 non-null    object  \n",
            " 46  oil_and_grease                  0 non-null      object  \n",
            " 47  oxygen_depletion                745 non-null    object  \n",
            " 48  other_cause                     86 non-null     object  \n",
            " 49  pathogens                       1482 non-null   object  \n",
            " 50  pesticides                      372 non-null    object  \n",
            " 51  ph_acidity_caustic_conditions   831 non-null    object  \n",
            " 52  polychlorinated_biphenyls_pcbs  380 non-null    object  \n",
            " 53  radiation                       319 non-null    object  \n",
            " 54  solids_chlorides_sulfates       415 non-null    object  \n",
            " 55  sediment                        11 non-null     object  \n",
            " 56  taste_color_and_odor            188 non-null    object  \n",
            " 57  temperature                     486 non-null    object  \n",
            " 58  total_toxics                    0 non-null      object  \n",
            " 59  toxic_inorganics                374 non-null    object  \n",
            " 60  toxic_organics                  363 non-null    object  \n",
            " 61  trash                           0 non-null      object  \n",
            " 62  turbidity                       561 non-null    object  \n",
            " 63  GLOBALID                        4022 non-null   object  \n",
            " 64  geometry                        4022 non-null   geometry\n",
            "dtypes: geometry(1), int64(2), object(62)\n",
            "memory usage: 2.0+ MB\n"
          ],
          "name": "stdout"
        }
      ]
    },
    {
      "cell_type": "code",
      "metadata": {
        "colab": {
          "base_uri": "https://localhost:8080/",
          "height": 125
        },
        "id": "VTYWN9Epiy7Y",
        "outputId": "5951db1d-2dc5-44db-b312-064dee68df90"
      },
      "source": [
        "# List of unique organization IDs\r\n",
        "orgIDs = gdf['organizationid'].unique()\r\n",
        "display(f'Number of organization IDs: {len(orgIDs)}')\r\n",
        "display(orgIDs)"
      ],
      "execution_count": null,
      "outputs": [
        {
          "output_type": "display_data",
          "data": {
            "application/vnd.google.colaboratory.intrinsic+json": {
              "type": "string"
            },
            "text/plain": [
              "'Number of organization IDs: 21'"
            ]
          },
          "metadata": {
            "tags": []
          }
        },
        {
          "output_type": "display_data",
          "data": {
            "text/plain": [
              "array(['21HI', '21SC60WQ', 'MDE_EASP', '21NEV1', '21IOWA', '21NEB001',\n",
              "       'SANILDEFONSODECP', 'FONDULAC', 'PUEBLOOFTESUQUE', 'SCEQ',\n",
              "       'O_MTRIBE', 'WA_ECOLOGY', 'DELAWARENATION', '21KY', 'HVTEPA',\n",
              "       'CNENVSER', 'IL_EPA', 'CHOCNAT', '11113300', 'SFNOES', 'LADEQWPD'],\n",
              "      dtype=object)"
            ]
          },
          "metadata": {
            "tags": []
          }
        }
      ]
    },
    {
      "cell_type": "code",
      "metadata": {
        "colab": {
          "base_uri": "https://localhost:8080/"
        },
        "id": "tPh07xFtjV7s",
        "outputId": "d20b5c89-9899-4e76-a4b4-7ee223f9d9ff"
      },
      "source": [
        "gdf.overallstatus.value_counts()"
      ],
      "execution_count": null,
      "outputs": [
        {
          "output_type": "execute_result",
          "data": {
            "text/plain": [
              "Not Supporting      2300\n",
              "Fully Supporting    1224\n",
              "Not Assessed         498\n",
              "Name: overallstatus, dtype: int64"
            ]
          },
          "metadata": {
            "tags": []
          },
          "execution_count": 11
        }
      ]
    },
    {
      "cell_type": "code",
      "metadata": {
        "colab": {
          "base_uri": "https://localhost:8080/"
        },
        "id": "pG2125eMl6DK",
        "outputId": "c2c012fe-55c2-414c-c70c-7f94e49a7e22"
      },
      "source": [
        "gdf['state'].unique()"
      ],
      "execution_count": null,
      "outputs": [
        {
          "output_type": "execute_result",
          "data": {
            "text/plain": [
              "array(['HI', 'SC', 'MD', 'NV', 'IA', 'NE', 'NM', 'MN', 'OK', 'WA', 'KY',\n",
              "       'CA', 'IL', 'NH', 'LA'], dtype=object)"
            ]
          },
          "metadata": {
            "tags": []
          },
          "execution_count": 12
        }
      ]
    },
    {
      "cell_type": "code",
      "metadata": {
        "colab": {
          "base_uri": "https://localhost:8080/",
          "height": 297
        },
        "id": "MwnADGqdltML",
        "outputId": "10deb78c-cc42-418e-f60a-d9a707b06f62"
      },
      "source": [
        "gdfIL = gdf[gdf['state'] == 'MN']\r\n",
        "gdfIL.describe()"
      ],
      "execution_count": null,
      "outputs": [
        {
          "output_type": "execute_result",
          "data": {
            "text/html": [
              "<div>\n",
              "<style scoped>\n",
              "    .dataframe tbody tr th:only-of-type {\n",
              "        vertical-align: middle;\n",
              "    }\n",
              "\n",
              "    .dataframe tbody tr th {\n",
              "        vertical-align: top;\n",
              "    }\n",
              "\n",
              "    .dataframe thead th {\n",
              "        text-align: right;\n",
              "    }\n",
              "</style>\n",
              "<table border=\"1\" class=\"dataframe\">\n",
              "  <thead>\n",
              "    <tr style=\"text-align: right;\">\n",
              "      <th></th>\n",
              "      <th>OBJECTID</th>\n",
              "      <th>reportingcycle</th>\n",
              "    </tr>\n",
              "  </thead>\n",
              "  <tbody>\n",
              "    <tr>\n",
              "      <th>count</th>\n",
              "      <td>31.000000</td>\n",
              "      <td>31.0</td>\n",
              "    </tr>\n",
              "    <tr>\n",
              "      <th>mean</th>\n",
              "      <td>2841.000000</td>\n",
              "      <td>2019.0</td>\n",
              "    </tr>\n",
              "    <tr>\n",
              "      <th>std</th>\n",
              "      <td>1038.777872</td>\n",
              "      <td>0.0</td>\n",
              "    </tr>\n",
              "    <tr>\n",
              "      <th>min</th>\n",
              "      <td>435.000000</td>\n",
              "      <td>2019.0</td>\n",
              "    </tr>\n",
              "    <tr>\n",
              "      <th>25%</th>\n",
              "      <td>2878.500000</td>\n",
              "      <td>2019.0</td>\n",
              "    </tr>\n",
              "    <tr>\n",
              "      <th>50%</th>\n",
              "      <td>3274.000000</td>\n",
              "      <td>2019.0</td>\n",
              "    </tr>\n",
              "    <tr>\n",
              "      <th>75%</th>\n",
              "      <td>3507.500000</td>\n",
              "      <td>2019.0</td>\n",
              "    </tr>\n",
              "    <tr>\n",
              "      <th>max</th>\n",
              "      <td>3518.000000</td>\n",
              "      <td>2019.0</td>\n",
              "    </tr>\n",
              "  </tbody>\n",
              "</table>\n",
              "</div>"
            ],
            "text/plain": [
              "          OBJECTID  reportingcycle\n",
              "count    31.000000            31.0\n",
              "mean   2841.000000          2019.0\n",
              "std    1038.777872             0.0\n",
              "min     435.000000          2019.0\n",
              "25%    2878.500000          2019.0\n",
              "50%    3274.000000          2019.0\n",
              "75%    3507.500000          2019.0\n",
              "max    3518.000000          2019.0"
            ]
          },
          "metadata": {
            "tags": []
          },
          "execution_count": 13
        }
      ]
    },
    {
      "cell_type": "code",
      "metadata": {
        "colab": {
          "base_uri": "https://localhost:8080/",
          "height": 565
        },
        "id": "NoYPndmNm-Sr",
        "outputId": "d36d31ef-9cb2-48a5-9629-6984dd75bebb"
      },
      "source": [
        "gdf.groupby('state').count()"
      ],
      "execution_count": null,
      "outputs": [
        {
          "output_type": "execute_result",
          "data": {
            "text/html": [
              "<div>\n",
              "<style scoped>\n",
              "    .dataframe tbody tr th:only-of-type {\n",
              "        vertical-align: middle;\n",
              "    }\n",
              "\n",
              "    .dataframe tbody tr th {\n",
              "        vertical-align: top;\n",
              "    }\n",
              "\n",
              "    .dataframe thead th {\n",
              "        text-align: right;\n",
              "    }\n",
              "</style>\n",
              "<table border=\"1\" class=\"dataframe\">\n",
              "  <thead>\n",
              "    <tr style=\"text-align: right;\">\n",
              "      <th></th>\n",
              "      <th>OBJECTID</th>\n",
              "      <th>submissionid</th>\n",
              "      <th>permid_joinkey</th>\n",
              "      <th>region</th>\n",
              "      <th>organizationid</th>\n",
              "      <th>orgtype</th>\n",
              "      <th>tas303d</th>\n",
              "      <th>organizationname</th>\n",
              "      <th>reportingcycle</th>\n",
              "      <th>assessmentunitidentifier</th>\n",
              "      <th>assessmentunitname</th>\n",
              "      <th>waterbodyreportlink</th>\n",
              "      <th>assmnt_joinkey</th>\n",
              "      <th>ircategory</th>\n",
              "      <th>overallstatus</th>\n",
              "      <th>isassessed</th>\n",
              "      <th>isimpaired</th>\n",
              "      <th>isthreatened</th>\n",
              "      <th>on303dlist</th>\n",
              "      <th>hastmdl</th>\n",
              "      <th>hasotherplan</th>\n",
              "      <th>visionpriority303d</th>\n",
              "      <th>drinkingwater_use</th>\n",
              "      <th>ecological_use</th>\n",
              "      <th>fishconsumption_use</th>\n",
              "      <th>recreation_use</th>\n",
              "      <th>other_use</th>\n",
              "      <th>algal_growth</th>\n",
              "      <th>ammonia</th>\n",
              "      <th>biotoxins</th>\n",
              "      <th>cause_unknown</th>\n",
              "      <th>cause_unknown_fish_kills</th>\n",
              "      <th>cause_unknown_impaired_biota</th>\n",
              "      <th>chlorine</th>\n",
              "      <th>dioxins</th>\n",
              "      <th>fish_consumption_advisory</th>\n",
              "      <th>flow_alterations</th>\n",
              "      <th>habitat_alterations</th>\n",
              "      <th>hydrologic_alteration</th>\n",
              "      <th>mercury</th>\n",
              "      <th>metals_other_than_mercury</th>\n",
              "      <th>noxious_aquatic_plants</th>\n",
              "      <th>nuisance_exotic_species</th>\n",
              "      <th>nuisance_native_species</th>\n",
              "      <th>nutrients</th>\n",
              "      <th>oil_and_grease</th>\n",
              "      <th>oxygen_depletion</th>\n",
              "      <th>other_cause</th>\n",
              "      <th>pathogens</th>\n",
              "      <th>pesticides</th>\n",
              "      <th>ph_acidity_caustic_conditions</th>\n",
              "      <th>polychlorinated_biphenyls_pcbs</th>\n",
              "      <th>radiation</th>\n",
              "      <th>solids_chlorides_sulfates</th>\n",
              "      <th>sediment</th>\n",
              "      <th>taste_color_and_odor</th>\n",
              "      <th>temperature</th>\n",
              "      <th>total_toxics</th>\n",
              "      <th>toxic_inorganics</th>\n",
              "      <th>toxic_organics</th>\n",
              "      <th>trash</th>\n",
              "      <th>turbidity</th>\n",
              "      <th>GLOBALID</th>\n",
              "      <th>geometry</th>\n",
              "    </tr>\n",
              "    <tr>\n",
              "      <th>state</th>\n",
              "      <th></th>\n",
              "      <th></th>\n",
              "      <th></th>\n",
              "      <th></th>\n",
              "      <th></th>\n",
              "      <th></th>\n",
              "      <th></th>\n",
              "      <th></th>\n",
              "      <th></th>\n",
              "      <th></th>\n",
              "      <th></th>\n",
              "      <th></th>\n",
              "      <th></th>\n",
              "      <th></th>\n",
              "      <th></th>\n",
              "      <th></th>\n",
              "      <th></th>\n",
              "      <th></th>\n",
              "      <th></th>\n",
              "      <th></th>\n",
              "      <th></th>\n",
              "      <th></th>\n",
              "      <th></th>\n",
              "      <th></th>\n",
              "      <th></th>\n",
              "      <th></th>\n",
              "      <th></th>\n",
              "      <th></th>\n",
              "      <th></th>\n",
              "      <th></th>\n",
              "      <th></th>\n",
              "      <th></th>\n",
              "      <th></th>\n",
              "      <th></th>\n",
              "      <th></th>\n",
              "      <th></th>\n",
              "      <th></th>\n",
              "      <th></th>\n",
              "      <th></th>\n",
              "      <th></th>\n",
              "      <th></th>\n",
              "      <th></th>\n",
              "      <th></th>\n",
              "      <th></th>\n",
              "      <th></th>\n",
              "      <th></th>\n",
              "      <th></th>\n",
              "      <th></th>\n",
              "      <th></th>\n",
              "      <th></th>\n",
              "      <th></th>\n",
              "      <th></th>\n",
              "      <th></th>\n",
              "      <th></th>\n",
              "      <th></th>\n",
              "      <th></th>\n",
              "      <th></th>\n",
              "      <th></th>\n",
              "      <th></th>\n",
              "      <th></th>\n",
              "      <th></th>\n",
              "      <th></th>\n",
              "      <th></th>\n",
              "      <th></th>\n",
              "    </tr>\n",
              "  </thead>\n",
              "  <tbody>\n",
              "    <tr>\n",
              "      <th>CA</th>\n",
              "      <td>11</td>\n",
              "      <td>11</td>\n",
              "      <td>11</td>\n",
              "      <td>11</td>\n",
              "      <td>11</td>\n",
              "      <td>11</td>\n",
              "      <td>11</td>\n",
              "      <td>11</td>\n",
              "      <td>11</td>\n",
              "      <td>11</td>\n",
              "      <td>11</td>\n",
              "      <td>11</td>\n",
              "      <td>11</td>\n",
              "      <td>0</td>\n",
              "      <td>11</td>\n",
              "      <td>11</td>\n",
              "      <td>11</td>\n",
              "      <td>11</td>\n",
              "      <td>0</td>\n",
              "      <td>11</td>\n",
              "      <td>11</td>\n",
              "      <td>0</td>\n",
              "      <td>1</td>\n",
              "      <td>6</td>\n",
              "      <td>0</td>\n",
              "      <td>4</td>\n",
              "      <td>0</td>\n",
              "      <td>0</td>\n",
              "      <td>0</td>\n",
              "      <td>3</td>\n",
              "      <td>0</td>\n",
              "      <td>0</td>\n",
              "      <td>1</td>\n",
              "      <td>0</td>\n",
              "      <td>0</td>\n",
              "      <td>0</td>\n",
              "      <td>0</td>\n",
              "      <td>0</td>\n",
              "      <td>0</td>\n",
              "      <td>0</td>\n",
              "      <td>0</td>\n",
              "      <td>0</td>\n",
              "      <td>0</td>\n",
              "      <td>0</td>\n",
              "      <td>0</td>\n",
              "      <td>0</td>\n",
              "      <td>0</td>\n",
              "      <td>0</td>\n",
              "      <td>1</td>\n",
              "      <td>0</td>\n",
              "      <td>0</td>\n",
              "      <td>0</td>\n",
              "      <td>0</td>\n",
              "      <td>0</td>\n",
              "      <td>0</td>\n",
              "      <td>0</td>\n",
              "      <td>2</td>\n",
              "      <td>0</td>\n",
              "      <td>0</td>\n",
              "      <td>0</td>\n",
              "      <td>0</td>\n",
              "      <td>0</td>\n",
              "      <td>11</td>\n",
              "      <td>11</td>\n",
              "    </tr>\n",
              "    <tr>\n",
              "      <th>HI</th>\n",
              "      <td>50</td>\n",
              "      <td>50</td>\n",
              "      <td>50</td>\n",
              "      <td>50</td>\n",
              "      <td>50</td>\n",
              "      <td>50</td>\n",
              "      <td>50</td>\n",
              "      <td>50</td>\n",
              "      <td>50</td>\n",
              "      <td>50</td>\n",
              "      <td>50</td>\n",
              "      <td>50</td>\n",
              "      <td>50</td>\n",
              "      <td>50</td>\n",
              "      <td>50</td>\n",
              "      <td>50</td>\n",
              "      <td>50</td>\n",
              "      <td>50</td>\n",
              "      <td>50</td>\n",
              "      <td>50</td>\n",
              "      <td>50</td>\n",
              "      <td>50</td>\n",
              "      <td>0</td>\n",
              "      <td>50</td>\n",
              "      <td>0</td>\n",
              "      <td>50</td>\n",
              "      <td>1</td>\n",
              "      <td>9</td>\n",
              "      <td>7</td>\n",
              "      <td>0</td>\n",
              "      <td>0</td>\n",
              "      <td>0</td>\n",
              "      <td>0</td>\n",
              "      <td>0</td>\n",
              "      <td>0</td>\n",
              "      <td>0</td>\n",
              "      <td>0</td>\n",
              "      <td>0</td>\n",
              "      <td>0</td>\n",
              "      <td>0</td>\n",
              "      <td>0</td>\n",
              "      <td>0</td>\n",
              "      <td>0</td>\n",
              "      <td>0</td>\n",
              "      <td>12</td>\n",
              "      <td>0</td>\n",
              "      <td>0</td>\n",
              "      <td>0</td>\n",
              "      <td>36</td>\n",
              "      <td>0</td>\n",
              "      <td>0</td>\n",
              "      <td>0</td>\n",
              "      <td>0</td>\n",
              "      <td>0</td>\n",
              "      <td>0</td>\n",
              "      <td>0</td>\n",
              "      <td>0</td>\n",
              "      <td>0</td>\n",
              "      <td>0</td>\n",
              "      <td>0</td>\n",
              "      <td>0</td>\n",
              "      <td>26</td>\n",
              "      <td>50</td>\n",
              "      <td>50</td>\n",
              "    </tr>\n",
              "    <tr>\n",
              "      <th>IA</th>\n",
              "      <td>334</td>\n",
              "      <td>334</td>\n",
              "      <td>334</td>\n",
              "      <td>334</td>\n",
              "      <td>334</td>\n",
              "      <td>334</td>\n",
              "      <td>334</td>\n",
              "      <td>334</td>\n",
              "      <td>334</td>\n",
              "      <td>334</td>\n",
              "      <td>334</td>\n",
              "      <td>334</td>\n",
              "      <td>334</td>\n",
              "      <td>334</td>\n",
              "      <td>334</td>\n",
              "      <td>334</td>\n",
              "      <td>334</td>\n",
              "      <td>334</td>\n",
              "      <td>334</td>\n",
              "      <td>334</td>\n",
              "      <td>334</td>\n",
              "      <td>334</td>\n",
              "      <td>13</td>\n",
              "      <td>286</td>\n",
              "      <td>0</td>\n",
              "      <td>187</td>\n",
              "      <td>2</td>\n",
              "      <td>89</td>\n",
              "      <td>0</td>\n",
              "      <td>1</td>\n",
              "      <td>0</td>\n",
              "      <td>2</td>\n",
              "      <td>0</td>\n",
              "      <td>0</td>\n",
              "      <td>0</td>\n",
              "      <td>0</td>\n",
              "      <td>0</td>\n",
              "      <td>2</td>\n",
              "      <td>6</td>\n",
              "      <td>13</td>\n",
              "      <td>0</td>\n",
              "      <td>0</td>\n",
              "      <td>2</td>\n",
              "      <td>0</td>\n",
              "      <td>1</td>\n",
              "      <td>0</td>\n",
              "      <td>9</td>\n",
              "      <td>1</td>\n",
              "      <td>41</td>\n",
              "      <td>1</td>\n",
              "      <td>20</td>\n",
              "      <td>2</td>\n",
              "      <td>0</td>\n",
              "      <td>0</td>\n",
              "      <td>4</td>\n",
              "      <td>0</td>\n",
              "      <td>0</td>\n",
              "      <td>0</td>\n",
              "      <td>0</td>\n",
              "      <td>0</td>\n",
              "      <td>0</td>\n",
              "      <td>74</td>\n",
              "      <td>334</td>\n",
              "      <td>334</td>\n",
              "    </tr>\n",
              "    <tr>\n",
              "      <th>IL</th>\n",
              "      <td>7</td>\n",
              "      <td>7</td>\n",
              "      <td>7</td>\n",
              "      <td>7</td>\n",
              "      <td>7</td>\n",
              "      <td>7</td>\n",
              "      <td>7</td>\n",
              "      <td>7</td>\n",
              "      <td>7</td>\n",
              "      <td>7</td>\n",
              "      <td>7</td>\n",
              "      <td>7</td>\n",
              "      <td>7</td>\n",
              "      <td>7</td>\n",
              "      <td>7</td>\n",
              "      <td>7</td>\n",
              "      <td>7</td>\n",
              "      <td>7</td>\n",
              "      <td>7</td>\n",
              "      <td>7</td>\n",
              "      <td>7</td>\n",
              "      <td>7</td>\n",
              "      <td>0</td>\n",
              "      <td>7</td>\n",
              "      <td>7</td>\n",
              "      <td>7</td>\n",
              "      <td>7</td>\n",
              "      <td>1</td>\n",
              "      <td>0</td>\n",
              "      <td>0</td>\n",
              "      <td>2</td>\n",
              "      <td>0</td>\n",
              "      <td>0</td>\n",
              "      <td>0</td>\n",
              "      <td>0</td>\n",
              "      <td>0</td>\n",
              "      <td>0</td>\n",
              "      <td>0</td>\n",
              "      <td>0</td>\n",
              "      <td>0</td>\n",
              "      <td>0</td>\n",
              "      <td>0</td>\n",
              "      <td>0</td>\n",
              "      <td>0</td>\n",
              "      <td>0</td>\n",
              "      <td>0</td>\n",
              "      <td>0</td>\n",
              "      <td>0</td>\n",
              "      <td>0</td>\n",
              "      <td>0</td>\n",
              "      <td>0</td>\n",
              "      <td>0</td>\n",
              "      <td>0</td>\n",
              "      <td>0</td>\n",
              "      <td>1</td>\n",
              "      <td>0</td>\n",
              "      <td>0</td>\n",
              "      <td>0</td>\n",
              "      <td>0</td>\n",
              "      <td>0</td>\n",
              "      <td>0</td>\n",
              "      <td>0</td>\n",
              "      <td>7</td>\n",
              "      <td>7</td>\n",
              "    </tr>\n",
              "    <tr>\n",
              "      <th>KY</th>\n",
              "      <td>29</td>\n",
              "      <td>29</td>\n",
              "      <td>29</td>\n",
              "      <td>29</td>\n",
              "      <td>29</td>\n",
              "      <td>29</td>\n",
              "      <td>29</td>\n",
              "      <td>29</td>\n",
              "      <td>29</td>\n",
              "      <td>29</td>\n",
              "      <td>29</td>\n",
              "      <td>29</td>\n",
              "      <td>29</td>\n",
              "      <td>29</td>\n",
              "      <td>29</td>\n",
              "      <td>29</td>\n",
              "      <td>29</td>\n",
              "      <td>29</td>\n",
              "      <td>29</td>\n",
              "      <td>29</td>\n",
              "      <td>29</td>\n",
              "      <td>29</td>\n",
              "      <td>29</td>\n",
              "      <td>29</td>\n",
              "      <td>29</td>\n",
              "      <td>29</td>\n",
              "      <td>1</td>\n",
              "      <td>0</td>\n",
              "      <td>0</td>\n",
              "      <td>0</td>\n",
              "      <td>0</td>\n",
              "      <td>0</td>\n",
              "      <td>0</td>\n",
              "      <td>0</td>\n",
              "      <td>0</td>\n",
              "      <td>0</td>\n",
              "      <td>0</td>\n",
              "      <td>0</td>\n",
              "      <td>0</td>\n",
              "      <td>0</td>\n",
              "      <td>0</td>\n",
              "      <td>0</td>\n",
              "      <td>0</td>\n",
              "      <td>0</td>\n",
              "      <td>6</td>\n",
              "      <td>0</td>\n",
              "      <td>2</td>\n",
              "      <td>0</td>\n",
              "      <td>18</td>\n",
              "      <td>0</td>\n",
              "      <td>0</td>\n",
              "      <td>0</td>\n",
              "      <td>0</td>\n",
              "      <td>0</td>\n",
              "      <td>0</td>\n",
              "      <td>0</td>\n",
              "      <td>0</td>\n",
              "      <td>0</td>\n",
              "      <td>0</td>\n",
              "      <td>0</td>\n",
              "      <td>0</td>\n",
              "      <td>0</td>\n",
              "      <td>29</td>\n",
              "      <td>29</td>\n",
              "    </tr>\n",
              "    <tr>\n",
              "      <th>LA</th>\n",
              "      <td>10</td>\n",
              "      <td>10</td>\n",
              "      <td>10</td>\n",
              "      <td>10</td>\n",
              "      <td>10</td>\n",
              "      <td>10</td>\n",
              "      <td>10</td>\n",
              "      <td>10</td>\n",
              "      <td>10</td>\n",
              "      <td>10</td>\n",
              "      <td>10</td>\n",
              "      <td>10</td>\n",
              "      <td>10</td>\n",
              "      <td>10</td>\n",
              "      <td>10</td>\n",
              "      <td>10</td>\n",
              "      <td>10</td>\n",
              "      <td>10</td>\n",
              "      <td>10</td>\n",
              "      <td>10</td>\n",
              "      <td>10</td>\n",
              "      <td>10</td>\n",
              "      <td>0</td>\n",
              "      <td>0</td>\n",
              "      <td>0</td>\n",
              "      <td>10</td>\n",
              "      <td>0</td>\n",
              "      <td>0</td>\n",
              "      <td>0</td>\n",
              "      <td>0</td>\n",
              "      <td>0</td>\n",
              "      <td>0</td>\n",
              "      <td>0</td>\n",
              "      <td>0</td>\n",
              "      <td>0</td>\n",
              "      <td>0</td>\n",
              "      <td>0</td>\n",
              "      <td>0</td>\n",
              "      <td>0</td>\n",
              "      <td>0</td>\n",
              "      <td>0</td>\n",
              "      <td>0</td>\n",
              "      <td>0</td>\n",
              "      <td>0</td>\n",
              "      <td>0</td>\n",
              "      <td>0</td>\n",
              "      <td>0</td>\n",
              "      <td>0</td>\n",
              "      <td>10</td>\n",
              "      <td>0</td>\n",
              "      <td>0</td>\n",
              "      <td>0</td>\n",
              "      <td>0</td>\n",
              "      <td>0</td>\n",
              "      <td>0</td>\n",
              "      <td>0</td>\n",
              "      <td>0</td>\n",
              "      <td>0</td>\n",
              "      <td>0</td>\n",
              "      <td>0</td>\n",
              "      <td>0</td>\n",
              "      <td>0</td>\n",
              "      <td>10</td>\n",
              "      <td>10</td>\n",
              "    </tr>\n",
              "    <tr>\n",
              "      <th>MD</th>\n",
              "      <td>34</td>\n",
              "      <td>34</td>\n",
              "      <td>34</td>\n",
              "      <td>34</td>\n",
              "      <td>34</td>\n",
              "      <td>34</td>\n",
              "      <td>34</td>\n",
              "      <td>34</td>\n",
              "      <td>34</td>\n",
              "      <td>34</td>\n",
              "      <td>34</td>\n",
              "      <td>34</td>\n",
              "      <td>34</td>\n",
              "      <td>34</td>\n",
              "      <td>34</td>\n",
              "      <td>34</td>\n",
              "      <td>34</td>\n",
              "      <td>34</td>\n",
              "      <td>34</td>\n",
              "      <td>34</td>\n",
              "      <td>34</td>\n",
              "      <td>34</td>\n",
              "      <td>0</td>\n",
              "      <td>5</td>\n",
              "      <td>0</td>\n",
              "      <td>29</td>\n",
              "      <td>0</td>\n",
              "      <td>0</td>\n",
              "      <td>0</td>\n",
              "      <td>0</td>\n",
              "      <td>0</td>\n",
              "      <td>0</td>\n",
              "      <td>0</td>\n",
              "      <td>0</td>\n",
              "      <td>0</td>\n",
              "      <td>0</td>\n",
              "      <td>0</td>\n",
              "      <td>0</td>\n",
              "      <td>0</td>\n",
              "      <td>0</td>\n",
              "      <td>5</td>\n",
              "      <td>0</td>\n",
              "      <td>0</td>\n",
              "      <td>0</td>\n",
              "      <td>0</td>\n",
              "      <td>0</td>\n",
              "      <td>0</td>\n",
              "      <td>0</td>\n",
              "      <td>29</td>\n",
              "      <td>0</td>\n",
              "      <td>0</td>\n",
              "      <td>0</td>\n",
              "      <td>0</td>\n",
              "      <td>0</td>\n",
              "      <td>0</td>\n",
              "      <td>0</td>\n",
              "      <td>0</td>\n",
              "      <td>0</td>\n",
              "      <td>3</td>\n",
              "      <td>0</td>\n",
              "      <td>0</td>\n",
              "      <td>0</td>\n",
              "      <td>34</td>\n",
              "      <td>34</td>\n",
              "    </tr>\n",
              "    <tr>\n",
              "      <th>MN</th>\n",
              "      <td>31</td>\n",
              "      <td>31</td>\n",
              "      <td>31</td>\n",
              "      <td>31</td>\n",
              "      <td>31</td>\n",
              "      <td>31</td>\n",
              "      <td>31</td>\n",
              "      <td>31</td>\n",
              "      <td>31</td>\n",
              "      <td>31</td>\n",
              "      <td>31</td>\n",
              "      <td>31</td>\n",
              "      <td>31</td>\n",
              "      <td>0</td>\n",
              "      <td>31</td>\n",
              "      <td>31</td>\n",
              "      <td>31</td>\n",
              "      <td>31</td>\n",
              "      <td>0</td>\n",
              "      <td>31</td>\n",
              "      <td>31</td>\n",
              "      <td>0</td>\n",
              "      <td>0</td>\n",
              "      <td>31</td>\n",
              "      <td>0</td>\n",
              "      <td>31</td>\n",
              "      <td>31</td>\n",
              "      <td>16</td>\n",
              "      <td>0</td>\n",
              "      <td>0</td>\n",
              "      <td>0</td>\n",
              "      <td>0</td>\n",
              "      <td>6</td>\n",
              "      <td>0</td>\n",
              "      <td>0</td>\n",
              "      <td>0</td>\n",
              "      <td>0</td>\n",
              "      <td>0</td>\n",
              "      <td>0</td>\n",
              "      <td>29</td>\n",
              "      <td>31</td>\n",
              "      <td>0</td>\n",
              "      <td>0</td>\n",
              "      <td>0</td>\n",
              "      <td>16</td>\n",
              "      <td>0</td>\n",
              "      <td>31</td>\n",
              "      <td>0</td>\n",
              "      <td>1</td>\n",
              "      <td>0</td>\n",
              "      <td>31</td>\n",
              "      <td>0</td>\n",
              "      <td>0</td>\n",
              "      <td>31</td>\n",
              "      <td>0</td>\n",
              "      <td>0</td>\n",
              "      <td>31</td>\n",
              "      <td>0</td>\n",
              "      <td>0</td>\n",
              "      <td>0</td>\n",
              "      <td>0</td>\n",
              "      <td>31</td>\n",
              "      <td>31</td>\n",
              "      <td>31</td>\n",
              "    </tr>\n",
              "    <tr>\n",
              "      <th>NE</th>\n",
              "      <td>510</td>\n",
              "      <td>510</td>\n",
              "      <td>510</td>\n",
              "      <td>510</td>\n",
              "      <td>510</td>\n",
              "      <td>510</td>\n",
              "      <td>510</td>\n",
              "      <td>510</td>\n",
              "      <td>510</td>\n",
              "      <td>510</td>\n",
              "      <td>510</td>\n",
              "      <td>510</td>\n",
              "      <td>510</td>\n",
              "      <td>510</td>\n",
              "      <td>510</td>\n",
              "      <td>510</td>\n",
              "      <td>510</td>\n",
              "      <td>510</td>\n",
              "      <td>510</td>\n",
              "      <td>510</td>\n",
              "      <td>510</td>\n",
              "      <td>510</td>\n",
              "      <td>4</td>\n",
              "      <td>510</td>\n",
              "      <td>0</td>\n",
              "      <td>510</td>\n",
              "      <td>510</td>\n",
              "      <td>85</td>\n",
              "      <td>1</td>\n",
              "      <td>0</td>\n",
              "      <td>0</td>\n",
              "      <td>0</td>\n",
              "      <td>0</td>\n",
              "      <td>0</td>\n",
              "      <td>0</td>\n",
              "      <td>19</td>\n",
              "      <td>0</td>\n",
              "      <td>0</td>\n",
              "      <td>0</td>\n",
              "      <td>107</td>\n",
              "      <td>0</td>\n",
              "      <td>0</td>\n",
              "      <td>0</td>\n",
              "      <td>0</td>\n",
              "      <td>92</td>\n",
              "      <td>0</td>\n",
              "      <td>14</td>\n",
              "      <td>0</td>\n",
              "      <td>14</td>\n",
              "      <td>0</td>\n",
              "      <td>46</td>\n",
              "      <td>0</td>\n",
              "      <td>0</td>\n",
              "      <td>6</td>\n",
              "      <td>6</td>\n",
              "      <td>0</td>\n",
              "      <td>0</td>\n",
              "      <td>0</td>\n",
              "      <td>0</td>\n",
              "      <td>0</td>\n",
              "      <td>0</td>\n",
              "      <td>0</td>\n",
              "      <td>510</td>\n",
              "      <td>510</td>\n",
              "    </tr>\n",
              "    <tr>\n",
              "      <th>NH</th>\n",
              "      <td>366</td>\n",
              "      <td>366</td>\n",
              "      <td>366</td>\n",
              "      <td>366</td>\n",
              "      <td>366</td>\n",
              "      <td>366</td>\n",
              "      <td>366</td>\n",
              "      <td>366</td>\n",
              "      <td>366</td>\n",
              "      <td>366</td>\n",
              "      <td>366</td>\n",
              "      <td>366</td>\n",
              "      <td>366</td>\n",
              "      <td>366</td>\n",
              "      <td>366</td>\n",
              "      <td>366</td>\n",
              "      <td>366</td>\n",
              "      <td>366</td>\n",
              "      <td>366</td>\n",
              "      <td>366</td>\n",
              "      <td>366</td>\n",
              "      <td>366</td>\n",
              "      <td>366</td>\n",
              "      <td>366</td>\n",
              "      <td>366</td>\n",
              "      <td>366</td>\n",
              "      <td>0</td>\n",
              "      <td>1</td>\n",
              "      <td>0</td>\n",
              "      <td>40</td>\n",
              "      <td>0</td>\n",
              "      <td>0</td>\n",
              "      <td>0</td>\n",
              "      <td>0</td>\n",
              "      <td>1</td>\n",
              "      <td>0</td>\n",
              "      <td>0</td>\n",
              "      <td>0</td>\n",
              "      <td>0</td>\n",
              "      <td>366</td>\n",
              "      <td>6</td>\n",
              "      <td>0</td>\n",
              "      <td>3</td>\n",
              "      <td>0</td>\n",
              "      <td>0</td>\n",
              "      <td>0</td>\n",
              "      <td>42</td>\n",
              "      <td>0</td>\n",
              "      <td>134</td>\n",
              "      <td>0</td>\n",
              "      <td>158</td>\n",
              "      <td>1</td>\n",
              "      <td>0</td>\n",
              "      <td>0</td>\n",
              "      <td>0</td>\n",
              "      <td>0</td>\n",
              "      <td>0</td>\n",
              "      <td>0</td>\n",
              "      <td>0</td>\n",
              "      <td>0</td>\n",
              "      <td>0</td>\n",
              "      <td>0</td>\n",
              "      <td>366</td>\n",
              "      <td>366</td>\n",
              "    </tr>\n",
              "    <tr>\n",
              "      <th>NM</th>\n",
              "      <td>20</td>\n",
              "      <td>20</td>\n",
              "      <td>20</td>\n",
              "      <td>20</td>\n",
              "      <td>20</td>\n",
              "      <td>20</td>\n",
              "      <td>20</td>\n",
              "      <td>20</td>\n",
              "      <td>20</td>\n",
              "      <td>20</td>\n",
              "      <td>20</td>\n",
              "      <td>20</td>\n",
              "      <td>20</td>\n",
              "      <td>0</td>\n",
              "      <td>20</td>\n",
              "      <td>20</td>\n",
              "      <td>20</td>\n",
              "      <td>20</td>\n",
              "      <td>0</td>\n",
              "      <td>20</td>\n",
              "      <td>20</td>\n",
              "      <td>0</td>\n",
              "      <td>4</td>\n",
              "      <td>20</td>\n",
              "      <td>0</td>\n",
              "      <td>20</td>\n",
              "      <td>14</td>\n",
              "      <td>0</td>\n",
              "      <td>7</td>\n",
              "      <td>0</td>\n",
              "      <td>0</td>\n",
              "      <td>0</td>\n",
              "      <td>0</td>\n",
              "      <td>7</td>\n",
              "      <td>0</td>\n",
              "      <td>0</td>\n",
              "      <td>0</td>\n",
              "      <td>0</td>\n",
              "      <td>0</td>\n",
              "      <td>8</td>\n",
              "      <td>8</td>\n",
              "      <td>0</td>\n",
              "      <td>0</td>\n",
              "      <td>0</td>\n",
              "      <td>8</td>\n",
              "      <td>0</td>\n",
              "      <td>20</td>\n",
              "      <td>0</td>\n",
              "      <td>8</td>\n",
              "      <td>8</td>\n",
              "      <td>20</td>\n",
              "      <td>0</td>\n",
              "      <td>6</td>\n",
              "      <td>20</td>\n",
              "      <td>0</td>\n",
              "      <td>0</td>\n",
              "      <td>20</td>\n",
              "      <td>0</td>\n",
              "      <td>8</td>\n",
              "      <td>0</td>\n",
              "      <td>0</td>\n",
              "      <td>20</td>\n",
              "      <td>20</td>\n",
              "      <td>20</td>\n",
              "    </tr>\n",
              "    <tr>\n",
              "      <th>NV</th>\n",
              "      <td>374</td>\n",
              "      <td>374</td>\n",
              "      <td>374</td>\n",
              "      <td>374</td>\n",
              "      <td>374</td>\n",
              "      <td>374</td>\n",
              "      <td>374</td>\n",
              "      <td>374</td>\n",
              "      <td>374</td>\n",
              "      <td>374</td>\n",
              "      <td>374</td>\n",
              "      <td>374</td>\n",
              "      <td>374</td>\n",
              "      <td>374</td>\n",
              "      <td>374</td>\n",
              "      <td>374</td>\n",
              "      <td>374</td>\n",
              "      <td>374</td>\n",
              "      <td>374</td>\n",
              "      <td>374</td>\n",
              "      <td>374</td>\n",
              "      <td>374</td>\n",
              "      <td>341</td>\n",
              "      <td>369</td>\n",
              "      <td>55</td>\n",
              "      <td>369</td>\n",
              "      <td>374</td>\n",
              "      <td>1</td>\n",
              "      <td>355</td>\n",
              "      <td>0</td>\n",
              "      <td>0</td>\n",
              "      <td>0</td>\n",
              "      <td>0</td>\n",
              "      <td>0</td>\n",
              "      <td>42</td>\n",
              "      <td>0</td>\n",
              "      <td>0</td>\n",
              "      <td>0</td>\n",
              "      <td>0</td>\n",
              "      <td>365</td>\n",
              "      <td>363</td>\n",
              "      <td>0</td>\n",
              "      <td>1</td>\n",
              "      <td>0</td>\n",
              "      <td>363</td>\n",
              "      <td>0</td>\n",
              "      <td>355</td>\n",
              "      <td>85</td>\n",
              "      <td>333</td>\n",
              "      <td>363</td>\n",
              "      <td>363</td>\n",
              "      <td>363</td>\n",
              "      <td>313</td>\n",
              "      <td>338</td>\n",
              "      <td>0</td>\n",
              "      <td>188</td>\n",
              "      <td>317</td>\n",
              "      <td>0</td>\n",
              "      <td>363</td>\n",
              "      <td>363</td>\n",
              "      <td>0</td>\n",
              "      <td>260</td>\n",
              "      <td>374</td>\n",
              "      <td>374</td>\n",
              "    </tr>\n",
              "    <tr>\n",
              "      <th>OK</th>\n",
              "      <td>76</td>\n",
              "      <td>76</td>\n",
              "      <td>76</td>\n",
              "      <td>76</td>\n",
              "      <td>76</td>\n",
              "      <td>76</td>\n",
              "      <td>76</td>\n",
              "      <td>76</td>\n",
              "      <td>76</td>\n",
              "      <td>76</td>\n",
              "      <td>76</td>\n",
              "      <td>76</td>\n",
              "      <td>76</td>\n",
              "      <td>0</td>\n",
              "      <td>76</td>\n",
              "      <td>76</td>\n",
              "      <td>76</td>\n",
              "      <td>76</td>\n",
              "      <td>0</td>\n",
              "      <td>76</td>\n",
              "      <td>76</td>\n",
              "      <td>0</td>\n",
              "      <td>0</td>\n",
              "      <td>72</td>\n",
              "      <td>4</td>\n",
              "      <td>56</td>\n",
              "      <td>51</td>\n",
              "      <td>0</td>\n",
              "      <td>0</td>\n",
              "      <td>0</td>\n",
              "      <td>0</td>\n",
              "      <td>0</td>\n",
              "      <td>3</td>\n",
              "      <td>0</td>\n",
              "      <td>0</td>\n",
              "      <td>0</td>\n",
              "      <td>0</td>\n",
              "      <td>0</td>\n",
              "      <td>0</td>\n",
              "      <td>0</td>\n",
              "      <td>0</td>\n",
              "      <td>0</td>\n",
              "      <td>0</td>\n",
              "      <td>0</td>\n",
              "      <td>49</td>\n",
              "      <td>0</td>\n",
              "      <td>74</td>\n",
              "      <td>0</td>\n",
              "      <td>56</td>\n",
              "      <td>0</td>\n",
              "      <td>74</td>\n",
              "      <td>0</td>\n",
              "      <td>0</td>\n",
              "      <td>20</td>\n",
              "      <td>0</td>\n",
              "      <td>0</td>\n",
              "      <td>74</td>\n",
              "      <td>0</td>\n",
              "      <td>0</td>\n",
              "      <td>0</td>\n",
              "      <td>0</td>\n",
              "      <td>74</td>\n",
              "      <td>76</td>\n",
              "      <td>76</td>\n",
              "    </tr>\n",
              "    <tr>\n",
              "      <th>SC</th>\n",
              "      <td>1905</td>\n",
              "      <td>1905</td>\n",
              "      <td>1905</td>\n",
              "      <td>1905</td>\n",
              "      <td>1905</td>\n",
              "      <td>1905</td>\n",
              "      <td>1905</td>\n",
              "      <td>1905</td>\n",
              "      <td>1905</td>\n",
              "      <td>1905</td>\n",
              "      <td>1905</td>\n",
              "      <td>1905</td>\n",
              "      <td>1905</td>\n",
              "      <td>1905</td>\n",
              "      <td>1905</td>\n",
              "      <td>1905</td>\n",
              "      <td>1905</td>\n",
              "      <td>1905</td>\n",
              "      <td>1905</td>\n",
              "      <td>1905</td>\n",
              "      <td>1905</td>\n",
              "      <td>1905</td>\n",
              "      <td>0</td>\n",
              "      <td>1028</td>\n",
              "      <td>641</td>\n",
              "      <td>965</td>\n",
              "      <td>0</td>\n",
              "      <td>25</td>\n",
              "      <td>5</td>\n",
              "      <td>0</td>\n",
              "      <td>0</td>\n",
              "      <td>0</td>\n",
              "      <td>174</td>\n",
              "      <td>0</td>\n",
              "      <td>0</td>\n",
              "      <td>0</td>\n",
              "      <td>0</td>\n",
              "      <td>0</td>\n",
              "      <td>0</td>\n",
              "      <td>163</td>\n",
              "      <td>34</td>\n",
              "      <td>0</td>\n",
              "      <td>0</td>\n",
              "      <td>0</td>\n",
              "      <td>75</td>\n",
              "      <td>0</td>\n",
              "      <td>162</td>\n",
              "      <td>0</td>\n",
              "      <td>564</td>\n",
              "      <td>0</td>\n",
              "      <td>83</td>\n",
              "      <td>14</td>\n",
              "      <td>0</td>\n",
              "      <td>0</td>\n",
              "      <td>0</td>\n",
              "      <td>0</td>\n",
              "      <td>0</td>\n",
              "      <td>0</td>\n",
              "      <td>0</td>\n",
              "      <td>0</td>\n",
              "      <td>0</td>\n",
              "      <td>76</td>\n",
              "      <td>1905</td>\n",
              "      <td>1905</td>\n",
              "    </tr>\n",
              "    <tr>\n",
              "      <th>WA</th>\n",
              "      <td>265</td>\n",
              "      <td>265</td>\n",
              "      <td>265</td>\n",
              "      <td>265</td>\n",
              "      <td>265</td>\n",
              "      <td>265</td>\n",
              "      <td>265</td>\n",
              "      <td>265</td>\n",
              "      <td>265</td>\n",
              "      <td>265</td>\n",
              "      <td>265</td>\n",
              "      <td>265</td>\n",
              "      <td>265</td>\n",
              "      <td>265</td>\n",
              "      <td>265</td>\n",
              "      <td>265</td>\n",
              "      <td>265</td>\n",
              "      <td>265</td>\n",
              "      <td>265</td>\n",
              "      <td>265</td>\n",
              "      <td>265</td>\n",
              "      <td>265</td>\n",
              "      <td>0</td>\n",
              "      <td>265</td>\n",
              "      <td>265</td>\n",
              "      <td>237</td>\n",
              "      <td>0</td>\n",
              "      <td>0</td>\n",
              "      <td>6</td>\n",
              "      <td>0</td>\n",
              "      <td>0</td>\n",
              "      <td>0</td>\n",
              "      <td>2</td>\n",
              "      <td>0</td>\n",
              "      <td>0</td>\n",
              "      <td>0</td>\n",
              "      <td>0</td>\n",
              "      <td>0</td>\n",
              "      <td>0</td>\n",
              "      <td>0</td>\n",
              "      <td>1</td>\n",
              "      <td>0</td>\n",
              "      <td>0</td>\n",
              "      <td>0</td>\n",
              "      <td>0</td>\n",
              "      <td>0</td>\n",
              "      <td>36</td>\n",
              "      <td>0</td>\n",
              "      <td>237</td>\n",
              "      <td>0</td>\n",
              "      <td>36</td>\n",
              "      <td>0</td>\n",
              "      <td>0</td>\n",
              "      <td>0</td>\n",
              "      <td>0</td>\n",
              "      <td>0</td>\n",
              "      <td>42</td>\n",
              "      <td>0</td>\n",
              "      <td>0</td>\n",
              "      <td>0</td>\n",
              "      <td>0</td>\n",
              "      <td>0</td>\n",
              "      <td>265</td>\n",
              "      <td>265</td>\n",
              "    </tr>\n",
              "  </tbody>\n",
              "</table>\n",
              "</div>"
            ],
            "text/plain": [
              "       OBJECTID  submissionid  permid_joinkey  ...  turbidity  GLOBALID  geometry\n",
              "state                                          ...                               \n",
              "CA           11            11              11  ...          0        11        11\n",
              "HI           50            50              50  ...         26        50        50\n",
              "IA          334           334             334  ...         74       334       334\n",
              "IL            7             7               7  ...          0         7         7\n",
              "KY           29            29              29  ...          0        29        29\n",
              "LA           10            10              10  ...          0        10        10\n",
              "MD           34            34              34  ...          0        34        34\n",
              "MN           31            31              31  ...         31        31        31\n",
              "NE          510           510             510  ...          0       510       510\n",
              "NH          366           366             366  ...          0       366       366\n",
              "NM           20            20              20  ...         20        20        20\n",
              "NV          374           374             374  ...        260       374       374\n",
              "OK           76            76              76  ...         74        76        76\n",
              "SC         1905          1905            1905  ...         76      1905      1905\n",
              "WA          265           265             265  ...          0       265       265\n",
              "\n",
              "[15 rows x 64 columns]"
            ]
          },
          "metadata": {
            "tags": []
          },
          "execution_count": 14
        }
      ]
    },
    {
      "cell_type": "code",
      "metadata": {
        "colab": {
          "base_uri": "https://localhost:8080/",
          "height": 501
        },
        "id": "nXlJqExlRW_Z",
        "outputId": "58f50315-19bf-4eb8-9ef7-33647486ecf9"
      },
      "source": [
        "gdf['overallstatus'].hist(alpha=0.8, figsize=(10,8))"
      ],
      "execution_count": null,
      "outputs": [
        {
          "output_type": "execute_result",
          "data": {
            "text/plain": [
              "<matplotlib.axes._subplots.AxesSubplot at 0x7f6614b67e10>"
            ]
          },
          "metadata": {
            "tags": []
          },
          "execution_count": 15
        },
        {
          "output_type": "display_data",
          "data": {
            "image/png": "[encoded data removed]",
            "text/plain": [
              "<Figure size 720x576 with 1 Axes>"
            ]
          },
          "metadata": {
            "tags": [],
            "needs_background": "light"
          }
        }
      ]
    },
    {
      "cell_type": "code",
      "metadata": {
        "colab": {
          "base_uri": "https://localhost:8080/",
          "height": 190
        },
        "id": "Dx7W7q9l4CmW",
        "outputId": "ac1112ef-6970-48d1-fafc-d456a0cc890a"
      },
      "source": [
        "useStatus = gdf[['overallstatus', 'geometry']]\r\n",
        "print(useStatus.geometry[0].lat)"
      ],
      "execution_count": null,
      "outputs": [
        {
          "output_type": "error",
          "ename": "AttributeError",
          "evalue": "ignored",
          "traceback": [
            "\u001b[0;31m---------------------------------------------------------------------------\u001b[0m",
            "\u001b[0;31mAttributeError\u001b[0m                            Traceback (most recent call last)",
            "\u001b[0;32m<ipython-input-48-bd1f3a986bb6>\u001b[0m in \u001b[0;36m<module>\u001b[0;34m()\u001b[0m\n\u001b[1;32m      1\u001b[0m \u001b[0museStatus\u001b[0m \u001b[0;34m=\u001b[0m \u001b[0mgdf\u001b[0m\u001b[0;34m[\u001b[0m\u001b[0;34m[\u001b[0m\u001b[0;34m'overallstatus'\u001b[0m\u001b[0;34m,\u001b[0m \u001b[0;34m'geometry'\u001b[0m\u001b[0;34m]\u001b[0m\u001b[0;34m]\u001b[0m\u001b[0;34m\u001b[0m\u001b[0;34m\u001b[0m\u001b[0m\n\u001b[0;32m----> 2\u001b[0;31m \u001b[0mprint\u001b[0m\u001b[0;34m(\u001b[0m\u001b[0museStatus\u001b[0m\u001b[0;34m.\u001b[0m\u001b[0mgeometry\u001b[0m\u001b[0;34m[\u001b[0m\u001b[0;36m0\u001b[0m\u001b[0;34m]\u001b[0m\u001b[0;34m.\u001b[0m\u001b[0mlat\u001b[0m\u001b[0;34m)\u001b[0m\u001b[0;34m\u001b[0m\u001b[0;34m\u001b[0m\u001b[0m\n\u001b[0m",
            "\u001b[0;31mAttributeError\u001b[0m: 'MultiPoint' object has no attribute 'lat'"
          ]
        }
      ]
    },
    {
      "cell_type": "code",
      "metadata": {
        "colab": {
          "base_uri": "https://localhost:8080/",
          "height": 375
        },
        "id": "CHmsByZ6yljs",
        "outputId": "dd1eb2a7-fd96-4a98-e736-e8a9a26ca8cf"
      },
      "source": [
        "fig, ax = plt.subplots(figsize=(15,10))\r\n",
        "#ax.set_aspect('equal')\r\n",
        "ax.set_xticklabels([])\r\n",
        "ax.set_yticklabels([])\r\n",
        "useStatus.plot(ax=ax, markersize=1, column = 'overallstatus', legend='true', cmap='rainbow');"
      ],
      "execution_count": null,
      "outputs": [
        {
          "output_type": "display_data",
          "data": {
            "image/png": "[encoded data removed]",
            "text/plain": [
              "<Figure size 1080x720 with 1 Axes>"
            ]
          },
          "metadata": {
            "tags": [],
            "needs_background": "light"
          }
        }
      ]
    },
    {
      "cell_type": "code",
      "metadata": {
        "id": "tmZqkRlAlEfS"
      },
      "source": [
        " sampStatus = useStatus.sample(500)\r\n",
        " m = folium.Map(location= [27.665, -81.516], zoom_start = 8, tiles = 'Stamen Toner', prefer_canvas=True)\r\n",
        " folium.GeoJson(useStatus).add_to(m)\r\n",
        " m"
      ],
      "execution_count": null,
      "outputs": []
    },
    {
      "cell_type": "code",
      "metadata": {
        "id": "V90KYAklLIco"
      },
      "source": [
        "!pip install keplergl"
      ],
      "execution_count": null,
      "outputs": []
    },
    {
      "cell_type": "code",
      "metadata": {
        "colab": {
          "base_uri": "https://localhost:8080/",
          "height": 35,
          "referenced_widgets": [
            "2653046644a249c59c3790b9fa4d8a89"
          ]
        },
        "id": "kHprn8vpON3D",
        "outputId": "61e0a4f4-b754-430b-da1c-229355ebb2a5"
      },
      "source": [
        "from keplergl import KeplerGl\r\n",
        "map_1 = KeplerGl()\r\n",
        "map_1"
      ],
      "execution_count": null,
      "outputs": [
        {
          "output_type": "stream",
          "text": [
            "User Guide: https://docs.kepler.gl/docs/keplergl-jupyter\n"
          ],
          "name": "stdout"
        },
        {
          "output_type": "display_data",
          "data": {
            "application/vnd.jupyter.widget-view+json": {
              "model_id": "2653046644a249c59c3790b9fa4d8a89",
              "version_minor": 0,
              "version_major": 2
            },
            "text/plain": [
              "KeplerGl()"
            ]
          },
          "metadata": {
            "tags": []
          }
        }
      ]
    },
    {
      "cell_type": "markdown",
      "metadata": {
        "id": "pb4o8LYeTr71"
      },
      "source": [
        "## APPENDICIES"
      ]
    },
    {
      "cell_type": "code",
      "metadata": {
        "id": "7j1lMBOl2ZEW"
      },
      "source": [
        "%%time \r\n",
        "!apt-get install -qq libgdal-dev libproj-dev\r\n",
        "!pip install bmi-arcgis-restapi\r\n",
        "!apt install gdal-bin python-gdal python3-gdal \r\n",
        "!apt install python3-rtree \r\n",
        "!pip install git+git://github.com/geopandas/geopandas.git\r\n",
        "!pip install pygeos\r\n",
        "!pip install folium\r\n",
        "\r\n",
        "from pathlib import Path\r\n",
        "from shapely.geometry import Point\r\n",
        "from IPython.display import display\r\n",
        "from IPython.display import Markdown as md\r\n",
        "import plotly.express as px\r\n",
        "import restapi\r\n",
        "import pandas as pd\r\n",
        "import numpy as np\r\n",
        "import geopandas as gpd\r\n",
        "import matplotlib\r\n",
        "import matplotlib.pyplot as plt \r\n",
        "import folium"
      ],
      "execution_count": null,
      "outputs": []
    },
    {
      "cell_type": "markdown",
      "metadata": {
        "id": "njINpS1c4V8Q"
      },
      "source": [
        "## Previous list of installs/imports"
      ]
    },
    {
      "cell_type": "code",
      "metadata": {
        "id": "BCkxIekH1cPk"
      },
      "source": [
        "# view all installed packages on Colab\r\n",
        "!pip list -v"
      ],
      "execution_count": null,
      "outputs": []
    },
    {
      "cell_type": "code",
      "metadata": {
        "id": "ksPdAXkySC2p"
      },
      "source": [
        "# Install and load libraries, may be able to remove some uneeded libraries\r\n",
        "%%time \r\n",
        "#!pip install descartes \r\n",
        "#!pip install folium\r\n",
        "#!pip install arcgis\r\n",
        "#!pip install contextily\r\n",
        "#!pip install xlsxwriter\r\n",
        "#import sys\r\n",
        "#import os\r\n",
        "#from zipfile import ZipFile\r\n",
        "#import datetime as dt\r\n",
        "#import requests\r\n",
        "from arcgis.gis import GIS\r\n",
        "import pandas as pd\r\n",
        "import numpy as np\r\n",
        "import geopandas as gpd\r\n",
        "from shapely.geometry import Point\r\n",
        "import matplotlib\r\n",
        "import matplotlib.pyplot as plt \r\n",
        "#import folium\r\n",
        "from IPython.display import display\r\n",
        "#import contextily as ctx\r\n",
        "#from IPython.display import Image\r\n",
        "from IPython.display import Markdown as md"
      ],
      "execution_count": null,
      "outputs": []
    }
  ]
}